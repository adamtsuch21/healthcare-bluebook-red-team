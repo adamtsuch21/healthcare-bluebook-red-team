{
 "cells": [
  {
   "cell_type": "code",
   "execution_count": 4,
   "metadata": {},
   "outputs": [],
   "source": [
    "import pandas as pd\n",
    "import numpy as np\n",
    "import matplotlib.pyplot as plt"
   ]
  },
  {
   "cell_type": "code",
   "execution_count": 5,
   "metadata": {
    "scrolled": true
   },
   "outputs": [],
   "source": [
    "phys_supp = pd.read_csv(\"/Users/adamtsuchiyama/Documents/healthcare-bluebook-red-team/data/Medicare_Provider_Util_Payment_PUF_CY2017.txt\", sep='\\t', usecols=['npi', 'nppes_provider_last_org_name', 'nppes_entity_code', 'nppes_provider_zip', 'nppes_provider_state', 'provider_type', 'place_of_service', 'hcpcs_code', 'bene_day_srvc_cnt', 'average_Medicare_allowed_amt'], dtype={'npi': str, 'nppes_provider_last_org_name' : str, 'nppes_entity_code' : str, 'nppes_provider_zip' : str, 'nppes_provider_state' : str, 'provider_type' : str, 'place_of_service' : str, 'hcpcs_code' : str, 'bene_day_srvc_cnt' : float, 'average_Medicare_allowed_amt' : float})\n",
    "\n"
   ]
  },
  {
   "cell_type": "code",
   "execution_count": 6,
   "metadata": {},
   "outputs": [],
   "source": [
    "phys_supp['zip_5digits'] = phys_supp['nppes_provider_zip'].str[:5]"
   ]
  },
  {
   "cell_type": "code",
   "execution_count": 7,
   "metadata": {},
   "outputs": [
    {
     "name": "stdout",
     "output_type": "stream",
     "text": [
      "<class 'pandas.core.frame.DataFrame'>\n",
      "RangeIndex: 9847444 entries, 0 to 9847443\n",
      "Data columns (total 11 columns):\n",
      " #   Column                        Dtype  \n",
      "---  ------                        -----  \n",
      " 0   npi                           object \n",
      " 1   nppes_provider_last_org_name  object \n",
      " 2   nppes_entity_code             object \n",
      " 3   nppes_provider_zip            object \n",
      " 4   nppes_provider_state          object \n",
      " 5   provider_type                 object \n",
      " 6   place_of_service              object \n",
      " 7   hcpcs_code                    object \n",
      " 8   bene_day_srvc_cnt             float64\n",
      " 9   average_Medicare_allowed_amt  float64\n",
      " 10  zip_5digits                   object \n",
      "dtypes: float64(2), object(9)\n",
      "memory usage: 826.4+ MB\n",
      "None\n"
     ]
    }
   ],
   "source": [
    "print(phys_supp.info())"
   ]
  },
  {
   "cell_type": "code",
   "execution_count": 8,
   "metadata": {},
   "outputs": [],
   "source": [
    "hosp_op = pd.read_excel(\"/Users/adamtsuchiyama/Documents/healthcare-bluebook-red-team/data/MUP_OHP_R19_P04_V10_D17_APC_Provider.xlsx\", header=5, usecols=['Provider ID', 'Provider Name', 'Provider\\nState', 'Provider\\nZip Code', 'APC', 'Comprehensive APC\\nServices', 'Average\\nMedicare\\nAllowed\\nAmount'], dtype={'Provider ID' : str, 'Provider Name' : str, 'Provider\\nState' : str, 'Provider\\nZip Code' : str,  'APC' : str, 'Comprehensive APC\\nServices' : int, 'Average\\nMedicare\\nAllowed\\nAmount' : float})\n",
    "\n"
   ]
  },
  {
   "cell_type": "code",
   "execution_count": 9,
   "metadata": {},
   "outputs": [
    {
     "name": "stdout",
     "output_type": "stream",
     "text": [
      "<class 'pandas.core.frame.DataFrame'>\n",
      "RangeIndex: 61779 entries, 0 to 61778\n",
      "Data columns (total 7 columns):\n",
      " #   Column                           Non-Null Count  Dtype  \n",
      "---  ------                           --------------  -----  \n",
      " 0   Provider ID                      61779 non-null  object \n",
      " 1   Provider Name                    61779 non-null  object \n",
      " 2   Provider\n",
      "State                   61779 non-null  object \n",
      " 3   Provider\n",
      "Zip Code                61779 non-null  object \n",
      " 4   APC                              61779 non-null  object \n",
      " 5   Comprehensive APC\n",
      "Services       61779 non-null  int64  \n",
      " 6   Average\n",
      "Medicare\n",
      "Allowed\n",
      "Amount  61779 non-null  float64\n",
      "dtypes: float64(1), int64(1), object(5)\n",
      "memory usage: 3.3+ MB\n",
      "None\n"
     ]
    }
   ],
   "source": [
    "print(hosp_op.info())"
   ]
  },
  {
   "cell_type": "code",
   "execution_count": 10,
   "metadata": {},
   "outputs": [],
   "source": [
    "hosp_op = hosp_op.rename(columns={'Provider\\nState' : 'Provider State', 'Provider\\nZip Code' : 'Provider Zip Code', 'Comprehensive APC\\nServices' : 'Comprehensive APC Services', 'Average\\nMedicare\\nAllowed\\nAmount' : 'Average Medicare Allowed Amount'})\n",
    "\n"
   ]
  },
  {
   "cell_type": "code",
   "execution_count": 11,
   "metadata": {},
   "outputs": [
    {
     "name": "stdout",
     "output_type": "stream",
     "text": [
      "<class 'pandas.core.frame.DataFrame'>\n",
      "RangeIndex: 61779 entries, 0 to 61778\n",
      "Data columns (total 7 columns):\n",
      " #   Column                           Non-Null Count  Dtype  \n",
      "---  ------                           --------------  -----  \n",
      " 0   Provider ID                      61779 non-null  object \n",
      " 1   Provider Name                    61779 non-null  object \n",
      " 2   Provider State                   61779 non-null  object \n",
      " 3   Provider Zip Code                61779 non-null  object \n",
      " 4   APC                              61779 non-null  object \n",
      " 5   Comprehensive APC Services       61779 non-null  int64  \n",
      " 6   Average Medicare Allowed Amount  61779 non-null  float64\n",
      "dtypes: float64(1), int64(1), object(5)\n",
      "memory usage: 3.3+ MB\n",
      "None\n"
     ]
    }
   ],
   "source": [
    "print(hosp_op.info())"
   ]
  },
  {
   "cell_type": "code",
   "execution_count": 12,
   "metadata": {},
   "outputs": [],
   "source": [
    "apc_cw = pd.read_excel(\"/Users/adamtsuchiyama/Documents/healthcare-bluebook-red-team/data/2020_january_web_addendum_b.12312019.xlsx\", header=2, usecols=['HCPCS Code', 'APC ', 'Relative Weight', 'Payment Rate ', 'Minimum Unadjusted Copayment '], dtype={'HCPS Code' : str, 'APC ' : str, 'Relative Weight' : float, 'Payment Rate ' : float, 'Minimum Unadjusted Copayment ' : float})\n",
    "\n"
   ]
  },
  {
   "cell_type": "code",
   "execution_count": 13,
   "metadata": {},
   "outputs": [
    {
     "name": "stdout",
     "output_type": "stream",
     "text": [
      "<class 'pandas.core.frame.DataFrame'>\n",
      "RangeIndex: 16628 entries, 0 to 16627\n",
      "Data columns (total 5 columns):\n",
      " #   Column                         Non-Null Count  Dtype  \n",
      "---  ------                         --------------  -----  \n",
      " 0   HCPCS Code                     16628 non-null  object \n",
      " 1   APC                            5942 non-null   object \n",
      " 2   Relative Weight                5516 non-null   float64\n",
      " 3   Payment Rate                   5936 non-null   float64\n",
      " 4   Minimum Unadjusted Copayment   5936 non-null   float64\n",
      "dtypes: float64(3), object(2)\n",
      "memory usage: 649.7+ KB\n",
      "None\n"
     ]
    }
   ],
   "source": [
    "print(apc_cw.info())"
   ]
  },
  {
   "cell_type": "code",
   "execution_count": 14,
   "metadata": {},
   "outputs": [],
   "source": [
    "apc_cw = apc_cw.rename(columns={'APC ' : 'APC', 'Payment Rate ' : 'Payment Rate', 'Minimum Unadjusted Copayment ' : 'Minimum Unadjusted Copayment'})"
   ]
  },
  {
   "cell_type": "code",
   "execution_count": 15,
   "metadata": {},
   "outputs": [],
   "source": [
    "zip_cbsa = pd.read_excel(\"/Users/adamtsuchiyama/Documents/healthcare-bluebook-red-team/data/ZIP_CBSA_032020.xlsx\", usecols=['ZIP', 'CBSA'], dtype={'ZIP' : str, 'CBSA' : str})\n",
    "\n"
   ]
  },
  {
   "cell_type": "code",
   "execution_count": 16,
   "metadata": {
    "scrolled": true
   },
   "outputs": [
    {
     "name": "stdout",
     "output_type": "stream",
     "text": [
      "<class 'pandas.core.frame.DataFrame'>\n",
      "RangeIndex: 47415 entries, 0 to 47414\n",
      "Data columns (total 2 columns):\n",
      " #   Column  Non-Null Count  Dtype \n",
      "---  ------  --------------  ----- \n",
      " 0   ZIP     47415 non-null  object\n",
      " 1   CBSA    47415 non-null  object\n",
      "dtypes: object(2)\n",
      "memory usage: 741.0+ KB\n"
     ]
    }
   ],
   "source": [
    "zip_cbsa.info()"
   ]
  },
  {
   "cell_type": "code",
   "execution_count": 17,
   "metadata": {},
   "outputs": [],
   "source": [
    "phys_nash = pd.merge(phys_supp, zip_cbsa, how='left', left_on='zip_5digits', right_on='ZIP')\n",
    "phys_nash = pd.merge(phys_nash, apc_cw, how='left', left_on='hcpcs_code', right_on='HCPCS Code')"
   ]
  },
  {
   "cell_type": "code",
   "execution_count": 18,
   "metadata": {},
   "outputs": [],
   "source": [
    "phys_nash = phys_nash[phys_nash['APC'] == '5302']"
   ]
  },
  {
   "cell_type": "code",
   "execution_count": 19,
   "metadata": {},
   "outputs": [],
   "source": [
    "phys_nash = phys_nash[phys_nash['provider_type'] == 'Ambulatory Surgical Center']"
   ]
  },
  {
   "cell_type": "code",
   "execution_count": 20,
   "metadata": {
    "scrolled": false
   },
   "outputs": [],
   "source": [
    "phys_nash = phys_nash[phys_nash['CBSA'] == '34980']"
   ]
  },
  {
   "cell_type": "code",
   "execution_count": 21,
   "metadata": {
    "scrolled": false
   },
   "outputs": [
    {
     "name": "stdout",
     "output_type": "stream",
     "text": [
      "<class 'pandas.core.frame.DataFrame'>\n",
      "Int64Index: 8 entries, 1419490 to 6997002\n",
      "Data columns (total 4 columns):\n",
      " #   Column                        Non-Null Count  Dtype  \n",
      "---  ------                        --------------  -----  \n",
      " 0   npi                           8 non-null      object \n",
      " 1   place_of_service              8 non-null      object \n",
      " 2   bene_day_srvc_cnt             8 non-null      float64\n",
      " 3   average_Medicare_allowed_amt  8 non-null      float64\n",
      "dtypes: float64(2), object(2)\n",
      "memory usage: 320.0+ bytes\n",
      "None\n"
     ]
    }
   ],
   "source": [
    "phys_nash = phys_nash.drop(['zip_5digits', 'HCPCS Code', 'nppes_provider_last_org_name', 'nppes_entity_code', 'nppes_provider_zip', 'nppes_provider_state', 'provider_type', 'hcpcs_code', 'ZIP', 'CBSA', 'APC', 'Relative Weight', 'Payment Rate', 'Minimum Unadjusted Copayment'], axis=1)\n",
    "print(phys_nash.info())"
   ]
  },
  {
   "cell_type": "code",
   "execution_count": 22,
   "metadata": {},
   "outputs": [
    {
     "name": "stdout",
     "output_type": "stream",
     "text": [
      "<class 'pandas.core.frame.DataFrame'>\n",
      "Int64Index: 8 entries, 1419490 to 6997002\n",
      "Data columns (total 3 columns):\n",
      " #   Column                        Non-Null Count  Dtype  \n",
      "---  ------                        --------------  -----  \n",
      " 0   npi                           8 non-null      object \n",
      " 1   bene_day_srvc_cnt             8 non-null      float64\n",
      " 2   average_Medicare_allowed_amt  8 non-null      float64\n",
      "dtypes: float64(2), object(1)\n",
      "memory usage: 256.0+ bytes\n",
      "None\n"
     ]
    }
   ],
   "source": [
    "phys_nash = phys_nash.drop('place_of_service', axis=1)\n",
    "print(phys_nash.info())"
   ]
  },
  {
   "cell_type": "code",
   "execution_count": 23,
   "metadata": {},
   "outputs": [],
   "source": [
    "phys_nash = phys_nash.rename(columns={'npi' : 'npi/provider_id', 'bene_day_srvc_cnt' : 'service_cnt', 'average_Medicare_allowed_amt' : 'med_allwd_amt'})"
   ]
  },
  {
   "cell_type": "code",
   "execution_count": 24,
   "metadata": {},
   "outputs": [
    {
     "name": "stdout",
     "output_type": "stream",
     "text": [
      "<class 'pandas.core.frame.DataFrame'>\n",
      "Int64Index: 8 entries, 1419490 to 6997002\n",
      "Data columns (total 3 columns):\n",
      " #   Column           Non-Null Count  Dtype  \n",
      "---  ------           --------------  -----  \n",
      " 0   npi/provider_id  8 non-null      object \n",
      " 1   service_cnt      8 non-null      float64\n",
      " 2   med_allwd_amt    8 non-null      float64\n",
      "dtypes: float64(2), object(1)\n",
      "memory usage: 256.0+ bytes\n",
      "None\n"
     ]
    }
   ],
   "source": [
    "print(phys_nash.info())"
   ]
  },
  {
   "cell_type": "code",
   "execution_count": 25,
   "metadata": {},
   "outputs": [
    {
     "name": "stdout",
     "output_type": "stream",
     "text": [
      "(8, 3)\n"
     ]
    }
   ],
   "source": [
    "print(np.shape(phys_nash))"
   ]
  },
  {
   "cell_type": "code",
   "execution_count": 26,
   "metadata": {},
   "outputs": [],
   "source": [
    "hosp_nash = pd.merge(hosp_op, zip_cbsa, how='left', left_on='Provider Zip Code', right_on='ZIP')"
   ]
  },
  {
   "cell_type": "code",
   "execution_count": 27,
   "metadata": {},
   "outputs": [],
   "source": [
    "hosp_nash = hosp_nash[hosp_nash['APC'] == '5302']"
   ]
  },
  {
   "cell_type": "code",
   "execution_count": 28,
   "metadata": {},
   "outputs": [],
   "source": [
    "hosp_nash = hosp_nash[hosp_nash['CBSA'] == '34980']"
   ]
  },
  {
   "cell_type": "code",
   "execution_count": 29,
   "metadata": {},
   "outputs": [
    {
     "name": "stdout",
     "output_type": "stream",
     "text": [
      "<class 'pandas.core.frame.DataFrame'>\n",
      "Int64Index: 17 entries, 57329 to 59055\n",
      "Data columns (total 3 columns):\n",
      " #   Column                           Non-Null Count  Dtype  \n",
      "---  ------                           --------------  -----  \n",
      " 0   Provider ID                      17 non-null     object \n",
      " 1   Comprehensive APC Services       17 non-null     int64  \n",
      " 2   Average Medicare Allowed Amount  17 non-null     float64\n",
      "dtypes: float64(1), int64(1), object(1)\n",
      "memory usage: 544.0+ bytes\n",
      "None\n"
     ]
    }
   ],
   "source": [
    "hosp_nash = hosp_nash.drop(['Provider Zip Code','Provider Name', 'Provider State', 'APC', 'ZIP', 'CBSA'], axis=1)\n",
    "print(hosp_nash.info())"
   ]
  },
  {
   "cell_type": "code",
   "execution_count": 30,
   "metadata": {},
   "outputs": [],
   "source": [
    "hosp_nash = hosp_nash.rename(columns={'Provider ID' : 'npi/provider_id', 'Comprehensive APC Services' : 'service_cnt', 'Average Medicare Allowed Amount' : 'med_allwd_amt'})"
   ]
  },
  {
   "cell_type": "code",
   "execution_count": 31,
   "metadata": {},
   "outputs": [
    {
     "name": "stdout",
     "output_type": "stream",
     "text": [
      "<class 'pandas.core.frame.DataFrame'>\n",
      "Int64Index: 17 entries, 57329 to 59055\n",
      "Data columns (total 3 columns):\n",
      " #   Column           Non-Null Count  Dtype  \n",
      "---  ------           --------------  -----  \n",
      " 0   npi/provider_id  17 non-null     object \n",
      " 1   service_cnt      17 non-null     int64  \n",
      " 2   med_allwd_amt    17 non-null     float64\n",
      "dtypes: float64(1), int64(1), object(1)\n",
      "memory usage: 544.0+ bytes\n",
      "None\n"
     ]
    }
   ],
   "source": [
    "print(hosp_nash.info())"
   ]
  },
  {
   "cell_type": "code",
   "execution_count": 32,
   "metadata": {},
   "outputs": [
    {
     "name": "stdout",
     "output_type": "stream",
     "text": [
      "(17, 3)\n"
     ]
    }
   ],
   "source": [
    "print(np.shape(hosp_nash))"
   ]
  },
  {
   "cell_type": "code",
   "execution_count": 33,
   "metadata": {
    "scrolled": true
   },
   "outputs": [
    {
     "name": "stdout",
     "output_type": "stream",
     "text": [
      "   npi/provider_id  service_cnt  med_allwd_amt\n",
      "0       1124498357         16.0     660.990000\n",
      "1       1225039761         17.0     565.636471\n",
      "2       1225039761         14.0     587.110000\n",
      "3       1235376104         17.0     550.540000\n",
      "4       1235376104         21.0     537.431905\n",
      "5       1295708964         34.0     587.110000\n",
      "6       1427152073         23.0     587.110000\n",
      "7       1639299803         33.0     587.110000\n",
      "8           440003        114.0    1223.454825\n",
      "9           440006         15.0    1248.620000\n",
      "10          440029         18.0    1248.620000\n",
      "11          440039        623.0    1205.620546\n",
      "12          440046         13.0    1095.567692\n",
      "13          440053         55.0    1248.620000\n",
      "14          440065         29.0    1248.620000\n",
      "15          440073        254.0    1229.639134\n",
      "16          440082        207.0    1224.590048\n",
      "17          440111         12.0    1248.620000\n",
      "18          440133         98.0    1238.468571\n",
      "19          440150         21.0    1159.030952\n",
      "20          440161        170.0    1207.656000\n",
      "21          440193         30.0    1182.297333\n",
      "22          440194         92.0    1142.076522\n",
      "23          440197         49.0    1228.336327\n",
      "24          440227         51.0    1170.593333\n"
     ]
    }
   ],
   "source": [
    "phys_hosp_union = pd.concat([phys_nash, hosp_nash], ignore_index=True)\n",
    "print(phys_hosp_union)"
   ]
  },
  {
   "cell_type": "code",
   "execution_count": 34,
   "metadata": {
    "scrolled": true
   },
   "outputs": [
    {
     "data": {
      "image/png": "[encoded data removed]",
      "text/plain": [
       "<Figure size 432x288 with 1 Axes>"
      ]
     },
     "metadata": {
      "needs_background": "light"
     },
     "output_type": "display_data"
    }
   ],
   "source": [
    "colors = []\n",
    "for amt in phys_hosp_union['med_allwd_amt']:\n",
    "    if amt < 700:\n",
    "        colors.append('red')\n",
    "    else:\n",
    "        colors.append('blue')\n",
    "labels = {'ASC' : 'red', 'Hospitals' : 'blue'}\n",
    "labels2 = list(labels.keys())\n",
    "plt.bar(phys_hosp_union['npi/provider_id'], phys_hosp_union['med_allwd_amt'], color=colors, label=labels)\n",
    "handles = [plt.Rectangle((0,0),1,1, color=labels[label]) for label in labels2]\n",
    "plt.xticks([])\n",
    "plt.xlabel('Providers in Nashville')\n",
    "plt.ylabel('Medicare Allowed Amount')\n",
    "plt.title('Medicare Allowed Amounts, Hospitals vs. ASCs (Nashville)')\n",
    "plt.legend(handles, labels2)\n",
    "plt.show()"
   ]
  },
  {
   "cell_type": "markdown",
   "metadata": {},
   "source": [
    "ASC's costs are significantly lower than hospitals. This is most likely due to ASCs being a facility place of service, meaning the bill has likely been split between multiple providers."
   ]
  },
  {
   "cell_type": "code",
   "execution_count": 35,
   "metadata": {},
   "outputs": [
    {
     "name": "stdout",
     "output_type": "stream",
     "text": [
      "582.87979691875\n"
     ]
    }
   ],
   "source": [
    "phys_mean = np.mean(phys_nash['med_allwd_amt'])\n",
    "print(phys_mean)"
   ]
  },
  {
   "cell_type": "code",
   "execution_count": 36,
   "metadata": {},
   "outputs": [
    {
     "name": "stdout",
     "output_type": "stream",
     "text": [
      "1208.848899031107\n"
     ]
    }
   ],
   "source": [
    "hosp_mean = np.mean(hosp_nash['med_allwd_amt'])\n",
    "print(hosp_mean)"
   ]
  },
  {
   "cell_type": "code",
   "execution_count": 37,
   "metadata": {},
   "outputs": [
    {
     "name": "stdout",
     "output_type": "stream",
     "text": [
      "  Provider ID                     Provider Name Provider State  \\\n",
      "0       10001  Southeast Alabama Medical Center             AL   \n",
      "1       10001  Southeast Alabama Medical Center             AL   \n",
      "2       10001  Southeast Alabama Medical Center             AL   \n",
      "3       10001  Southeast Alabama Medical Center             AL   \n",
      "4       10001  Southeast Alabama Medical Center             AL   \n",
      "\n",
      "  Provider Zip Code   APC  Comprehensive APC Services  \\\n",
      "0             36301  5072                         259   \n",
      "1             36301  5073                          53   \n",
      "2             36301  5091                          27   \n",
      "3             36301  5092                          23   \n",
      "4             36301  5112                          17   \n",
      "\n",
      "   Average Medicare Allowed Amount    ZIP   CBSA  \n",
      "0                      1038.454672  36301  20020  \n",
      "1                      1792.596792  36301  20020  \n",
      "2                      2113.580000  36301  20020  \n",
      "3                      3737.140000  36301  20020  \n",
      "4                      1029.460000  36301  20020  \n"
     ]
    }
   ],
   "source": [
    "hosp_zip = pd.merge(hosp_op, zip_cbsa, how='left', left_on='Provider Zip Code', right_on='ZIP')\n",
    "print(hosp_zip.head())"
   ]
  },
  {
   "cell_type": "code",
   "execution_count": 38,
   "metadata": {},
   "outputs": [
    {
     "name": "stdout",
     "output_type": "stream",
     "text": [
      "      Provider ID  Provider Name  Provider State  Provider Zip Code  \\\n",
      "APC                                                                   \n",
      "8011         3554           3554            3554               3554   \n",
      "5072         3142           3142            3142               3142   \n",
      "5113         3062           3062            3062               3062   \n",
      "5361         2992           2992            2992               2992   \n",
      "5114         2945           2945            2945               2945   \n",
      "5341         2691           2691            2691               2691   \n",
      "5302         2660           2660            2660               2660   \n",
      "5375         2565           2565            2565               2565   \n",
      "5112         2511           2511            2511               2511   \n",
      "5373         2409           2409            2409               2409   \n",
      "5374         2324           2324            2324               2324   \n",
      "5431         2276           2276            2276               2276   \n",
      "5191         2129           2129            2129               2129   \n",
      "5073         2124           2124            2124               2124   \n",
      "5491         2046           2046            2046               2046   \n",
      "5193         1969           1969            1969               1969   \n",
      "5091         1730           1730            1730               1730   \n",
      "5223         1715           1715            1715               1715   \n",
      "5092         1647           1647            1647               1647   \n",
      "5414         1600           1600            1600               1600   \n",
      "5192         1547           1547            1547               1547   \n",
      "5115         1433           1433            1433               1433   \n",
      "5154         1385           1385            1385               1385   \n",
      "5362         1315           1315            1315               1315   \n",
      "5153         1299           1299            1299               1299   \n",
      "5194         1227           1227            1227               1227   \n",
      "5222         1144           1144            1144               1144   \n",
      "5232         1131           1131            1131               1131   \n",
      "5415          994            994             994                994   \n",
      "5165          949            949             949                949   \n",
      "5213          902            902             902                902   \n",
      "5313          837            837             837                837   \n",
      "5492          822            822             822                822   \n",
      "5303          797            797             797                797   \n",
      "5155          734            734             734                734   \n",
      "5164          652            652             652                652   \n",
      "5503          618            618             618                618   \n",
      "5464          602            602             602                602   \n",
      "5231          513            513             513                513   \n",
      "5462          488            488             488                488   \n",
      "5331          485            485             485                485   \n",
      "5463          446            446             446                446   \n",
      "5376          359            359             359                359   \n",
      "5627          278            278             278                278   \n",
      "5416          270            270             270                270   \n",
      "5377          258            258             258                258   \n",
      "5212          253            253             253                253   \n",
      "5224          252            252             252                252   \n",
      "5504          164            164             164                164   \n",
      "5471          149            149             149                149   \n",
      "5166          117            117             117                117   \n",
      "5116           80             80              80                 80   \n",
      "5094           51             51              51                 51   \n",
      "5432           50             50              50                 50   \n",
      "5093           41             41              41                 41   \n",
      "5200           39             39              39                 39   \n",
      "5211            9              9               9                  9   \n",
      "5493            3              3               3                  3   \n",
      "\n",
      "      Comprehensive APC Services  Average Medicare Allowed Amount   ZIP  CBSA  \n",
      "APC                                                                            \n",
      "8011                        3554                             3554  3347  3347  \n",
      "5072                        3142                             3142  2939  2939  \n",
      "5113                        3062                             3062  2867  2867  \n",
      "5361                        2992                             2992  2801  2801  \n",
      "5114                        2945                             2945  2758  2758  \n",
      "5341                        2691                             2691  2505  2505  \n",
      "5302                        2660                             2660  2475  2475  \n",
      "5375                        2565                             2565  2380  2380  \n",
      "5112                        2511                             2511  2340  2340  \n",
      "5373                        2409                             2409  2227  2227  \n",
      "5374                        2324                             2324  2149  2149  \n",
      "5431                        2276                             2276  2120  2120  \n",
      "5191                        2129                             2129  1993  1993  \n",
      "5073                        2124                             2124  1962  1962  \n",
      "5491                        2046                             2046  1908  1908  \n",
      "5193                        1969                             1969  1840  1840  \n",
      "5091                        1730                             1730  1587  1587  \n",
      "5223                        1715                             1715  1584  1584  \n",
      "5092                        1647                             1647  1520  1520  \n",
      "5414                        1600                             1600  1453  1453  \n",
      "5192                        1547                             1547  1444  1444  \n",
      "5115                        1433                             1433  1342  1342  \n",
      "5154                        1385                             1385  1284  1284  \n",
      "5362                        1315                             1315  1221  1221  \n",
      "5153                        1299                             1299  1200  1200  \n",
      "5194                        1227                             1227  1161  1161  \n",
      "5222                        1144                             1144  1054  1054  \n",
      "5232                        1131                             1131  1072  1072  \n",
      "5415                         994                              994   914   914  \n",
      "5165                         949                              949   883   883  \n",
      "5213                         902                              902   849   849  \n",
      "5313                         837                              837   755   755  \n",
      "5492                         822                              822   763   763  \n",
      "5303                         797                              797   731   731  \n",
      "5155                         734                              734   685   685  \n",
      "5164                         652                              652   592   592  \n",
      "5503                         618                              618   564   564  \n",
      "5464                         602                              602   572   572  \n",
      "5231                         513                              513   474   474  \n",
      "5462                         488                              488   453   453  \n",
      "5331                         485                              485   441   441  \n",
      "5463                         446                              446   415   415  \n",
      "5376                         359                              359   344   344  \n",
      "5627                         278                              278   254   254  \n",
      "5416                         270                              270   249   249  \n",
      "5377                         258                              258   242   242  \n",
      "5212                         253                              253   236   236  \n",
      "5224                         252                              252   235   235  \n",
      "5504                         164                              164   151   151  \n",
      "5471                         149                              149   139   139  \n",
      "5166                         117                              117   107   107  \n",
      "5116                          80                               80    77    77  \n",
      "5094                          51                               51    47    47  \n",
      "5432                          50                               50    48    48  \n",
      "5093                          41                               41    40    40  \n",
      "5200                          39                               39    37    37  \n",
      "5211                           9                                9     9     9  \n",
      "5493                           3                                3     2     2  \n"
     ]
    }
   ],
   "source": [
    "print(hosp_zip.groupby('APC').count().sort_values(by=['Provider ID'], ascending=False))"
   ]
  },
  {
   "cell_type": "code",
   "execution_count": 39,
   "metadata": {},
   "outputs": [
    {
     "name": "stdout",
     "output_type": "stream",
     "text": [
      "<class 'pandas.core.frame.DataFrame'>\n",
      "Int64Index: 70784 entries, 0 to 70783\n",
      "Data columns (total 9 columns):\n",
      " #   Column                           Non-Null Count  Dtype  \n",
      "---  ------                           --------------  -----  \n",
      " 0   Provider ID                      70784 non-null  object \n",
      " 1   Provider Name                    70784 non-null  object \n",
      " 2   Provider State                   70784 non-null  object \n",
      " 3   Provider Zip Code                70784 non-null  object \n",
      " 4   APC                              70784 non-null  object \n",
      " 5   Comprehensive APC Services       70784 non-null  int64  \n",
      " 6   Average Medicare Allowed Amount  70784 non-null  float64\n",
      " 7   ZIP                              65841 non-null  object \n",
      " 8   CBSA                             65841 non-null  object \n",
      "dtypes: float64(1), int64(1), object(7)\n",
      "memory usage: 5.4+ MB\n",
      "None\n"
     ]
    }
   ],
   "source": [
    "print(hosp_zip.info())"
   ]
  },
  {
   "cell_type": "code",
   "execution_count": 40,
   "metadata": {},
   "outputs": [],
   "source": [
    "hosp_nyc = hosp_zip[hosp_zip['APC'] == '5072']"
   ]
  },
  {
   "cell_type": "code",
   "execution_count": 41,
   "metadata": {},
   "outputs": [],
   "source": [
    "hosp_nyc = hosp_nyc[hosp_nyc['CBSA'] == '35620']"
   ]
  },
  {
   "cell_type": "code",
   "execution_count": 42,
   "metadata": {},
   "outputs": [
    {
     "name": "stdout",
     "output_type": "stream",
     "text": [
      "      Provider ID                                  Provider Name  \\\n",
      "40334      330006                     St Joseph's Medical Center   \n",
      "40346      330009                  Bronx-Lebanon Hospital Center   \n",
      "40422      330014                Jamaica Hospital Medical Center   \n",
      "40428      330019  New York Community Hospital Of Brooklyn, Inc.   \n",
      "40479      330024                           Mount Sinai Hospital   \n",
      "...           ...                                            ...   \n",
      "43261      330393                            University Hospital   \n",
      "43343      330395    St John's Episcopal Hospital At South Shore   \n",
      "43349      330396      Woodhull Medical And Mental Health Center   \n",
      "43356      330399                           St Barnabas Hospital   \n",
      "43361      330401                 St Catherine Of Siena Hospital   \n",
      "\n",
      "      Provider State Provider Zip Code   APC  Comprehensive APC Services  \\\n",
      "40334             NY             10701  5072                          19   \n",
      "40346             NY             10456  5072                          13   \n",
      "40422             NY             11418  5072                          12   \n",
      "40428             NY             11229  5072                          31   \n",
      "40479             NY             10029  5072                         991   \n",
      "...              ...               ...   ...                         ...   \n",
      "43261             NY             11794  5072                         518   \n",
      "43343             NY             11691  5072                          28   \n",
      "43349             NY             11206  5072                          18   \n",
      "43356             NY             10457  5072                          32   \n",
      "43361             NY             11787  5072                          86   \n",
      "\n",
      "       Average Medicare Allowed Amount    ZIP   CBSA  \n",
      "40334                      1472.730000  10701  35620  \n",
      "40346                      1472.955385  10456  35620  \n",
      "40422                      1472.730000  11418  35620  \n",
      "40428                      1472.730000  11229  35620  \n",
      "40479                      1424.495691  10029  35620  \n",
      "...                                ...    ...    ...  \n",
      "43261                      1453.463707  11794  35620  \n",
      "43343                      1472.828929  11691  35620  \n",
      "43349                      1431.678333  11206  35620  \n",
      "43356                      1472.748750  10457  35620  \n",
      "43361                      1472.764070  11787  35620  \n",
      "\n",
      "[66 rows x 9 columns]\n"
     ]
    }
   ],
   "source": [
    "print(hosp_nyc)"
   ]
  },
  {
   "cell_type": "code",
   "execution_count": 43,
   "metadata": {},
   "outputs": [
    {
     "name": "stdout",
     "output_type": "stream",
     "text": [
      "          npi                       nppes_provider_last_org_name  \\\n",
      "0  0000000001  CPT copyright 2016 American Medical Associatio...   \n",
      "1  1003000126                                          ENKESHAFI   \n",
      "2  1003000126                                          ENKESHAFI   \n",
      "3  1003000126                                          ENKESHAFI   \n",
      "4  1003000126                                          ENKESHAFI   \n",
      "\n",
      "  nppes_entity_code nppes_provider_zip nppes_provider_state  \\\n",
      "0               NaN                NaN                  NaN   \n",
      "1                 I          215021854                   MD   \n",
      "2                 I          215021854                   MD   \n",
      "3                 I          215021854                   MD   \n",
      "4                 I          215021854                   MD   \n",
      "\n",
      "       provider_type place_of_service hcpcs_code  bene_day_srvc_cnt  \\\n",
      "0                NaN              NaN        NaN                NaN   \n",
      "1  Internal Medicine                F      99217              100.0   \n",
      "2  Internal Medicine                F      99218               26.0   \n",
      "3  Internal Medicine                F      99219               52.0   \n",
      "4  Internal Medicine                F      99220               59.0   \n",
      "\n",
      "   average_Medicare_allowed_amt zip_5digits    ZIP   CBSA HCPCS Code  APC  \\\n",
      "0                           NaN         NaN    NaN    NaN        NaN  NaN   \n",
      "1                     73.398800       21502  21502  19060      99217  NaN   \n",
      "2                    100.080000       21502  21502  19060      99218  NaN   \n",
      "3                    136.380000       21502  21502  19060      99219  NaN   \n",
      "4                    190.363729       21502  21502  19060      99220  NaN   \n",
      "\n",
      "   Relative Weight  Payment Rate  Minimum Unadjusted Copayment  \n",
      "0              NaN           NaN                           NaN  \n",
      "1              NaN           NaN                           NaN  \n",
      "2              NaN           NaN                           NaN  \n",
      "3              NaN           NaN                           NaN  \n",
      "4              NaN           NaN                           NaN  \n"
     ]
    }
   ],
   "source": [
    "phys_zip = pd.merge(phys_supp, zip_cbsa, how='left', left_on='zip_5digits', right_on='ZIP')\n",
    "phys_zip = pd.merge(phys_zip, apc_cw, how='left', left_on='hcpcs_code', right_on='HCPCS Code')\n",
    "print(phys_zip.head())"
   ]
  },
  {
   "cell_type": "code",
   "execution_count": 44,
   "metadata": {
    "scrolled": true
   },
   "outputs": [
    {
     "name": "stdout",
     "output_type": "stream",
     "text": [
      "<class 'pandas.core.frame.DataFrame'>\n",
      "Int64Index: 10983897 entries, 0 to 10983896\n",
      "Data columns (total 18 columns):\n",
      " #   Column                        Dtype  \n",
      "---  ------                        -----  \n",
      " 0   npi                           object \n",
      " 1   nppes_provider_last_org_name  object \n",
      " 2   nppes_entity_code             object \n",
      " 3   nppes_provider_zip            object \n",
      " 4   nppes_provider_state          object \n",
      " 5   provider_type                 object \n",
      " 6   place_of_service              object \n",
      " 7   hcpcs_code                    object \n",
      " 8   bene_day_srvc_cnt             float64\n",
      " 9   average_Medicare_allowed_amt  float64\n",
      " 10  zip_5digits                   object \n",
      " 11  ZIP                           object \n",
      " 12  CBSA                          object \n",
      " 13  HCPCS Code                    object \n",
      " 14  APC                           object \n",
      " 15  Relative Weight               float64\n",
      " 16  Payment Rate                  float64\n",
      " 17  Minimum Unadjusted Copayment  float64\n",
      "dtypes: float64(5), object(13)\n",
      "memory usage: 1.6+ GB\n",
      "None\n"
     ]
    }
   ],
   "source": [
    "print(phys_zip.info())"
   ]
  },
  {
   "cell_type": "code",
   "execution_count": 60,
   "metadata": {},
   "outputs": [
    {
     "name": "stdout",
     "output_type": "stream",
     "text": [
      "              npi nppes_provider_last_org_name nppes_entity_code  \\\n",
      "22317  1003131012                       SPRUNT                 I   \n",
      "39359  1003805060                          MAY                 I   \n",
      "51064  1003822123                     WILLIAMS                 I   \n",
      "54146  1003831066                         CHEN                 I   \n",
      "56100  1003836214                       KOOLPE                 I   \n",
      "\n",
      "      nppes_provider_zip nppes_provider_state         provider_type  \\\n",
      "22317          787051166                   TX     Surgical Oncology   \n",
      "39359          852515648                   AZ  Diagnostic Radiology   \n",
      "51064          648043503                   MO  Diagnostic Radiology   \n",
      "54146          220314400                   VA  Diagnostic Radiology   \n",
      "56100          875054754                   NM  Diagnostic Radiology   \n",
      "\n",
      "      place_of_service hcpcs_code  bene_day_srvc_cnt  \\\n",
      "22317                O      19083               11.0   \n",
      "39359                O      19083               21.0   \n",
      "51064                O      19083               70.0   \n",
      "54146                O      19083               14.0   \n",
      "56100                O      19083               24.0   \n",
      "\n",
      "       average_Medicare_allowed_amt zip_5digits    ZIP   CBSA HCPCS Code  \\\n",
      "22317                    673.610909       78705  78705  12420      19083   \n",
      "39359                    658.030476       85251  85251  38060      19083   \n",
      "51064                    157.596286       64804  64804  27900      19083   \n",
      "54146                    807.170000       22031  22031  47900      19083   \n",
      "56100                    641.350000       87505  87505  42140      19083   \n",
      "\n",
      "        APC  Relative Weight  Payment Rate  Minimum Unadjusted Copayment  \n",
      "22317  5072          16.9891        1372.6                        274.52  \n",
      "39359  5072          16.9891        1372.6                        274.52  \n",
      "51064  5072          16.9891        1372.6                        274.52  \n",
      "54146  5072          16.9891        1372.6                        274.52  \n",
      "56100  5072          16.9891        1372.6                        274.52  \n"
     ]
    }
   ],
   "source": [
    "phys_zip2 = phys_zip[phys_zip['APC'] == '5072']\n",
    "phys_zip2 = phys_zip2[phys_zip2['HCPCS Code'] == '19083']\n",
    "phys_zip2 = phys_zip2[phys_zip2['nppes_entity_code'] == 'I']\n",
    "phys_zip2 = phys_zip2[phys_zip2['place_of_service'] == 'O']\n",
    "print(phys_zip2.head())"
   ]
  },
  {
   "cell_type": "code",
   "execution_count": 61,
   "metadata": {},
   "outputs": [
    {
     "name": "stdout",
     "output_type": "stream",
     "text": [
      "               provider_type  bene_day_srvc_cnt  average_Medicare_allowed_amt  \\\n",
      "0             Anesthesiology          17.000000                    437.687667   \n",
      "1       Diagnostic Radiology          22.886667                    573.654818   \n",
      "2            Family Practice          12.000000                    601.038333   \n",
      "3           General Practice          43.000000                    725.814393   \n",
      "4            General Surgery          24.698675                    650.315488   \n",
      "5     Gynecological Oncology          30.000000                    157.846250   \n",
      "6   Interventional Radiology          26.800000                    653.008033   \n",
      "7           Nuclear Medicine          22.000000                    662.090000   \n",
      "8    Obstetrics & Gynecology          11.000000                    641.750000   \n",
      "9                  Pathology          14.000000                    760.072857   \n",
      "10        Radiation Oncology          12.000000                    686.558205   \n",
      "11         Surgical Oncology          31.571429                    596.676679   \n",
      "12          Thoracic Surgery          20.000000                    650.620000   \n",
      "\n",
      "    Relative Weight  Payment Rate  Minimum Unadjusted Copayment  \n",
      "0           16.9891        1372.6                        274.52  \n",
      "1           16.9891        1372.6                        274.52  \n",
      "2           16.9891        1372.6                        274.52  \n",
      "3           16.9891        1372.6                        274.52  \n",
      "4           16.9891        1372.6                        274.52  \n",
      "5           16.9891        1372.6                        274.52  \n",
      "6           16.9891        1372.6                        274.52  \n",
      "7           16.9891        1372.6                        274.52  \n",
      "8           16.9891        1372.6                        274.52  \n",
      "9           16.9891        1372.6                        274.52  \n",
      "10          16.9891        1372.6                        274.52  \n",
      "11          16.9891        1372.6                        274.52  \n",
      "12          16.9891        1372.6                        274.52  \n"
     ]
    }
   ],
   "source": [
    "phys_zip_group = phys_zip2.groupby('provider_type').mean()\n",
    "phys_zip_group = phys_zip_group.reset_index()\n",
    "print(phys_zip_group)"
   ]
  },
  {
   "cell_type": "code",
   "execution_count": 71,
   "metadata": {},
   "outputs": [
    {
     "data": {
      "image/png": "[encoded data removed]",
      "text/plain": [
       "<Figure size 1800x1080 with 1 Axes>"
      ]
     },
     "metadata": {
      "needs_background": "light"
     },
     "output_type": "display_data"
    }
   ],
   "source": [
    "plt.figure(figsize=(25,15))\n",
    "plt.bar(phys_zip_group['provider_type'], phys_zip_group['bene_day_srvc_cnt'])\n",
    "plt.xlabel('Provider Type')\n",
    "plt.ylabel('Avg. Service Count')\n",
    "plt.title('Avg. Service Count by Provider Type')\n",
    "plt.show()"
   ]
  },
  {
   "cell_type": "code",
   "execution_count": 45,
   "metadata": {},
   "outputs": [
    {
     "name": "stdout",
     "output_type": "stream",
     "text": [
      "             npi  nppes_provider_last_org_name  nppes_entity_code  \\\n",
      "HCPCS Code                                                          \n",
      "19083       3737                          3737               3737   \n",
      "38221       3713                          3713               3713   \n",
      "32405       2270                          2270               2270   \n",
      "19081       1704                          1704               1704   \n",
      "47000       1471                          1471               1471   \n",
      "\n",
      "            nppes_provider_zip  nppes_provider_state  provider_type  \\\n",
      "HCPCS Code                                                            \n",
      "19083                     3737                  3737           3737   \n",
      "38221                     3713                  3713           3713   \n",
      "32405                     2270                  2270           2270   \n",
      "19081                     1704                  1704           1704   \n",
      "47000                     1471                  1471           1471   \n",
      "\n",
      "            place_of_service  hcpcs_code  bene_day_srvc_cnt  \\\n",
      "HCPCS Code                                                    \n",
      "19083                   3737        3737               3737   \n",
      "38221                   3713        3713               3713   \n",
      "32405                   2270        2270               2270   \n",
      "19081                   1704        1704               1704   \n",
      "47000                   1471        1471               1471   \n",
      "\n",
      "            average_Medicare_allowed_amt  zip_5digits   ZIP  CBSA   APC  \\\n",
      "HCPCS Code                                                                \n",
      "19083                               3737         3737  3731  3731  3737   \n",
      "38221                               3713         3713  3711  3711  3713   \n",
      "32405                               2270         2270  2266  2266  2270   \n",
      "19081                               1704         1704  1703  1703  1704   \n",
      "47000                               1471         1471  1469  1469  1471   \n",
      "\n",
      "            Relative Weight  Payment Rate  Minimum Unadjusted Copayment  \n",
      "HCPCS Code                                                               \n",
      "19083                  3737          3737                          3737  \n",
      "38221                  3713          3713                          3713  \n",
      "32405                  2270          2270                          2270  \n",
      "19081                  1704          1704                          1704  \n",
      "47000                  1471          1471                          1471  \n"
     ]
    }
   ],
   "source": [
    "phys_nyc = phys_zip[phys_zip['APC'] == '5072']\n",
    "print(phys_nyc.groupby('HCPCS Code').count().sort_values(by=['npi'], ascending=False).head())"
   ]
  },
  {
   "cell_type": "code",
   "execution_count": 46,
   "metadata": {},
   "outputs": [
    {
     "name": "stdout",
     "output_type": "stream",
     "text": [
      "               npi nppes_provider_last_org_name nppes_entity_code  \\\n",
      "82733   1003887613                     SALDANHA                 I   \n",
      "142810  1013179894                         SHAH                 I   \n",
      "240913  1023040771                       O'SHEA                 I   \n",
      "314456  1023329299                     KAMENETZ                 I   \n",
      "360543  1033166582                          LEE                 I   \n",
      "\n",
      "       nppes_provider_zip nppes_provider_state         provider_type  \\\n",
      "82733           115304822                   NY  Diagnostic Radiology   \n",
      "142810          100282140                   NY  Diagnostic Radiology   \n",
      "240913          070424837                   NJ     Surgical Oncology   \n",
      "314456          104612728                   NY  Diagnostic Radiology   \n",
      "360543          070423426                   NJ  Diagnostic Radiology   \n",
      "\n",
      "       place_of_service hcpcs_code  bene_day_srvc_cnt  \\\n",
      "82733                 O      19083               13.0   \n",
      "142810                O      19083               16.0   \n",
      "240913                O      19083               36.0   \n",
      "314456                O      19083               46.0   \n",
      "360543                O      19083               20.0   \n",
      "\n",
      "        average_Medicare_allowed_amt zip_5digits    ZIP   CBSA HCPCS Code  \\\n",
      "82733                     816.599231       11530  11530  35620      19083   \n",
      "142810                    740.342500       10028  10028  35620      19083   \n",
      "240913                    766.120000       07042  07042  35620      19083   \n",
      "314456                    810.058261       10461  10461  35620      19083   \n",
      "360543                    753.693000       07042  07042  35620      19083   \n",
      "\n",
      "         APC  Relative Weight  Payment Rate  Minimum Unadjusted Copayment  \n",
      "82733   5072          16.9891        1372.6                        274.52  \n",
      "142810  5072          16.9891        1372.6                        274.52  \n",
      "240913  5072          16.9891        1372.6                        274.52  \n",
      "314456  5072          16.9891        1372.6                        274.52  \n",
      "360543  5072          16.9891        1372.6                        274.52  \n"
     ]
    }
   ],
   "source": [
    "phys_nyc = phys_nyc[phys_nyc['HCPCS Code'] == '19083']\n",
    "phys_nyc = phys_nyc[phys_nyc['nppes_entity_code'] == 'I']\n",
    "phys_nyc = phys_nyc[phys_nyc['place_of_service'] == 'O']\n",
    "phys_nyc = phys_nyc[phys_nyc['CBSA'] == '35620']\n",
    "print(phys_nyc.head())"
   ]
  },
  {
   "cell_type": "code",
   "execution_count": 56,
   "metadata": {},
   "outputs": [
    {
     "name": "stdout",
     "output_type": "stream",
     "text": [
      "          provider_type  bene_day_srvc_cnt  average_Medicare_allowed_amt  \\\n",
      "0  Diagnostic Radiology          21.855072                    628.093283   \n",
      "1      General Practice          32.500000                    779.752391   \n",
      "2       General Surgery          29.176471                    797.766217   \n",
      "3     Surgical Oncology          78.800000                    764.560000   \n",
      "\n",
      "   Relative Weight  Payment Rate  Minimum Unadjusted Copayment  \n",
      "0          16.9891        1372.6                        274.52  \n",
      "1          16.9891        1372.6                        274.52  \n",
      "2          16.9891        1372.6                        274.52  \n",
      "3          16.9891        1372.6                        274.52  \n"
     ]
    }
   ],
   "source": [
    "phys_nyc_group = phys_nyc.groupby('provider_type').mean()\n",
    "phys_nyc_group = phys_nyc_group.reset_index()\n",
    "print(phys_nyc_group)"
   ]
  },
  {
   "cell_type": "code",
   "execution_count": 72,
   "metadata": {},
   "outputs": [
    {
     "data": {
      "image/png": "[encoded data removed]",
      "text/plain": [
       "<Figure size 1080x720 with 1 Axes>"
      ]
     },
     "metadata": {
      "needs_background": "light"
     },
     "output_type": "display_data"
    }
   ],
   "source": [
    "colors = ['red', 'blue', 'green', 'purple']\n",
    "plt.figure(figsize=(15,10))\n",
    "plt.bar(phys_nyc_group['provider_type'], phys_nyc_group['bene_day_srvc_cnt'], color=colors)\n",
    "plt.xlabel('Provider Type')\n",
    "plt.ylabel('Avg. Service Count')\n",
    "plt.title('Avg. Service Count by Provider Type, NYC')\n",
    "plt.show()"
   ]
  },
  {
   "cell_type": "code",
   "execution_count": 47,
   "metadata": {},
   "outputs": [
    {
     "name": "stdout",
     "output_type": "stream",
     "text": [
      "<class 'pandas.core.frame.DataFrame'>\n",
      "Int64Index: 66 entries, 40334 to 43361\n",
      "Data columns (total 5 columns):\n",
      " #   Column         Non-Null Count  Dtype  \n",
      "---  ------         --------------  -----  \n",
      " 0   id/npi         66 non-null     object \n",
      " 1   name           66 non-null     object \n",
      " 2   srvce_cnt      66 non-null     int64  \n",
      " 3   med_allwd_amt  66 non-null     float64\n",
      " 4   zip            66 non-null     object \n",
      "dtypes: float64(1), int64(1), object(3)\n",
      "memory usage: 3.1+ KB\n",
      "None\n"
     ]
    }
   ],
   "source": [
    "hosp_nyc = hosp_nyc.drop(['Provider State', 'Provider Zip Code', 'APC', 'CBSA'], axis=1)\n",
    "hosp_nyc = hosp_nyc.rename(columns={'Provider ID' : 'id/npi', 'Provider Name' : 'name', 'Comprehensive APC Services' : 'srvce_cnt', 'Average Medicare Allowed Amount' : 'med_allwd_amt', 'ZIP' : 'zip'})\n",
    "print(hosp_nyc.info())"
   ]
  },
  {
   "cell_type": "code",
   "execution_count": 48,
   "metadata": {
    "scrolled": true
   },
   "outputs": [
    {
     "name": "stdout",
     "output_type": "stream",
     "text": [
      "<class 'pandas.core.frame.DataFrame'>\n",
      "Int64Index: 162 entries, 82733 to 10969659\n",
      "Data columns (total 5 columns):\n",
      " #   Column         Non-Null Count  Dtype  \n",
      "---  ------         --------------  -----  \n",
      " 0   id/npi         162 non-null    object \n",
      " 1   name           162 non-null    object \n",
      " 2   srvce_cnt      162 non-null    float64\n",
      " 3   med_allwd_amt  162 non-null    float64\n",
      " 4   zip            162 non-null    object \n",
      "dtypes: float64(2), object(3)\n",
      "memory usage: 7.6+ KB\n",
      "None\n"
     ]
    }
   ],
   "source": [
    "phys_nyc = phys_nyc.drop(['nppes_entity_code', 'nppes_provider_zip', 'nppes_provider_state', 'provider_type', 'place_of_service', 'hcpcs_code', 'zip_5digits', 'CBSA', 'HCPCS Code', 'APC', 'Relative Weight', 'Payment Rate', 'Minimum Unadjusted Copayment'], axis=1)\n",
    "phys_nyc = phys_nyc.rename(columns={'npi' : 'id/npi', 'nppes_provider_last_org_name' : 'name', 'bene_day_srvc_cnt' : 'srvce_cnt', 'average_Medicare_allowed_amt' : 'med_allwd_amt', 'ZIP' : 'zip'})\n",
    "print(phys_nyc.info())"
   ]
  },
  {
   "cell_type": "code",
   "execution_count": 49,
   "metadata": {
    "scrolled": true
   },
   "outputs": [
    {
     "name": "stdout",
     "output_type": "stream",
     "text": [
      "24.512345679012345\n"
     ]
    }
   ],
   "source": [
    "print(np.mean(phys_nyc['srvce_cnt']))"
   ]
  },
  {
   "cell_type": "code",
   "execution_count": 50,
   "metadata": {},
   "outputs": [
    {
     "name": "stdout",
     "output_type": "stream",
     "text": [
      "651.9827378059879\n"
     ]
    }
   ],
   "source": [
    "print(np.mean(phys_nyc['med_allwd_amt']))"
   ]
  },
  {
   "cell_type": "code",
   "execution_count": 51,
   "metadata": {},
   "outputs": [
    {
     "name": "stdout",
     "output_type": "stream",
     "text": [
      "1442.3089807571441\n"
     ]
    }
   ],
   "source": [
    "print(np.mean(hosp_nyc['med_allwd_amt']))"
   ]
  },
  {
   "cell_type": "code",
   "execution_count": 52,
   "metadata": {},
   "outputs": [
    {
     "name": "stdout",
     "output_type": "stream",
     "text": [
      "223.0\n"
     ]
    }
   ],
   "source": [
    "print(np.mean(hosp_nyc['srvce_cnt']))"
   ]
  },
  {
   "cell_type": "code",
   "execution_count": 53,
   "metadata": {
    "scrolled": true
   },
   "outputs": [
    {
     "name": "stdout",
     "output_type": "stream",
     "text": [
      "         id/npi                                         name  srvce_cnt  \\\n",
      "0    1003887613                                     SALDANHA       13.0   \n",
      "1    1013179894                                         SHAH       16.0   \n",
      "2    1023040771                                       O'SHEA       36.0   \n",
      "3    1023329299                                     KAMENETZ       46.0   \n",
      "4    1033166582                                          LEE       20.0   \n",
      "..          ...                                          ...        ...   \n",
      "223      330393                          University Hospital      518.0   \n",
      "224      330395  St John's Episcopal Hospital At South Shore       28.0   \n",
      "225      330396    Woodhull Medical And Mental Health Center       18.0   \n",
      "226      330399                         St Barnabas Hospital       32.0   \n",
      "227      330401               St Catherine Of Siena Hospital       86.0   \n",
      "\n",
      "     med_allwd_amt    zip  \n",
      "0       816.599231  11530  \n",
      "1       740.342500  10028  \n",
      "2       766.120000  07042  \n",
      "3       810.058261  10461  \n",
      "4       753.693000  07042  \n",
      "..             ...    ...  \n",
      "223    1453.463707  11794  \n",
      "224    1472.828929  11691  \n",
      "225    1431.678333  11206  \n",
      "226    1472.748750  10457  \n",
      "227    1472.764070  11787  \n",
      "\n",
      "[228 rows x 5 columns]\n"
     ]
    }
   ],
   "source": [
    "nyc_union = pd.concat([phys_nyc, hosp_nyc], ignore_index=True)\n",
    "print(nyc_union)"
   ]
  },
  {
   "cell_type": "markdown",
   "metadata": {},
   "source": [
    "Going to a physician/other supplier for a level 2 biopsy would possibly have less of a wait time, since their service count is significantly lower than for hospitals."
   ]
  },
  {
   "cell_type": "code",
   "execution_count": 54,
   "metadata": {},
   "outputs": [
    {
     "name": "stdout",
     "output_type": "stream",
     "text": [
      "              id/npi      name  srvce_cnt  med_allwd_amt    zip\n",
      "82733     1003887613  SALDANHA       13.0     816.599231  11530\n",
      "142810    1013179894      SHAH       16.0     740.342500  10028\n",
      "240913    1023040771    O'SHEA       36.0     766.120000  07042\n",
      "314456    1023329299  KAMENETZ       46.0     810.058261  10461\n",
      "360543    1033166582       LEE       20.0     753.693000  07042\n",
      "...              ...       ...        ...            ...    ...\n",
      "10577508  1962460758       FOU       20.0     818.960000  10580\n",
      "10624299  1962608380        PO       18.0     795.360000  11757\n",
      "10632757  1962662221  ABRAMSON       13.0     175.779231  10019\n",
      "10636301  1962678474     ABBEY       11.0     759.207273  07601\n",
      "10969659  1992908529  LADETSKY       15.0     193.020000  10029\n",
      "\n",
      "[162 rows x 5 columns]\n"
     ]
    }
   ],
   "source": [
    "print(phys_nyc)"
   ]
  },
  {
   "cell_type": "code",
   "execution_count": 64,
   "metadata": {},
   "outputs": [
    {
     "name": "stdout",
     "output_type": "stream",
     "text": [
      "159.0\n"
     ]
    }
   ],
   "source": [
    "print(max(phys_nyc['srvce_cnt']))"
   ]
  },
  {
   "cell_type": "code",
   "execution_count": 59,
   "metadata": {},
   "outputs": [
    {
     "name": "stdout",
     "output_type": "stream",
     "text": [
      "       id/npi                                           name  srvce_cnt  \\\n",
      "40334  330006                     St Joseph's Medical Center         19   \n",
      "40346  330009                  Bronx-Lebanon Hospital Center         13   \n",
      "40422  330014                Jamaica Hospital Medical Center         12   \n",
      "40428  330019  New York Community Hospital Of Brooklyn, Inc.         31   \n",
      "40479  330024                           Mount Sinai Hospital        991   \n",
      "...       ...                                            ...        ...   \n",
      "43261  330393                            University Hospital        518   \n",
      "43343  330395    St John's Episcopal Hospital At South Shore         28   \n",
      "43349  330396      Woodhull Medical And Mental Health Center         18   \n",
      "43356  330399                           St Barnabas Hospital         32   \n",
      "43361  330401                 St Catherine Of Siena Hospital         86   \n",
      "\n",
      "       med_allwd_amt    zip  \n",
      "40334    1472.730000  10701  \n",
      "40346    1472.955385  10456  \n",
      "40422    1472.730000  11418  \n",
      "40428    1472.730000  11229  \n",
      "40479    1424.495691  10029  \n",
      "...              ...    ...  \n",
      "43261    1453.463707  11794  \n",
      "43343    1472.828929  11691  \n",
      "43349    1431.678333  11206  \n",
      "43356    1472.748750  10457  \n",
      "43361    1472.764070  11787  \n",
      "\n",
      "[66 rows x 5 columns]\n"
     ]
    }
   ],
   "source": [
    "print(hosp_nyc)"
   ]
  },
  {
   "cell_type": "code",
   "execution_count": 67,
   "metadata": {},
   "outputs": [
    {
     "name": "stdout",
     "output_type": "stream",
     "text": [
      "       id/npi                                              name  srvce_cnt  \\\n",
      "41618  330154  Memorial Hospital For Cancer And Allied Diseases       3881   \n",
      "\n",
      "       med_allwd_amt    zip  \n",
      "41618    1416.723012  10021  \n"
     ]
    }
   ],
   "source": [
    "print(hosp_nyc[hosp_nyc['srvce_cnt'] == max(hosp_nyc['srvce_cnt'])])"
   ]
  },
  {
   "cell_type": "code",
   "execution_count": 70,
   "metadata": {},
   "outputs": [
    {
     "name": "stdout",
     "output_type": "stream",
     "text": [
      "              id/npi        name  srvce_cnt  med_allwd_amt    zip\n",
      "5770544   1528117207       LYGAS      159.0     756.100000  08724\n",
      "8083385   1730254053  PELLEGRINO      140.0     756.100000  08724\n",
      "6652061   1609846138     DORFMAN       76.0     805.968816  11757\n",
      "10550382  1962403147      SULTAN       75.0     773.903067  07304\n",
      "6490947   1598082570      BASSIS       64.0     812.561875  11757\n"
     ]
    }
   ],
   "source": [
    "phys_nyc_top5 = phys_nyc.sort_values(by='srvce_cnt', ascending=False).head()\n",
    "print(phys_nyc_top5)"
   ]
  },
  {
   "cell_type": "code",
   "execution_count": 71,
   "metadata": {},
   "outputs": [
    {
     "name": "stdout",
     "output_type": "stream",
     "text": [
      "       id/npi                                              name  srvce_cnt  \\\n",
      "41618  330154  Memorial Hospital For Cancer And Allied Diseases       3881   \n",
      "40479  330024                              Mount Sinai Hospital        991   \n",
      "42329  330214                             Nyu Langone Hospitals        985   \n",
      "41219  330106                   North Shore University Hospital        833   \n",
      "41119  330101                    New York-Presbyterian Hospital        791   \n",
      "\n",
      "       med_allwd_amt    zip  \n",
      "41618    1416.723012  10021  \n",
      "40479    1424.495691  10029  \n",
      "42329    1404.513391  10016  \n",
      "41219    1416.318319  11030  \n",
      "41119    1452.584286  10065  \n"
     ]
    }
   ],
   "source": [
    "hosp_nyc_top5 = hosp_nyc.sort_values(by='srvce_cnt', ascending=False).head()\n",
    "print(hosp_nyc_top5)"
   ]
  },
  {
   "cell_type": "code",
   "execution_count": 74,
   "metadata": {},
   "outputs": [
    {
     "name": "stdout",
     "output_type": "stream",
     "text": [
      "       id/npi                                              name  srvce_cnt  \\\n",
      "0  1528117207                                             LYGAS      159.0   \n",
      "1  1730254053                                        PELLEGRINO      140.0   \n",
      "2  1609846138                                           DORFMAN       76.0   \n",
      "3  1962403147                                            SULTAN       75.0   \n",
      "4  1598082570                                            BASSIS       64.0   \n",
      "5      330154  Memorial Hospital For Cancer And Allied Diseases     3881.0   \n",
      "6      330024                              Mount Sinai Hospital      991.0   \n",
      "7      330214                             Nyu Langone Hospitals      985.0   \n",
      "8      330106                   North Shore University Hospital      833.0   \n",
      "9      330101                    New York-Presbyterian Hospital      791.0   \n",
      "\n",
      "   med_allwd_amt    zip  \n",
      "0     756.100000  08724  \n",
      "1     756.100000  08724  \n",
      "2     805.968816  11757  \n",
      "3     773.903067  07304  \n",
      "4     812.561875  11757  \n",
      "5    1416.723012  10021  \n",
      "6    1424.495691  10029  \n",
      "7    1404.513391  10016  \n",
      "8    1416.318319  11030  \n",
      "9    1452.584286  10065  \n"
     ]
    }
   ],
   "source": [
    "nyc_union2 = pd.concat([phys_nyc_top5, hosp_nyc_top5], ignore_index=True)\n",
    "print(nyc_union2)"
   ]
  },
  {
   "cell_type": "code",
   "execution_count": 78,
   "metadata": {},
   "outputs": [
    {
     "data": {
      "image/png": "[encoded data removed]",
      "text/plain": [
       "<Figure size 432x288 with 1 Axes>"
      ]
     },
     "metadata": {
      "needs_background": "light"
     },
     "output_type": "display_data"
    }
   ],
   "source": [
    "colors = []\n",
    "for cnt in nyc_union2['srvce_cnt']:\n",
    "    if cnt < 160:\n",
    "        colors.append('red')\n",
    "    else:\n",
    "        colors.append('blue')\n",
    "labels = {'Phys/Other Suppliers' : 'red', 'Hospitals' : 'blue'}\n",
    "labels2 = list(labels.keys())\n",
    "plt.bar(nyc_union2['id/npi'], nyc_union2['srvce_cnt'], color=colors, label=labels)\n",
    "handles = [plt.Rectangle((0,0),1,1, color=labels[label]) for label in labels2]\n",
    "plt.xticks([])\n",
    "plt.xlabel('Providers in NYC (Top 5)')\n",
    "plt.ylabel('Service Count')\n",
    "plt.title('Service Counts, Hospitals vs. Physicians/Other Suppliers (NYC)')\n",
    "plt.legend(handles, labels2)\n",
    "plt.show()"
   ]
  },
  {
   "cell_type": "code",
   "execution_count": null,
   "metadata": {},
   "outputs": [],
   "source": []
  }
 ],
 "metadata": {
  "kernelspec": {
   "display_name": "Python 3",
   "language": "python",
   "name": "python3"
  },
  "language_info": {
   "codemirror_mode": {
    "name": "ipython",
    "version": 3
   },
   "file_extension": ".py",
   "mimetype": "text/x-python",
   "name": "python",
   "nbconvert_exporter": "python",
   "pygments_lexer": "ipython3",
   "version": "3.7.6"
  }
 },
 "nbformat": 4,
 "nbformat_minor": 4
}
