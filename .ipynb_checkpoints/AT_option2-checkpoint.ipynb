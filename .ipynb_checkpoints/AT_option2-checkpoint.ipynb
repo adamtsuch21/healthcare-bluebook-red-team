{
 "cells": [
  {
   "cell_type": "code",
   "execution_count": 1,
   "metadata": {},
   "outputs": [],
   "source": [
    "import pandas as pd\n",
    "import numpy as np\n",
    "import matplotlib.pyplot as plt\n",
    "import seaborn as sns"
   ]
  },
  {
   "cell_type": "code",
   "execution_count": 2,
   "metadata": {},
   "outputs": [],
   "source": [
    "phys_supp_17 = pd.read_csv(\"/Users/adamtsuchiyama/Documents/healthcare-bluebook-red-team/data/Medicare_Provider_Util_Payment_PUF_CY2017.txt\", sep='\\t', usecols=['npi', 'nppes_provider_last_org_name', 'nppes_entity_code', 'nppes_provider_zip', 'nppes_provider_state', 'provider_type', 'place_of_service', 'hcpcs_code', 'bene_day_srvc_cnt', 'average_Medicare_allowed_amt'], dtype={'npi': str, 'nppes_provider_last_org_name' : str, 'nppes_entity_code' : str, 'nppes_provider_zip' : str, 'nppes_provider_state' : str, 'provider_type' : str, 'place_of_service' : str, 'hcpcs_code' : str, 'bene_day_srvc_cnt' : float, 'average_Medicare_allowed_amt' : float})\n",
    "\n"
   ]
  },
  {
   "cell_type": "code",
   "execution_count": 3,
   "metadata": {},
   "outputs": [],
   "source": [
    "phys_supp_16 = pd.read_csv(\"/Users/adamtsuchiyama/Documents/healthcare-bluebook-red-team/data/Medicare_Provider_Util_Payment_PUF_CY2016.txt\", sep='\\t', usecols=['NPI','NPPES_PROVIDER_ZIP', 'PLACE_OF_SERVICE', 'HCPCS_CODE', 'BENE_DAY_SRVC_CNT', 'AVERAGE_MEDICARE_ALLOWED_AMT'], dtype={'NPI': str, 'NPPES_PROVIDER_ZIP' : str, 'PLACE_OF_SERVICE' : str, 'HCPCS_CODE' : str, 'BENE_DAY_SRVC_CNT' : float, 'AVERAGE_MEDICARE_ALLOWED_AMT' : float})\n",
    "\n"
   ]
  },
  {
   "cell_type": "code",
   "execution_count": 4,
   "metadata": {},
   "outputs": [],
   "source": [
    "phys_supp_15 = pd.read_csv(\"/Users/adamtsuchiyama/Documents/healthcare-bluebook-red-team/data/Medicare_Provider_Util_Payment_PUF_CY2015.txt\", sep='\\t', usecols=['npi', 'nppes_provider_zip', 'place_of_service', 'hcpcs_code', 'bene_day_srvc_cnt', 'average_Medicare_allowed_amt'], dtype={'npi': str, 'nppes_provider_zip' : str, 'place_of_service' : str, 'hcpcs_code' : str, 'bene_day_srvc_cnt' : float, 'average_Medicare_allowed_amt' : float})\n",
    "\n"
   ]
  },
  {
   "cell_type": "code",
   "execution_count": 5,
   "metadata": {},
   "outputs": [],
   "source": [
    "zip_cbsa = pd.read_excel(\"/Users/adamtsuchiyama/Documents/healthcare-bluebook-red-team/data/ZIP_CBSA_032020.xlsx\", usecols=['ZIP', 'CBSA'], dtype={'ZIP' : str, 'CBSA' : str})"
   ]
  },
  {
   "cell_type": "code",
   "execution_count": 6,
   "metadata": {},
   "outputs": [],
   "source": [
    "phys_supp_17.columns = map(str.lower, phys_supp_17.columns)\n",
    "phys_supp_16.columns = map(str.lower, phys_supp_16.columns)\n",
    "phys_supp_15.columns = map(str.lower, phys_supp_15.columns)"
   ]
  },
  {
   "cell_type": "code",
   "execution_count": 7,
   "metadata": {},
   "outputs": [
    {
     "name": "stdout",
     "output_type": "stream",
     "text": [
      "<class 'pandas.core.frame.DataFrame'>\n",
      "RangeIndex: 9847444 entries, 0 to 9847443\n",
      "Data columns (total 10 columns):\n",
      " #   Column                        Dtype  \n",
      "---  ------                        -----  \n",
      " 0   npi                           object \n",
      " 1   nppes_provider_last_org_name  object \n",
      " 2   nppes_entity_code             object \n",
      " 3   nppes_provider_zip            object \n",
      " 4   nppes_provider_state          object \n",
      " 5   provider_type                 object \n",
      " 6   place_of_service              object \n",
      " 7   hcpcs_code                    object \n",
      " 8   srvc_cnt_17                   float64\n",
      " 9   avg_med_amt_17                float64\n",
      "dtypes: float64(2), object(8)\n",
      "memory usage: 751.3+ MB\n",
      "None\n",
      "<class 'pandas.core.frame.DataFrame'>\n",
      "RangeIndex: 9714897 entries, 0 to 9714896\n",
      "Data columns (total 6 columns):\n",
      " #   Column              Dtype  \n",
      "---  ------              -----  \n",
      " 0   npi                 object \n",
      " 1   nppes_provider_zip  object \n",
      " 2   place_of_service    object \n",
      " 3   hcpcs_code          object \n",
      " 4   srvc_cnt_16         float64\n",
      " 5   avg_med_amt_16      float64\n",
      "dtypes: float64(2), object(4)\n",
      "memory usage: 444.7+ MB\n",
      "None\n",
      "<class 'pandas.core.frame.DataFrame'>\n",
      "RangeIndex: 9497892 entries, 0 to 9497891\n",
      "Data columns (total 6 columns):\n",
      " #   Column              Dtype  \n",
      "---  ------              -----  \n",
      " 0   npi                 object \n",
      " 1   nppes_provider_zip  object \n",
      " 2   place_of_service    object \n",
      " 3   hcpcs_code          object \n",
      " 4   srvc_cnt_15         float64\n",
      " 5   avg_med_amt_15      float64\n",
      "dtypes: float64(2), object(4)\n",
      "memory usage: 434.8+ MB\n",
      "None\n"
     ]
    }
   ],
   "source": [
    "phys_supp_17 = phys_supp_17.rename(columns={'bene_day_srvc_cnt' : 'srvc_cnt_17', 'average_medicare_allowed_amt' : 'avg_med_amt_17'})\n",
    "phys_supp_16 = phys_supp_16.rename(columns={'bene_day_srvc_cnt' : 'srvc_cnt_16', 'average_medicare_allowed_amt' : 'avg_med_amt_16'})\n",
    "phys_supp_15 = phys_supp_15.rename(columns={'bene_day_srvc_cnt' : 'srvc_cnt_15', 'average_medicare_allowed_amt' : 'avg_med_amt_15'})\n",
    "print(phys_supp_17.info())\n",
    "print(phys_supp_16.info())\n",
    "print(phys_supp_15.info())\n"
   ]
  },
  {
   "cell_type": "code",
   "execution_count": 8,
   "metadata": {},
   "outputs": [
    {
     "name": "stdout",
     "output_type": "stream",
     "text": [
      "          npi                       nppes_provider_last_org_name  \\\n",
      "0  0000000001  CPT copyright 2016 American Medical Associatio...   \n",
      "1  1003000126                                          ENKESHAFI   \n",
      "2  1003000126                                          ENKESHAFI   \n",
      "3  1003000126                                          ENKESHAFI   \n",
      "4  1003000126                                          ENKESHAFI   \n",
      "\n",
      "  nppes_entity_code nppes_provider_zip_x nppes_provider_state  \\\n",
      "0               NaN                  NaN                  NaN   \n",
      "1                 I            215021854                   MD   \n",
      "2                 I            215021854                   MD   \n",
      "3                 I            215021854                   MD   \n",
      "4                 I            215021854                   MD   \n",
      "\n",
      "       provider_type place_of_service hcpcs_code  srvc_cnt_17  avg_med_amt_17  \\\n",
      "0                NaN              NaN        NaN          NaN             NaN   \n",
      "1  Internal Medicine                F      99217        100.0       73.398800   \n",
      "2  Internal Medicine                F      99219         52.0      136.380000   \n",
      "3  Internal Medicine                F      99220         59.0      190.363729   \n",
      "4  Internal Medicine                F      99221         16.0      101.680000   \n",
      "\n",
      "  nppes_provider_zip_y  srvc_cnt_16  avg_med_amt_16  \n",
      "0                  NaN          NaN             NaN  \n",
      "1            215021854         57.0       72.743158  \n",
      "2            215021854         38.0      135.010000  \n",
      "3            215021854         23.0      189.239565  \n",
      "4            215021854         20.0      100.750000  \n"
     ]
    }
   ],
   "source": [
    "phys_join = pd.merge(phys_supp_17, phys_supp_16, how='inner', on=['npi', 'place_of_service' ,'hcpcs_code'])\n",
    "print(phys_join.head())"
   ]
  },
  {
   "cell_type": "code",
   "execution_count": 9,
   "metadata": {
    "scrolled": true
   },
   "outputs": [
    {
     "name": "stdout",
     "output_type": "stream",
     "text": [
      "          npi                       nppes_provider_last_org_name  \\\n",
      "0  0000000001  CPT copyright 2016 American Medical Associatio...   \n",
      "1  1003000126                                          ENKESHAFI   \n",
      "2  1003000126                                          ENKESHAFI   \n",
      "3  1003000126                                          ENKESHAFI   \n",
      "4  1003000126                                          ENKESHAFI   \n",
      "\n",
      "  nppes_entity_code nppes_provider_state      provider_type place_of_service  \\\n",
      "0               NaN                  NaN                NaN              NaN   \n",
      "1                 I                   MD  Internal Medicine                F   \n",
      "2                 I                   MD  Internal Medicine                F   \n",
      "3                 I                   MD  Internal Medicine                F   \n",
      "4                 I                   MD  Internal Medicine                F   \n",
      "\n",
      "  hcpcs_code  srvc_cnt_17  avg_med_amt_17  srvc_cnt_16  avg_med_amt_16  \\\n",
      "0        NaN          NaN             NaN          NaN             NaN   \n",
      "1      99217        100.0         73.3988         57.0       72.743158   \n",
      "2      99219         52.0        136.3800         38.0      135.010000   \n",
      "3      99221         16.0        101.6800         20.0      100.750000   \n",
      "4      99222         59.0        137.3100         96.0      136.250000   \n",
      "\n",
      "  nppes_provider_zip  srvc_cnt_15  avg_med_amt_15  \n",
      "0                NaN          NaN             NaN  \n",
      "1          215021854         23.0       72.680000  \n",
      "2          215021854         18.0      135.850000  \n",
      "3          215021854         59.0      101.365085  \n",
      "4          215021854        132.0      139.010455  \n"
     ]
    }
   ],
   "source": [
    "phys_join = pd.merge(phys_join, phys_supp_15, how='inner', on=['npi', 'place_of_service' ,'hcpcs_code'])\n",
    "phys_join = phys_join.drop(columns={'nppes_provider_zip_x', 'nppes_provider_zip_y'})\n",
    "print(phys_join.head())"
   ]
  },
  {
   "cell_type": "code",
   "execution_count": 10,
   "metadata": {},
   "outputs": [],
   "source": [
    "phys_join['ZIP'] = phys_join['nppes_provider_zip'].str[:5]"
   ]
  },
  {
   "cell_type": "code",
   "execution_count": 11,
   "metadata": {},
   "outputs": [],
   "source": [
    "phys_join = pd.merge(phys_join, zip_cbsa, how='left', on='ZIP')"
   ]
  },
  {
   "cell_type": "code",
   "execution_count": 12,
   "metadata": {},
   "outputs": [
    {
     "name": "stdout",
     "output_type": "stream",
     "text": [
      "<class 'pandas.core.frame.DataFrame'>\n",
      "Int64Index: 6842256 entries, 0 to 6842255\n",
      "Data columns (total 9 columns):\n",
      " #   Column             Dtype  \n",
      "---  ------             -----  \n",
      " 0   npi                object \n",
      " 1   nppes_entity_code  object \n",
      " 2   place_of_service   object \n",
      " 3   hcpcs_code         object \n",
      " 4   avg_med_amt_17     float64\n",
      " 5   avg_med_amt_16     float64\n",
      " 6   avg_med_amt_15     float64\n",
      " 7   ZIP                object \n",
      " 8   CBSA               object \n",
      "dtypes: float64(3), object(6)\n",
      "memory usage: 522.0+ MB\n",
      "None\n",
      "(6842256, 9)\n"
     ]
    }
   ],
   "source": [
    "phys_join_med = phys_join.drop(columns={'nppes_provider_last_org_name', 'nppes_provider_zip', 'nppes_provider_state', 'provider_type', 'srvc_cnt_17', 'srvc_cnt_16', 'srvc_cnt_15'})\n",
    "print(phys_join_med.info())\n",
    "print(np.shape(phys_join_med))\n",
    "\n"
   ]
  },
  {
   "cell_type": "code",
   "execution_count": 13,
   "metadata": {},
   "outputs": [
    {
     "name": "stdout",
     "output_type": "stream",
     "text": [
      "(6497275, 9)\n"
     ]
    }
   ],
   "source": [
    "phys_med_indv_O = phys_join_med[phys_join_med['nppes_entity_code'] == 'I']\n",
    "print(np.shape(phys_med_indv_O))"
   ]
  },
  {
   "cell_type": "code",
   "execution_count": 14,
   "metadata": {},
   "outputs": [
    {
     "name": "stdout",
     "output_type": "stream",
     "text": [
      "(2531443, 9)\n"
     ]
    }
   ],
   "source": [
    "phys_med_indv_F = phys_med_indv_O[phys_med_indv_O['place_of_service'] == 'F']\n",
    "print(np.shape(phys_med_indv_F))"
   ]
  },
  {
   "cell_type": "code",
   "execution_count": 15,
   "metadata": {},
   "outputs": [
    {
     "name": "stdout",
     "output_type": "stream",
     "text": [
      "(3965832, 9)\n"
     ]
    }
   ],
   "source": [
    "phys_med_indv_O = phys_med_indv_O[phys_med_indv_O['place_of_service'] == 'O']\n",
    "print(np.shape(phys_med_indv_O))"
   ]
  },
  {
   "cell_type": "code",
   "execution_count": 16,
   "metadata": {},
   "outputs": [
    {
     "name": "stdout",
     "output_type": "stream",
     "text": [
      "(344980, 9)\n"
     ]
    }
   ],
   "source": [
    "phys_med_org_O = phys_join_med[phys_join_med['nppes_entity_code'] == 'O']\n",
    "print(np.shape(phys_med_org_O))"
   ]
  },
  {
   "cell_type": "code",
   "execution_count": 17,
   "metadata": {},
   "outputs": [
    {
     "name": "stdout",
     "output_type": "stream",
     "text": [
      "(82129, 9)\n"
     ]
    }
   ],
   "source": [
    "phys_med_org_F = phys_med_org_O[phys_med_org_O['place_of_service'] == 'F']\n",
    "print(np.shape(phys_med_org_F))"
   ]
  },
  {
   "cell_type": "code",
   "execution_count": 18,
   "metadata": {},
   "outputs": [
    {
     "name": "stdout",
     "output_type": "stream",
     "text": [
      "(262851, 9)\n"
     ]
    }
   ],
   "source": [
    "phys_med_org_O = phys_med_org_O[phys_med_org_O['place_of_service'] == 'O']\n",
    "print(np.shape(phys_med_org_O))"
   ]
  },
  {
   "cell_type": "code",
   "execution_count": 19,
   "metadata": {},
   "outputs": [
    {
     "name": "stdout",
     "output_type": "stream",
     "text": [
      "     hcpcs_code  avg_med_amt_17  avg_med_amt_16  avg_med_amt_15\n",
      "0         00103      242.459405      225.736845      263.455662\n",
      "1         00142       82.209689       83.102839       84.455969\n",
      "2         00160      213.750445      215.261039      216.226974\n",
      "3         00170      131.820746      126.353729      137.007402\n",
      "4         00300      138.754830      141.416685      147.488827\n",
      "...         ...             ...             ...             ...\n",
      "3163      Q9967        0.123271        0.124421        0.152255\n",
      "3164      Q9969        9.703697        9.743506       12.541174\n",
      "3165      R0070      222.432805      220.546799      219.447497\n",
      "3166      R0075       87.831579       91.664589       85.652551\n",
      "3167      V2632      113.830000      113.040000      113.490000\n",
      "\n",
      "[3168 rows x 4 columns]\n"
     ]
    }
   ],
   "source": [
    "phys_med_io_group = phys_med_indv_O.groupby('hcpcs_code').mean()\n",
    "phys_med_io_group = phys_med_io_group.reset_index()\n",
    "print(phys_med_io_group)"
   ]
  },
  {
   "cell_type": "code",
   "execution_count": 20,
   "metadata": {},
   "outputs": [],
   "source": [
    "phys_med_io_group['16/17_med_chng'] = abs(phys_med_io_group['avg_med_amt_17'] - phys_med_io_group['avg_med_amt_16'])\n",
    "phys_med_io_group['15/16_med_chng'] = abs(phys_med_io_group['avg_med_amt_16'] - phys_med_io_group['avg_med_amt_15'])\n",
    "phys_med_io_group['15/17_med_chng'] = abs(phys_med_io_group['avg_med_amt_17'] - phys_med_io_group['avg_med_amt_15'])"
   ]
  },
  {
   "cell_type": "code",
   "execution_count": 21,
   "metadata": {},
   "outputs": [
    {
     "name": "stdout",
     "output_type": "stream",
     "text": [
      "     hcpcs_code  avg_med_amt_17  avg_med_amt_15  15/17_med_chng\n",
      "3035      J7192    17895.679067    33345.018081    15449.339014\n",
      "3120      Q2043    39255.403622    35877.310500     3378.093122\n",
      "609       41530      946.850260     3105.401348     2158.551088\n",
      "2861      J0600     1933.008855      225.866088     1707.142767\n",
      "3092      J9999     1746.413318      465.466032     1280.947286\n"
     ]
    }
   ],
   "source": [
    "phys_med_io_1517 = phys_med_io_group.sort_values(by=['15/17_med_chng'], ascending=False).head()\n",
    "phys_med_io_1517 = phys_med_io_1517.drop(columns={'avg_med_amt_16', '15/16_med_chng', '16/17_med_chng'})\n",
    "print(phys_med_io_1517)"
   ]
  },
  {
   "cell_type": "code",
   "execution_count": 22,
   "metadata": {},
   "outputs": [
    {
     "name": "stdout",
     "output_type": "stream",
     "text": [
      "     hcpcs_code  avg_med_amt_17  avg_med_amt_16  avg_med_amt_15  \\\n",
      "609       41530      946.850260      943.177983     3105.401348   \n",
      "2861      J0600     1933.008855     1735.182012      225.866088   \n",
      "3035      J7192    17895.679067      324.885624    33345.018081   \n",
      "3092      J9999     1746.413318     1439.377377      465.466032   \n",
      "3120      Q2043    39255.403622    37640.843298    35877.310500   \n",
      "\n",
      "      16/17_med_chng  15/16_med_chng  15/17_med_chng  \n",
      "609         3.672277     2162.223365     2158.551088  \n",
      "2861      197.826843     1509.315924     1707.142767  \n",
      "3035    17570.793443    33020.132458    15449.339014  \n",
      "3092      307.035941      973.911345     1280.947286  \n",
      "3120     1614.560324     1763.532799     3378.093122  \n"
     ]
    }
   ],
   "source": [
    "phys_med_io_top5 = phys_med_io_group[phys_med_io_group[\"hcpcs_code\"].isin(['J7192', 'Q2043', '41530', 'J0600', 'J9999'])]\n",
    "print(phys_med_io_top5)"
   ]
  },
  {
   "cell_type": "code",
   "execution_count": 23,
   "metadata": {},
   "outputs": [
    {
     "name": "stdout",
     "output_type": "stream",
     "text": [
      "     hcpcs_code  avg_med_amt_17  avg_med_amt_16  avg_med_amt_15\n",
      "0         00103      154.717654      152.094815      157.181461\n",
      "1         00104       81.237561       80.954174       82.902766\n",
      "2         00120      185.990211      187.184187      197.825921\n",
      "3         00126       77.143073       77.420606       81.089396\n",
      "4         00140      140.357408      140.017159      147.483015\n",
      "...         ...             ...             ...             ...\n",
      "3065      Q4110       66.587918       39.104372       37.115946\n",
      "3066      Q9962        0.209927        0.200000        0.200000\n",
      "3067      Q9965        0.832785        0.854934        0.986658\n",
      "3068      Q9967        0.125239        0.124301        0.152614\n",
      "3069      R0070      211.460000      209.370000      206.069041\n",
      "\n",
      "[3070 rows x 4 columns]\n"
     ]
    }
   ],
   "source": [
    "phys_med_if_group = phys_med_indv_F.groupby('hcpcs_code').mean()\n",
    "phys_med_if_group = phys_med_if_group.reset_index()\n",
    "print(phys_med_if_group)"
   ]
  },
  {
   "cell_type": "code",
   "execution_count": 24,
   "metadata": {},
   "outputs": [],
   "source": [
    "phys_med_if_group['16/17_med_chng'] = abs(phys_med_if_group['avg_med_amt_17'] - phys_med_if_group['avg_med_amt_16'])\n",
    "phys_med_if_group['15/16_med_chng'] = abs(phys_med_if_group['avg_med_amt_16'] - phys_med_if_group['avg_med_amt_15'])\n",
    "phys_med_if_group['15/17_med_chng'] = abs(phys_med_if_group['avg_med_amt_17'] - phys_med_if_group['avg_med_amt_15'])"
   ]
  },
  {
   "cell_type": "code",
   "execution_count": 25,
   "metadata": {},
   "outputs": [
    {
     "name": "stdout",
     "output_type": "stream",
     "text": [
      "     hcpcs_code  avg_med_amt_17  avg_med_amt_15  15/17_med_chng\n",
      "1666      61592     1425.524706     2106.550741      681.026035\n",
      "1920      67228      309.887455      959.525858      649.638404\n",
      "1467      50820     1906.702727     1310.598636      596.104091\n",
      "1503      51999     2171.255375     1631.389033      539.866342\n",
      "848       31599     1031.115545      560.512778      470.602767\n"
     ]
    }
   ],
   "source": [
    "phys_med_if_1517 = phys_med_if_group.sort_values(by=['15/17_med_chng'], ascending=False).head()\n",
    "phys_med_if_1517 = phys_med_if_1517.drop(columns={'avg_med_amt_16', '15/16_med_chng', '16/17_med_chng'})\n",
    "print(phys_med_if_1517)"
   ]
  },
  {
   "cell_type": "code",
   "execution_count": 26,
   "metadata": {},
   "outputs": [
    {
     "name": "stdout",
     "output_type": "stream",
     "text": [
      "     hcpcs_code  avg_med_amt_17  avg_med_amt_16  avg_med_amt_15  \\\n",
      "848       31599     1031.115545      580.396331      560.512778   \n",
      "1467      50820     1906.702727     1792.720937     1310.598636   \n",
      "1503      51999     2171.255375     1845.089073     1631.389033   \n",
      "1666      61592     1425.524706     2044.420571     2106.550741   \n",
      "1920      67228      309.887455      309.744853      959.525858   \n",
      "\n",
      "      16/17_med_chng  15/16_med_chng  15/17_med_chng  \n",
      "848       450.719214       19.883553      470.602767  \n",
      "1467      113.981790      482.122301      596.104091  \n",
      "1503      326.166302      213.700039      539.866342  \n",
      "1666      618.895866       62.130169      681.026035  \n",
      "1920        0.142601      649.781005      649.638404  \n"
     ]
    }
   ],
   "source": [
    "phys_med_if_top5 = phys_med_if_group[phys_med_if_group[\"hcpcs_code\"].isin(['61592', '67228', '50820', '51999', '31599'])]\n",
    "print(phys_med_if_top5)"
   ]
  },
  {
   "cell_type": "code",
   "execution_count": 27,
   "metadata": {
    "scrolled": true
   },
   "outputs": [
    {
     "name": "stdout",
     "output_type": "stream",
     "text": [
      "     hcpcs_code  avg_med_amt_17  avg_med_amt_16  avg_med_amt_15\n",
      "0         0159T       12.945800       13.104211       12.013852\n",
      "1         0297T      335.272381      320.057977      315.872825\n",
      "2         0379T       74.378447       74.229995       74.230000\n",
      "3         10022      145.493419      145.813333      146.579176\n",
      "4         19083      602.640000      596.460000      579.040909\n",
      "...         ...             ...             ...             ...\n",
      "1491      Q9965        0.823380        0.856529        0.971121\n",
      "1492      Q9966        0.253390        0.174300        0.195898\n",
      "1493      Q9967        0.127954        0.126395        0.152965\n",
      "1494      R0070      179.270707      177.991836      177.270363\n",
      "1495      R0075       76.831816       76.360005       75.941786\n",
      "\n",
      "[1496 rows x 4 columns]\n"
     ]
    }
   ],
   "source": [
    "phys_med_oo_group = phys_med_org_O.groupby('hcpcs_code').mean()\n",
    "phys_med_oo_group = phys_med_oo_group.reset_index()\n",
    "print(phys_med_oo_group)"
   ]
  },
  {
   "cell_type": "code",
   "execution_count": 28,
   "metadata": {},
   "outputs": [],
   "source": [
    "phys_med_oo_group['16/17_med_chng'] = abs(phys_med_oo_group['avg_med_amt_17'] - phys_med_oo_group['avg_med_amt_16'])\n",
    "phys_med_oo_group['15/16_med_chng'] = abs(phys_med_oo_group['avg_med_amt_16'] - phys_med_oo_group['avg_med_amt_15'])\n",
    "phys_med_oo_group['15/17_med_chng'] = abs(phys_med_oo_group['avg_med_amt_17'] - phys_med_oo_group['avg_med_amt_15'])"
   ]
  },
  {
   "cell_type": "code",
   "execution_count": 29,
   "metadata": {},
   "outputs": [
    {
     "name": "stdout",
     "output_type": "stream",
     "text": [
      "     hcpcs_code  avg_med_amt_17  avg_med_amt_15  15/17_med_chng\n",
      "1444      J7187    42280.125522    23863.910069    18416.215453\n",
      "1445      J7190        2.195144     7549.290722     7547.095578\n",
      "1447      J7195    25003.926636    30536.542002     5532.615366\n",
      "1446      J7192    17266.087675    19813.444168     2547.356493\n",
      "253       77371     1772.950000      742.704444     1030.245556\n"
     ]
    }
   ],
   "source": [
    "phys_med_oo_1517 = phys_med_oo_group.sort_values(by=['15/17_med_chng'], ascending=False).head()\n",
    "phys_med_oo_1517 = phys_med_oo_1517.drop(columns={'avg_med_amt_16', '15/16_med_chng', '16/17_med_chng'})\n",
    "print(phys_med_oo_1517)"
   ]
  },
  {
   "cell_type": "code",
   "execution_count": 30,
   "metadata": {},
   "outputs": [
    {
     "name": "stdout",
     "output_type": "stream",
     "text": [
      "     hcpcs_code  avg_med_amt_17  avg_med_amt_16  avg_med_amt_15  \\\n",
      "253       77371     1772.950000     1735.268750      742.704444   \n",
      "1444      J7187    42280.125522    34201.918387    23863.910069   \n",
      "1445      J7190        2.195144     5206.283813     7549.290722   \n",
      "1446      J7192    17266.087675    21000.894385    19813.444168   \n",
      "1447      J7195    25003.926636    29024.583734    30536.542002   \n",
      "\n",
      "      16/17_med_chng  15/16_med_chng  15/17_med_chng  \n",
      "253        37.681250      992.564306     1030.245556  \n",
      "1444     8078.207135    10338.008318    18416.215453  \n",
      "1445     5204.088669     2343.006909     7547.095578  \n",
      "1446     3734.806709     1187.450217     2547.356493  \n",
      "1447     4020.657099     1511.958268     5532.615366  \n"
     ]
    }
   ],
   "source": [
    "phys_med_oo_top5 = phys_med_oo_group[phys_med_oo_group[\"hcpcs_code\"].isin(['J7187', 'J7190', 'J7195', 'J7192', '77371'])]\n",
    "print(phys_med_oo_top5)"
   ]
  },
  {
   "cell_type": "code",
   "execution_count": 31,
   "metadata": {},
   "outputs": [
    {
     "name": "stdout",
     "output_type": "stream",
     "text": [
      "    hcpcs_code  avg_med_amt_17  avg_med_amt_16  avg_med_amt_15\n",
      "0        0191T     2596.529464     1815.056496     1733.284501\n",
      "1        10022      100.968646      100.540024      100.962067\n",
      "2        11012      675.319333      567.479412      249.786667\n",
      "3        11042      128.391999      105.670336      138.334541\n",
      "4        11043      191.265589      188.126469      133.457044\n",
      "..         ...             ...             ...             ...\n",
      "991      Q0092       25.458637       25.485955       25.490223\n",
      "992      Q2037       17.690000       16.280000       15.830000\n",
      "993      R0070      182.340787      180.869384      180.268324\n",
      "994      R0075       82.599440       81.751214       83.108256\n",
      "995      V2785     3871.247952     3812.453578     3291.658953\n",
      "\n",
      "[996 rows x 4 columns]\n"
     ]
    }
   ],
   "source": [
    "phys_med_of_group = phys_med_org_F.groupby('hcpcs_code').mean()\n",
    "phys_med_of_group = phys_med_of_group.reset_index()\n",
    "print(phys_med_of_group)"
   ]
  },
  {
   "cell_type": "code",
   "execution_count": 32,
   "metadata": {},
   "outputs": [],
   "source": [
    "phys_med_of_group['16/17_med_chng'] = abs(phys_med_of_group['avg_med_amt_17'] - phys_med_of_group['avg_med_amt_16'])\n",
    "phys_med_of_group['15/16_med_chng'] = abs(phys_med_of_group['avg_med_amt_16'] - phys_med_of_group['avg_med_amt_15'])\n",
    "phys_med_of_group['15/17_med_chng'] = abs(phys_med_of_group['avg_med_amt_17'] - phys_med_of_group['avg_med_amt_15'])"
   ]
  },
  {
   "cell_type": "code",
   "execution_count": 33,
   "metadata": {
    "scrolled": true
   },
   "outputs": [
    {
     "name": "stdout",
     "output_type": "stream",
     "text": [
      "    hcpcs_code  avg_med_amt_17  avg_med_amt_15  15/17_med_chng\n",
      "485      64575     9495.304583     4135.850000     5359.454583\n",
      "220      28730     6780.870000     2507.134286     4273.735714\n",
      "282      33264    24362.086026    28020.960000     3658.873974\n",
      "632      69930    30720.781782    27903.864054     2816.917729\n",
      "233      29825     1624.120000     3147.276410     1523.156410\n"
     ]
    }
   ],
   "source": [
    "phys_med_of_1517 = phys_med_of_group.sort_values(by=['15/17_med_chng'], ascending=False).head()\n",
    "phys_med_of_1517 = phys_med_of_1517.drop(columns={'avg_med_amt_16', '15/16_med_chng', '16/17_med_chng'})\n",
    "print(phys_med_of_1517)"
   ]
  },
  {
   "cell_type": "code",
   "execution_count": 34,
   "metadata": {},
   "outputs": [
    {
     "name": "stdout",
     "output_type": "stream",
     "text": [
      "    hcpcs_code  avg_med_amt_17  avg_med_amt_16  avg_med_amt_15  \\\n",
      "220      28730     6780.870000     3329.220000     2507.134286   \n",
      "233      29825     1624.120000     1815.060000     3147.276410   \n",
      "282      33264    24362.086026    26318.603125    28020.960000   \n",
      "485      64575     9495.304583     4330.190000     4135.850000   \n",
      "632      69930    30720.781782    29795.304200    27903.864054   \n",
      "\n",
      "     16/17_med_chng  15/16_med_chng  15/17_med_chng  \n",
      "220     3451.650000      822.085714     4273.735714  \n",
      "233      190.940000     1332.216410     1523.156410  \n",
      "282     1956.517100     1702.356875     3658.873974  \n",
      "485     5165.114583      194.340000     5359.454583  \n",
      "632      925.477582     1891.440146     2816.917729  \n"
     ]
    }
   ],
   "source": [
    "phys_med_of_top5 = phys_med_of_group[phys_med_of_group[\"hcpcs_code\"].isin(['64575', '28730', '33264', '69930', '29825'])]\n",
    "print(phys_med_of_top5)"
   ]
  },
  {
   "cell_type": "code",
   "execution_count": 35,
   "metadata": {},
   "outputs": [
    {
     "name": "stdout",
     "output_type": "stream",
     "text": [
      "<class 'pandas.core.frame.DataFrame'>\n",
      "Int64Index: 6842256 entries, 0 to 6842255\n",
      "Data columns (total 9 columns):\n",
      " #   Column             Dtype  \n",
      "---  ------             -----  \n",
      " 0   npi                object \n",
      " 1   nppes_entity_code  object \n",
      " 2   place_of_service   object \n",
      " 3   hcpcs_code         object \n",
      " 4   srvc_cnt_17        float64\n",
      " 5   srvc_cnt_16        float64\n",
      " 6   srvc_cnt_15        float64\n",
      " 7   ZIP                object \n",
      " 8   CBSA               object \n",
      "dtypes: float64(3), object(6)\n",
      "memory usage: 522.0+ MB\n",
      "None\n",
      "(6842256, 9)\n"
     ]
    }
   ],
   "source": [
    "phys_join_srvc = phys_join.drop(columns={'nppes_provider_last_org_name', 'nppes_provider_zip', 'nppes_provider_state', 'provider_type', 'avg_med_amt_17', 'avg_med_amt_16', 'avg_med_amt_15'})\n",
    "print(phys_join_srvc.info())\n",
    "print(np.shape(phys_join_srvc))"
   ]
  },
  {
   "cell_type": "code",
   "execution_count": 36,
   "metadata": {},
   "outputs": [
    {
     "name": "stdout",
     "output_type": "stream",
     "text": [
      "(6497275, 9)\n"
     ]
    }
   ],
   "source": [
    "phys_srvc_indv_O = phys_join_srvc[phys_join_srvc['nppes_entity_code'] == 'I']\n",
    "print(np.shape(phys_srvc_indv_O))"
   ]
  },
  {
   "cell_type": "code",
   "execution_count": 37,
   "metadata": {},
   "outputs": [
    {
     "name": "stdout",
     "output_type": "stream",
     "text": [
      "(2531443, 9)\n"
     ]
    }
   ],
   "source": [
    "phys_srvc_indv_F = phys_srvc_indv_O[phys_srvc_indv_O['place_of_service'] == 'F']\n",
    "print(np.shape(phys_srvc_indv_F))"
   ]
  },
  {
   "cell_type": "code",
   "execution_count": 38,
   "metadata": {},
   "outputs": [
    {
     "name": "stdout",
     "output_type": "stream",
     "text": [
      "(3965832, 9)\n"
     ]
    }
   ],
   "source": [
    "phys_srvc_indv_O = phys_srvc_indv_O[phys_srvc_indv_O['place_of_service'] == 'O']\n",
    "print(np.shape(phys_srvc_indv_O))"
   ]
  },
  {
   "cell_type": "code",
   "execution_count": 39,
   "metadata": {},
   "outputs": [
    {
     "name": "stdout",
     "output_type": "stream",
     "text": [
      "(344980, 9)\n"
     ]
    }
   ],
   "source": [
    "phys_srvc_org_O = phys_join_srvc[phys_join_srvc['nppes_entity_code'] == 'O']\n",
    "print(np.shape(phys_srvc_org_O))"
   ]
  },
  {
   "cell_type": "code",
   "execution_count": 40,
   "metadata": {},
   "outputs": [
    {
     "name": "stdout",
     "output_type": "stream",
     "text": [
      "(82129, 9)\n"
     ]
    }
   ],
   "source": [
    "phys_srvc_org_F = phys_srvc_org_O[phys_srvc_org_O['place_of_service'] == 'F']\n",
    "print(np.shape(phys_srvc_org_F))"
   ]
  },
  {
   "cell_type": "code",
   "execution_count": 41,
   "metadata": {},
   "outputs": [
    {
     "name": "stdout",
     "output_type": "stream",
     "text": [
      "(262851, 9)\n"
     ]
    }
   ],
   "source": [
    "phys_srvc_org_O = phys_srvc_org_O[phys_srvc_org_O['place_of_service'] == 'O']\n",
    "print(np.shape(phys_srvc_org_O))"
   ]
  },
  {
   "cell_type": "code",
   "execution_count": 42,
   "metadata": {},
   "outputs": [
    {
     "name": "stdout",
     "output_type": "stream",
     "text": [
      "     hcpcs_code  srvc_cnt_17  srvc_cnt_16  srvc_cnt_15\n",
      "0         00103         29.0         40.0         54.0\n",
      "1         00142        823.0       1069.0        218.0\n",
      "2         00160        118.0        134.0        182.0\n",
      "3         00170        271.0        399.0        395.0\n",
      "4         00300        756.0        669.0        367.0\n",
      "...         ...          ...          ...          ...\n",
      "3163      Q9967     968813.0    1032095.0     962653.0\n",
      "3164      Q9969       2180.0       2175.0       1553.0\n",
      "3165      R0070       3741.0       3469.0       3268.0\n",
      "3166      R0075        497.0        374.0        428.0\n",
      "3167      V2632         89.0         98.0        103.0\n",
      "\n",
      "[3168 rows x 4 columns]\n"
     ]
    }
   ],
   "source": [
    "phys_srvc_io_group = phys_srvc_indv_O.groupby('hcpcs_code').sum()\n",
    "phys_srvc_io_group = phys_srvc_io_group.reset_index()\n",
    "print(phys_srvc_io_group)"
   ]
  },
  {
   "cell_type": "code",
   "execution_count": 43,
   "metadata": {},
   "outputs": [],
   "source": [
    "phys_srvc_io_group['16/17_srvc_chng'] = abs(phys_srvc_io_group['srvc_cnt_17'] - phys_srvc_io_group['srvc_cnt_16'])\n",
    "phys_srvc_io_group['15/16_srvc_chng'] = abs(phys_srvc_io_group['srvc_cnt_16'] - phys_srvc_io_group['srvc_cnt_15'])\n",
    "phys_srvc_io_group['15/17_srvc_chng'] = abs(phys_srvc_io_group['srvc_cnt_17'] - phys_srvc_io_group['srvc_cnt_15'])"
   ]
  },
  {
   "cell_type": "code",
   "execution_count": 44,
   "metadata": {},
   "outputs": [
    {
     "name": "stdout",
     "output_type": "stream",
     "text": [
      "     hcpcs_code  srvc_cnt_17  srvc_cnt_15  15/17_srvc_chng\n",
      "2636      99214   93946526.0   88251448.0        5695078.0\n",
      "2135      90670    1065891.0    3081734.0        2015843.0\n",
      "2729      G0009    2070585.0    3831076.0        1760491.0\n",
      "2635      99213   91046163.0   92561066.0        1514903.0\n",
      "2803      G0439    5442886.0    4089078.0        1353808.0\n"
     ]
    }
   ],
   "source": [
    "phys_srvc_io_1517 = phys_srvc_io_group.sort_values(by=['15/17_srvc_chng'], ascending=False).head()\n",
    "phys_srvc_io_1517 = phys_srvc_io_1517.drop(columns={'srvc_cnt_16', '15/16_srvc_chng', '16/17_srvc_chng'})\n",
    "print(phys_srvc_io_1517)"
   ]
  },
  {
   "cell_type": "code",
   "execution_count": 45,
   "metadata": {
    "scrolled": true
   },
   "outputs": [
    {
     "name": "stdout",
     "output_type": "stream",
     "text": [
      "     hcpcs_code  srvc_cnt_17  srvc_cnt_16  srvc_cnt_15  16/17_srvc_chng  \\\n",
      "2135      90670    1065891.0    1888401.0    3081734.0         822510.0   \n",
      "2635      99213   91046163.0   95594961.0   92561066.0        4548798.0   \n",
      "2636      99214   93946526.0   95071541.0   88251448.0        1125015.0   \n",
      "2729      G0009    2070585.0    2774033.0    3831076.0         703448.0   \n",
      "2803      G0439    5442886.0    4943145.0    4089078.0         499741.0   \n",
      "\n",
      "      15/16_srvc_chng  15/17_srvc_chng  \n",
      "2135        1193333.0        2015843.0  \n",
      "2635        3033895.0        1514903.0  \n",
      "2636        6820093.0        5695078.0  \n",
      "2729        1057043.0        1760491.0  \n",
      "2803         854067.0        1353808.0  \n"
     ]
    }
   ],
   "source": [
    "phys_srvc_io_top5 = phys_srvc_io_group[phys_srvc_io_group[\"hcpcs_code\"].isin(['99214', '90670', 'G0009', '99213', 'G0439'])]\n",
    "print(phys_srvc_io_top5)"
   ]
  },
  {
   "cell_type": "code",
   "execution_count": 46,
   "metadata": {},
   "outputs": [
    {
     "name": "stdout",
     "output_type": "stream",
     "text": [
      "     hcpcs_code  srvc_cnt_17  srvc_cnt_16  srvc_cnt_15\n",
      "0         00103      47067.0      49645.0      47545.0\n",
      "1         00104      84934.0      93741.0      92635.0\n",
      "2         00120       1374.0       1508.0       1352.0\n",
      "3         00126        247.0        256.0        249.0\n",
      "4         00140      73286.0      75607.0      67682.0\n",
      "...         ...          ...          ...          ...\n",
      "3065      Q4110         86.0         67.0         70.0\n",
      "3066      Q9962        412.0        332.0        297.0\n",
      "3067      Q9965        292.0        290.0        380.0\n",
      "3068      Q9967        209.0        301.0        237.0\n",
      "3069      R0070        120.0         94.0         73.0\n",
      "\n",
      "[3070 rows x 4 columns]\n"
     ]
    }
   ],
   "source": [
    "phys_srvc_if_group = phys_srvc_indv_F.groupby('hcpcs_code').sum()\n",
    "phys_srvc_if_group = phys_srvc_if_group.reset_index()\n",
    "print(phys_srvc_if_group)"
   ]
  },
  {
   "cell_type": "code",
   "execution_count": 47,
   "metadata": {},
   "outputs": [],
   "source": [
    "phys_srvc_if_group['16/17_srvc_chng'] = abs(phys_srvc_if_group['srvc_cnt_17'] - phys_srvc_if_group['srvc_cnt_16'])\n",
    "phys_srvc_if_group['15/16_srvc_chng'] = abs(phys_srvc_if_group['srvc_cnt_16'] - phys_srvc_if_group['srvc_cnt_15'])\n",
    "phys_srvc_if_group['15/17_srvc_chng'] = abs(phys_srvc_if_group['srvc_cnt_17'] - phys_srvc_if_group['srvc_cnt_15'])"
   ]
  },
  {
   "cell_type": "code",
   "execution_count": 48,
   "metadata": {},
   "outputs": [
    {
     "name": "stdout",
     "output_type": "stream",
     "text": [
      "     hcpcs_code  srvc_cnt_17  srvc_cnt_15  15/17_srvc_chng\n",
      "2946      99232   42815070.0   45516102.0        2701032.0\n",
      "2945      99231    5769872.0    6632663.0         862791.0\n",
      "2056      71020    8003711.0    8767182.0         763471.0\n",
      "2054      71010   15621331.0   16243571.0         622240.0\n",
      "2941      99223    9383693.0    9899220.0         515527.0\n"
     ]
    }
   ],
   "source": [
    "phys_srvc_if_1517 = phys_srvc_if_group.sort_values(by=['15/17_srvc_chng'], ascending=False).head()\n",
    "phys_srvc_if_1517 = phys_srvc_if_1517.drop(columns={'srvc_cnt_16', '15/16_srvc_chng', '16/17_srvc_chng'})\n",
    "print(phys_srvc_if_1517)"
   ]
  },
  {
   "cell_type": "code",
   "execution_count": 49,
   "metadata": {},
   "outputs": [
    {
     "name": "stdout",
     "output_type": "stream",
     "text": [
      "     hcpcs_code  srvc_cnt_17  srvc_cnt_16  srvc_cnt_15  16/17_srvc_chng  \\\n",
      "2054      71010   15621331.0   16313024.0   16243571.0         691693.0   \n",
      "2056      71020    8003711.0    8453529.0    8767182.0         449818.0   \n",
      "2941      99223    9383693.0    9997169.0    9899220.0         613476.0   \n",
      "2945      99231    5769872.0    6534493.0    6632663.0         764621.0   \n",
      "2946      99232   42815070.0   45812633.0   45516102.0        2997563.0   \n",
      "\n",
      "      15/16_srvc_chng  15/17_srvc_chng  \n",
      "2054          69453.0         622240.0  \n",
      "2056         313653.0         763471.0  \n",
      "2941          97949.0         515527.0  \n",
      "2945          98170.0         862791.0  \n",
      "2946         296531.0        2701032.0  \n"
     ]
    }
   ],
   "source": [
    "phys_srvc_if_top5 = phys_srvc_if_group[phys_srvc_if_group[\"hcpcs_code\"].isin(['99232', '99231', '71020', '71010', '99223'])]\n",
    "print(phys_srvc_if_top5)"
   ]
  },
  {
   "cell_type": "code",
   "execution_count": 50,
   "metadata": {},
   "outputs": [
    {
     "name": "stdout",
     "output_type": "stream",
     "text": [
      "     hcpcs_code  srvc_cnt_17  srvc_cnt_16  srvc_cnt_15\n",
      "0         0159T        482.0        524.0        452.0\n",
      "1         0297T      96380.0      65881.0      36186.0\n",
      "2         0379T      33752.0      14651.0        415.0\n",
      "3         10022        470.0        400.0        399.0\n",
      "4         19083         14.0         19.0         22.0\n",
      "...         ...          ...          ...          ...\n",
      "1491      Q9965        463.0        698.0        714.0\n",
      "1492      Q9966       2772.0       2667.0       2723.0\n",
      "1493      Q9967     105811.0     101279.0      93400.0\n",
      "1494      R0070     983648.0     999000.0    1016891.0\n",
      "1495      R0075     454600.0     434686.0     445609.0\n",
      "\n",
      "[1496 rows x 4 columns]\n"
     ]
    }
   ],
   "source": [
    "phys_srvc_oo_group = phys_srvc_org_O.groupby('hcpcs_code').sum()\n",
    "phys_srvc_oo_group = phys_srvc_oo_group.reset_index()\n",
    "print(phys_srvc_oo_group)"
   ]
  },
  {
   "cell_type": "code",
   "execution_count": 51,
   "metadata": {},
   "outputs": [],
   "source": [
    "phys_srvc_oo_group['16/17_srvc_chng'] = abs(phys_srvc_oo_group['srvc_cnt_17'] - phys_srvc_oo_group['srvc_cnt_16'])\n",
    "phys_srvc_oo_group['15/16_srvc_chng'] = abs(phys_srvc_oo_group['srvc_cnt_16'] - phys_srvc_oo_group['srvc_cnt_15'])\n",
    "phys_srvc_oo_group['15/17_srvc_chng'] = abs(phys_srvc_oo_group['srvc_cnt_17'] - phys_srvc_oo_group['srvc_cnt_15'])"
   ]
  },
  {
   "cell_type": "code",
   "execution_count": 52,
   "metadata": {},
   "outputs": [
    {
     "name": "stdout",
     "output_type": "stream",
     "text": [
      "     hcpcs_code  srvc_cnt_17  srvc_cnt_15  15/17_srvc_chng\n",
      "789       85610    5476487.0    6842974.0        1366487.0\n",
      "731       85025   20295417.0   19369083.0         926334.0\n",
      "561       83036   10751257.0    9855267.0         895990.0\n",
      "1384      G0008    7548685.0    6657914.0         890771.0\n",
      "291       80053   23506436.0   22661369.0         845067.0\n"
     ]
    }
   ],
   "source": [
    "phys_srvc_oo_1517 = phys_srvc_oo_group.sort_values(by=['15/17_srvc_chng'], ascending=False).head()\n",
    "phys_srvc_oo_1517 = phys_srvc_oo_1517.drop(columns={'srvc_cnt_16', '15/16_srvc_chng', '16/17_srvc_chng'})\n",
    "print(phys_srvc_oo_1517)"
   ]
  },
  {
   "cell_type": "code",
   "execution_count": 53,
   "metadata": {},
   "outputs": [
    {
     "name": "stdout",
     "output_type": "stream",
     "text": [
      "     hcpcs_code  srvc_cnt_17  srvc_cnt_16  srvc_cnt_15  16/17_srvc_chng  \\\n",
      "291       80053   23506436.0   23564980.0   22661369.0          58544.0   \n",
      "561       83036   10751257.0   10501332.0    9855267.0         249925.0   \n",
      "731       85025   20295417.0   20247232.0   19369083.0          48185.0   \n",
      "789       85610    5476487.0    6248387.0    6842974.0         771900.0   \n",
      "1384      G0008    7548685.0    6743827.0    6657914.0         804858.0   \n",
      "\n",
      "      15/16_srvc_chng  15/17_srvc_chng  \n",
      "291          903611.0         845067.0  \n",
      "561          646065.0         895990.0  \n",
      "731          878149.0         926334.0  \n",
      "789          594587.0        1366487.0  \n",
      "1384          85913.0         890771.0  \n"
     ]
    }
   ],
   "source": [
    "phys_srvc_oo_top5 = phys_srvc_oo_group[phys_srvc_oo_group[\"hcpcs_code\"].isin(['85610', '85025', '83036', 'G0008', '80053'])]\n",
    "print(phys_srvc_oo_top5)"
   ]
  },
  {
   "cell_type": "code",
   "execution_count": 54,
   "metadata": {},
   "outputs": [
    {
     "name": "stdout",
     "output_type": "stream",
     "text": [
      "    hcpcs_code  srvc_cnt_17  srvc_cnt_16  srvc_cnt_15\n",
      "0        0191T      24870.0      25427.0      19818.0\n",
      "1        10022        131.0        118.0        102.0\n",
      "2        11012         14.0         15.0         16.0\n",
      "3        11042      12413.0       6353.0       3445.0\n",
      "4        11043       1149.0       6321.0       1128.0\n",
      "..         ...          ...          ...          ...\n",
      "991      Q0092      44286.0      51052.0      43208.0\n",
      "992      Q2037         35.0         45.0        229.0\n",
      "993      R0070      30839.0      35751.0      31699.0\n",
      "994      R0075      13467.0      13997.0      10801.0\n",
      "995      V2785       7848.0       8149.0       9232.0\n",
      "\n",
      "[996 rows x 4 columns]\n"
     ]
    }
   ],
   "source": [
    "phys_srvc_of_group = phys_srvc_org_F.groupby('hcpcs_code').sum()\n",
    "phys_srvc_of_group = phys_srvc_of_group.reset_index()\n",
    "print(phys_srvc_of_group)"
   ]
  },
  {
   "cell_type": "code",
   "execution_count": 55,
   "metadata": {},
   "outputs": [],
   "source": [
    "phys_srvc_of_group['16/17_srvc_chng'] = abs(phys_srvc_of_group['srvc_cnt_17'] - phys_srvc_of_group['srvc_cnt_16'])\n",
    "phys_srvc_of_group['15/16_srvc_chng'] = abs(phys_srvc_of_group['srvc_cnt_16'] - phys_srvc_of_group['srvc_cnt_15'])\n",
    "phys_srvc_of_group['15/17_srvc_chng'] = abs(phys_srvc_of_group['srvc_cnt_17'] - phys_srvc_of_group['srvc_cnt_15'])"
   ]
  },
  {
   "cell_type": "code",
   "execution_count": 56,
   "metadata": {},
   "outputs": [
    {
     "name": "stdout",
     "output_type": "stream",
     "text": [
      "    hcpcs_code  srvc_cnt_17  srvc_cnt_15  15/17_srvc_chng\n",
      "949      A0428    4125995.0    4349497.0         223502.0\n",
      "977      G0471    3175479.0    2979164.0         196315.0\n",
      "836      85610      30861.0     144353.0         113492.0\n",
      "989      P9603    1381163.0    1466905.0          85742.0\n",
      "948      A0427    5602953.0    5519115.0          83838.0\n"
     ]
    }
   ],
   "source": [
    "phys_srvc_of_1517 = phys_srvc_of_group.sort_values(by=['15/17_srvc_chng'], ascending=False).head()\n",
    "phys_srvc_of_1517 = phys_srvc_of_1517.drop(columns={'srvc_cnt_16', '15/16_srvc_chng', '16/17_srvc_chng'})\n",
    "print(phys_srvc_of_1517)"
   ]
  },
  {
   "cell_type": "code",
   "execution_count": 57,
   "metadata": {},
   "outputs": [
    {
     "name": "stdout",
     "output_type": "stream",
     "text": [
      "    hcpcs_code  srvc_cnt_17  srvc_cnt_16  srvc_cnt_15  16/17_srvc_chng  \\\n",
      "836      85610      30861.0      94170.0     144353.0          63309.0   \n",
      "948      A0427    5602953.0    5573065.0    5519115.0          29888.0   \n",
      "949      A0428    4125995.0    4254642.0    4349497.0         128647.0   \n",
      "977      G0471    3175479.0    3106023.0    2979164.0          69456.0   \n",
      "989      P9603    1381163.0    1453607.0    1466905.0          72444.0   \n",
      "\n",
      "     15/16_srvc_chng  15/17_srvc_chng  \n",
      "836          50183.0         113492.0  \n",
      "948          53950.0          83838.0  \n",
      "949          94855.0         223502.0  \n",
      "977         126859.0         196315.0  \n",
      "989          13298.0          85742.0  \n"
     ]
    }
   ],
   "source": [
    "phys_srvc_of_top5 = phys_srvc_of_group[phys_srvc_of_group[\"hcpcs_code\"].isin(['A0428', 'G0471', '85610', 'P9603', 'A0427'])]\n",
    "print(phys_srvc_of_top5)"
   ]
  },
  {
   "cell_type": "code",
   "execution_count": 58,
   "metadata": {},
   "outputs": [
    {
     "name": "stdout",
     "output_type": "stream",
     "text": [
      "     hcpcs_code  avg_med_amt_17  avg_med_amt_16  avg_med_amt_15  \\\n",
      "609       41530      946.850260      943.177983     3105.401348   \n",
      "2861      J0600     1933.008855     1735.182012      225.866088   \n",
      "3035      J7192    17895.679067      324.885624    33345.018081   \n",
      "3092      J9999     1746.413318     1439.377377      465.466032   \n",
      "3120      Q2043    39255.403622    37640.843298    35877.310500   \n",
      "\n",
      "      16/17_med_chng  15/16_med_chng  15/17_med_chng  \n",
      "609         3.672277     2162.223365     2158.551088  \n",
      "2861      197.826843     1509.315924     1707.142767  \n",
      "3035    17570.793443    33020.132458    15449.339014  \n",
      "3092      307.035941      973.911345     1280.947286  \n",
      "3120     1614.560324     1763.532799     3378.093122  \n"
     ]
    }
   ],
   "source": [
    "print(phys_med_io_top5)"
   ]
  },
  {
   "cell_type": "code",
   "execution_count": 59,
   "metadata": {},
   "outputs": [],
   "source": [
    "phys_supp_17['ZIP'] = phys_supp_17['nppes_provider_zip'].str[:5]"
   ]
  },
  {
   "cell_type": "code",
   "execution_count": 60,
   "metadata": {},
   "outputs": [],
   "source": [
    "phys_zip_17 = pd.merge(phys_supp_17, zip_cbsa, how='left', on='ZIP')"
   ]
  },
  {
   "cell_type": "code",
   "execution_count": 61,
   "metadata": {},
   "outputs": [],
   "source": [
    "phys_zip_17 = phys_zip_17.drop(columns={'npi', 'nppes_provider_last_org_name', 'nppes_entity_code', 'nppes_provider_zip', 'nppes_provider_state', 'provider_type', 'place_of_service', 'CBSA'})"
   ]
  },
  {
   "cell_type": "code",
   "execution_count": 62,
   "metadata": {},
   "outputs": [
    {
     "name": "stdout",
     "output_type": "stream",
     "text": [
      "     hcpcs_code  srvc_cnt_17  avg_med_amt_17\n",
      "0         0008M    45.800000     3443.360000\n",
      "1         00100    12.250000      279.764101\n",
      "2         00103    29.379651      150.285108\n",
      "3         00104    46.344046       81.635614\n",
      "4         00120    22.214286      191.618064\n",
      "...         ...          ...             ...\n",
      "6043      Q9989    16.000000       12.878341\n",
      "6044      R0070  2792.685484      179.225073\n",
      "6045      R0075  1813.689139       77.755564\n",
      "6046      V2632    89.000000      113.830000\n",
      "6047      V2785    40.196507     3840.269851\n",
      "\n",
      "[6048 rows x 3 columns]\n"
     ]
    }
   ],
   "source": [
    "phys_17_group = phys_zip_17.groupby('hcpcs_code').mean()\n",
    "phys_17_group = phys_17_group.reset_index()\n",
    "print(phys_17_group)"
   ]
  },
  {
   "cell_type": "code",
   "execution_count": 63,
   "metadata": {
    "scrolled": true
   },
   "outputs": [
    {
     "name": "stdout",
     "output_type": "stream",
     "text": [
      "  hcpcs_code  average_medicare_allowed_amt  year\n",
      "0      41530                    875.926198  2017\n",
      "1      J0600                   2354.875647  2017\n",
      "2      J7192                  12880.678381  2017\n",
      "3      J9999                   1241.578519  2017\n",
      "4      Q2043                  39279.086545  2017\n"
     ]
    }
   ],
   "source": [
    "phys_17_medio_top5 = phys_17_group[phys_17_group[\"hcpcs_code\"].isin(['41530', 'J0600', 'J7192', 'J9999', 'Q2043'])]\n",
    "phys_17_medio_top5 = phys_17_medio_top5.reset_index()\n",
    "phys_17_medio_top5['year'] = 2017\n",
    "phys_17_medio_top5 = phys_17_medio_top5.drop(columns={'srvc_cnt_17', 'index'})\n",
    "phys_17_medio_top5 = phys_17_medio_top5.rename(columns={'avg_med_amt_17' : 'average_medicare_allowed_amt'})\n",
    "print(phys_17_medio_top5)"
   ]
  },
  {
   "cell_type": "code",
   "execution_count": 64,
   "metadata": {},
   "outputs": [],
   "source": [
    "phys_supp_16['ZIP'] = phys_supp_16['nppes_provider_zip'].str[:5]"
   ]
  },
  {
   "cell_type": "code",
   "execution_count": 65,
   "metadata": {},
   "outputs": [],
   "source": [
    "phys_supp_16 = pd.merge(phys_supp_16, zip_cbsa, how='left', on='ZIP')"
   ]
  },
  {
   "cell_type": "code",
   "execution_count": 66,
   "metadata": {},
   "outputs": [],
   "source": [
    "phys_supp_16 = phys_supp_16.drop(columns={'npi', 'nppes_provider_zip', 'place_of_service'})"
   ]
  },
  {
   "cell_type": "code",
   "execution_count": 67,
   "metadata": {},
   "outputs": [
    {
     "name": "stdout",
     "output_type": "stream",
     "text": [
      "     hcpcs_code   srvc_cnt_16  avg_med_amt_16\n",
      "0         0008M     65.666667     3419.419776\n",
      "1         00100     12.333333      290.975942\n",
      "2         00103     28.995647      148.848422\n",
      "3         00104     47.340542       81.226855\n",
      "4         0010M  13453.000000      333.559722\n",
      "...         ...           ...             ...\n",
      "6017      Q9983     26.571429     2632.567331\n",
      "6018      R0070   2674.819095      179.152107\n",
      "6019      R0075   1711.455556       77.560227\n",
      "6020      V2632     98.000000      113.040000\n",
      "6021      V2785     37.155378     3774.329022\n",
      "\n",
      "[6022 rows x 3 columns]\n"
     ]
    }
   ],
   "source": [
    "phys_16_group = phys_supp_16.groupby('hcpcs_code').mean()\n",
    "phys_16_group = phys_16_group.reset_index()\n",
    "print(phys_16_group)"
   ]
  },
  {
   "cell_type": "code",
   "execution_count": 68,
   "metadata": {},
   "outputs": [
    {
     "name": "stdout",
     "output_type": "stream",
     "text": [
      "  hcpcs_code  average_medicare_allowed_amt  year\n",
      "0      41530                    893.447110  2016\n",
      "1      J0600                   1039.718002  2016\n",
      "2      J7192                  19275.296602  2016\n",
      "3      J9999                   1737.626059  2016\n",
      "4      Q2043                  37672.456856  2016\n"
     ]
    }
   ],
   "source": [
    "phys_16_medio_top5 = phys_16_group[phys_16_group[\"hcpcs_code\"].isin(['41530', 'J0600', 'J7192', 'J9999', 'Q2043'])]\n",
    "phys_16_medio_top5 = phys_16_medio_top5.reset_index()\n",
    "phys_16_medio_top5['year'] = 2016\n",
    "phys_16_medio_top5 = phys_16_medio_top5.drop(columns={'srvc_cnt_16', 'index'})\n",
    "phys_16_medio_top5 = phys_16_medio_top5.rename(columns={'avg_med_amt_16' : 'average_medicare_allowed_amt'})\n",
    "print(phys_16_medio_top5)"
   ]
  },
  {
   "cell_type": "code",
   "execution_count": 69,
   "metadata": {},
   "outputs": [],
   "source": [
    "phys_supp_15['ZIP'] = phys_supp_15['nppes_provider_zip'].str[:5]"
   ]
  },
  {
   "cell_type": "code",
   "execution_count": 70,
   "metadata": {},
   "outputs": [],
   "source": [
    "phys_supp_15 = pd.merge(phys_supp_15, zip_cbsa, how='left', on='ZIP')"
   ]
  },
  {
   "cell_type": "code",
   "execution_count": 71,
   "metadata": {},
   "outputs": [],
   "source": [
    "phys_supp_15 = phys_supp_15.drop(columns={'npi', 'nppes_provider_zip', 'place_of_service'})"
   ]
  },
  {
   "cell_type": "code",
   "execution_count": 72,
   "metadata": {},
   "outputs": [
    {
     "name": "stdout",
     "output_type": "stream",
     "text": [
      "     hcpcs_code  srvc_cnt_15  avg_med_amt_15\n",
      "0         00100    15.000000      266.582807\n",
      "1         00102    26.000000       95.198939\n",
      "2         00103    29.361905      154.333417\n",
      "3         00104    48.227996       83.078735\n",
      "4         00120    22.018182      203.457393\n",
      "...         ...          ...             ...\n",
      "5978      Q9979    55.333333     1725.411777\n",
      "5979      R0070  2732.017241      179.336948\n",
      "5980      R0075  1807.130597       76.752054\n",
      "5981      V2632   103.000000      113.490000\n",
      "5982      V2785    39.342960     3122.129476\n",
      "\n",
      "[5983 rows x 3 columns]\n"
     ]
    }
   ],
   "source": [
    "phys_15_group = phys_supp_15.groupby('hcpcs_code').mean()\n",
    "phys_15_group = phys_15_group.reset_index()\n",
    "print(phys_15_group)"
   ]
  },
  {
   "cell_type": "code",
   "execution_count": 73,
   "metadata": {},
   "outputs": [
    {
     "name": "stdout",
     "output_type": "stream",
     "text": [
      "  hcpcs_code  average_medicare_allowed_amt  year\n",
      "0      41530                   2988.085332  2015\n",
      "1      J0600                    473.686663  2015\n",
      "2      J7192                  18652.902051  2015\n",
      "3      J9999                   2708.152776  2015\n",
      "4      Q2043                  35938.558603  2015\n"
     ]
    }
   ],
   "source": [
    "phys_15_medio_top5 = phys_15_group[phys_15_group[\"hcpcs_code\"].isin(['41530', 'J0600', 'J7192', 'J9999', 'Q2043'])]\n",
    "phys_15_medio_top5 = phys_15_medio_top5.reset_index()\n",
    "phys_15_medio_top5['year'] = 2015\n",
    "phys_15_medio_top5 = phys_15_medio_top5.drop(columns={'srvc_cnt_15', 'index'})\n",
    "phys_15_medio_top5 = phys_15_medio_top5.rename(columns={'avg_med_amt_15' : 'average_medicare_allowed_amt'})\n",
    "print(phys_15_medio_top5)"
   ]
  },
  {
   "cell_type": "code",
   "execution_count": 74,
   "metadata": {
    "scrolled": true
   },
   "outputs": [
    {
     "name": "stdout",
     "output_type": "stream",
     "text": [
      "   hcpcs_code  average_medicare_allowed_amt  year\n",
      "0       41530                    875.926198  2017\n",
      "1       J0600                   2354.875647  2017\n",
      "2       J7192                  12880.678381  2017\n",
      "3       J9999                   1241.578519  2017\n",
      "4       Q2043                  39279.086545  2017\n",
      "5       41530                    893.447110  2016\n",
      "6       J0600                   1039.718002  2016\n",
      "7       J7192                  19275.296602  2016\n",
      "8       J9999                   1737.626059  2016\n",
      "9       Q2043                  37672.456856  2016\n",
      "10      41530                   2988.085332  2015\n",
      "11      J0600                    473.686663  2015\n",
      "12      J7192                  18652.902051  2015\n",
      "13      J9999                   2708.152776  2015\n",
      "14      Q2043                  35938.558603  2015\n"
     ]
    }
   ],
   "source": [
    "phys_medio_top5 = pd.concat([phys_17_medio_top5, phys_16_medio_top5, phys_15_medio_top5], ignore_index=True)\n",
    "print(phys_medio_top5)"
   ]
  },
  {
   "cell_type": "code",
   "execution_count": 75,
   "metadata": {},
   "outputs": [
    {
     "data": {
      "image/png": "[encoded data removed]",
      "text/plain": [
       "<Figure size 1080x216 with 5 Axes>"
      ]
     },
     "metadata": {
      "needs_background": "light"
     },
     "output_type": "display_data"
    }
   ],
   "source": [
    "import seaborn as sns\n",
    "g = sns.FacetGrid(phys_medio_top5, col=\"hcpcs_code\").set(xlim=(2014, 2018), ylim=(0, 40000), xticks=[2015, 2016, 2017], yticks=[0, 2500, 5000, 7500, 10000, 12500, 15000, 17500, 20000, 22500, 25000, 27500, 30000, 32500, 35000, 37500, 40000])\n",
    "g = g.map(plt.plot, \"year\", \"average_medicare_allowed_amt\")"
   ]
  },
  {
   "cell_type": "code",
   "execution_count": 76,
   "metadata": {},
   "outputs": [
    {
     "name": "stdout",
     "output_type": "stream",
     "text": [
      "     hcpcs_code  avg_med_amt_17  avg_med_amt_16  avg_med_amt_15  \\\n",
      "848       31599     1031.115545      580.396331      560.512778   \n",
      "1467      50820     1906.702727     1792.720937     1310.598636   \n",
      "1503      51999     2171.255375     1845.089073     1631.389033   \n",
      "1666      61592     1425.524706     2044.420571     2106.550741   \n",
      "1920      67228      309.887455      309.744853      959.525858   \n",
      "\n",
      "      16/17_med_chng  15/16_med_chng  15/17_med_chng  \n",
      "848       450.719214       19.883553      470.602767  \n",
      "1467      113.981790      482.122301      596.104091  \n",
      "1503      326.166302      213.700039      539.866342  \n",
      "1666      618.895866       62.130169      681.026035  \n",
      "1920        0.142601      649.781005      649.638404  \n"
     ]
    }
   ],
   "source": [
    "print(phys_med_if_top5)"
   ]
  },
  {
   "cell_type": "code",
   "execution_count": 77,
   "metadata": {},
   "outputs": [
    {
     "name": "stdout",
     "output_type": "stream",
     "text": [
      "  hcpcs_code  average_medicare_allowed_amt  year\n",
      "0      31599                   1031.115545  2017\n",
      "1      50820                   1374.406177  2017\n",
      "2      51999                   1806.836264  2017\n",
      "3      61592                   1828.745270  2017\n",
      "4      67228                    331.506730  2017\n"
     ]
    }
   ],
   "source": [
    "phys_17_medif_top5 = phys_17_group[phys_17_group[\"hcpcs_code\"].isin(['31599', '50820', '51999', '61592', '67228'])]\n",
    "phys_17_medif_top5 = phys_17_medif_top5.reset_index()\n",
    "phys_17_medif_top5['year'] = 2017\n",
    "phys_17_medif_top5 = phys_17_medif_top5.drop(columns={'srvc_cnt_17', 'index'})\n",
    "phys_17_medif_top5 = phys_17_medif_top5.rename(columns={'avg_med_amt_17' : 'average_medicare_allowed_amt'})\n",
    "print(phys_17_medif_top5)"
   ]
  },
  {
   "cell_type": "code",
   "execution_count": 78,
   "metadata": {},
   "outputs": [
    {
     "name": "stdout",
     "output_type": "stream",
     "text": [
      "  hcpcs_code  average_medicare_allowed_amt  year\n",
      "0      31599                    370.481654  2016\n",
      "1      50820                   1696.669716  2016\n",
      "2      51999                   1771.621782  2016\n",
      "3      61592                   1138.120286  2016\n",
      "4      67228                    329.305534  2016\n"
     ]
    }
   ],
   "source": [
    "phys_16_medif_top5 = phys_16_group[phys_16_group[\"hcpcs_code\"].isin(['31599', '50820', '51999', '61592', '67228'])]\n",
    "phys_16_medif_top5 = phys_16_medif_top5.reset_index()\n",
    "phys_16_medif_top5['year'] = 2016\n",
    "phys_16_medif_top5 = phys_16_medif_top5.drop(columns={'srvc_cnt_16', 'index'})\n",
    "phys_16_medif_top5 = phys_16_medif_top5.rename(columns={'avg_med_amt_16' : 'average_medicare_allowed_amt'})\n",
    "print(phys_16_medif_top5)"
   ]
  },
  {
   "cell_type": "code",
   "execution_count": 79,
   "metadata": {
    "scrolled": true
   },
   "outputs": [
    {
     "name": "stdout",
     "output_type": "stream",
     "text": [
      "  hcpcs_code  average_medicare_allowed_amt  year\n",
      "0      31599                    436.483986  2015\n",
      "1      50820                   1286.294388  2015\n",
      "2      51999                   1455.293918  2015\n",
      "3      61592                   2104.822643  2015\n",
      "4      67228                    959.330722  2015\n"
     ]
    }
   ],
   "source": [
    "phys_15_medif_top5 = phys_15_group[phys_15_group[\"hcpcs_code\"].isin(['31599', '50820', '51999', '61592', '67228'])]\n",
    "phys_15_medif_top5 = phys_15_medif_top5.reset_index()\n",
    "phys_15_medif_top5['year'] = 2015\n",
    "phys_15_medif_top5 = phys_15_medif_top5.drop(columns={'srvc_cnt_15', 'index'})\n",
    "phys_15_medif_top5 = phys_15_medif_top5.rename(columns={'avg_med_amt_15' : 'average_medicare_allowed_amt'})\n",
    "print(phys_15_medif_top5)"
   ]
  },
  {
   "cell_type": "code",
   "execution_count": 80,
   "metadata": {},
   "outputs": [
    {
     "name": "stdout",
     "output_type": "stream",
     "text": [
      "   hcpcs_code  average_medicare_allowed_amt  year\n",
      "0       31599                   1031.115545  2017\n",
      "1       50820                   1374.406177  2017\n",
      "2       51999                   1806.836264  2017\n",
      "3       61592                   1828.745270  2017\n",
      "4       67228                    331.506730  2017\n",
      "5       31599                    370.481654  2016\n",
      "6       50820                   1696.669716  2016\n",
      "7       51999                   1771.621782  2016\n",
      "8       61592                   1138.120286  2016\n",
      "9       67228                    329.305534  2016\n",
      "10      31599                    436.483986  2015\n",
      "11      50820                   1286.294388  2015\n",
      "12      51999                   1455.293918  2015\n",
      "13      61592                   2104.822643  2015\n",
      "14      67228                    959.330722  2015\n"
     ]
    }
   ],
   "source": [
    "phys_medif_top5 = pd.concat([phys_17_medif_top5, phys_16_medif_top5, phys_15_medif_top5], ignore_index=True)\n",
    "print(phys_medif_top5)"
   ]
  },
  {
   "cell_type": "code",
   "execution_count": 81,
   "metadata": {},
   "outputs": [
    {
     "data": {
      "image/png": "[encoded data removed]",
      "text/plain": [
       "<Figure size 1080x216 with 5 Axes>"
      ]
     },
     "metadata": {
      "needs_background": "light"
     },
     "output_type": "display_data"
    }
   ],
   "source": [
    "g = sns.FacetGrid(phys_medif_top5, col=\"hcpcs_code\").set(xlim=(2014, 2018), ylim=(0, 2000), xticks=[2015, 2016, 2017], yticks=[0, 200, 400, 600, 800, 1000, 1200, 1400, 1600, 1800, 2000])\n",
    "g = g.map(plt.plot, \"year\", \"average_medicare_allowed_amt\")"
   ]
  },
  {
   "cell_type": "code",
   "execution_count": 82,
   "metadata": {},
   "outputs": [
    {
     "name": "stdout",
     "output_type": "stream",
     "text": [
      "     hcpcs_code  avg_med_amt_17  avg_med_amt_16  avg_med_amt_15  \\\n",
      "253       77371     1772.950000     1735.268750      742.704444   \n",
      "1444      J7187    42280.125522    34201.918387    23863.910069   \n",
      "1445      J7190        2.195144     5206.283813     7549.290722   \n",
      "1446      J7192    17266.087675    21000.894385    19813.444168   \n",
      "1447      J7195    25003.926636    29024.583734    30536.542002   \n",
      "\n",
      "      16/17_med_chng  15/16_med_chng  15/17_med_chng  \n",
      "253        37.681250      992.564306     1030.245556  \n",
      "1444     8078.207135    10338.008318    18416.215453  \n",
      "1445     5204.088669     2343.006909     7547.095578  \n",
      "1446     3734.806709     1187.450217     2547.356493  \n",
      "1447     4020.657099     1511.958268     5532.615366  \n"
     ]
    }
   ],
   "source": [
    "print(phys_med_oo_top5)"
   ]
  },
  {
   "cell_type": "code",
   "execution_count": 83,
   "metadata": {},
   "outputs": [
    {
     "name": "stdout",
     "output_type": "stream",
     "text": [
      "  hcpcs_code  average_medicare_allowed_amt  year\n",
      "0      77371                   2052.875000  2017\n",
      "1      J7187                  27738.835016  2017\n",
      "2      J7190                      2.195144  2017\n",
      "3      J7192                  12880.678381  2017\n",
      "4      J7195                  31261.043571  2017\n"
     ]
    }
   ],
   "source": [
    "phys_17_medoo_top5 = phys_17_group[phys_17_group[\"hcpcs_code\"].isin(['77371', 'J7187', 'J7190', 'J7192', 'J7195'])]\n",
    "phys_17_medoo_top5 = phys_17_medoo_top5.reset_index()\n",
    "phys_17_medoo_top5['year'] = 2017\n",
    "phys_17_medoo_top5 = phys_17_medoo_top5.drop(columns={'srvc_cnt_17', 'index'})\n",
    "phys_17_medoo_top5 = phys_17_medoo_top5.rename(columns={'avg_med_amt_17' : 'average_medicare_allowed_amt'})\n",
    "print(phys_17_medoo_top5)"
   ]
  },
  {
   "cell_type": "code",
   "execution_count": 84,
   "metadata": {},
   "outputs": [
    {
     "name": "stdout",
     "output_type": "stream",
     "text": [
      "  hcpcs_code  average_medicare_allowed_amt  year\n",
      "0      77371                   1957.069375  2016\n",
      "1      J7187                  34201.918387  2016\n",
      "2      J7190                  16333.239106  2016\n",
      "3      J7192                  19275.296602  2016\n",
      "4      J7195                  29024.583734  2016\n"
     ]
    }
   ],
   "source": [
    "phys_16_medoo_top5 = phys_16_group[phys_16_group[\"hcpcs_code\"].isin(['77371', 'J7187', 'J7190', 'J7192', 'J7195'])]\n",
    "phys_16_medoo_top5 = phys_16_medoo_top5.reset_index()\n",
    "phys_16_medoo_top5['year'] = 2016\n",
    "phys_16_medoo_top5 = phys_16_medoo_top5.drop(columns={'srvc_cnt_16', 'index'})\n",
    "phys_16_medoo_top5 = phys_16_medoo_top5.rename(columns={'avg_med_amt_16' : 'average_medicare_allowed_amt'})\n",
    "print(phys_16_medoo_top5)"
   ]
  },
  {
   "cell_type": "code",
   "execution_count": 85,
   "metadata": {},
   "outputs": [
    {
     "name": "stdout",
     "output_type": "stream",
     "text": [
      "  hcpcs_code  average_medicare_allowed_amt  year\n",
      "0      77371                   1792.280322  2015\n",
      "1      J7187                  23863.910069  2015\n",
      "2      J7190                  16275.470678  2015\n",
      "3      J7192                  18652.902051  2015\n",
      "4      J7195                  30536.542002  2015\n"
     ]
    }
   ],
   "source": [
    "phys_15_medoo_top5 = phys_15_group[phys_15_group[\"hcpcs_code\"].isin(['77371', 'J7187', 'J7190', 'J7192', 'J7195'])]\n",
    "phys_15_medoo_top5 = phys_15_medoo_top5.reset_index()\n",
    "phys_15_medoo_top5['year'] = 2015\n",
    "phys_15_medoo_top5 = phys_15_medoo_top5.drop(columns={'srvc_cnt_15', 'index'})\n",
    "phys_15_medoo_top5 = phys_15_medoo_top5.rename(columns={'avg_med_amt_15' : 'average_medicare_allowed_amt'})\n",
    "print(phys_15_medoo_top5)"
   ]
  },
  {
   "cell_type": "code",
   "execution_count": 86,
   "metadata": {},
   "outputs": [
    {
     "name": "stdout",
     "output_type": "stream",
     "text": [
      "   hcpcs_code  average_medicare_allowed_amt  year\n",
      "0       77371                   2052.875000  2017\n",
      "1       J7187                  27738.835016  2017\n",
      "2       J7190                      2.195144  2017\n",
      "3       J7192                  12880.678381  2017\n",
      "4       J7195                  31261.043571  2017\n",
      "5       77371                   1957.069375  2016\n",
      "6       J7187                  34201.918387  2016\n",
      "7       J7190                  16333.239106  2016\n",
      "8       J7192                  19275.296602  2016\n",
      "9       J7195                  29024.583734  2016\n",
      "10      77371                   1792.280322  2015\n",
      "11      J7187                  23863.910069  2015\n",
      "12      J7190                  16275.470678  2015\n",
      "13      J7192                  18652.902051  2015\n",
      "14      J7195                  30536.542002  2015\n"
     ]
    }
   ],
   "source": [
    "phys_medoo_top5 = pd.concat([phys_17_medoo_top5, phys_16_medoo_top5, phys_15_medoo_top5], ignore_index=True)\n",
    "print(phys_medoo_top5)"
   ]
  },
  {
   "cell_type": "code",
   "execution_count": 87,
   "metadata": {},
   "outputs": [
    {
     "data": {
      "image/png": "[encoded data removed]",
      "text/plain": [
       "<Figure size 1080x216 with 5 Axes>"
      ]
     },
     "metadata": {
      "needs_background": "light"
     },
     "output_type": "display_data"
    }
   ],
   "source": [
    "g = sns.FacetGrid(phys_medoo_top5, col=\"hcpcs_code\").set(xlim=(2014, 2018), ylim=(0, 35000), xticks=[2015, 2016, 2017], yticks=[0, 2500, 5000, 7500, 10000, 12500, 15000, 17500, 20000, 22500, 25000, 27500, 30000, 32500, 35000])\n",
    "g = g.map(plt.plot, \"year\", \"average_medicare_allowed_amt\")"
   ]
  },
  {
   "cell_type": "code",
   "execution_count": 88,
   "metadata": {},
   "outputs": [
    {
     "name": "stdout",
     "output_type": "stream",
     "text": [
      "    hcpcs_code  avg_med_amt_17  avg_med_amt_16  avg_med_amt_15  \\\n",
      "220      28730     6780.870000     3329.220000     2507.134286   \n",
      "233      29825     1624.120000     1815.060000     3147.276410   \n",
      "282      33264    24362.086026    26318.603125    28020.960000   \n",
      "485      64575     9495.304583     4330.190000     4135.850000   \n",
      "632      69930    30720.781782    29795.304200    27903.864054   \n",
      "\n",
      "     16/17_med_chng  15/16_med_chng  15/17_med_chng  \n",
      "220     3451.650000      822.085714     4273.735714  \n",
      "233      190.940000     1332.216410     1523.156410  \n",
      "282     1956.517100     1702.356875     3658.873974  \n",
      "485     5165.114583      194.340000     5359.454583  \n",
      "632      925.477582     1891.440146     2816.917729  \n"
     ]
    }
   ],
   "source": [
    "print(phys_med_of_top5)"
   ]
  },
  {
   "cell_type": "code",
   "execution_count": 89,
   "metadata": {},
   "outputs": [
    {
     "name": "stdout",
     "output_type": "stream",
     "text": [
      "  hcpcs_code  average_medicare_allowed_amt  year\n",
      "0      28730                    725.425583  2017\n",
      "1      29825                    252.134648  2017\n",
      "2      33264                    947.956661  2017\n",
      "3      64575                   3316.283491  2017\n",
      "4      69930                   2987.475095  2017\n"
     ]
    }
   ],
   "source": [
    "phys_17_medof_top5 = phys_17_group[phys_17_group[\"hcpcs_code\"].isin(['28730', '29825', '33264', '64575', '69930'])]\n",
    "phys_17_medof_top5 = phys_17_medof_top5.reset_index()\n",
    "phys_17_medof_top5['year'] = 2017\n",
    "phys_17_medof_top5 = phys_17_medof_top5.drop(columns={'srvc_cnt_17', 'index'})\n",
    "phys_17_medof_top5 = phys_17_medof_top5.rename(columns={'avg_med_amt_17' : 'average_medicare_allowed_amt'})\n",
    "print(phys_17_medof_top5)"
   ]
  },
  {
   "cell_type": "code",
   "execution_count": 90,
   "metadata": {},
   "outputs": [
    {
     "name": "stdout",
     "output_type": "stream",
     "text": [
      "  hcpcs_code  average_medicare_allowed_amt  year\n",
      "0      28730                    671.270684  2016\n",
      "1      29825                    268.106221  2016\n",
      "2      33264                    834.299731  2016\n",
      "3      64575                    880.036299  2016\n",
      "4      69930                   3268.645347  2016\n"
     ]
    }
   ],
   "source": [
    "phys_16_medof_top5 = phys_16_group[phys_16_group[\"hcpcs_code\"].isin(['28730', '29825', '33264', '64575', '69930'])]\n",
    "phys_16_medof_top5 = phys_16_medof_top5.reset_index()\n",
    "phys_16_medof_top5['year'] = 2016\n",
    "phys_16_medof_top5 = phys_16_medof_top5.drop(columns={'srvc_cnt_16', 'index'})\n",
    "phys_16_medof_top5 = phys_16_medof_top5.rename(columns={'avg_med_amt_16' : 'average_medicare_allowed_amt'})\n",
    "print(phys_16_medof_top5)"
   ]
  },
  {
   "cell_type": "code",
   "execution_count": 91,
   "metadata": {},
   "outputs": [
    {
     "name": "stdout",
     "output_type": "stream",
     "text": [
      "  hcpcs_code  average_medicare_allowed_amt  year\n",
      "0      28730                    635.693244  2015\n",
      "1      29825                    301.399816  2015\n",
      "2      33264                    822.247357  2015\n",
      "3      64575                    848.669255  2015\n",
      "4      69930                   2779.019062  2015\n"
     ]
    }
   ],
   "source": [
    "phys_15_medof_top5 = phys_15_group[phys_15_group[\"hcpcs_code\"].isin(['28730', '29825', '33264', '64575', '69930'])]\n",
    "phys_15_medof_top5 = phys_15_medof_top5.reset_index()\n",
    "phys_15_medof_top5['year'] = 2015\n",
    "phys_15_medof_top5 = phys_15_medof_top5.drop(columns={'srvc_cnt_15', 'index'})\n",
    "phys_15_medof_top5 = phys_15_medof_top5.rename(columns={'avg_med_amt_15' : 'average_medicare_allowed_amt'})\n",
    "print(phys_15_medof_top5)"
   ]
  },
  {
   "cell_type": "code",
   "execution_count": 92,
   "metadata": {},
   "outputs": [
    {
     "name": "stdout",
     "output_type": "stream",
     "text": [
      "   hcpcs_code  average_medicare_allowed_amt  year\n",
      "0       28730                    725.425583  2017\n",
      "1       29825                    252.134648  2017\n",
      "2       33264                    947.956661  2017\n",
      "3       64575                   3316.283491  2017\n",
      "4       69930                   2987.475095  2017\n",
      "5       28730                    671.270684  2016\n",
      "6       29825                    268.106221  2016\n",
      "7       33264                    834.299731  2016\n",
      "8       64575                    880.036299  2016\n",
      "9       69930                   3268.645347  2016\n",
      "10      28730                    635.693244  2015\n",
      "11      29825                    301.399816  2015\n",
      "12      33264                    822.247357  2015\n",
      "13      64575                    848.669255  2015\n",
      "14      69930                   2779.019062  2015\n"
     ]
    }
   ],
   "source": [
    "phys_medof_top5 = pd.concat([phys_17_medof_top5, phys_16_medof_top5, phys_15_medof_top5], ignore_index=True)\n",
    "print(phys_medof_top5)"
   ]
  },
  {
   "cell_type": "code",
   "execution_count": 93,
   "metadata": {},
   "outputs": [
    {
     "data": {
      "image/png": "[encoded data removed]",
      "text/plain": [
       "<Figure size 1080x216 with 5 Axes>"
      ]
     },
     "metadata": {
      "needs_background": "light"
     },
     "output_type": "display_data"
    }
   ],
   "source": [
    "g = sns.FacetGrid(phys_medof_top5, col=\"hcpcs_code\").set(xlim=(2014, 2018), ylim=(0, 3500), xticks=[2015, 2016, 2017], yticks=[0, 250, 500, 750, 1000, 1250, 1500, 1750, 2000, 2250, 2500, 2750, 3000, 3250, 3500])\n",
    "g = g.map(plt.plot, \"year\", \"average_medicare_allowed_amt\")"
   ]
  },
  {
   "cell_type": "markdown",
   "metadata": {},
   "source": [
    "phys_medio_top5.to_csv('phys_med_io.csv')\n",
    "phys_medif_top5.to_csv('phys_med_if.csv')\n",
    "phys_medoo_top5.to_csv('phys_med_oo.csv')\n",
    "phys_medof_top5.to_csv('phys_med_of.csv')"
   ]
  },
  {
   "cell_type": "code",
   "execution_count": 94,
   "metadata": {},
   "outputs": [
    {
     "name": "stdout",
     "output_type": "stream",
     "text": [
      "     hcpcs_code  srvc_cnt_17  srvc_cnt_16  srvc_cnt_15  16/17_srvc_chng  \\\n",
      "2135      90670    1065891.0    1888401.0    3081734.0         822510.0   \n",
      "2635      99213   91046163.0   95594961.0   92561066.0        4548798.0   \n",
      "2636      99214   93946526.0   95071541.0   88251448.0        1125015.0   \n",
      "2729      G0009    2070585.0    2774033.0    3831076.0         703448.0   \n",
      "2803      G0439    5442886.0    4943145.0    4089078.0         499741.0   \n",
      "\n",
      "      15/16_srvc_chng  15/17_srvc_chng  \n",
      "2135        1193333.0        2015843.0  \n",
      "2635        3033895.0        1514903.0  \n",
      "2636        6820093.0        5695078.0  \n",
      "2729        1057043.0        1760491.0  \n",
      "2803         854067.0        1353808.0  \n"
     ]
    }
   ],
   "source": [
    "print(phys_srvc_io_top5)"
   ]
  },
  {
   "cell_type": "code",
   "execution_count": 102,
   "metadata": {},
   "outputs": [
    {
     "name": "stdout",
     "output_type": "stream",
     "text": [
      "     hcpcs_code  srvc_cnt_17  avg_med_amt_17\n",
      "0         0008M        229.0    17216.800000\n",
      "1         00100         65.0     1349.267352\n",
      "2         00103      71814.0   367896.493568\n",
      "3         00104     132520.0   233469.210848\n",
      "4         00120       2466.0    21347.256790\n",
      "...         ...          ...             ...\n",
      "6043      Q9989         16.0       12.878341\n",
      "6044      R0070     981876.0    61422.786412\n",
      "6045      R0075     467984.0    18920.334264\n",
      "6046      V2632         89.0      113.830000\n",
      "6047      V2785       9009.0   839328.598506\n",
      "\n",
      "[6048 rows x 3 columns]\n"
     ]
    }
   ],
   "source": [
    "phys_17_srvc_group = phys_supp_17.groupby('hcpcs_code').sum()\n",
    "phys_17_srvc_group = phys_17_srvc_group.reset_index()\n",
    "print(phys_17_srvc_group)"
   ]
  },
  {
   "cell_type": "code",
   "execution_count": 103,
   "metadata": {},
   "outputs": [
    {
     "name": "stdout",
     "output_type": "stream",
     "text": [
      "  hcpcs_code  year  srvc_cnt_mil\n",
      "0      90670  2017      2.024985\n",
      "1      99213  2017     96.476303\n",
      "2      99214  2017    101.135852\n",
      "3      G0009  2017      3.381640\n",
      "4      G0439  2017      6.345749\n"
     ]
    }
   ],
   "source": [
    "phys_17_srvcio_top5 = phys_17_srvc_group[phys_17_srvc_group[\"hcpcs_code\"].isin(['90670', '99213', '99214', 'G0009', 'G0439'])]\n",
    "phys_17_srvcio_top5 = phys_17_srvcio_top5.reset_index()\n",
    "phys_17_srvcio_top5['year'] = 2017\n",
    "phys_17_srvcio_top5['srvc_cnt_mil'] = phys_17_srvcio_top5['srvc_cnt_17']/1000000\n",
    "phys_17_srvcio_top5 = phys_17_srvcio_top5.drop(columns={'avg_med_amt_17', 'index', 'srvc_cnt_17'})\n",
    "print(phys_17_srvcio_top5)"
   ]
  },
  {
   "cell_type": "code",
   "execution_count": 104,
   "metadata": {},
   "outputs": [
    {
     "name": "stdout",
     "output_type": "stream",
     "text": [
      "     hcpcs_code  srvc_cnt_16  avg_med_amt_16\n",
      "0         0008M        197.0    10258.259329\n",
      "1         00100         37.0      872.927825\n",
      "2         00103      79941.0   410375.098923\n",
      "3         00104     146661.0   251640.795949\n",
      "4         0010M      13453.0      333.559722\n",
      "...         ...          ...             ...\n",
      "6017      Q9983        372.0    36855.942632\n",
      "6018      R0070    1064578.0    71302.538438\n",
      "6019      R0075     462093.0    20941.261282\n",
      "6020      V2632         98.0      113.040000\n",
      "6021      V2785       9326.0   947356.584602\n",
      "\n",
      "[6022 rows x 3 columns]\n"
     ]
    }
   ],
   "source": [
    "phys_16_srvc_group = phys_supp_16.groupby('hcpcs_code').sum()\n",
    "phys_16_srvc_group = phys_16_srvc_group.reset_index()\n",
    "print(phys_16_srvc_group)"
   ]
  },
  {
   "cell_type": "code",
   "execution_count": 105,
   "metadata": {},
   "outputs": [
    {
     "name": "stdout",
     "output_type": "stream",
     "text": [
      "  hcpcs_code  year  srvc_cnt_mil\n",
      "0      90670  2016      3.778629\n",
      "1      99213  2016    112.302118\n",
      "2      99214  2016    112.213273\n",
      "3      G0009  2016      4.844952\n",
      "4      G0439  2016      6.047432\n"
     ]
    }
   ],
   "source": [
    "phys_16_srvcio_top5 = phys_16_srvc_group[phys_16_srvc_group[\"hcpcs_code\"].isin(['90670', '99213', '99214', 'G0009', 'G0439'])]\n",
    "phys_16_srvcio_top5 = phys_16_srvcio_top5.reset_index()\n",
    "phys_16_srvcio_top5['year'] = 2016\n",
    "phys_16_srvcio_top5['srvc_cnt_mil'] = phys_16_srvcio_top5['srvc_cnt_16']/1000000\n",
    "phys_16_srvcio_top5 = phys_16_srvcio_top5.drop(columns={'avg_med_amt_16', 'index', 'srvc_cnt_16'})\n",
    "print(phys_16_srvcio_top5)"
   ]
  },
  {
   "cell_type": "code",
   "execution_count": 106,
   "metadata": {},
   "outputs": [
    {
     "name": "stdout",
     "output_type": "stream",
     "text": [
      "     hcpcs_code  srvc_cnt_15  avg_med_amt_15\n",
      "0         00100         60.0     1066.331227\n",
      "1         00102        130.0      475.994695\n",
      "2         00103      77075.0   405125.220471\n",
      "3         00104     148494.0   255799.426377\n",
      "4         00120       2422.0    22380.313195\n",
      "...         ...          ...             ...\n",
      "5978      Q9979        332.0    10352.470661\n",
      "5979      R0070    1109199.0    72810.800828\n",
      "5980      R0075     484311.0    20569.550416\n",
      "5981      V2632        103.0      113.490000\n",
      "5982      V2785      10898.0   864829.864820\n",
      "\n",
      "[5983 rows x 3 columns]\n"
     ]
    }
   ],
   "source": [
    "phys_15_srvc_group = phys_supp_15.groupby('hcpcs_code').sum()\n",
    "phys_15_srvc_group = phys_15_srvc_group.reset_index()\n",
    "print(phys_15_srvc_group)"
   ]
  },
  {
   "cell_type": "code",
   "execution_count": 107,
   "metadata": {},
   "outputs": [
    {
     "name": "stdout",
     "output_type": "stream",
     "text": [
      "  hcpcs_code  year  srvc_cnt_mil\n",
      "0      90670  2015      5.655305\n",
      "1      99213  2015    112.372468\n",
      "2      99214  2015    107.330867\n",
      "3      G0009  2015      6.260595\n",
      "4      G0439  2015      4.858574\n"
     ]
    }
   ],
   "source": [
    "phys_15_srvcio_top5 = phys_15_srvc_group[phys_15_srvc_group[\"hcpcs_code\"].isin(['90670', '99213', '99214', 'G0009', 'G0439'])]\n",
    "phys_15_srvcio_top5 = phys_15_srvcio_top5.reset_index()\n",
    "phys_15_srvcio_top5['year'] = 2015\n",
    "phys_15_srvcio_top5['srvc_cnt_mil'] = phys_15_srvcio_top5['srvc_cnt_15']/1000000\n",
    "phys_15_srvcio_top5 = phys_15_srvcio_top5.drop(columns={'avg_med_amt_15', 'index', 'srvc_cnt_15'})\n",
    "print(phys_15_srvcio_top5)"
   ]
  },
  {
   "cell_type": "code",
   "execution_count": 108,
   "metadata": {},
   "outputs": [
    {
     "name": "stdout",
     "output_type": "stream",
     "text": [
      "   hcpcs_code  year  srvc_cnt_mil\n",
      "0       90670  2017      2.024985\n",
      "1       99213  2017     96.476303\n",
      "2       99214  2017    101.135852\n",
      "3       G0009  2017      3.381640\n",
      "4       G0439  2017      6.345749\n",
      "5       90670  2016      3.778629\n",
      "6       99213  2016    112.302118\n",
      "7       99214  2016    112.213273\n",
      "8       G0009  2016      4.844952\n",
      "9       G0439  2016      6.047432\n",
      "10      90670  2015      5.655305\n",
      "11      99213  2015    112.372468\n",
      "12      99214  2015    107.330867\n",
      "13      G0009  2015      6.260595\n",
      "14      G0439  2015      4.858574\n"
     ]
    }
   ],
   "source": [
    "phys_srvcio_top5 = pd.concat([phys_17_srvcio_top5, phys_16_srvcio_top5, phys_15_srvcio_top5], ignore_index=True)\n",
    "print(phys_srvcio_top5)"
   ]
  },
  {
   "cell_type": "code",
   "execution_count": 109,
   "metadata": {},
   "outputs": [
    {
     "data": {
      "image/png": "[encoded data removed]",
      "text/plain": [
       "<Figure size 1080x216 with 5 Axes>"
      ]
     },
     "metadata": {
      "needs_background": "light"
     },
     "output_type": "display_data"
    }
   ],
   "source": [
    "g = sns.FacetGrid(phys_srvcio_top5, col=\"hcpcs_code\").set(xlim=(2014, 2018), ylim=(0, 120), xticks=[2015, 2016, 2017], yticks=[0, 12, 24, 36, 48, 60, 72, 84, 96, 108, 120])\n",
    "g = g.map(plt.plot, \"year\", \"srvc_cnt_mil\")"
   ]
  },
  {
   "cell_type": "code",
   "execution_count": 110,
   "metadata": {},
   "outputs": [
    {
     "name": "stdout",
     "output_type": "stream",
     "text": [
      "     hcpcs_code  srvc_cnt_17  srvc_cnt_16  srvc_cnt_15  16/17_srvc_chng  \\\n",
      "2054      71010   15621331.0   16313024.0   16243571.0         691693.0   \n",
      "2056      71020    8003711.0    8453529.0    8767182.0         449818.0   \n",
      "2941      99223    9383693.0    9997169.0    9899220.0         613476.0   \n",
      "2945      99231    5769872.0    6534493.0    6632663.0         764621.0   \n",
      "2946      99232   42815070.0   45812633.0   45516102.0        2997563.0   \n",
      "\n",
      "      15/16_srvc_chng  15/17_srvc_chng  \n",
      "2054          69453.0         622240.0  \n",
      "2056         313653.0         763471.0  \n",
      "2941          97949.0         515527.0  \n",
      "2945          98170.0         862791.0  \n",
      "2946         296531.0        2701032.0  \n"
     ]
    }
   ],
   "source": [
    "print(phys_srvc_if_top5)"
   ]
  },
  {
   "cell_type": "code",
   "execution_count": 111,
   "metadata": {},
   "outputs": [
    {
     "name": "stdout",
     "output_type": "stream",
     "text": [
      "  hcpcs_code  year  srvc_cnt_mil\n",
      "0      71010  2017     16.407982\n",
      "1      71020  2017     12.082669\n",
      "2      99223  2017     10.338909\n",
      "3      99231  2017      6.907843\n",
      "4      99232  2017     45.186732\n"
     ]
    }
   ],
   "source": [
    "phys_17_srvcif_top5 = phys_17_srvc_group[phys_17_srvc_group[\"hcpcs_code\"].isin(['71010', '71020', '99223', '99231', '99232'])]\n",
    "phys_17_srvcif_top5 = phys_17_srvcif_top5.reset_index()\n",
    "phys_17_srvcif_top5['year'] = 2017\n",
    "phys_17_srvcif_top5['srvc_cnt_mil'] = phys_17_srvcif_top5['srvc_cnt_17']/1000000\n",
    "phys_17_srvcif_top5 = phys_17_srvcif_top5.drop(columns={'avg_med_amt_17', 'index', 'srvc_cnt_17'})\n",
    "print(phys_17_srvcif_top5)"
   ]
  },
  {
   "cell_type": "code",
   "execution_count": 112,
   "metadata": {},
   "outputs": [
    {
     "name": "stdout",
     "output_type": "stream",
     "text": [
      "  hcpcs_code  year  srvc_cnt_mil\n",
      "0      71010  2016     18.081072\n",
      "1      71020  2016     13.469534\n",
      "2      99223  2016     11.328227\n",
      "3      99231  2016      8.245921\n",
      "4      99232  2016     50.018533\n"
     ]
    }
   ],
   "source": [
    "phys_16_srvcif_top5 = phys_16_srvc_group[phys_16_srvc_group[\"hcpcs_code\"].isin(['71010', '71020', '99223', '99231', '99232'])]\n",
    "phys_16_srvcif_top5 = phys_16_srvcif_top5.reset_index()\n",
    "phys_16_srvcif_top5['year'] = 2016\n",
    "phys_16_srvcif_top5['srvc_cnt_mil'] = phys_16_srvcif_top5['srvc_cnt_16']/1000000\n",
    "phys_16_srvcif_top5 = phys_16_srvcif_top5.drop(columns={'avg_med_amt_16', 'index', 'srvc_cnt_16'})\n",
    "print(phys_16_srvcif_top5)"
   ]
  },
  {
   "cell_type": "code",
   "execution_count": 113,
   "metadata": {},
   "outputs": [
    {
     "name": "stdout",
     "output_type": "stream",
     "text": [
      "  hcpcs_code  year  srvc_cnt_mil\n",
      "0      71010  2015     18.369140\n",
      "1      71020  2015     13.735138\n",
      "2      99223  2015     11.434881\n",
      "3      99231  2015      8.824792\n",
      "4      99232  2015     50.381203\n"
     ]
    }
   ],
   "source": [
    "phys_15_srvcif_top5 = phys_15_srvc_group[phys_15_srvc_group[\"hcpcs_code\"].isin(['71010', '71020', '99223', '99231', '99232'])]\n",
    "phys_15_srvcif_top5 = phys_15_srvcif_top5.reset_index()\n",
    "phys_15_srvcif_top5['year'] = 2015\n",
    "phys_15_srvcif_top5['srvc_cnt_mil'] = phys_15_srvcif_top5['srvc_cnt_15']/1000000\n",
    "phys_15_srvcif_top5 = phys_15_srvcif_top5.drop(columns={'avg_med_amt_15', 'index', 'srvc_cnt_15'})\n",
    "print(phys_15_srvcif_top5)"
   ]
  },
  {
   "cell_type": "code",
   "execution_count": 114,
   "metadata": {},
   "outputs": [
    {
     "name": "stdout",
     "output_type": "stream",
     "text": [
      "   hcpcs_code  year  srvc_cnt_mil\n",
      "0       71010  2017     16.407982\n",
      "1       71020  2017     12.082669\n",
      "2       99223  2017     10.338909\n",
      "3       99231  2017      6.907843\n",
      "4       99232  2017     45.186732\n",
      "5       71010  2016     18.081072\n",
      "6       71020  2016     13.469534\n",
      "7       99223  2016     11.328227\n",
      "8       99231  2016      8.245921\n",
      "9       99232  2016     50.018533\n",
      "10      71010  2015     18.369140\n",
      "11      71020  2015     13.735138\n",
      "12      99223  2015     11.434881\n",
      "13      99231  2015      8.824792\n",
      "14      99232  2015     50.381203\n"
     ]
    }
   ],
   "source": [
    "phys_srvcif_top5 = pd.concat([phys_17_srvcif_top5, phys_16_srvcif_top5, phys_15_srvcif_top5], ignore_index=True)\n",
    "print(phys_srvcif_top5)"
   ]
  },
  {
   "cell_type": "code",
   "execution_count": 115,
   "metadata": {},
   "outputs": [
    {
     "data": {
      "image/png": "[encoded data removed]",
      "text/plain": [
       "<Figure size 1080x216 with 5 Axes>"
      ]
     },
     "metadata": {
      "needs_background": "light"
     },
     "output_type": "display_data"
    }
   ],
   "source": [
    "g = sns.FacetGrid(phys_srvcif_top5, col=\"hcpcs_code\").set(xlim=(2014, 2018), ylim=(0, 54), xticks=[2015, 2016, 2017], yticks=[0, 6, 12, 18, 24, 30, 36, 42, 48, 54])\n",
    "g = g.map(plt.plot, \"year\", \"srvc_cnt_mil\")"
   ]
  },
  {
   "cell_type": "code",
   "execution_count": 116,
   "metadata": {},
   "outputs": [
    {
     "name": "stdout",
     "output_type": "stream",
     "text": [
      "     hcpcs_code  srvc_cnt_17  srvc_cnt_16  srvc_cnt_15  16/17_srvc_chng  \\\n",
      "291       80053   23506436.0   23564980.0   22661369.0          58544.0   \n",
      "561       83036   10751257.0   10501332.0    9855267.0         249925.0   \n",
      "731       85025   20295417.0   20247232.0   19369083.0          48185.0   \n",
      "789       85610    5476487.0    6248387.0    6842974.0         771900.0   \n",
      "1384      G0008    7548685.0    6743827.0    6657914.0         804858.0   \n",
      "\n",
      "      15/16_srvc_chng  15/17_srvc_chng  \n",
      "291          903611.0         845067.0  \n",
      "561          646065.0         895990.0  \n",
      "731          878149.0         926334.0  \n",
      "789          594587.0        1366487.0  \n",
      "1384          85913.0         890771.0  \n"
     ]
    }
   ],
   "source": [
    "print(phys_srvc_oo_top5)"
   ]
  },
  {
   "cell_type": "code",
   "execution_count": 117,
   "metadata": {},
   "outputs": [
    {
     "name": "stdout",
     "output_type": "stream",
     "text": [
      "  hcpcs_code  year  srvc_cnt_mil\n",
      "0      80053  2017     28.827450\n",
      "1      83036  2017     14.659924\n",
      "2      85025  2017     29.676379\n",
      "3      85610  2017     10.702525\n",
      "4      G0008  2017     14.022139\n"
     ]
    }
   ],
   "source": [
    "phys_17_srvcoo_top5 = phys_17_srvc_group[phys_17_srvc_group[\"hcpcs_code\"].isin(['80053', '83036', '85025', '85610', 'G0008'])]\n",
    "phys_17_srvcoo_top5 = phys_17_srvcoo_top5.reset_index()\n",
    "phys_17_srvcoo_top5['year'] = 2017\n",
    "phys_17_srvcoo_top5['srvc_cnt_mil'] = phys_17_srvcoo_top5['srvc_cnt_17']/1000000\n",
    "phys_17_srvcoo_top5 = phys_17_srvcoo_top5.drop(columns={'avg_med_amt_17', 'index', 'srvc_cnt_17'})\n",
    "print(phys_17_srvcoo_top5)"
   ]
  },
  {
   "cell_type": "code",
   "execution_count": 118,
   "metadata": {},
   "outputs": [
    {
     "name": "stdout",
     "output_type": "stream",
     "text": [
      "  hcpcs_code  year  srvc_cnt_mil\n",
      "0      80053  2016     32.972647\n",
      "1      83036  2016     16.633001\n",
      "2      85025  2016     34.225296\n",
      "3      85610  2016     14.596628\n",
      "4      G0008  2016     15.848625\n"
     ]
    }
   ],
   "source": [
    "phys_16_srvcoo_top5 = phys_16_srvc_group[phys_16_srvc_group[\"hcpcs_code\"].isin(['80053', '83036', '85025', '85610', 'G0008'])]\n",
    "phys_16_srvcoo_top5 = phys_16_srvcoo_top5.reset_index()\n",
    "phys_16_srvcoo_top5['year'] = 2016\n",
    "phys_16_srvcoo_top5['srvc_cnt_mil'] = phys_16_srvcoo_top5['srvc_cnt_16']/1000000\n",
    "phys_16_srvcoo_top5 = phys_16_srvcoo_top5.drop(columns={'avg_med_amt_16', 'index', 'srvc_cnt_16'})\n",
    "print(phys_16_srvcoo_top5)"
   ]
  },
  {
   "cell_type": "code",
   "execution_count": 119,
   "metadata": {},
   "outputs": [
    {
     "name": "stdout",
     "output_type": "stream",
     "text": [
      "  hcpcs_code  year  srvc_cnt_mil\n",
      "0      80053  2015     32.248417\n",
      "1      83036  2015     15.927256\n",
      "2      85025  2015     33.923805\n",
      "3      85610  2015     16.572815\n",
      "4      G0008  2015     15.624311\n"
     ]
    }
   ],
   "source": [
    "phys_15_srvcoo_top5 = phys_15_srvc_group[phys_15_srvc_group[\"hcpcs_code\"].isin(['80053', '83036', '85025', '85610', 'G0008'])]\n",
    "phys_15_srvcoo_top5 = phys_15_srvcoo_top5.reset_index()\n",
    "phys_15_srvcoo_top5['year'] = 2015\n",
    "phys_15_srvcoo_top5['srvc_cnt_mil'] = phys_15_srvcoo_top5['srvc_cnt_15']/1000000\n",
    "phys_15_srvcoo_top5 = phys_15_srvcoo_top5.drop(columns={'avg_med_amt_15', 'index', 'srvc_cnt_15'})\n",
    "print(phys_15_srvcoo_top5)"
   ]
  },
  {
   "cell_type": "code",
   "execution_count": 120,
   "metadata": {},
   "outputs": [
    {
     "name": "stdout",
     "output_type": "stream",
     "text": [
      "   hcpcs_code  year  srvc_cnt_mil\n",
      "0       80053  2017     28.827450\n",
      "1       83036  2017     14.659924\n",
      "2       85025  2017     29.676379\n",
      "3       85610  2017     10.702525\n",
      "4       G0008  2017     14.022139\n",
      "5       80053  2016     32.972647\n",
      "6       83036  2016     16.633001\n",
      "7       85025  2016     34.225296\n",
      "8       85610  2016     14.596628\n",
      "9       G0008  2016     15.848625\n",
      "10      80053  2015     32.248417\n",
      "11      83036  2015     15.927256\n",
      "12      85025  2015     33.923805\n",
      "13      85610  2015     16.572815\n",
      "14      G0008  2015     15.624311\n"
     ]
    }
   ],
   "source": [
    "phys_srvcoo_top5 = pd.concat([phys_17_srvcoo_top5, phys_16_srvcoo_top5, phys_15_srvcoo_top5], ignore_index=True)\n",
    "print(phys_srvcoo_top5)"
   ]
  },
  {
   "cell_type": "code",
   "execution_count": 121,
   "metadata": {
    "scrolled": true
   },
   "outputs": [
    {
     "data": {
      "image/png": "[encoded data removed]",
      "text/plain": [
       "<Figure size 1080x216 with 5 Axes>"
      ]
     },
     "metadata": {
      "needs_background": "light"
     },
     "output_type": "display_data"
    }
   ],
   "source": [
    "g = sns.FacetGrid(phys_srvcoo_top5, col=\"hcpcs_code\").set(xlim=(2014, 2018), ylim=(0, 36), xticks=[2015, 2016, 2017], yticks=[0, 3, 6, 9, 12, 15, 18, 21, 24, 27, 30, 33, 36])\n",
    "g = g.map(plt.plot, \"year\", \"srvc_cnt_mil\")"
   ]
  },
  {
   "cell_type": "code",
   "execution_count": 122,
   "metadata": {},
   "outputs": [
    {
     "name": "stdout",
     "output_type": "stream",
     "text": [
      "    hcpcs_code  srvc_cnt_17  srvc_cnt_16  srvc_cnt_15  16/17_srvc_chng  \\\n",
      "836      85610      30861.0      94170.0     144353.0          63309.0   \n",
      "948      A0427    5602953.0    5573065.0    5519115.0          29888.0   \n",
      "949      A0428    4125995.0    4254642.0    4349497.0         128647.0   \n",
      "977      G0471    3175479.0    3106023.0    2979164.0          69456.0   \n",
      "989      P9603    1381163.0    1453607.0    1466905.0          72444.0   \n",
      "\n",
      "     15/16_srvc_chng  15/17_srvc_chng  \n",
      "836          50183.0         113492.0  \n",
      "948          53950.0          83838.0  \n",
      "949          94855.0         223502.0  \n",
      "977         126859.0         196315.0  \n",
      "989          13298.0          85742.0  \n"
     ]
    }
   ],
   "source": [
    "print(phys_srvc_of_top5)"
   ]
  },
  {
   "cell_type": "code",
   "execution_count": 123,
   "metadata": {},
   "outputs": [
    {
     "name": "stdout",
     "output_type": "stream",
     "text": [
      "  hcpcs_code  year  srvc_cnt_mil\n",
      "0      85610  2017     10.702525\n",
      "1      A0427  2017      5.018635\n",
      "2      A0428  2017      3.916084\n",
      "3      G0471  2017      3.634055\n",
      "4      P9603  2017      3.565691\n"
     ]
    }
   ],
   "source": [
    "phys_17_srvcof_top5 = phys_17_srvc_group[phys_17_srvc_group[\"hcpcs_code\"].isin(['85610', 'A0427', 'A0428', 'G0471', 'P9603'])]\n",
    "phys_17_srvcof_top5 = phys_17_srvcof_top5.reset_index()\n",
    "phys_17_srvcof_top5['year'] = 2017\n",
    "phys_17_srvcof_top5['srvc_cnt_mil'] = phys_17_srvcof_top5['srvc_cnt_17']/1000000\n",
    "phys_17_srvcof_top5 = phys_17_srvcof_top5.drop(columns={'avg_med_amt_17', 'index', 'srvc_cnt_17'})\n",
    "print(phys_17_srvcof_top5)"
   ]
  },
  {
   "cell_type": "code",
   "execution_count": 124,
   "metadata": {},
   "outputs": [
    {
     "name": "stdout",
     "output_type": "stream",
     "text": [
      "  hcpcs_code  year  srvc_cnt_mil\n",
      "0      85610  2016     14.596628\n",
      "1      A0427  2016      5.679607\n",
      "2      A0428  2016      4.453641\n",
      "3      G0471  2016      4.559110\n",
      "4      P9603  2016      4.663791\n"
     ]
    }
   ],
   "source": [
    "phys_16_srvcof_top5 = phys_16_srvc_group[phys_16_srvc_group[\"hcpcs_code\"].isin(['85610', 'A0427', 'A0428', 'G0471', 'P9603'])]\n",
    "phys_16_srvcof_top5 = phys_16_srvcof_top5.reset_index()\n",
    "phys_16_srvcof_top5['year'] = 2016\n",
    "phys_16_srvcof_top5['srvc_cnt_mil'] = phys_16_srvcof_top5['srvc_cnt_16']/1000000\n",
    "phys_16_srvcof_top5 = phys_16_srvcof_top5.drop(columns={'avg_med_amt_16', 'index', 'srvc_cnt_16'})\n",
    "print(phys_16_srvcof_top5)"
   ]
  },
  {
   "cell_type": "code",
   "execution_count": 125,
   "metadata": {},
   "outputs": [
    {
     "name": "stdout",
     "output_type": "stream",
     "text": [
      "  hcpcs_code  year  srvc_cnt_mil\n",
      "0      85610  2015     16.572815\n",
      "1      A0427  2015      5.662929\n",
      "2      A0428  2015      4.780294\n",
      "3      G0471  2015      4.549116\n",
      "4      P9603  2015      4.835074\n"
     ]
    }
   ],
   "source": [
    "phys_15_srvcof_top5 = phys_15_srvc_group[phys_15_srvc_group[\"hcpcs_code\"].isin(['85610', 'A0427', 'A0428', 'G0471', 'P9603'])]\n",
    "phys_15_srvcof_top5 = phys_15_srvcof_top5.reset_index()\n",
    "phys_15_srvcof_top5['year'] = 2015\n",
    "phys_15_srvcof_top5['srvc_cnt_mil'] = phys_15_srvcof_top5['srvc_cnt_15']/1000000\n",
    "phys_15_srvcof_top5 = phys_15_srvcof_top5.drop(columns={'avg_med_amt_15', 'index', 'srvc_cnt_15'})\n",
    "print(phys_15_srvcof_top5)"
   ]
  },
  {
   "cell_type": "code",
   "execution_count": 126,
   "metadata": {},
   "outputs": [
    {
     "name": "stdout",
     "output_type": "stream",
     "text": [
      "   hcpcs_code  year  srvc_cnt_mil\n",
      "0       85610  2017     10.702525\n",
      "1       A0427  2017      5.018635\n",
      "2       A0428  2017      3.916084\n",
      "3       G0471  2017      3.634055\n",
      "4       P9603  2017      3.565691\n",
      "5       85610  2016     14.596628\n",
      "6       A0427  2016      5.679607\n",
      "7       A0428  2016      4.453641\n",
      "8       G0471  2016      4.559110\n",
      "9       P9603  2016      4.663791\n",
      "10      85610  2015     16.572815\n",
      "11      A0427  2015      5.662929\n",
      "12      A0428  2015      4.780294\n",
      "13      G0471  2015      4.549116\n",
      "14      P9603  2015      4.835074\n"
     ]
    }
   ],
   "source": [
    "phys_srvcof_top5 = pd.concat([phys_17_srvcof_top5, phys_16_srvcof_top5, phys_15_srvcof_top5], ignore_index=True)\n",
    "print(phys_srvcof_top5)"
   ]
  },
  {
   "cell_type": "code",
   "execution_count": 127,
   "metadata": {},
   "outputs": [
    {
     "data": {
      "image/png": "[encoded data removed]",
      "text/plain": [
       "<Figure size 1080x216 with 5 Axes>"
      ]
     },
     "metadata": {
      "needs_background": "light"
     },
     "output_type": "display_data"
    }
   ],
   "source": [
    "g = sns.FacetGrid(phys_srvcof_top5, col=\"hcpcs_code\").set(xlim=(2014, 2018), ylim=(0, 18), xticks=[2015, 2016, 2017], yticks=[0, 2, 4, 6, 8, 10, 12, 14, 16, 18])\n",
    "g = g.map(plt.plot, \"year\", \"srvc_cnt_mil\")"
   ]
  },
  {
   "cell_type": "markdown",
   "metadata": {},
   "source": [
    "phys_srvcio_top5.to_csv('phys_srvc_io.csv')\n",
    "phys_srvcif_top5.to_csv('phys_srvc_if.csv')\n",
    "phys_srvcoo_top5.to_csv('phys_srvc_oo.csv')\n",
    "phys_srvcof_top5.to_csv('phys_srvc_of.csv')"
   ]
  },
  {
   "cell_type": "code",
   "execution_count": null,
   "metadata": {},
   "outputs": [],
   "source": []
  }
 ],
 "metadata": {
  "kernelspec": {
   "display_name": "Python 3",
   "language": "python",
   "name": "python3"
  },
  "language_info": {
   "codemirror_mode": {
    "name": "ipython",
    "version": 3
   },
   "file_extension": ".py",
   "mimetype": "text/x-python",
   "name": "python",
   "nbconvert_exporter": "python",
   "pygments_lexer": "ipython3",
   "version": "3.7.6"
  }
 },
 "nbformat": 4,
 "nbformat_minor": 4
}
