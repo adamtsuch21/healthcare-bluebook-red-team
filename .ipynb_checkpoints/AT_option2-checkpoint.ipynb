{
 "cells": [
  {
   "cell_type": "code",
   "execution_count": 108,
   "metadata": {},
   "outputs": [],
   "source": [
    "import pandas as pd\n",
    "import numpy as np\n",
    "import matplotlib.pyplot as plt"
   ]
  },
  {
   "cell_type": "code",
   "execution_count": 109,
   "metadata": {},
   "outputs": [],
   "source": [
    "phys_supp_17 = pd.read_csv(\"/Users/adamtsuchiyama/Documents/healthcare-bluebook-red-team/data/Medicare_Provider_Util_Payment_PUF_CY2017.txt\", sep='\\t', usecols=['npi', 'nppes_provider_last_org_name', 'nppes_entity_code', 'nppes_provider_zip', 'nppes_provider_state', 'provider_type', 'place_of_service', 'hcpcs_code', 'bene_day_srvc_cnt', 'average_Medicare_allowed_amt'], dtype={'npi': str, 'nppes_provider_last_org_name' : str, 'nppes_entity_code' : str, 'nppes_provider_zip' : str, 'nppes_provider_state' : str, 'provider_type' : str, 'place_of_service' : str, 'hcpcs_code' : str, 'bene_day_srvc_cnt' : float, 'average_Medicare_allowed_amt' : float})\n",
    "\n"
   ]
  },
  {
   "cell_type": "code",
   "execution_count": 110,
   "metadata": {},
   "outputs": [],
   "source": [
    "phys_supp_16 = pd.read_csv(\"/Users/adamtsuchiyama/Documents/healthcare-bluebook-red-team/data/Medicare_Provider_Util_Payment_PUF_CY2016.txt\", sep='\\t', usecols=['NPI', 'PLACE_OF_SERVICE', 'HCPCS_CODE', 'BENE_DAY_SRVC_CNT', 'AVERAGE_MEDICARE_ALLOWED_AMT'], dtype={'NPI': str, 'PLACE_OF_SERVICE' : str, 'HCPCS_CODE' : str, 'BENE_DAY_SRVC_CNT' : float, 'AVERAGE_MEDICARE_ALLOWED_AMT' : float})\n",
    "\n"
   ]
  },
  {
   "cell_type": "code",
   "execution_count": 111,
   "metadata": {},
   "outputs": [],
   "source": [
    "phys_supp_15 = pd.read_csv(\"/Users/adamtsuchiyama/Documents/healthcare-bluebook-red-team/data/Medicare_Provider_Util_Payment_PUF_CY2015.txt\", sep='\\t', usecols=['npi', 'place_of_service', 'hcpcs_code', 'bene_day_srvc_cnt', 'average_Medicare_allowed_amt'], dtype={'npi': str, 'place_of_service' : str, 'hcpcs_code' : str, 'bene_day_srvc_cnt' : float, 'average_Medicare_allowed_amt' : float})\n",
    "\n"
   ]
  },
  {
   "cell_type": "code",
   "execution_count": 112,
   "metadata": {},
   "outputs": [],
   "source": [
    "phys_supp_17.columns = map(str.lower, phys_supp_17.columns)\n",
    "phys_supp_16.columns = map(str.lower, phys_supp_16.columns)\n",
    "phys_supp_15.columns = map(str.lower, phys_supp_15.columns)"
   ]
  },
  {
   "cell_type": "code",
   "execution_count": 113,
   "metadata": {},
   "outputs": [
    {
     "name": "stdout",
     "output_type": "stream",
     "text": [
      "<class 'pandas.core.frame.DataFrame'>\n",
      "RangeIndex: 9847444 entries, 0 to 9847443\n",
      "Data columns (total 10 columns):\n",
      " #   Column                        Dtype  \n",
      "---  ------                        -----  \n",
      " 0   npi                           object \n",
      " 1   nppes_provider_last_org_name  object \n",
      " 2   nppes_entity_code             object \n",
      " 3   nppes_provider_zip            object \n",
      " 4   nppes_provider_state          object \n",
      " 5   provider_type                 object \n",
      " 6   place_of_service              object \n",
      " 7   hcpcs_code                    object \n",
      " 8   srvc_cnt_17                   float64\n",
      " 9   avg_med_amt_17                float64\n",
      "dtypes: float64(2), object(8)\n",
      "memory usage: 751.3+ MB\n",
      "None\n",
      "<class 'pandas.core.frame.DataFrame'>\n",
      "RangeIndex: 9714897 entries, 0 to 9714896\n",
      "Data columns (total 5 columns):\n",
      " #   Column            Dtype  \n",
      "---  ------            -----  \n",
      " 0   npi               object \n",
      " 1   place_of_service  object \n",
      " 2   hcpcs_code        object \n",
      " 3   srvc_cnt_16       float64\n",
      " 4   avg_med_amt_16    float64\n",
      "dtypes: float64(2), object(3)\n",
      "memory usage: 370.6+ MB\n",
      "None\n",
      "<class 'pandas.core.frame.DataFrame'>\n",
      "RangeIndex: 9497892 entries, 0 to 9497891\n",
      "Data columns (total 5 columns):\n",
      " #   Column            Dtype  \n",
      "---  ------            -----  \n",
      " 0   npi               object \n",
      " 1   place_of_service  object \n",
      " 2   hcpcs_code        object \n",
      " 3   srvc_cnt_15       float64\n",
      " 4   avg_med_amt_15    float64\n",
      "dtypes: float64(2), object(3)\n",
      "memory usage: 362.3+ MB\n",
      "None\n"
     ]
    }
   ],
   "source": [
    "phys_supp_17 = phys_supp_17.rename(columns={'bene_day_srvc_cnt' : 'srvc_cnt_17', 'average_medicare_allowed_amt' : 'avg_med_amt_17'})\n",
    "phys_supp_16 = phys_supp_16.rename(columns={'bene_day_srvc_cnt' : 'srvc_cnt_16', 'average_medicare_allowed_amt' : 'avg_med_amt_16'})\n",
    "phys_supp_15 = phys_supp_15.rename(columns={'bene_day_srvc_cnt' : 'srvc_cnt_15', 'average_medicare_allowed_amt' : 'avg_med_amt_15'})\n",
    "print(phys_supp_17.info())\n",
    "print(phys_supp_16.info())\n",
    "print(phys_supp_15.info())\n"
   ]
  },
  {
   "cell_type": "code",
   "execution_count": 114,
   "metadata": {},
   "outputs": [
    {
     "name": "stdout",
     "output_type": "stream",
     "text": [
      "          npi                       nppes_provider_last_org_name  \\\n",
      "0  0000000001  CPT copyright 2016 American Medical Associatio...   \n",
      "1  1003000126                                          ENKESHAFI   \n",
      "2  1003000126                                          ENKESHAFI   \n",
      "3  1003000126                                          ENKESHAFI   \n",
      "4  1003000126                                          ENKESHAFI   \n",
      "\n",
      "  nppes_entity_code nppes_provider_zip nppes_provider_state  \\\n",
      "0               NaN                NaN                  NaN   \n",
      "1                 I          215021854                   MD   \n",
      "2                 I          215021854                   MD   \n",
      "3                 I          215021854                   MD   \n",
      "4                 I          215021854                   MD   \n",
      "\n",
      "       provider_type place_of_service hcpcs_code  srvc_cnt_17  avg_med_amt_17  \\\n",
      "0                NaN              NaN        NaN          NaN             NaN   \n",
      "1  Internal Medicine                F      99217        100.0       73.398800   \n",
      "2  Internal Medicine                F      99219         52.0      136.380000   \n",
      "3  Internal Medicine                F      99220         59.0      190.363729   \n",
      "4  Internal Medicine                F      99221         16.0      101.680000   \n",
      "\n",
      "   srvc_cnt_16  avg_med_amt_16  \n",
      "0          NaN             NaN  \n",
      "1         57.0       72.743158  \n",
      "2         38.0      135.010000  \n",
      "3         23.0      189.239565  \n",
      "4         20.0      100.750000  \n"
     ]
    }
   ],
   "source": [
    "phys_join = pd.merge(phys_supp_17, phys_supp_16, how='inner', on=['npi', 'place_of_service' ,'hcpcs_code'])\n",
    "print(phys_join.head())"
   ]
  },
  {
   "cell_type": "code",
   "execution_count": 115,
   "metadata": {
    "scrolled": true
   },
   "outputs": [
    {
     "name": "stdout",
     "output_type": "stream",
     "text": [
      "          npi                       nppes_provider_last_org_name  \\\n",
      "0  0000000001  CPT copyright 2016 American Medical Associatio...   \n",
      "1  1003000126                                          ENKESHAFI   \n",
      "2  1003000126                                          ENKESHAFI   \n",
      "3  1003000126                                          ENKESHAFI   \n",
      "4  1003000126                                          ENKESHAFI   \n",
      "\n",
      "  nppes_entity_code nppes_provider_zip nppes_provider_state  \\\n",
      "0               NaN                NaN                  NaN   \n",
      "1                 I          215021854                   MD   \n",
      "2                 I          215021854                   MD   \n",
      "3                 I          215021854                   MD   \n",
      "4                 I          215021854                   MD   \n",
      "\n",
      "       provider_type place_of_service hcpcs_code  srvc_cnt_17  avg_med_amt_17  \\\n",
      "0                NaN              NaN        NaN          NaN             NaN   \n",
      "1  Internal Medicine                F      99217        100.0         73.3988   \n",
      "2  Internal Medicine                F      99219         52.0        136.3800   \n",
      "3  Internal Medicine                F      99221         16.0        101.6800   \n",
      "4  Internal Medicine                F      99222         59.0        137.3100   \n",
      "\n",
      "   srvc_cnt_16  avg_med_amt_16  srvc_cnt_15  avg_med_amt_15  \n",
      "0          NaN             NaN          NaN             NaN  \n",
      "1         57.0       72.743158         23.0       72.680000  \n",
      "2         38.0      135.010000         18.0      135.850000  \n",
      "3         20.0      100.750000         59.0      101.365085  \n",
      "4         96.0      136.250000        132.0      139.010455  \n"
     ]
    }
   ],
   "source": [
    "phys_join = pd.merge(phys_join, phys_supp_15, how='inner', on=['npi', 'place_of_service' ,'hcpcs_code'])\n",
    "print(phys_join.head())"
   ]
  },
  {
   "cell_type": "code",
   "execution_count": 116,
   "metadata": {},
   "outputs": [
    {
     "name": "stdout",
     "output_type": "stream",
     "text": [
      "<class 'pandas.core.frame.DataFrame'>\n",
      "Int64Index: 6129537 entries, 0 to 6129536\n",
      "Data columns (total 7 columns):\n",
      " #   Column             Dtype  \n",
      "---  ------             -----  \n",
      " 0   npi                object \n",
      " 1   nppes_entity_code  object \n",
      " 2   place_of_service   object \n",
      " 3   hcpcs_code         object \n",
      " 4   avg_med_amt_17     float64\n",
      " 5   avg_med_amt_16     float64\n",
      " 6   avg_med_amt_15     float64\n",
      "dtypes: float64(3), object(4)\n",
      "memory usage: 374.1+ MB\n",
      "None\n",
      "(6129537, 7)\n"
     ]
    }
   ],
   "source": [
    "phys_join_med = phys_join.drop(columns={'nppes_provider_last_org_name', 'nppes_provider_zip', 'nppes_provider_state', 'provider_type', 'srvc_cnt_17', 'srvc_cnt_16', 'srvc_cnt_15'})\n",
    "print(phys_join_med.info())\n",
    "print(np.shape(phys_join_med))\n",
    "\n"
   ]
  },
  {
   "cell_type": "code",
   "execution_count": 117,
   "metadata": {},
   "outputs": [
    {
     "name": "stdout",
     "output_type": "stream",
     "text": [
      "(5827702, 7)\n"
     ]
    }
   ],
   "source": [
    "phys_med_indv_O = phys_join_med[phys_join_med['nppes_entity_code'] == 'I']\n",
    "print(np.shape(phys_med_indv_O))"
   ]
  },
  {
   "cell_type": "code",
   "execution_count": 118,
   "metadata": {},
   "outputs": [
    {
     "name": "stdout",
     "output_type": "stream",
     "text": [
      "(2304717, 7)\n"
     ]
    }
   ],
   "source": [
    "phys_med_indv_F = phys_med_indv_O[phys_med_indv_O['place_of_service'] == 'F']\n",
    "print(np.shape(phys_med_indv_F))"
   ]
  },
  {
   "cell_type": "code",
   "execution_count": 119,
   "metadata": {},
   "outputs": [
    {
     "name": "stdout",
     "output_type": "stream",
     "text": [
      "(3522985, 7)\n"
     ]
    }
   ],
   "source": [
    "phys_med_indv_O = phys_med_indv_O[phys_med_indv_O['place_of_service'] == 'O']\n",
    "print(np.shape(phys_med_indv_O))"
   ]
  },
  {
   "cell_type": "code",
   "execution_count": 120,
   "metadata": {},
   "outputs": [
    {
     "name": "stdout",
     "output_type": "stream",
     "text": [
      "(301834, 7)\n"
     ]
    }
   ],
   "source": [
    "phys_med_org_O = phys_join_med[phys_join_med['nppes_entity_code'] == 'O']\n",
    "print(np.shape(phys_med_org_O))"
   ]
  },
  {
   "cell_type": "code",
   "execution_count": 121,
   "metadata": {},
   "outputs": [
    {
     "name": "stdout",
     "output_type": "stream",
     "text": [
      "(70079, 7)\n"
     ]
    }
   ],
   "source": [
    "phys_med_org_F = phys_med_org_O[phys_med_org_O['place_of_service'] == 'F']\n",
    "print(np.shape(phys_med_org_F))"
   ]
  },
  {
   "cell_type": "code",
   "execution_count": 122,
   "metadata": {},
   "outputs": [
    {
     "name": "stdout",
     "output_type": "stream",
     "text": [
      "(231755, 7)\n"
     ]
    }
   ],
   "source": [
    "phys_med_org_O = phys_med_org_O[phys_med_org_O['place_of_service'] == 'O']\n",
    "print(np.shape(phys_med_org_O))"
   ]
  },
  {
   "cell_type": "code",
   "execution_count": 123,
   "metadata": {},
   "outputs": [
    {
     "name": "stdout",
     "output_type": "stream",
     "text": [
      "     hcpcs_code  avg_med_amt_17  avg_med_amt_16  avg_med_amt_15\n",
      "0         00103      242.459405      225.736845      263.455662\n",
      "1         00142       82.209689       83.102839       84.455969\n",
      "2         00160      213.750445      215.261039      216.226974\n",
      "3         00170      131.820746      126.353729      137.007402\n",
      "4         00300      140.812400      143.992940      149.927379\n",
      "...         ...             ...             ...             ...\n",
      "3163      Q9967        0.123475        0.124704        0.152243\n",
      "3164      Q9969        9.680905        9.723776       12.315193\n",
      "3165      R0070      222.432805      220.546799      219.447497\n",
      "3166      R0075       87.831579       91.664589       85.652551\n",
      "3167      V2632      113.830000      113.040000      113.490000\n",
      "\n",
      "[3168 rows x 4 columns]\n"
     ]
    }
   ],
   "source": [
    "phys_med_io_group = phys_med_indv_O.groupby('hcpcs_code').mean()\n",
    "phys_med_io_group = phys_med_io_group.reset_index()\n",
    "print(phys_med_io_group)"
   ]
  },
  {
   "cell_type": "code",
   "execution_count": 124,
   "metadata": {},
   "outputs": [],
   "source": [
    "phys_med_io_group['16/17_med_chng'] = abs(phys_med_io_group['avg_med_amt_17'] - phys_med_io_group['avg_med_amt_16'])\n",
    "phys_med_io_group['15/16_med_chng'] = abs(phys_med_io_group['avg_med_amt_16'] - phys_med_io_group['avg_med_amt_15'])\n",
    "phys_med_io_group['15/17_med_chng'] = abs(phys_med_io_group['avg_med_amt_17'] - phys_med_io_group['avg_med_amt_15'])"
   ]
  },
  {
   "cell_type": "code",
   "execution_count": 125,
   "metadata": {},
   "outputs": [
    {
     "name": "stdout",
     "output_type": "stream",
     "text": [
      "     hcpcs_code  avg_med_amt_17  avg_med_amt_16  16/17_med_chng\n",
      "3035      J7192    17895.679067      324.885624    17570.793443\n",
      "3120      Q2043    39255.403622    37640.843298     1614.560324\n",
      "786       58558     1353.123597      426.708313      926.415284\n",
      "517       36224     2304.418230     1635.140750      669.277479\n",
      "687       49440      358.032500      910.310000      552.277500\n"
     ]
    }
   ],
   "source": [
    "phys_med_io_1617 = phys_med_io_group.sort_values(by=['16/17_med_chng'], ascending=False).head()\n",
    "phys_med_io_1617 = phys_med_io_1617.drop(columns={'avg_med_amt_15', '15/16_med_chng', '15/17_med_chng'})\n",
    "print(phys_med_io_1617)"
   ]
  },
  {
   "cell_type": "code",
   "execution_count": 126,
   "metadata": {},
   "outputs": [
    {
     "name": "stdout",
     "output_type": "stream",
     "text": [
      "     hcpcs_code  avg_med_amt_16  avg_med_amt_15  15/16_med_chng\n",
      "3035      J7192      324.885624    33345.018081    33020.132458\n",
      "609       41530      943.177983     3105.401348     2162.223365\n",
      "2861      J0600     2069.828654      259.039306     1810.789348\n",
      "3120      Q2043    37640.843298    35877.310500     1763.532799\n",
      "3092      J9999     1439.377377      465.466032      973.911345\n"
     ]
    }
   ],
   "source": [
    "phys_med_io_1516 = phys_med_io_group.sort_values(by=['15/16_med_chng'], ascending=False).head()\n",
    "phys_med_io_1516 = phys_med_io_1516.drop(columns={'avg_med_amt_17', '16/17_med_chng', '15/17_med_chng'})\n",
    "print(phys_med_io_1516)"
   ]
  },
  {
   "cell_type": "code",
   "execution_count": 127,
   "metadata": {},
   "outputs": [
    {
     "name": "stdout",
     "output_type": "stream",
     "text": [
      "     hcpcs_code  avg_med_amt_17  avg_med_amt_15  15/17_med_chng\n",
      "3035      J7192    17895.679067    33345.018081    15449.339014\n",
      "3120      Q2043    39255.403622    35877.310500     3378.093122\n",
      "609       41530      946.850260     3105.401348     2158.551088\n",
      "2861      J0600     2307.010626      259.039306     2047.971320\n",
      "3092      J9999     1746.413318      465.466032     1280.947286\n"
     ]
    }
   ],
   "source": [
    "phys_med_io_1517 = phys_med_io_group.sort_values(by=['15/17_med_chng'], ascending=False).head()\n",
    "phys_med_io_1517 = phys_med_io_1517.drop(columns={'avg_med_amt_16', '15/16_med_chng', '16/17_med_chng'})\n",
    "print(phys_med_io_1517)"
   ]
  },
  {
   "cell_type": "code",
   "execution_count": 128,
   "metadata": {},
   "outputs": [
    {
     "name": "stdout",
     "output_type": "stream",
     "text": [
      "     hcpcs_code  avg_med_amt_17  avg_med_amt_16  avg_med_amt_15\n",
      "0         00103      153.987151      151.402464      156.469230\n",
      "1         00104       81.402022       81.109388       83.049154\n",
      "2         00120      185.990211      187.184187      197.825921\n",
      "3         00126       77.143073       77.420606       81.089396\n",
      "4         00140      140.419330      140.199532      147.596819\n",
      "...         ...             ...             ...             ...\n",
      "3065      Q4110       66.587918       39.104372       37.115946\n",
      "3066      Q9962        0.209927        0.200000        0.200000\n",
      "3067      Q9965        0.832785        0.854934        0.986658\n",
      "3068      Q9967        0.125239        0.124301        0.152614\n",
      "3069      R0070      211.460000      209.370000      206.069041\n",
      "\n",
      "[3070 rows x 4 columns]\n"
     ]
    }
   ],
   "source": [
    "phys_med_if_group = phys_med_indv_F.groupby('hcpcs_code').mean()\n",
    "phys_med_if_group = phys_med_if_group.reset_index()\n",
    "print(phys_med_if_group)"
   ]
  },
  {
   "cell_type": "code",
   "execution_count": 129,
   "metadata": {},
   "outputs": [],
   "source": [
    "phys_med_if_group['16/17_med_chng'] = abs(phys_med_if_group['avg_med_amt_17'] - phys_med_if_group['avg_med_amt_16'])\n",
    "phys_med_if_group['15/16_med_chng'] = abs(phys_med_if_group['avg_med_amt_16'] - phys_med_if_group['avg_med_amt_15'])\n",
    "phys_med_if_group['15/17_med_chng'] = abs(phys_med_if_group['avg_med_amt_17'] - phys_med_if_group['avg_med_amt_15'])"
   ]
  },
  {
   "cell_type": "code",
   "execution_count": 130,
   "metadata": {},
   "outputs": [
    {
     "name": "stdout",
     "output_type": "stream",
     "text": [
      "     hcpcs_code  avg_med_amt_17  avg_med_amt_16  16/17_med_chng\n",
      "1666      61592     1425.524706     2044.420571      618.895866\n",
      "1464      50722      883.019231      429.300000      453.719231\n",
      "848       31599     1031.115545      580.396331      450.719214\n",
      "1910      67105      256.870000      610.705000      353.835000\n",
      "800       29914      748.496667      406.117857      342.378810\n"
     ]
    }
   ],
   "source": [
    "phys_med_if_1617 = phys_med_if_group.sort_values(by=['16/17_med_chng'], ascending=False).head()\n",
    "phys_med_if_1617 = phys_med_if_1617.drop(columns={'avg_med_amt_15', '15/16_med_chng', '15/17_med_chng'})\n",
    "print(phys_med_if_1617)"
   ]
  },
  {
   "cell_type": "code",
   "execution_count": 131,
   "metadata": {
    "scrolled": true
   },
   "outputs": [
    {
     "name": "stdout",
     "output_type": "stream",
     "text": [
      "     hcpcs_code  avg_med_amt_16  avg_med_amt_15  15/16_med_chng\n",
      "1920      67228      309.640346      959.183982      649.543636\n",
      "1667      61601     2751.819333     2212.509286      539.310048\n",
      "1467      50820     1792.720937     1310.598636      482.122301\n",
      "1665      61590     2695.060000     3080.550435      385.490435\n",
      "2573      91112      107.103421      474.617500      367.514079\n"
     ]
    }
   ],
   "source": [
    "phys_med_if_1516 = phys_med_if_group.sort_values(by=['15/16_med_chng'], ascending=False).head()\n",
    "phys_med_if_1516 = phys_med_if_1516.drop(columns={'avg_med_amt_17', '16/17_med_chng', '15/17_med_chng'})\n",
    "print(phys_med_if_1516)"
   ]
  },
  {
   "cell_type": "code",
   "execution_count": 132,
   "metadata": {},
   "outputs": [
    {
     "name": "stdout",
     "output_type": "stream",
     "text": [
      "     hcpcs_code  avg_med_amt_17  avg_med_amt_15  15/17_med_chng\n",
      "1666      61592     1425.524706     2106.550741      681.026035\n",
      "1920      67228      309.598734      959.183982      649.585248\n",
      "1467      50820     1906.702727     1310.598636      596.104091\n",
      "1503      51999     2171.255375     1631.389033      539.866342\n",
      "848       31599     1031.115545      560.512778      470.602767\n"
     ]
    }
   ],
   "source": [
    "phys_med_if_1517 = phys_med_if_group.sort_values(by=['15/17_med_chng'], ascending=False).head()\n",
    "phys_med_if_1517 = phys_med_if_1517.drop(columns={'avg_med_amt_16', '15/16_med_chng', '16/17_med_chng'})\n",
    "print(phys_med_if_1517)"
   ]
  },
  {
   "cell_type": "code",
   "execution_count": 133,
   "metadata": {
    "scrolled": true
   },
   "outputs": [
    {
     "name": "stdout",
     "output_type": "stream",
     "text": [
      "     hcpcs_code  avg_med_amt_17  avg_med_amt_16  avg_med_amt_15\n",
      "0         0159T       12.945800       13.104211       12.013852\n",
      "1         0297T      335.272381      320.057977      315.872825\n",
      "2         0379T       74.378447       74.229995       74.230000\n",
      "3         10022      145.493419      145.813333      146.579176\n",
      "4         19083      602.640000      596.460000      579.040909\n",
      "...         ...             ...             ...             ...\n",
      "1491      Q9965        0.823380        0.856529        0.971121\n",
      "1492      Q9966        0.253390        0.174300        0.195898\n",
      "1493      Q9967        0.128265        0.126530        0.153006\n",
      "1494      R0070      179.203977      177.992147      177.311890\n",
      "1495      R0075       76.589686       76.103854       75.633516\n",
      "\n",
      "[1496 rows x 4 columns]\n"
     ]
    }
   ],
   "source": [
    "phys_med_oo_group = phys_med_org_O.groupby('hcpcs_code').mean()\n",
    "phys_med_oo_group = phys_med_oo_group.reset_index()\n",
    "print(phys_med_oo_group)"
   ]
  },
  {
   "cell_type": "code",
   "execution_count": 134,
   "metadata": {},
   "outputs": [],
   "source": [
    "phys_med_oo_group['16/17_med_chng'] = abs(phys_med_oo_group['avg_med_amt_17'] - phys_med_oo_group['avg_med_amt_16'])\n",
    "phys_med_oo_group['15/16_med_chng'] = abs(phys_med_oo_group['avg_med_amt_16'] - phys_med_oo_group['avg_med_amt_15'])\n",
    "phys_med_oo_group['15/17_med_chng'] = abs(phys_med_oo_group['avg_med_amt_17'] - phys_med_oo_group['avg_med_amt_15'])"
   ]
  },
  {
   "cell_type": "code",
   "execution_count": 135,
   "metadata": {},
   "outputs": [
    {
     "name": "stdout",
     "output_type": "stream",
     "text": [
      "     hcpcs_code  avg_med_amt_17  avg_med_amt_16  16/17_med_chng\n",
      "1444      J7187    42280.125522    34201.918387     8078.207135\n",
      "1445      J7190        2.195144     5206.283813     5204.088669\n",
      "1447      J7195    25003.926636    29024.583734     4020.657099\n",
      "1446      J7192    17266.087675    21000.894385     3734.806709\n",
      "1475      Q0495     4168.057531     4601.564074      433.506543\n"
     ]
    }
   ],
   "source": [
    "phys_med_oo_1617 = phys_med_oo_group.sort_values(by=['16/17_med_chng'], ascending=False).head()\n",
    "phys_med_oo_1617 = phys_med_oo_1617.drop(columns={'avg_med_amt_15', '15/16_med_chng', '15/17_med_chng'})\n",
    "print(phys_med_oo_1617)"
   ]
  },
  {
   "cell_type": "code",
   "execution_count": 136,
   "metadata": {},
   "outputs": [
    {
     "name": "stdout",
     "output_type": "stream",
     "text": [
      "     hcpcs_code  avg_med_amt_16  avg_med_amt_15  15/16_med_chng\n",
      "1444      J7187    34201.918387    23863.910069    10338.008318\n",
      "1445      J7190     5206.283813     7549.290722     2343.006909\n",
      "1447      J7195    29024.583734    30536.542002     1511.958268\n",
      "1446      J7192    21000.894385    19813.444168     1187.450217\n",
      "253       77371     1735.268750      742.704444      992.564306\n"
     ]
    }
   ],
   "source": [
    "phys_med_oo_1516 = phys_med_oo_group.sort_values(by=['15/16_med_chng'], ascending=False).head()\n",
    "phys_med_oo_1516 = phys_med_oo_1516.drop(columns={'avg_med_amt_17', '16/17_med_chng', '15/17_med_chng'})\n",
    "print(phys_med_oo_1516)"
   ]
  },
  {
   "cell_type": "code",
   "execution_count": 137,
   "metadata": {},
   "outputs": [
    {
     "name": "stdout",
     "output_type": "stream",
     "text": [
      "     hcpcs_code  avg_med_amt_17  avg_med_amt_15  15/17_med_chng\n",
      "1444      J7187    42280.125522    23863.910069    18416.215453\n",
      "1445      J7190        2.195144     7549.290722     7547.095578\n",
      "1447      J7195    25003.926636    30536.542002     5532.615366\n",
      "1446      J7192    17266.087675    19813.444168     2547.356493\n",
      "253       77371     1772.950000      742.704444     1030.245556\n"
     ]
    }
   ],
   "source": [
    "phys_med_oo_1517 = phys_med_oo_group.sort_values(by=['15/17_med_chng'], ascending=False).head()\n",
    "phys_med_oo_1517 = phys_med_oo_1517.drop(columns={'avg_med_amt_16', '15/16_med_chng', '16/17_med_chng'})\n",
    "print(phys_med_oo_1517)"
   ]
  },
  {
   "cell_type": "code",
   "execution_count": 138,
   "metadata": {},
   "outputs": [
    {
     "name": "stdout",
     "output_type": "stream",
     "text": [
      "    hcpcs_code  avg_med_amt_17  avg_med_amt_16  avg_med_amt_15\n",
      "0        0191T     2609.349203     1821.750155     1739.184283\n",
      "1        10022      100.968646      100.540024      100.962067\n",
      "2        11012      675.319333      567.479412      249.786667\n",
      "3        11042      128.391999      105.670336      138.334541\n",
      "4        11043      205.996707      199.363127      145.194453\n",
      "..         ...             ...             ...             ...\n",
      "991      Q0092       25.725744       25.769404       25.797466\n",
      "992      Q2037       17.690000       16.280000       15.830000\n",
      "993      R0070      186.152237      184.650692      184.016982\n",
      "994      R0075       82.599440       81.751214       83.108256\n",
      "995      V2785     3862.016777     3804.056408     3298.850972\n",
      "\n",
      "[996 rows x 4 columns]\n"
     ]
    }
   ],
   "source": [
    "phys_med_of_group = phys_med_org_F.groupby('hcpcs_code').mean()\n",
    "phys_med_of_group = phys_med_of_group.reset_index()\n",
    "print(phys_med_of_group)"
   ]
  },
  {
   "cell_type": "code",
   "execution_count": 139,
   "metadata": {},
   "outputs": [],
   "source": [
    "phys_med_of_group['16/17_med_chng'] = abs(phys_med_of_group['avg_med_amt_17'] - phys_med_of_group['avg_med_amt_16'])\n",
    "phys_med_of_group['15/16_med_chng'] = abs(phys_med_of_group['avg_med_amt_16'] - phys_med_of_group['avg_med_amt_15'])\n",
    "phys_med_of_group['15/17_med_chng'] = abs(phys_med_of_group['avg_med_amt_17'] - phys_med_of_group['avg_med_amt_15'])"
   ]
  },
  {
   "cell_type": "code",
   "execution_count": 140,
   "metadata": {},
   "outputs": [
    {
     "name": "stdout",
     "output_type": "stream",
     "text": [
      "    hcpcs_code  avg_med_amt_17  avg_med_amt_16  16/17_med_chng\n",
      "485      64575     9495.304583     4330.190000     5165.114583\n",
      "220      28730     6780.870000     3329.220000     3451.650000\n",
      "282      33264    24362.086026    26318.603125     1956.517100\n",
      "160      25320     2470.415294      654.286410     1816.128884\n",
      "531      66225     2001.486346      569.739292     1431.747054\n"
     ]
    }
   ],
   "source": [
    "phys_med_of_1617 = phys_med_of_group.sort_values(by=['16/17_med_chng'], ascending=False).head()\n",
    "phys_med_of_1617 = phys_med_of_1617.drop(columns={'avg_med_amt_15', '15/16_med_chng', '15/17_med_chng'})\n",
    "print(phys_med_of_1617)"
   ]
  },
  {
   "cell_type": "code",
   "execution_count": 141,
   "metadata": {},
   "outputs": [
    {
     "name": "stdout",
     "output_type": "stream",
     "text": [
      "    hcpcs_code  avg_med_amt_16  avg_med_amt_15  15/16_med_chng\n",
      "632      69930    29795.304200    27903.864054     1891.440146\n",
      "123      20902     2564.293812      725.633333     1838.660479\n",
      "163      25608     2431.889573     4170.547018     1738.657445\n",
      "282      33264    26318.603125    28020.960000     1702.356875\n",
      "164      25609     2548.176698     4212.366124     1664.189426\n"
     ]
    }
   ],
   "source": [
    "phys_med_of_1516 = phys_med_of_group.sort_values(by=['15/16_med_chng'], ascending=False).head()\n",
    "phys_med_of_1516 = phys_med_of_1516.drop(columns={'avg_med_amt_17', '16/17_med_chng', '15/17_med_chng'})\n",
    "print(phys_med_of_1516)"
   ]
  },
  {
   "cell_type": "code",
   "execution_count": 142,
   "metadata": {},
   "outputs": [
    {
     "name": "stdout",
     "output_type": "stream",
     "text": [
      "    hcpcs_code  avg_med_amt_17  avg_med_amt_15  15/17_med_chng\n",
      "485      64575     9495.304583     4135.850000     5359.454583\n",
      "220      28730     6780.870000     2507.134286     4273.735714\n",
      "282      33264    24362.086026    28020.960000     3658.873974\n",
      "632      69930    30720.781782    27903.864054     2816.917729\n",
      "233      29825     1624.120000     3147.276410     1523.156410\n"
     ]
    }
   ],
   "source": [
    "phys_med_of_1517 = phys_med_of_group.sort_values(by=['15/17_med_chng'], ascending=False).head()\n",
    "phys_med_of_1517 = phys_med_of_1517.drop(columns={'avg_med_amt_16', '15/16_med_chng', '16/17_med_chng'})\n",
    "print(phys_med_of_1517)"
   ]
  },
  {
   "cell_type": "code",
   "execution_count": 143,
   "metadata": {},
   "outputs": [
    {
     "name": "stdout",
     "output_type": "stream",
     "text": [
      "<class 'pandas.core.frame.DataFrame'>\n",
      "Int64Index: 6129537 entries, 0 to 6129536\n",
      "Data columns (total 7 columns):\n",
      " #   Column             Dtype  \n",
      "---  ------             -----  \n",
      " 0   npi                object \n",
      " 1   nppes_entity_code  object \n",
      " 2   place_of_service   object \n",
      " 3   hcpcs_code         object \n",
      " 4   srvc_cnt_17        float64\n",
      " 5   srvc_cnt_16        float64\n",
      " 6   srvc_cnt_15        float64\n",
      "dtypes: float64(3), object(4)\n",
      "memory usage: 374.1+ MB\n",
      "None\n",
      "(6129537, 7)\n"
     ]
    }
   ],
   "source": [
    "phys_join_srvc = phys_join.drop(columns={'nppes_provider_last_org_name', 'nppes_provider_zip', 'nppes_provider_state', 'provider_type', 'avg_med_amt_17', 'avg_med_amt_16', 'avg_med_amt_15'})\n",
    "print(phys_join_srvc.info())\n",
    "print(np.shape(phys_join_srvc))"
   ]
  },
  {
   "cell_type": "code",
   "execution_count": 144,
   "metadata": {},
   "outputs": [
    {
     "name": "stdout",
     "output_type": "stream",
     "text": [
      "(5827702, 7)\n"
     ]
    }
   ],
   "source": [
    "phys_srvc_indv_O = phys_join_srvc[phys_join_srvc['nppes_entity_code'] == 'I']\n",
    "print(np.shape(phys_srvc_indv_O))"
   ]
  },
  {
   "cell_type": "code",
   "execution_count": 145,
   "metadata": {},
   "outputs": [
    {
     "name": "stdout",
     "output_type": "stream",
     "text": [
      "(2304717, 7)\n"
     ]
    }
   ],
   "source": [
    "phys_srvc_indv_F = phys_srvc_indv_O[phys_srvc_indv_O['place_of_service'] == 'F']\n",
    "print(np.shape(phys_srvc_indv_F))"
   ]
  },
  {
   "cell_type": "code",
   "execution_count": 146,
   "metadata": {},
   "outputs": [
    {
     "name": "stdout",
     "output_type": "stream",
     "text": [
      "(3522985, 7)\n"
     ]
    }
   ],
   "source": [
    "phys_srvc_indv_O = phys_srvc_indv_O[phys_srvc_indv_O['place_of_service'] == 'O']\n",
    "print(np.shape(phys_srvc_indv_O))"
   ]
  },
  {
   "cell_type": "code",
   "execution_count": 147,
   "metadata": {},
   "outputs": [
    {
     "name": "stdout",
     "output_type": "stream",
     "text": [
      "(301834, 7)\n"
     ]
    }
   ],
   "source": [
    "phys_srvc_org_O = phys_join_srvc[phys_join_srvc['nppes_entity_code'] == 'O']\n",
    "print(np.shape(phys_srvc_org_O))"
   ]
  },
  {
   "cell_type": "code",
   "execution_count": 148,
   "metadata": {},
   "outputs": [
    {
     "name": "stdout",
     "output_type": "stream",
     "text": [
      "(70079, 7)\n"
     ]
    }
   ],
   "source": [
    "phys_srvc_org_F = phys_srvc_org_O[phys_srvc_org_O['place_of_service'] == 'F']\n",
    "print(np.shape(phys_srvc_org_F))"
   ]
  },
  {
   "cell_type": "code",
   "execution_count": 149,
   "metadata": {},
   "outputs": [
    {
     "name": "stdout",
     "output_type": "stream",
     "text": [
      "(231755, 7)\n"
     ]
    }
   ],
   "source": [
    "phys_srvc_org_O = phys_srvc_org_O[phys_srvc_org_O['place_of_service'] == 'O']\n",
    "print(np.shape(phys_srvc_org_O))"
   ]
  },
  {
   "cell_type": "code",
   "execution_count": 150,
   "metadata": {},
   "outputs": [
    {
     "name": "stdout",
     "output_type": "stream",
     "text": [
      "     hcpcs_code  srvc_cnt_17  srvc_cnt_16  srvc_cnt_15\n",
      "0         00103         29.0         40.0         54.0\n",
      "1         00142        823.0       1069.0        218.0\n",
      "2         00160        118.0        134.0        182.0\n",
      "3         00170        271.0        399.0        395.0\n",
      "4         00300        723.0        636.0        311.0\n",
      "...         ...          ...          ...          ...\n",
      "3163      Q9967     901845.0     964852.0     898461.0\n",
      "3164      Q9969       2153.0       2150.0       1524.0\n",
      "3165      R0070       3741.0       3469.0       3268.0\n",
      "3166      R0075        497.0        374.0        428.0\n",
      "3167      V2632         89.0         98.0        103.0\n",
      "\n",
      "[3168 rows x 4 columns]\n"
     ]
    }
   ],
   "source": [
    "phys_srvc_io_group = phys_srvc_indv_O.groupby('hcpcs_code').sum()\n",
    "phys_srvc_io_group = phys_srvc_io_group.reset_index()\n",
    "print(phys_srvc_io_group)"
   ]
  },
  {
   "cell_type": "code",
   "execution_count": 151,
   "metadata": {},
   "outputs": [],
   "source": [
    "phys_srvc_io_group['16/17_srvc_chng'] = abs(phys_srvc_io_group['srvc_cnt_17'] - phys_srvc_io_group['srvc_cnt_16'])\n",
    "phys_srvc_io_group['15/16_srvc_chng'] = abs(phys_srvc_io_group['srvc_cnt_16'] - phys_srvc_io_group['srvc_cnt_15'])\n",
    "phys_srvc_io_group['15/17_srvc_chng'] = abs(phys_srvc_io_group['srvc_cnt_17'] - phys_srvc_io_group['srvc_cnt_15'])"
   ]
  },
  {
   "cell_type": "code",
   "execution_count": 152,
   "metadata": {},
   "outputs": [
    {
     "name": "stdout",
     "output_type": "stream",
     "text": [
      "     hcpcs_code  srvc_cnt_17  srvc_cnt_16  16/17_srvc_chng\n",
      "2635      99213   80090935.0   84022707.0        3931772.0\n",
      "527       36415   23146574.0   24284323.0        1137749.0\n",
      "2591      97110   23652095.0   24715274.0        1063179.0\n",
      "2634      99212    9030002.0   10010413.0         980411.0\n",
      "2636      99214   82722714.0   83666390.0         943676.0\n"
     ]
    }
   ],
   "source": [
    "phys_srvc_io_1617 = phys_srvc_io_group.sort_values(by=['16/17_srvc_chng'], ascending=False).head()\n",
    "phys_srvc_io_1617 = phys_srvc_io_1617.drop(columns={'srvc_cnt_15', '15/16_srvc_chng', '15/17_srvc_chng'})\n",
    "print(phys_srvc_io_1617)"
   ]
  },
  {
   "cell_type": "code",
   "execution_count": 153,
   "metadata": {},
   "outputs": [
    {
     "name": "stdout",
     "output_type": "stream",
     "text": [
      "     hcpcs_code  srvc_cnt_16  srvc_cnt_15  15/16_srvc_chng\n",
      "2636      99214   83666390.0   77641968.0        6024422.0\n",
      "2635      99213   84022707.0   81283764.0        2738943.0\n",
      "2591      97110   24715274.0   22505532.0        2209742.0\n",
      "2596      97140   16359659.0   14844857.0        1514802.0\n",
      "2135      90670    1627781.0    2659971.0        1032190.0\n"
     ]
    }
   ],
   "source": [
    "phys_srvc_io_1516 = phys_srvc_io_group.sort_values(by=['15/16_srvc_chng'], ascending=False).head()\n",
    "phys_srvc_io_1516 = phys_srvc_io_1516.drop(columns={'srvc_cnt_17', '16/17_srvc_chng', '15/17_srvc_chng'})\n",
    "print(phys_srvc_io_1516)"
   ]
  },
  {
   "cell_type": "code",
   "execution_count": 154,
   "metadata": {},
   "outputs": [
    {
     "name": "stdout",
     "output_type": "stream",
     "text": [
      "     hcpcs_code  srvc_cnt_17  srvc_cnt_15  15/17_srvc_chng\n",
      "2636      99214   82722714.0   77641968.0        5080746.0\n",
      "2135      90670     915221.0    2659971.0        1744750.0\n",
      "2729      G0009    1779426.0    3306916.0        1527490.0\n",
      "2635      99213   80090935.0   81283764.0        1192829.0\n",
      "2803      G0439    4760154.0    3589550.0        1170604.0\n"
     ]
    }
   ],
   "source": [
    "phys_srvc_io_1517 = phys_srvc_io_group.sort_values(by=['15/17_srvc_chng'], ascending=False).head()\n",
    "phys_srvc_io_1517 = phys_srvc_io_1517.drop(columns={'srvc_cnt_16', '15/16_srvc_chng', '16/17_srvc_chng'})\n",
    "print(phys_srvc_io_1517)"
   ]
  },
  {
   "cell_type": "code",
   "execution_count": 155,
   "metadata": {},
   "outputs": [
    {
     "name": "stdout",
     "output_type": "stream",
     "text": [
      "     hcpcs_code  srvc_cnt_17  srvc_cnt_16  srvc_cnt_15\n",
      "0         00103      43398.0      45747.0      43769.0\n",
      "1         00104      82596.0      91620.0      90153.0\n",
      "2         00120       1374.0       1508.0       1352.0\n",
      "3         00126        247.0        256.0        249.0\n",
      "4         00140      68364.0      70652.0      63269.0\n",
      "...         ...          ...          ...          ...\n",
      "3065      Q4110         86.0         67.0         70.0\n",
      "3066      Q9962        412.0        332.0        297.0\n",
      "3067      Q9965        292.0        290.0        380.0\n",
      "3068      Q9967        209.0        301.0        237.0\n",
      "3069      R0070        120.0         94.0         73.0\n",
      "\n",
      "[3070 rows x 4 columns]\n"
     ]
    }
   ],
   "source": [
    "phys_srvc_if_group = phys_srvc_indv_F.groupby('hcpcs_code').sum()\n",
    "phys_srvc_if_group = phys_srvc_if_group.reset_index()\n",
    "print(phys_srvc_if_group)"
   ]
  },
  {
   "cell_type": "code",
   "execution_count": 156,
   "metadata": {},
   "outputs": [],
   "source": [
    "phys_srvc_if_group['16/17_srvc_chng'] = abs(phys_srvc_if_group['srvc_cnt_17'] - phys_srvc_if_group['srvc_cnt_16'])\n",
    "phys_srvc_if_group['15/16_srvc_chng'] = abs(phys_srvc_if_group['srvc_cnt_16'] - phys_srvc_if_group['srvc_cnt_15'])\n",
    "phys_srvc_if_group['15/17_srvc_chng'] = abs(phys_srvc_if_group['srvc_cnt_17'] - phys_srvc_if_group['srvc_cnt_15'])"
   ]
  },
  {
   "cell_type": "code",
   "execution_count": 157,
   "metadata": {},
   "outputs": [
    {
     "name": "stdout",
     "output_type": "stream",
     "text": [
      "     hcpcs_code  srvc_cnt_17  srvc_cnt_16  16/17_srvc_chng\n",
      "2946      99232   39510956.0   42320734.0        2809778.0\n",
      "2947      99233   18404797.0   19225307.0         820510.0\n",
      "2945      99231    5250182.0    5951748.0         701566.0\n",
      "2054      71010   14378326.0   14990924.0         612598.0\n",
      "2654      93010   14968895.0   15536949.0         568054.0\n"
     ]
    }
   ],
   "source": [
    "phys_srvc_if_1617 = phys_srvc_if_group.sort_values(by=['16/17_srvc_chng'], ascending=False).head()\n",
    "phys_srvc_if_1617 = phys_srvc_if_1617.drop(columns={'srvc_cnt_15', '15/16_srvc_chng', '15/17_srvc_chng'})\n",
    "print(phys_srvc_if_1617)"
   ]
  },
  {
   "cell_type": "code",
   "execution_count": 158,
   "metadata": {},
   "outputs": [
    {
     "name": "stdout",
     "output_type": "stream",
     "text": [
      "     hcpcs_code  srvc_cnt_16  srvc_cnt_15  15/16_srvc_chng\n",
      "2947      99233   19225307.0   18642832.0         582475.0\n",
      "2654      93010   15536949.0   15080844.0         456105.0\n",
      "2100      72170     412229.0     781805.0         369576.0\n",
      "2957      99285   10852400.0   10548413.0         303987.0\n",
      "2946      99232   42320734.0   42050908.0         269826.0\n"
     ]
    }
   ],
   "source": [
    "phys_srvc_if_1516 = phys_srvc_if_group.sort_values(by=['15/16_srvc_chng'], ascending=False).head()\n",
    "phys_srvc_if_1516 = phys_srvc_if_1516.drop(columns={'srvc_cnt_17', '16/17_srvc_chng', '15/17_srvc_chng'})\n",
    "print(phys_srvc_if_1516)"
   ]
  },
  {
   "cell_type": "code",
   "execution_count": 159,
   "metadata": {},
   "outputs": [
    {
     "name": "stdout",
     "output_type": "stream",
     "text": [
      "     hcpcs_code  srvc_cnt_17  srvc_cnt_15  15/17_srvc_chng\n",
      "2946      99232   39510956.0   42050908.0        2539952.0\n",
      "2945      99231    5250182.0    6036295.0         786113.0\n",
      "2056      71020    7270772.0    7900631.0         629859.0\n",
      "2054      71010   14378326.0   14890614.0         512288.0\n",
      "2941      99223    8601304.0    9067946.0         466642.0\n"
     ]
    }
   ],
   "source": [
    "phys_srvc_if_1517 = phys_srvc_if_group.sort_values(by=['15/17_srvc_chng'], ascending=False).head()\n",
    "phys_srvc_if_1517 = phys_srvc_if_1517.drop(columns={'srvc_cnt_16', '15/16_srvc_chng', '16/17_srvc_chng'})\n",
    "print(phys_srvc_if_1517)"
   ]
  },
  {
   "cell_type": "code",
   "execution_count": 160,
   "metadata": {},
   "outputs": [
    {
     "name": "stdout",
     "output_type": "stream",
     "text": [
      "     hcpcs_code  srvc_cnt_17  srvc_cnt_16  srvc_cnt_15\n",
      "0         0159T        482.0        524.0        452.0\n",
      "1         0297T      96380.0      65881.0      36186.0\n",
      "2         0379T      33752.0      14651.0        415.0\n",
      "3         10022        470.0        400.0        399.0\n",
      "4         19083         14.0         19.0         22.0\n",
      "...         ...          ...          ...          ...\n",
      "1491      Q9965        463.0        698.0        714.0\n",
      "1492      Q9966       2772.0       2667.0       2723.0\n",
      "1493      Q9967      92494.0      88655.0      82306.0\n",
      "1494      R0070     932169.0     946886.0     962023.0\n",
      "1495      R0075     440400.0     422303.0     434190.0\n",
      "\n",
      "[1496 rows x 4 columns]\n"
     ]
    }
   ],
   "source": [
    "phys_srvc_oo_group = phys_srvc_org_O.groupby('hcpcs_code').sum()\n",
    "phys_srvc_oo_group = phys_srvc_oo_group.reset_index()\n",
    "print(phys_srvc_oo_group)"
   ]
  },
  {
   "cell_type": "code",
   "execution_count": 196,
   "metadata": {},
   "outputs": [],
   "source": [
    "phys_srvc_oo_group['16/17_srvc_chng'] = abs(phys_srvc_oo_group['srvc_cnt_17'] - phys_srvc_oo_group['srvc_cnt_16'])\n",
    "phys_srvc_oo_group['15/16_srvc_chng'] = abs(phys_srvc_oo_group['srvc_cnt_16'] - phys_srvc_oo_group['srvc_cnt_15'])\n",
    "phys_srvc_oo_group['15/17_srvc_chng'] = abs(phys_srvc_oo_group['srvc_cnt_17'] - phys_srvc_oo_group['srvc_cnt_15'])"
   ]
  },
  {
   "cell_type": "code",
   "execution_count": 197,
   "metadata": {},
   "outputs": [
    {
     "name": "stdout",
     "output_type": "stream",
     "text": [
      "     hcpcs_code  srvc_cnt_17  srvc_cnt_16  16/17_srvc_chng\n",
      "1384      G0008    6421609.0    5735297.0         686312.0\n",
      "789       85610    4782082.0    5456265.0         674183.0\n",
      "9         36415   23333900.0   23882082.0         548182.0\n",
      "946       86803     677768.0     429930.0         247838.0\n",
      "561       83036    9399389.0    9198104.0         201285.0\n"
     ]
    }
   ],
   "source": [
    "phys_srvc_oo_1617 = phys_srvc_oo_group.sort_values(by=['16/17_srvc_chng'], ascending=False).head()\n",
    "phys_srvc_oo_1617 = phys_srvc_oo_1617.drop(columns={'srvc_cnt_15', '15/16_srvc_chng', '15/17_srvc_chng'})\n",
    "print(phys_srvc_oo_1617)"
   ]
  },
  {
   "cell_type": "code",
   "execution_count": 198,
   "metadata": {},
   "outputs": [
    {
     "name": "stdout",
     "output_type": "stream",
     "text": [
      "    hcpcs_code  srvc_cnt_16  srvc_cnt_15  15/16_srvc_chng\n",
      "291      80053   20779151.0   20101160.0         677991.0\n",
      "731      85025   17857126.0   17234187.0         622939.0\n",
      "292      80061   14033727.0   13481133.0         552594.0\n",
      "789      85610    5456265.0    5976237.0         519972.0\n",
      "561      83036    9198104.0    8702702.0         495402.0\n"
     ]
    }
   ],
   "source": [
    "phys_srvc_oo_1516 = phys_srvc_oo_group.sort_values(by=['15/16_srvc_chng'], ascending=False).head()\n",
    "phys_srvc_oo_1516 = phys_srvc_oo_1516.drop(columns={'srvc_cnt_17', '16/17_srvc_chng', '15/17_srvc_chng'})\n",
    "print(phys_srvc_oo_1516)"
   ]
  },
  {
   "cell_type": "code",
   "execution_count": 199,
   "metadata": {},
   "outputs": [
    {
     "name": "stdout",
     "output_type": "stream",
     "text": [
      "     hcpcs_code  srvc_cnt_17  srvc_cnt_15  15/17_srvc_chng\n",
      "789       85610    4782082.0    5976237.0        1194155.0\n",
      "1384      G0008    6421609.0    5660065.0         761544.0\n",
      "561       83036    9399389.0    8702702.0         696687.0\n",
      "731       85025   17867618.0   17234187.0         633431.0\n",
      "291       80053   20654814.0   20101160.0         553654.0\n"
     ]
    }
   ],
   "source": [
    "phys_srvc_oo_1517 = phys_srvc_oo_group.sort_values(by=['15/17_srvc_chng'], ascending=False).head()\n",
    "phys_srvc_oo_1517 = phys_srvc_oo_1517.drop(columns={'srvc_cnt_16', '15/16_srvc_chng', '16/17_srvc_chng'})\n",
    "print(phys_srvc_oo_1517)"
   ]
  },
  {
   "cell_type": "code",
   "execution_count": 200,
   "metadata": {},
   "outputs": [
    {
     "name": "stdout",
     "output_type": "stream",
     "text": [
      "    hcpcs_code  srvc_cnt_17  srvc_cnt_16  srvc_cnt_15\n",
      "0        0191T      22913.0      23358.0      18396.0\n",
      "1        10022        131.0        118.0        102.0\n",
      "2        11012         14.0         15.0         16.0\n",
      "3        11042      12413.0       6353.0       3445.0\n",
      "4        11043       1132.0       6299.0       1114.0\n",
      "..         ...          ...          ...          ...\n",
      "991      Q0092      40068.0      46617.0      38907.0\n",
      "992      Q2037         35.0         45.0        229.0\n",
      "993      R0070      26636.0      31616.0      27605.0\n",
      "994      R0075      13467.0      13997.0      10801.0\n",
      "995      V2785       7676.0       7982.0       9062.0\n",
      "\n",
      "[996 rows x 4 columns]\n"
     ]
    }
   ],
   "source": [
    "phys_srvc_of_group = phys_srvc_org_F.groupby('hcpcs_code').sum()\n",
    "phys_srvc_of_group = phys_srvc_of_group.reset_index()\n",
    "print(phys_srvc_of_group)"
   ]
  },
  {
   "cell_type": "code",
   "execution_count": 201,
   "metadata": {},
   "outputs": [],
   "source": [
    "phys_srvc_of_group['16/17_srvc_chng'] = abs(phys_srvc_of_group['srvc_cnt_17'] - phys_srvc_of_group['srvc_cnt_16'])\n",
    "phys_srvc_of_group['15/16_srvc_chng'] = abs(phys_srvc_of_group['srvc_cnt_16'] - phys_srvc_of_group['srvc_cnt_15'])\n",
    "phys_srvc_of_group['15/17_srvc_chng'] = abs(phys_srvc_of_group['srvc_cnt_17'] - phys_srvc_of_group['srvc_cnt_15'])"
   ]
  },
  {
   "cell_type": "code",
   "execution_count": 167,
   "metadata": {},
   "outputs": [
    {
     "name": "stdout",
     "output_type": "stream",
     "text": [
      "    hcpcs_code  srvc_cnt_17  srvc_cnt_16  16/17_srvc_chng\n",
      "949      A0428    3719644.0    3830536.0         110892.0\n",
      "946      A0425   11799504.0   11879449.0          79945.0\n",
      "836      85610      30861.0      94170.0          63309.0\n",
      "648      71010     138731.0     182091.0          43360.0\n",
      "734      80048       3864.0      43644.0          39780.0\n"
     ]
    }
   ],
   "source": [
    "phys_srvc_of_1617 = phys_srvc_of_group.sort_values(by=['16/17_srvc_chng'], ascending=False).head()\n",
    "phys_srvc_of_1617 = phys_srvc_of_1617.drop(columns={'srvc_cnt_15', '15/16_srvc_chng', '15/17_srvc_chng'})\n",
    "print(phys_srvc_of_1617)"
   ]
  },
  {
   "cell_type": "code",
   "execution_count": 168,
   "metadata": {},
   "outputs": [
    {
     "name": "stdout",
     "output_type": "stream",
     "text": [
      "    hcpcs_code  srvc_cnt_16  srvc_cnt_15  15/16_srvc_chng\n",
      "977      G0471    2299166.0    2202687.0          96479.0\n",
      "949      A0428    3830536.0    3918812.0          88276.0\n",
      "950      A0429    2890826.0    2803009.0          87817.0\n",
      "946      A0425   11879449.0   11816245.0          63204.0\n",
      "548      66984    1215476.0    1157046.0          58430.0\n"
     ]
    }
   ],
   "source": [
    "phys_srvc_of_1516 = phys_srvc_of_group.sort_values(by=['15/16_srvc_chng'], ascending=False).head()\n",
    "phys_srvc_of_1516 = phys_srvc_of_1516.drop(columns={'srvc_cnt_17', '16/17_srvc_chng', '15/17_srvc_chng'})\n",
    "print(phys_srvc_of_1516)"
   ]
  },
  {
   "cell_type": "code",
   "execution_count": 169,
   "metadata": {},
   "outputs": [
    {
     "name": "stdout",
     "output_type": "stream",
     "text": [
      "    hcpcs_code  srvc_cnt_17  srvc_cnt_15  15/17_srvc_chng\n",
      "949      A0428    3719644.0    3918812.0         199168.0\n",
      "977      G0471    2325314.0    2202687.0         122627.0\n",
      "836      85610      30861.0     144353.0         113492.0\n",
      "948      A0427    4902347.0    4821553.0          80794.0\n",
      "648      71010     138731.0     206777.0          68046.0\n"
     ]
    }
   ],
   "source": [
    "phys_srvc_of_1517 = phys_srvc_of_group.sort_values(by=['15/17_srvc_chng'], ascending=False).head()\n",
    "phys_srvc_of_1517 = phys_srvc_of_1517.drop(columns={'srvc_cnt_16', '15/16_srvc_chng', '16/17_srvc_chng'})\n",
    "print(phys_srvc_of_1517)"
   ]
  },
  {
   "cell_type": "code",
   "execution_count": 170,
   "metadata": {
    "scrolled": true
   },
   "outputs": [
    {
     "name": "stdout",
     "output_type": "stream",
     "text": [
      "     hcpcs_code  srvc_cnt_17  srvc_cnt_16  16/17_srvc_chng\n",
      "2635      99213   80090935.0   84022707.0        3931772.0\n",
      "527       36415   23146574.0   24284323.0        1137749.0\n",
      "2591      97110   23652095.0   24715274.0        1063179.0\n",
      "2634      99212    9030002.0   10010413.0         980411.0\n",
      "2636      99214   82722714.0   83666390.0         943676.0\n",
      "     hcpcs_code  srvc_cnt_16  srvc_cnt_15  15/16_srvc_chng\n",
      "2636      99214   83666390.0   77641968.0        6024422.0\n",
      "2635      99213   84022707.0   81283764.0        2738943.0\n",
      "2591      97110   24715274.0   22505532.0        2209742.0\n",
      "2596      97140   16359659.0   14844857.0        1514802.0\n",
      "2135      90670    1627781.0    2659971.0        1032190.0\n",
      "     hcpcs_code  srvc_cnt_17  srvc_cnt_15  15/17_srvc_chng\n",
      "2636      99214   82722714.0   77641968.0        5080746.0\n",
      "2135      90670     915221.0    2659971.0        1744750.0\n",
      "2729      G0009    1779426.0    3306916.0        1527490.0\n",
      "2635      99213   80090935.0   81283764.0        1192829.0\n",
      "2803      G0439    4760154.0    3589550.0        1170604.0\n"
     ]
    }
   ],
   "source": [
    "print(phys_srvc_io_1617)\n",
    "print(phys_srvc_io_1516)\n",
    "print(phys_srvc_io_1517)"
   ]
  },
  {
   "cell_type": "code",
   "execution_count": 189,
   "metadata": {},
   "outputs": [
    {
     "data": {
      "image/png": "[encoded data removed]",
      "text/plain": [
       "<Figure size 432x288 with 1 Axes>"
      ]
     },
     "metadata": {
      "needs_background": "light"
     },
     "output_type": "display_data"
    }
   ],
   "source": [
    "plt.bar(phys_srvc_io_1617['hcpcs_code'], phys_srvc_io_1617['16/17_srvc_chng'], color='red')\n",
    "plt.xlabel('hcpcs code')\n",
    "plt.ylabel('change in service count')\n",
    "plt.title('Change in service count for Indiv. in Offices from 2016-17 (Top 5 hcpcs)')\n",
    "plt.show()"
   ]
  },
  {
   "cell_type": "code",
   "execution_count": 190,
   "metadata": {},
   "outputs": [
    {
     "data": {
      "image/png": "[encoded data removed]",
      "text/plain": [
       "<Figure size 432x288 with 1 Axes>"
      ]
     },
     "metadata": {
      "needs_background": "light"
     },
     "output_type": "display_data"
    }
   ],
   "source": [
    "plt.bar(phys_srvc_io_1516['hcpcs_code'], phys_srvc_io_1516['15/16_srvc_chng'], color='blue')\n",
    "plt.xlabel('hcpcs code')\n",
    "plt.ylabel('change in service count')\n",
    "plt.title('Change in service count for Indiv. in Offices from 2015-16 (Top 5 hcpcs)')\n",
    "plt.show()"
   ]
  },
  {
   "cell_type": "code",
   "execution_count": 191,
   "metadata": {},
   "outputs": [
    {
     "data": {
      "image/png": "[encoded data removed]",
      "text/plain": [
       "<Figure size 432x288 with 1 Axes>"
      ]
     },
     "metadata": {
      "needs_background": "light"
     },
     "output_type": "display_data"
    }
   ],
   "source": [
    "plt.bar(phys_srvc_io_1517['hcpcs_code'], phys_srvc_io_1517['15/17_srvc_chng'], color='green')\n",
    "plt.xlabel('hcpcs code')\n",
    "plt.ylabel('change in service count')\n",
    "plt.title('Change in service count for Indiv. in Offices from 2015-17 (Top 5 hcpcs)')\n",
    "plt.show()"
   ]
  },
  {
   "cell_type": "code",
   "execution_count": 171,
   "metadata": {},
   "outputs": [
    {
     "name": "stdout",
     "output_type": "stream",
     "text": [
      "     hcpcs_code  srvc_cnt_17  srvc_cnt_16  16/17_srvc_chng\n",
      "2946      99232   39510956.0   42320734.0        2809778.0\n",
      "2947      99233   18404797.0   19225307.0         820510.0\n",
      "2945      99231    5250182.0    5951748.0         701566.0\n",
      "2054      71010   14378326.0   14990924.0         612598.0\n",
      "2654      93010   14968895.0   15536949.0         568054.0\n",
      "     hcpcs_code  srvc_cnt_16  srvc_cnt_15  15/16_srvc_chng\n",
      "2947      99233   19225307.0   18642832.0         582475.0\n",
      "2654      93010   15536949.0   15080844.0         456105.0\n",
      "2100      72170     412229.0     781805.0         369576.0\n",
      "2957      99285   10852400.0   10548413.0         303987.0\n",
      "2946      99232   42320734.0   42050908.0         269826.0\n",
      "     hcpcs_code  srvc_cnt_17  srvc_cnt_15  15/17_srvc_chng\n",
      "2946      99232   39510956.0   42050908.0        2539952.0\n",
      "2945      99231    5250182.0    6036295.0         786113.0\n",
      "2056      71020    7270772.0    7900631.0         629859.0\n",
      "2054      71010   14378326.0   14890614.0         512288.0\n",
      "2941      99223    8601304.0    9067946.0         466642.0\n"
     ]
    }
   ],
   "source": [
    "print(phys_srvc_if_1617)\n",
    "print(phys_srvc_if_1516)\n",
    "print(phys_srvc_if_1517)"
   ]
  },
  {
   "cell_type": "code",
   "execution_count": 192,
   "metadata": {
    "scrolled": true
   },
   "outputs": [
    {
     "data": {
      "image/png": "[encoded data removed]",
      "text/plain": [
       "<Figure size 432x288 with 1 Axes>"
      ]
     },
     "metadata": {
      "needs_background": "light"
     },
     "output_type": "display_data"
    }
   ],
   "source": [
    "plt.bar(phys_srvc_if_1617['hcpcs_code'], phys_srvc_if_1617['16/17_srvc_chng'], color='red')\n",
    "plt.xlabel('hcpcs code')\n",
    "plt.ylabel('change in service count')\n",
    "plt.title('Change in service count for Indiv. in Facilities from 2016-17 (Top 5 hcpcs)')\n",
    "plt.show()"
   ]
  },
  {
   "cell_type": "code",
   "execution_count": 193,
   "metadata": {},
   "outputs": [
    {
     "data": {
      "image/png": "[encoded data removed]",
      "text/plain": [
       "<Figure size 432x288 with 1 Axes>"
      ]
     },
     "metadata": {
      "needs_background": "light"
     },
     "output_type": "display_data"
    }
   ],
   "source": [
    "plt.bar(phys_srvc_if_1517['hcpcs_code'], phys_srvc_if_1517['15/17_srvc_chng'], color='blue')\n",
    "plt.xlabel('hcpcs code')\n",
    "plt.ylabel('change in service count')\n",
    "plt.title('Change in service count for Indiv. in Facilities from 2015-16 (Top 5 hcpcs)')\n",
    "plt.show()"
   ]
  },
  {
   "cell_type": "code",
   "execution_count": 194,
   "metadata": {},
   "outputs": [
    {
     "data": {
      "image/png": "[encoded data removed]",
      "text/plain": [
       "<Figure size 432x288 with 1 Axes>"
      ]
     },
     "metadata": {
      "needs_background": "light"
     },
     "output_type": "display_data"
    }
   ],
   "source": [
    "plt.bar(phys_srvc_if_1517['hcpcs_code'], phys_srvc_if_1517['15/17_srvc_chng'], color='green')\n",
    "plt.xlabel('hcpcs code')\n",
    "plt.ylabel('change in service count')\n",
    "plt.title('Change in service count for Indiv. in Facilities from 2015-17 (Top 5 hcpcs)')\n",
    "plt.show()"
   ]
  },
  {
   "cell_type": "code",
   "execution_count": 172,
   "metadata": {},
   "outputs": [
    {
     "name": "stdout",
     "output_type": "stream",
     "text": [
      "     hcpcs_code  srvc_cnt_17  srvc_cnt_16  16/17_srvc_chng\n",
      "0         0159T        482.0        524.0       -1426320.0\n",
      "994       87143        247.0        241.0       -1426320.0\n",
      "1003      87176       1662.0       1817.0       -1426320.0\n",
      "1002      87169        508.0        520.0       -1426320.0\n",
      "1001      87168       1515.0       1151.0       -1426320.0\n",
      "     hcpcs_code  srvc_cnt_16  srvc_cnt_15  15/16_srvc_chng\n",
      "0         0159T        524.0        452.0        5168240.0\n",
      "994       87143        241.0        220.0        5168240.0\n",
      "1003      87176       1817.0       1452.0        5168240.0\n",
      "1002      87169        520.0        522.0        5168240.0\n",
      "1001      87168       1151.0       1409.0        5168240.0\n",
      "     hcpcs_code  srvc_cnt_17  srvc_cnt_15  15/17_srvc_chng\n",
      "0         0159T        482.0        452.0        3741920.0\n",
      "994       87143        247.0        220.0        3741920.0\n",
      "1003      87176       1662.0       1452.0        3741920.0\n",
      "1002      87169        508.0        522.0        3741920.0\n",
      "1001      87168       1515.0       1409.0        3741920.0\n"
     ]
    }
   ],
   "source": [
    "print(phys_srvc_oo_1617)\n",
    "print(phys_srvc_oo_1516)\n",
    "print(phys_srvc_oo_1517)"
   ]
  },
  {
   "cell_type": "code",
   "execution_count": 202,
   "metadata": {},
   "outputs": [
    {
     "data": {
      "image/png": "[encoded data removed]",
      "text/plain": [
       "<Figure size 432x288 with 1 Axes>"
      ]
     },
     "metadata": {
      "needs_background": "light"
     },
     "output_type": "display_data"
    }
   ],
   "source": [
    "plt.bar(phys_srvc_oo_1617['hcpcs_code'], phys_srvc_oo_1617['16/17_srvc_chng'], color='red')\n",
    "plt.xlabel('hcpcs code')\n",
    "plt.ylabel('change in service count')\n",
    "plt.title('Change in service count for Orgs. in Offices from 2016-17 (Top 5 hcpcs)')\n",
    "plt.show()"
   ]
  },
  {
   "cell_type": "code",
   "execution_count": 203,
   "metadata": {},
   "outputs": [
    {
     "data": {
      "image/png": "[encoded data removed]",
      "text/plain": [
       "<Figure size 432x288 with 1 Axes>"
      ]
     },
     "metadata": {
      "needs_background": "light"
     },
     "output_type": "display_data"
    }
   ],
   "source": [
    "plt.bar(phys_srvc_oo_1516['hcpcs_code'], phys_srvc_oo_1516['15/16_srvc_chng'], color='blue')\n",
    "plt.xlabel('hcpcs code')\n",
    "plt.ylabel('change in service count')\n",
    "plt.title('Change in service count for Orgs. in Offices from 2015-16 (Top 5 hcpcs)')\n",
    "plt.show()"
   ]
  },
  {
   "cell_type": "code",
   "execution_count": 205,
   "metadata": {},
   "outputs": [
    {
     "data": {
      "image/png": "[encoded data removed]",
      "text/plain": [
       "<Figure size 432x288 with 1 Axes>"
      ]
     },
     "metadata": {
      "needs_background": "light"
     },
     "output_type": "display_data"
    }
   ],
   "source": [
    "plt.bar(phys_srvc_oo_1517['hcpcs_code'], phys_srvc_oo_1517['15/17_srvc_chng'], color='green')\n",
    "plt.xlabel('hcpcs code')\n",
    "plt.ylabel('change in service count')\n",
    "plt.title('Change in service count for Orgs. in Offices from 2015-17 (Top 5 hcpcs)')\n",
    "plt.show()"
   ]
  },
  {
   "cell_type": "code",
   "execution_count": 173,
   "metadata": {},
   "outputs": [
    {
     "name": "stdout",
     "output_type": "stream",
     "text": [
      "    hcpcs_code  srvc_cnt_17  srvc_cnt_16  16/17_srvc_chng\n",
      "949      A0428    3719644.0    3830536.0         110892.0\n",
      "946      A0425   11799504.0   11879449.0          79945.0\n",
      "836      85610      30861.0      94170.0          63309.0\n",
      "648      71010     138731.0     182091.0          43360.0\n",
      "734      80048       3864.0      43644.0          39780.0\n",
      "    hcpcs_code  srvc_cnt_16  srvc_cnt_15  15/16_srvc_chng\n",
      "977      G0471    2299166.0    2202687.0          96479.0\n",
      "949      A0428    3830536.0    3918812.0          88276.0\n",
      "950      A0429    2890826.0    2803009.0          87817.0\n",
      "946      A0425   11879449.0   11816245.0          63204.0\n",
      "548      66984    1215476.0    1157046.0          58430.0\n",
      "    hcpcs_code  srvc_cnt_17  srvc_cnt_15  15/17_srvc_chng\n",
      "949      A0428    3719644.0    3918812.0         199168.0\n",
      "977      G0471    2325314.0    2202687.0         122627.0\n",
      "836      85610      30861.0     144353.0         113492.0\n",
      "948      A0427    4902347.0    4821553.0          80794.0\n",
      "648      71010     138731.0     206777.0          68046.0\n"
     ]
    }
   ],
   "source": [
    "print(phys_srvc_of_1617)\n",
    "print(phys_srvc_of_1516)\n",
    "print(phys_srvc_of_1517)"
   ]
  },
  {
   "cell_type": "code",
   "execution_count": 206,
   "metadata": {},
   "outputs": [
    {
     "data": {
      "image/png": "[encoded data removed]",
      "text/plain": [
       "<Figure size 432x288 with 1 Axes>"
      ]
     },
     "metadata": {
      "needs_background": "light"
     },
     "output_type": "display_data"
    }
   ],
   "source": [
    "plt.bar(phys_srvc_of_1617['hcpcs_code'], phys_srvc_of_1617['16/17_srvc_chng'], color='red')\n",
    "plt.xlabel('hcpcs code')\n",
    "plt.ylabel('change in service count')\n",
    "plt.title('Change in service count for Orgs. in Facilities from 2016-17 (Top 5 hcpcs)')\n",
    "plt.show()"
   ]
  },
  {
   "cell_type": "code",
   "execution_count": 207,
   "metadata": {},
   "outputs": [
    {
     "data": {
      "image/png": "[encoded data removed]",
      "text/plain": [
       "<Figure size 432x288 with 1 Axes>"
      ]
     },
     "metadata": {
      "needs_background": "light"
     },
     "output_type": "display_data"
    }
   ],
   "source": [
    "plt.bar(phys_srvc_of_1516['hcpcs_code'], phys_srvc_of_1516['15/16_srvc_chng'], color='blue')\n",
    "plt.xlabel('hcpcs code')\n",
    "plt.ylabel('change in service count')\n",
    "plt.title('Change in service count for Orgs. in Facilities from 2016-17 (Top 5 hcpcs)')\n",
    "plt.show()"
   ]
  },
  {
   "cell_type": "code",
   "execution_count": 208,
   "metadata": {},
   "outputs": [
    {
     "data": {
      "image/png": "[encoded data removed]",
      "text/plain": [
       "<Figure size 432x288 with 1 Axes>"
      ]
     },
     "metadata": {
      "needs_background": "light"
     },
     "output_type": "display_data"
    }
   ],
   "source": [
    "plt.bar(phys_srvc_of_1517['hcpcs_code'], phys_srvc_of_1517['15/17_srvc_chng'], color='green')\n",
    "plt.xlabel('hcpcs code')\n",
    "plt.ylabel('change in service count')\n",
    "plt.title('Change in service count for Orgs. in Facilities from 2015-17 (Top 5 hcpcs)')\n",
    "plt.show()"
   ]
  },
  {
   "cell_type": "markdown",
   "metadata": {},
   "source": [
    "phys_srvc_io_1617.to_csv('srvc_indv_off_1617.csv')"
   ]
  },
  {
   "cell_type": "markdown",
   "metadata": {},
   "source": [
    "phys_srvc_io_1516.to_csv('srvc_indv_off_1516.csv')"
   ]
  },
  {
   "cell_type": "markdown",
   "metadata": {},
   "source": [
    "phys_srvc_io_1517.to_csv('srvc_indv_off_1517.csv')"
   ]
  },
  {
   "cell_type": "markdown",
   "metadata": {},
   "source": [
    "phys_srvc_if_1617.to_csv('srvc_indv_fac_1617.csv')"
   ]
  },
  {
   "cell_type": "markdown",
   "metadata": {},
   "source": [
    "phys_srvc_if_1516.to_csv('srvc_indv_fac_1516.csv')"
   ]
  },
  {
   "cell_type": "markdown",
   "metadata": {},
   "source": [
    "phys_srvc_if_1517.to_csv('srvc_indv_fac_1517.csv')"
   ]
  },
  {
   "cell_type": "markdown",
   "metadata": {},
   "source": [
    "phys_srvc_oo_1617.to_csv('srvc_org_off_1617.csv')"
   ]
  },
  {
   "cell_type": "markdown",
   "metadata": {},
   "source": [
    "phys_srvc_oo_1516.to_csv('srvc_org_off_1516.csv')"
   ]
  },
  {
   "cell_type": "markdown",
   "metadata": {},
   "source": [
    "phys_srvc_oo_1517.to_csv('srvc_org_off_1517.csv')"
   ]
  },
  {
   "cell_type": "markdown",
   "metadata": {},
   "source": [
    "phys_srvc_of_1617.to_csv('srvc_org_fac_1617.csv')"
   ]
  },
  {
   "cell_type": "markdown",
   "metadata": {},
   "source": [
    "phys_srvc_of_1516.to_csv('srvc_org_fac_1516.csv')"
   ]
  },
  {
   "cell_type": "markdown",
   "metadata": {},
   "source": [
    "phys_srvc_of_1517.to_csv('srvc_org_fac_1517.csv')"
   ]
  },
  {
   "cell_type": "code",
   "execution_count": null,
   "metadata": {},
   "outputs": [],
   "source": []
  }
 ],
 "metadata": {
  "kernelspec": {
   "display_name": "Python 3",
   "language": "python",
   "name": "python3"
  },
  "language_info": {
   "codemirror_mode": {
    "name": "ipython",
    "version": 3
   },
   "file_extension": ".py",
   "mimetype": "text/x-python",
   "name": "python",
   "nbconvert_exporter": "python",
   "pygments_lexer": "ipython3",
   "version": "3.7.6"
  }
 },
 "nbformat": 4,
 "nbformat_minor": 4
}
