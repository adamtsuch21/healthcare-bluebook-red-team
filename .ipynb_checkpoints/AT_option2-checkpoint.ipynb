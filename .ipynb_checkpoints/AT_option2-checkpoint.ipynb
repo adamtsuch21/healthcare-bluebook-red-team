{
 "cells": [
  {
   "cell_type": "code",
   "execution_count": 123,
   "metadata": {},
   "outputs": [],
   "source": [
    "import pandas as pd\n",
    "import numpy as np\n",
    "import matplotlib.pyplot as plt"
   ]
  },
  {
   "cell_type": "code",
   "execution_count": 124,
   "metadata": {},
   "outputs": [],
   "source": [
    "phys_supp_17 = pd.read_csv(\"/Users/adamtsuchiyama/Documents/healthcare-bluebook-red-team/data/Medicare_Provider_Util_Payment_PUF_CY2017.txt\", sep='\\t', usecols=['npi', 'nppes_provider_last_org_name', 'nppes_entity_code', 'nppes_provider_zip', 'nppes_provider_state', 'provider_type', 'place_of_service', 'hcpcs_code', 'bene_day_srvc_cnt', 'average_Medicare_allowed_amt'], dtype={'npi': str, 'nppes_provider_last_org_name' : str, 'nppes_entity_code' : str, 'nppes_provider_zip' : str, 'nppes_provider_state' : str, 'provider_type' : str, 'place_of_service' : str, 'hcpcs_code' : str, 'bene_day_srvc_cnt' : float, 'average_Medicare_allowed_amt' : float})\n",
    "\n"
   ]
  },
  {
   "cell_type": "code",
   "execution_count": 125,
   "metadata": {},
   "outputs": [],
   "source": [
    "phys_supp_16 = pd.read_csv(\"/Users/adamtsuchiyama/Documents/healthcare-bluebook-red-team/data/Medicare_Provider_Util_Payment_PUF_CY2016.txt\", sep='\\t', usecols=['NPI', 'PLACE_OF_SERVICE', 'HCPCS_CODE', 'BENE_DAY_SRVC_CNT', 'AVERAGE_MEDICARE_ALLOWED_AMT'], dtype={'NPI': str, 'PLACE_OF_SERVICE' : str, 'HCPCS_CODE' : str, 'BENE_DAY_SRVC_CNT' : float, 'AVERAGE_MEDICARE_ALLOWED_AMT' : float})\n",
    "\n"
   ]
  },
  {
   "cell_type": "code",
   "execution_count": 126,
   "metadata": {},
   "outputs": [],
   "source": [
    "phys_supp_15 = pd.read_csv(\"/Users/adamtsuchiyama/Documents/healthcare-bluebook-red-team/data/Medicare_Provider_Util_Payment_PUF_CY2015.txt\", sep='\\t', usecols=['npi', 'place_of_service', 'hcpcs_code', 'bene_day_srvc_cnt', 'average_Medicare_allowed_amt'], dtype={'npi': str, 'place_of_service' : str, 'hcpcs_code' : str, 'bene_day_srvc_cnt' : float, 'average_Medicare_allowed_amt' : float})\n",
    "\n"
   ]
  },
  {
   "cell_type": "code",
   "execution_count": 127,
   "metadata": {},
   "outputs": [],
   "source": [
    "zip_cbsa = pd.read_excel(\"/Users/adamtsuchiyama/Documents/healthcare-bluebook-red-team/data/ZIP_CBSA_032020.xlsx\", usecols=['ZIP', 'CBSA'], dtype={'ZIP' : str, 'CBSA' : str})"
   ]
  },
  {
   "cell_type": "code",
   "execution_count": 128,
   "metadata": {},
   "outputs": [],
   "source": [
    "phys_supp_17.columns = map(str.lower, phys_supp_17.columns)\n",
    "phys_supp_16.columns = map(str.lower, phys_supp_16.columns)\n",
    "phys_supp_15.columns = map(str.lower, phys_supp_15.columns)"
   ]
  },
  {
   "cell_type": "code",
   "execution_count": 129,
   "metadata": {},
   "outputs": [
    {
     "name": "stdout",
     "output_type": "stream",
     "text": [
      "<class 'pandas.core.frame.DataFrame'>\n",
      "RangeIndex: 9847444 entries, 0 to 9847443\n",
      "Data columns (total 10 columns):\n",
      " #   Column                        Dtype  \n",
      "---  ------                        -----  \n",
      " 0   npi                           object \n",
      " 1   nppes_provider_last_org_name  object \n",
      " 2   nppes_entity_code             object \n",
      " 3   nppes_provider_zip            object \n",
      " 4   nppes_provider_state          object \n",
      " 5   provider_type                 object \n",
      " 6   place_of_service              object \n",
      " 7   hcpcs_code                    object \n",
      " 8   srvc_cnt_17                   float64\n",
      " 9   avg_med_amt_17                float64\n",
      "dtypes: float64(2), object(8)\n",
      "memory usage: 751.3+ MB\n",
      "None\n",
      "<class 'pandas.core.frame.DataFrame'>\n",
      "RangeIndex: 9714897 entries, 0 to 9714896\n",
      "Data columns (total 5 columns):\n",
      " #   Column            Dtype  \n",
      "---  ------            -----  \n",
      " 0   npi               object \n",
      " 1   place_of_service  object \n",
      " 2   hcpcs_code        object \n",
      " 3   srvc_cnt_16       float64\n",
      " 4   avg_med_amt_16    float64\n",
      "dtypes: float64(2), object(3)\n",
      "memory usage: 370.6+ MB\n",
      "None\n",
      "<class 'pandas.core.frame.DataFrame'>\n",
      "RangeIndex: 9497892 entries, 0 to 9497891\n",
      "Data columns (total 5 columns):\n",
      " #   Column            Dtype  \n",
      "---  ------            -----  \n",
      " 0   npi               object \n",
      " 1   place_of_service  object \n",
      " 2   hcpcs_code        object \n",
      " 3   srvc_cnt_15       float64\n",
      " 4   avg_med_amt_15    float64\n",
      "dtypes: float64(2), object(3)\n",
      "memory usage: 362.3+ MB\n",
      "None\n"
     ]
    }
   ],
   "source": [
    "phys_supp_17 = phys_supp_17.rename(columns={'bene_day_srvc_cnt' : 'srvc_cnt_17', 'average_medicare_allowed_amt' : 'avg_med_amt_17'})\n",
    "phys_supp_16 = phys_supp_16.rename(columns={'bene_day_srvc_cnt' : 'srvc_cnt_16', 'average_medicare_allowed_amt' : 'avg_med_amt_16'})\n",
    "phys_supp_15 = phys_supp_15.rename(columns={'bene_day_srvc_cnt' : 'srvc_cnt_15', 'average_medicare_allowed_amt' : 'avg_med_amt_15'})\n",
    "print(phys_supp_17.info())\n",
    "print(phys_supp_16.info())\n",
    "print(phys_supp_15.info())\n"
   ]
  },
  {
   "cell_type": "code",
   "execution_count": 130,
   "metadata": {},
   "outputs": [
    {
     "name": "stdout",
     "output_type": "stream",
     "text": [
      "          npi                       nppes_provider_last_org_name  \\\n",
      "0  0000000001  CPT copyright 2016 American Medical Associatio...   \n",
      "1  1003000126                                          ENKESHAFI   \n",
      "2  1003000126                                          ENKESHAFI   \n",
      "3  1003000126                                          ENKESHAFI   \n",
      "4  1003000126                                          ENKESHAFI   \n",
      "\n",
      "  nppes_entity_code nppes_provider_zip nppes_provider_state  \\\n",
      "0               NaN                NaN                  NaN   \n",
      "1                 I          215021854                   MD   \n",
      "2                 I          215021854                   MD   \n",
      "3                 I          215021854                   MD   \n",
      "4                 I          215021854                   MD   \n",
      "\n",
      "       provider_type place_of_service hcpcs_code  srvc_cnt_17  avg_med_amt_17  \\\n",
      "0                NaN              NaN        NaN          NaN             NaN   \n",
      "1  Internal Medicine                F      99217        100.0       73.398800   \n",
      "2  Internal Medicine                F      99219         52.0      136.380000   \n",
      "3  Internal Medicine                F      99220         59.0      190.363729   \n",
      "4  Internal Medicine                F      99221         16.0      101.680000   \n",
      "\n",
      "   srvc_cnt_16  avg_med_amt_16  \n",
      "0          NaN             NaN  \n",
      "1         57.0       72.743158  \n",
      "2         38.0      135.010000  \n",
      "3         23.0      189.239565  \n",
      "4         20.0      100.750000  \n"
     ]
    }
   ],
   "source": [
    "phys_join = pd.merge(phys_supp_17, phys_supp_16, how='inner', on=['npi', 'place_of_service' ,'hcpcs_code'])\n",
    "print(phys_join.head())"
   ]
  },
  {
   "cell_type": "code",
   "execution_count": 131,
   "metadata": {
    "scrolled": true
   },
   "outputs": [
    {
     "name": "stdout",
     "output_type": "stream",
     "text": [
      "          npi                       nppes_provider_last_org_name  \\\n",
      "0  0000000001  CPT copyright 2016 American Medical Associatio...   \n",
      "1  1003000126                                          ENKESHAFI   \n",
      "2  1003000126                                          ENKESHAFI   \n",
      "3  1003000126                                          ENKESHAFI   \n",
      "4  1003000126                                          ENKESHAFI   \n",
      "\n",
      "  nppes_entity_code nppes_provider_zip nppes_provider_state  \\\n",
      "0               NaN                NaN                  NaN   \n",
      "1                 I          215021854                   MD   \n",
      "2                 I          215021854                   MD   \n",
      "3                 I          215021854                   MD   \n",
      "4                 I          215021854                   MD   \n",
      "\n",
      "       provider_type place_of_service hcpcs_code  srvc_cnt_17  avg_med_amt_17  \\\n",
      "0                NaN              NaN        NaN          NaN             NaN   \n",
      "1  Internal Medicine                F      99217        100.0         73.3988   \n",
      "2  Internal Medicine                F      99219         52.0        136.3800   \n",
      "3  Internal Medicine                F      99221         16.0        101.6800   \n",
      "4  Internal Medicine                F      99222         59.0        137.3100   \n",
      "\n",
      "   srvc_cnt_16  avg_med_amt_16  srvc_cnt_15  avg_med_amt_15  \n",
      "0          NaN             NaN          NaN             NaN  \n",
      "1         57.0       72.743158         23.0       72.680000  \n",
      "2         38.0      135.010000         18.0      135.850000  \n",
      "3         20.0      100.750000         59.0      101.365085  \n",
      "4         96.0      136.250000        132.0      139.010455  \n"
     ]
    }
   ],
   "source": [
    "phys_join = pd.merge(phys_join, phys_supp_15, how='inner', on=['npi', 'place_of_service' ,'hcpcs_code'])\n",
    "print(phys_join.head())"
   ]
  },
  {
   "cell_type": "code",
   "execution_count": 132,
   "metadata": {},
   "outputs": [],
   "source": [
    "phys_join['ZIP'] = phys_join['nppes_provider_zip'].str[:5]"
   ]
  },
  {
   "cell_type": "code",
   "execution_count": 133,
   "metadata": {},
   "outputs": [],
   "source": [
    "phys_join = pd.merge(phys_join, zip_cbsa, how='left', on='ZIP')"
   ]
  },
  {
   "cell_type": "code",
   "execution_count": 134,
   "metadata": {},
   "outputs": [
    {
     "name": "stdout",
     "output_type": "stream",
     "text": [
      "<class 'pandas.core.frame.DataFrame'>\n",
      "Int64Index: 6842892 entries, 0 to 6842891\n",
      "Data columns (total 9 columns):\n",
      " #   Column             Dtype  \n",
      "---  ------             -----  \n",
      " 0   npi                object \n",
      " 1   nppes_entity_code  object \n",
      " 2   place_of_service   object \n",
      " 3   hcpcs_code         object \n",
      " 4   avg_med_amt_17     float64\n",
      " 5   avg_med_amt_16     float64\n",
      " 6   avg_med_amt_15     float64\n",
      " 7   ZIP                object \n",
      " 8   CBSA               object \n",
      "dtypes: float64(3), object(6)\n",
      "memory usage: 522.1+ MB\n",
      "None\n",
      "(6842892, 9)\n"
     ]
    }
   ],
   "source": [
    "phys_join_med = phys_join.drop(columns={'nppes_provider_last_org_name', 'nppes_provider_zip', 'nppes_provider_state', 'provider_type', 'srvc_cnt_17', 'srvc_cnt_16', 'srvc_cnt_15'})\n",
    "print(phys_join_med.info())\n",
    "print(np.shape(phys_join_med))\n",
    "\n"
   ]
  },
  {
   "cell_type": "code",
   "execution_count": 135,
   "metadata": {},
   "outputs": [
    {
     "name": "stdout",
     "output_type": "stream",
     "text": [
      "(6497892, 9)\n"
     ]
    }
   ],
   "source": [
    "phys_med_indv_O = phys_join_med[phys_join_med['nppes_entity_code'] == 'I']\n",
    "print(np.shape(phys_med_indv_O))"
   ]
  },
  {
   "cell_type": "code",
   "execution_count": 136,
   "metadata": {},
   "outputs": [
    {
     "name": "stdout",
     "output_type": "stream",
     "text": [
      "(2531079, 9)\n"
     ]
    }
   ],
   "source": [
    "phys_med_indv_F = phys_med_indv_O[phys_med_indv_O['place_of_service'] == 'F']\n",
    "print(np.shape(phys_med_indv_F))"
   ]
  },
  {
   "cell_type": "code",
   "execution_count": 137,
   "metadata": {},
   "outputs": [
    {
     "name": "stdout",
     "output_type": "stream",
     "text": [
      "(3966813, 9)\n"
     ]
    }
   ],
   "source": [
    "phys_med_indv_O = phys_med_indv_O[phys_med_indv_O['place_of_service'] == 'O']\n",
    "print(np.shape(phys_med_indv_O))"
   ]
  },
  {
   "cell_type": "code",
   "execution_count": 138,
   "metadata": {},
   "outputs": [
    {
     "name": "stdout",
     "output_type": "stream",
     "text": [
      "(344999, 9)\n"
     ]
    }
   ],
   "source": [
    "phys_med_org_O = phys_join_med[phys_join_med['nppes_entity_code'] == 'O']\n",
    "print(np.shape(phys_med_org_O))"
   ]
  },
  {
   "cell_type": "code",
   "execution_count": 139,
   "metadata": {},
   "outputs": [
    {
     "name": "stdout",
     "output_type": "stream",
     "text": [
      "(82135, 9)\n"
     ]
    }
   ],
   "source": [
    "phys_med_org_F = phys_med_org_O[phys_med_org_O['place_of_service'] == 'F']\n",
    "print(np.shape(phys_med_org_F))"
   ]
  },
  {
   "cell_type": "code",
   "execution_count": 140,
   "metadata": {},
   "outputs": [
    {
     "name": "stdout",
     "output_type": "stream",
     "text": [
      "(262864, 9)\n"
     ]
    }
   ],
   "source": [
    "phys_med_org_O = phys_med_org_O[phys_med_org_O['place_of_service'] == 'O']\n",
    "print(np.shape(phys_med_org_O))"
   ]
  },
  {
   "cell_type": "code",
   "execution_count": 141,
   "metadata": {},
   "outputs": [
    {
     "name": "stdout",
     "output_type": "stream",
     "text": [
      "     hcpcs_code  avg_med_amt_17  avg_med_amt_16  avg_med_amt_15\n",
      "0         00103      242.459405      225.736845      263.455662\n",
      "1         00142       82.209689       83.102839       84.455969\n",
      "2         00160      213.750445      215.261039      216.226974\n",
      "3         00170      131.820746      126.353729      137.007402\n",
      "4         00300      138.754830      141.416685      147.488827\n",
      "...         ...             ...             ...             ...\n",
      "3163      Q9967        0.123273        0.124420        0.152256\n",
      "3164      Q9969        9.703697        9.743506       12.541174\n",
      "3165      R0070      222.432805      220.546799      219.447497\n",
      "3166      R0075       87.831579       91.664589       85.652551\n",
      "3167      V2632      113.830000      113.040000      113.490000\n",
      "\n",
      "[3168 rows x 4 columns]\n"
     ]
    }
   ],
   "source": [
    "phys_med_io_group = phys_med_indv_O.groupby('hcpcs_code').mean()\n",
    "phys_med_io_group = phys_med_io_group.reset_index()\n",
    "print(phys_med_io_group)"
   ]
  },
  {
   "cell_type": "code",
   "execution_count": 142,
   "metadata": {},
   "outputs": [],
   "source": [
    "phys_med_io_group['16/17_med_chng'] = abs(phys_med_io_group['avg_med_amt_17'] - phys_med_io_group['avg_med_amt_16'])\n",
    "phys_med_io_group['15/16_med_chng'] = abs(phys_med_io_group['avg_med_amt_16'] - phys_med_io_group['avg_med_amt_15'])\n",
    "phys_med_io_group['15/17_med_chng'] = abs(phys_med_io_group['avg_med_amt_17'] - phys_med_io_group['avg_med_amt_15'])"
   ]
  },
  {
   "cell_type": "code",
   "execution_count": 143,
   "metadata": {},
   "outputs": [
    {
     "name": "stdout",
     "output_type": "stream",
     "text": [
      "     hcpcs_code  avg_med_amt_17  avg_med_amt_15  15/17_med_chng\n",
      "3035      J7192    17895.679067    33345.018081    15449.339014\n",
      "3120      Q2043    39255.403622    35877.310500     3378.093122\n",
      "609       41530      946.850260     3105.401348     2158.551088\n",
      "2861      J0600     1933.008855      225.866088     1707.142767\n",
      "3092      J9999     1746.413318      465.466032     1280.947286\n"
     ]
    }
   ],
   "source": [
    "phys_med_io_1517 = phys_med_io_group.sort_values(by=['15/17_med_chng'], ascending=False).head()\n",
    "phys_med_io_1517 = phys_med_io_1517.drop(columns={'avg_med_amt_16', '15/16_med_chng', '16/17_med_chng'})\n",
    "print(phys_med_io_1517)"
   ]
  },
  {
   "cell_type": "code",
   "execution_count": 144,
   "metadata": {},
   "outputs": [
    {
     "name": "stdout",
     "output_type": "stream",
     "text": [
      "     hcpcs_code  avg_med_amt_17  avg_med_amt_16  avg_med_amt_15  \\\n",
      "609       41530      946.850260      943.177983     3105.401348   \n",
      "2861      J0600     1933.008855     1735.182012      225.866088   \n",
      "3035      J7192    17895.679067      324.885624    33345.018081   \n",
      "3092      J9999     1746.413318     1439.377377      465.466032   \n",
      "3120      Q2043    39255.403622    37640.843298    35877.310500   \n",
      "\n",
      "      16/17_med_chng  15/16_med_chng  15/17_med_chng  \n",
      "609         3.672277     2162.223365     2158.551088  \n",
      "2861      197.826843     1509.315924     1707.142767  \n",
      "3035    17570.793443    33020.132458    15449.339014  \n",
      "3092      307.035941      973.911345     1280.947286  \n",
      "3120     1614.560324     1763.532799     3378.093122  \n"
     ]
    }
   ],
   "source": [
    "phys_med_io_top5 = phys_med_io_group[phys_med_io_group[\"hcpcs_code\"].isin(['J7192', 'Q2043', '41530', 'J0600', 'J9999'])]\n",
    "print(phys_med_io_top5)"
   ]
  },
  {
   "cell_type": "code",
   "execution_count": 145,
   "metadata": {},
   "outputs": [
    {
     "name": "stdout",
     "output_type": "stream",
     "text": [
      "     hcpcs_code  avg_med_amt_17  avg_med_amt_16  avg_med_amt_15\n",
      "0         00103      154.717654      152.094815      157.181461\n",
      "1         00104       81.247596       80.959957       82.905893\n",
      "2         00120      185.990211      187.184187      197.825921\n",
      "3         00126       77.143073       77.420606       81.089396\n",
      "4         00140      140.357408      140.017159      147.483015\n",
      "...         ...             ...             ...             ...\n",
      "3065      Q4110       66.587918       39.104372       37.115946\n",
      "3066      Q9962        0.209927        0.200000        0.200000\n",
      "3067      Q9965        0.832785        0.854934        0.986658\n",
      "3068      Q9967        0.125239        0.124301        0.152614\n",
      "3069      R0070      211.460000      209.370000      206.069041\n",
      "\n",
      "[3070 rows x 4 columns]\n"
     ]
    }
   ],
   "source": [
    "phys_med_if_group = phys_med_indv_F.groupby('hcpcs_code').mean()\n",
    "phys_med_if_group = phys_med_if_group.reset_index()\n",
    "print(phys_med_if_group)"
   ]
  },
  {
   "cell_type": "code",
   "execution_count": 146,
   "metadata": {},
   "outputs": [],
   "source": [
    "phys_med_if_group['16/17_med_chng'] = abs(phys_med_if_group['avg_med_amt_17'] - phys_med_if_group['avg_med_amt_16'])\n",
    "phys_med_if_group['15/16_med_chng'] = abs(phys_med_if_group['avg_med_amt_16'] - phys_med_if_group['avg_med_amt_15'])\n",
    "phys_med_if_group['15/17_med_chng'] = abs(phys_med_if_group['avg_med_amt_17'] - phys_med_if_group['avg_med_amt_15'])"
   ]
  },
  {
   "cell_type": "code",
   "execution_count": 147,
   "metadata": {},
   "outputs": [
    {
     "name": "stdout",
     "output_type": "stream",
     "text": [
      "     hcpcs_code  avg_med_amt_17  avg_med_amt_15  15/17_med_chng\n",
      "1666      61592     1425.524706     2106.550741      681.026035\n",
      "1920      67228      309.429692      959.097457      649.667765\n",
      "1467      50820     1906.702727     1310.598636      596.104091\n",
      "1503      51999     2171.255375     1631.389033      539.866342\n",
      "848       31599     1031.115545      560.512778      470.602767\n"
     ]
    }
   ],
   "source": [
    "phys_med_if_1517 = phys_med_if_group.sort_values(by=['15/17_med_chng'], ascending=False).head()\n",
    "phys_med_if_1517 = phys_med_if_1517.drop(columns={'avg_med_amt_16', '15/16_med_chng', '16/17_med_chng'})\n",
    "print(phys_med_if_1517)"
   ]
  },
  {
   "cell_type": "code",
   "execution_count": 148,
   "metadata": {},
   "outputs": [
    {
     "name": "stdout",
     "output_type": "stream",
     "text": [
      "     hcpcs_code  avg_med_amt_17  avg_med_amt_16  avg_med_amt_15  \\\n",
      "848       31599     1031.115545      580.396331      560.512778   \n",
      "1467      50820     1906.702727     1792.720937     1310.598636   \n",
      "1503      51999     2171.255375     1845.089073     1631.389033   \n",
      "1666      61592     1425.524706     2044.420571     2106.550741   \n",
      "1920      67228      309.429692      309.625150      959.097457   \n",
      "\n",
      "      16/17_med_chng  15/16_med_chng  15/17_med_chng  \n",
      "848       450.719214       19.883553      470.602767  \n",
      "1467      113.981790      482.122301      596.104091  \n",
      "1503      326.166302      213.700039      539.866342  \n",
      "1666      618.895866       62.130169      681.026035  \n",
      "1920        0.195458      649.472307      649.667765  \n"
     ]
    }
   ],
   "source": [
    "phys_med_if_top5 = phys_med_if_group[phys_med_if_group[\"hcpcs_code\"].isin(['61592', '67228', '50820', '51999', '31599'])]\n",
    "print(phys_med_if_top5)"
   ]
  },
  {
   "cell_type": "code",
   "execution_count": 149,
   "metadata": {
    "scrolled": true
   },
   "outputs": [
    {
     "name": "stdout",
     "output_type": "stream",
     "text": [
      "     hcpcs_code  avg_med_amt_17  avg_med_amt_16  avg_med_amt_15\n",
      "0         0159T       12.945800       13.104211       12.013852\n",
      "1         0297T      335.272381      320.057977      315.872825\n",
      "2         0379T       74.378447       74.229995       74.230000\n",
      "3         10022      145.493419      145.813333      146.579176\n",
      "4         19083      602.640000      596.460000      579.040909\n",
      "...         ...             ...             ...             ...\n",
      "1491      Q9965        0.823380        0.856529        0.971121\n",
      "1492      Q9966        0.253390        0.174300        0.195898\n",
      "1493      Q9967        0.127954        0.126395        0.152965\n",
      "1494      R0070      179.032012      177.757660      177.036375\n",
      "1495      R0075       76.686870       76.211053       75.788771\n",
      "\n",
      "[1496 rows x 4 columns]\n"
     ]
    }
   ],
   "source": [
    "phys_med_oo_group = phys_med_org_O.groupby('hcpcs_code').mean()\n",
    "phys_med_oo_group = phys_med_oo_group.reset_index()\n",
    "print(phys_med_oo_group)"
   ]
  },
  {
   "cell_type": "code",
   "execution_count": 150,
   "metadata": {},
   "outputs": [],
   "source": [
    "phys_med_oo_group['16/17_med_chng'] = abs(phys_med_oo_group['avg_med_amt_17'] - phys_med_oo_group['avg_med_amt_16'])\n",
    "phys_med_oo_group['15/16_med_chng'] = abs(phys_med_oo_group['avg_med_amt_16'] - phys_med_oo_group['avg_med_amt_15'])\n",
    "phys_med_oo_group['15/17_med_chng'] = abs(phys_med_oo_group['avg_med_amt_17'] - phys_med_oo_group['avg_med_amt_15'])"
   ]
  },
  {
   "cell_type": "code",
   "execution_count": 151,
   "metadata": {},
   "outputs": [
    {
     "name": "stdout",
     "output_type": "stream",
     "text": [
      "     hcpcs_code  avg_med_amt_17  avg_med_amt_15  15/17_med_chng\n",
      "1444      J7187    42280.125522    23863.910069    18416.215453\n",
      "1445      J7190        2.195144     7549.290722     7547.095578\n",
      "1447      J7195    25003.926636    30536.542002     5532.615366\n",
      "1446      J7192    17266.087675    19813.444168     2547.356493\n",
      "253       77371     1772.950000      742.704444     1030.245556\n"
     ]
    }
   ],
   "source": [
    "phys_med_oo_1517 = phys_med_oo_group.sort_values(by=['15/17_med_chng'], ascending=False).head()\n",
    "phys_med_oo_1517 = phys_med_oo_1517.drop(columns={'avg_med_amt_16', '15/16_med_chng', '16/17_med_chng'})\n",
    "print(phys_med_oo_1517)"
   ]
  },
  {
   "cell_type": "code",
   "execution_count": 152,
   "metadata": {},
   "outputs": [
    {
     "name": "stdout",
     "output_type": "stream",
     "text": [
      "     hcpcs_code  avg_med_amt_17  avg_med_amt_16  avg_med_amt_15  \\\n",
      "253       77371     1772.950000     1735.268750      742.704444   \n",
      "1444      J7187    42280.125522    34201.918387    23863.910069   \n",
      "1445      J7190        2.195144     5206.283813     7549.290722   \n",
      "1446      J7192    17266.087675    21000.894385    19813.444168   \n",
      "1447      J7195    25003.926636    29024.583734    30536.542002   \n",
      "\n",
      "      16/17_med_chng  15/16_med_chng  15/17_med_chng  \n",
      "253        37.681250      992.564306     1030.245556  \n",
      "1444     8078.207135    10338.008318    18416.215453  \n",
      "1445     5204.088669     2343.006909     7547.095578  \n",
      "1446     3734.806709     1187.450217     2547.356493  \n",
      "1447     4020.657099     1511.958268     5532.615366  \n"
     ]
    }
   ],
   "source": [
    "phys_med_oo_top5 = phys_med_oo_group[phys_med_oo_group[\"hcpcs_code\"].isin(['J7187', 'J7190', 'J7195', 'J7192', '77371'])]\n",
    "print(phys_med_oo_top5)"
   ]
  },
  {
   "cell_type": "code",
   "execution_count": 153,
   "metadata": {},
   "outputs": [
    {
     "name": "stdout",
     "output_type": "stream",
     "text": [
      "    hcpcs_code  avg_med_amt_17  avg_med_amt_16  avg_med_amt_15\n",
      "0        0191T     2596.529464     1815.056496     1733.284501\n",
      "1        10022      100.968646      100.540024      100.962067\n",
      "2        11012      675.319333      567.479412      249.786667\n",
      "3        11042      128.391999      105.670336      138.334541\n",
      "4        11043      191.265589      188.126469      133.457044\n",
      "..         ...             ...             ...             ...\n",
      "991      Q0092       25.458637       25.485955       25.490223\n",
      "992      Q2037       17.690000       16.280000       15.830000\n",
      "993      R0070      182.340787      180.869384      180.268324\n",
      "994      R0075       82.599440       81.751214       83.108256\n",
      "995      V2785     3871.247952     3812.453578     3291.658953\n",
      "\n",
      "[996 rows x 4 columns]\n"
     ]
    }
   ],
   "source": [
    "phys_med_of_group = phys_med_org_F.groupby('hcpcs_code').mean()\n",
    "phys_med_of_group = phys_med_of_group.reset_index()\n",
    "print(phys_med_of_group)"
   ]
  },
  {
   "cell_type": "code",
   "execution_count": 154,
   "metadata": {},
   "outputs": [],
   "source": [
    "phys_med_of_group['16/17_med_chng'] = abs(phys_med_of_group['avg_med_amt_17'] - phys_med_of_group['avg_med_amt_16'])\n",
    "phys_med_of_group['15/16_med_chng'] = abs(phys_med_of_group['avg_med_amt_16'] - phys_med_of_group['avg_med_amt_15'])\n",
    "phys_med_of_group['15/17_med_chng'] = abs(phys_med_of_group['avg_med_amt_17'] - phys_med_of_group['avg_med_amt_15'])"
   ]
  },
  {
   "cell_type": "code",
   "execution_count": 155,
   "metadata": {
    "scrolled": true
   },
   "outputs": [
    {
     "name": "stdout",
     "output_type": "stream",
     "text": [
      "    hcpcs_code  avg_med_amt_17  avg_med_amt_15  15/17_med_chng\n",
      "485      64575     9495.304583     4135.850000     5359.454583\n",
      "220      28730     6780.870000     2507.134286     4273.735714\n",
      "282      33264    24362.086026    28020.960000     3658.873974\n",
      "632      69930    30720.781782    27903.864054     2816.917729\n",
      "233      29825     1624.120000     3147.276410     1523.156410\n"
     ]
    }
   ],
   "source": [
    "phys_med_of_1517 = phys_med_of_group.sort_values(by=['15/17_med_chng'], ascending=False).head()\n",
    "phys_med_of_1517 = phys_med_of_1517.drop(columns={'avg_med_amt_16', '15/16_med_chng', '16/17_med_chng'})\n",
    "print(phys_med_of_1517)"
   ]
  },
  {
   "cell_type": "code",
   "execution_count": 156,
   "metadata": {},
   "outputs": [
    {
     "name": "stdout",
     "output_type": "stream",
     "text": [
      "    hcpcs_code  avg_med_amt_17  avg_med_amt_16  avg_med_amt_15  \\\n",
      "220      28730     6780.870000     3329.220000     2507.134286   \n",
      "233      29825     1624.120000     1815.060000     3147.276410   \n",
      "282      33264    24362.086026    26318.603125    28020.960000   \n",
      "485      64575     9495.304583     4330.190000     4135.850000   \n",
      "632      69930    30720.781782    29795.304200    27903.864054   \n",
      "\n",
      "     16/17_med_chng  15/16_med_chng  15/17_med_chng  \n",
      "220     3451.650000      822.085714     4273.735714  \n",
      "233      190.940000     1332.216410     1523.156410  \n",
      "282     1956.517100     1702.356875     3658.873974  \n",
      "485     5165.114583      194.340000     5359.454583  \n",
      "632      925.477582     1891.440146     2816.917729  \n"
     ]
    }
   ],
   "source": [
    "phys_med_of_top5 = phys_med_of_group[phys_med_of_group[\"hcpcs_code\"].isin(['64575', '28730', '33264', '69930', '29825'])]\n",
    "print(phys_med_of_top5)"
   ]
  },
  {
   "cell_type": "code",
   "execution_count": 159,
   "metadata": {},
   "outputs": [
    {
     "name": "stdout",
     "output_type": "stream",
     "text": [
      "<class 'pandas.core.frame.DataFrame'>\n",
      "Int64Index: 6842892 entries, 0 to 6842891\n",
      "Data columns (total 9 columns):\n",
      " #   Column             Dtype  \n",
      "---  ------             -----  \n",
      " 0   npi                object \n",
      " 1   nppes_entity_code  object \n",
      " 2   place_of_service   object \n",
      " 3   hcpcs_code         object \n",
      " 4   srvc_cnt_17        float64\n",
      " 5   srvc_cnt_16        float64\n",
      " 6   srvc_cnt_15        float64\n",
      " 7   ZIP                object \n",
      " 8   CBSA               object \n",
      "dtypes: float64(3), object(6)\n",
      "memory usage: 522.1+ MB\n",
      "None\n",
      "(6842892, 9)\n"
     ]
    }
   ],
   "source": [
    "phys_join_srvc = phys_join.drop(columns={'nppes_provider_last_org_name', 'nppes_provider_zip', 'nppes_provider_state', 'provider_type', 'avg_med_amt_17', 'avg_med_amt_16', 'avg_med_amt_15'})\n",
    "print(phys_join_srvc.info())\n",
    "print(np.shape(phys_join_srvc))"
   ]
  },
  {
   "cell_type": "code",
   "execution_count": 160,
   "metadata": {},
   "outputs": [
    {
     "name": "stdout",
     "output_type": "stream",
     "text": [
      "(6497892, 9)\n"
     ]
    }
   ],
   "source": [
    "phys_srvc_indv_O = phys_join_srvc[phys_join_srvc['nppes_entity_code'] == 'I']\n",
    "print(np.shape(phys_srvc_indv_O))"
   ]
  },
  {
   "cell_type": "code",
   "execution_count": 161,
   "metadata": {},
   "outputs": [
    {
     "name": "stdout",
     "output_type": "stream",
     "text": [
      "(2531079, 9)\n"
     ]
    }
   ],
   "source": [
    "phys_srvc_indv_F = phys_srvc_indv_O[phys_srvc_indv_O['place_of_service'] == 'F']\n",
    "print(np.shape(phys_srvc_indv_F))"
   ]
  },
  {
   "cell_type": "code",
   "execution_count": 162,
   "metadata": {},
   "outputs": [
    {
     "name": "stdout",
     "output_type": "stream",
     "text": [
      "(3966813, 9)\n"
     ]
    }
   ],
   "source": [
    "phys_srvc_indv_O = phys_srvc_indv_O[phys_srvc_indv_O['place_of_service'] == 'O']\n",
    "print(np.shape(phys_srvc_indv_O))"
   ]
  },
  {
   "cell_type": "code",
   "execution_count": 163,
   "metadata": {},
   "outputs": [
    {
     "name": "stdout",
     "output_type": "stream",
     "text": [
      "(344999, 9)\n"
     ]
    }
   ],
   "source": [
    "phys_srvc_org_O = phys_join_srvc[phys_join_srvc['nppes_entity_code'] == 'O']\n",
    "print(np.shape(phys_srvc_org_O))"
   ]
  },
  {
   "cell_type": "code",
   "execution_count": 164,
   "metadata": {},
   "outputs": [
    {
     "name": "stdout",
     "output_type": "stream",
     "text": [
      "(82135, 9)\n"
     ]
    }
   ],
   "source": [
    "phys_srvc_org_F = phys_srvc_org_O[phys_srvc_org_O['place_of_service'] == 'F']\n",
    "print(np.shape(phys_srvc_org_F))"
   ]
  },
  {
   "cell_type": "code",
   "execution_count": 165,
   "metadata": {},
   "outputs": [
    {
     "name": "stdout",
     "output_type": "stream",
     "text": [
      "(262864, 9)\n"
     ]
    }
   ],
   "source": [
    "phys_srvc_org_O = phys_srvc_org_O[phys_srvc_org_O['place_of_service'] == 'O']\n",
    "print(np.shape(phys_srvc_org_O))"
   ]
  },
  {
   "cell_type": "code",
   "execution_count": 166,
   "metadata": {},
   "outputs": [
    {
     "name": "stdout",
     "output_type": "stream",
     "text": [
      "     hcpcs_code  srvc_cnt_17  srvc_cnt_16  srvc_cnt_15\n",
      "0         00103         29.0         40.0         54.0\n",
      "1         00142        823.0       1069.0        218.0\n",
      "2         00160        118.0        134.0        182.0\n",
      "3         00170        271.0        399.0        395.0\n",
      "4         00300        756.0        669.0        367.0\n",
      "...         ...          ...          ...          ...\n",
      "3163      Q9967     968383.0    1032598.0     963139.0\n",
      "3164      Q9969       2180.0       2175.0       1553.0\n",
      "3165      R0070       3741.0       3469.0       3268.0\n",
      "3166      R0075        497.0        374.0        428.0\n",
      "3167      V2632         89.0         98.0        103.0\n",
      "\n",
      "[3168 rows x 4 columns]\n"
     ]
    }
   ],
   "source": [
    "phys_srvc_io_group = phys_srvc_indv_O.groupby('hcpcs_code').sum()\n",
    "phys_srvc_io_group = phys_srvc_io_group.reset_index()\n",
    "print(phys_srvc_io_group)"
   ]
  },
  {
   "cell_type": "code",
   "execution_count": 167,
   "metadata": {},
   "outputs": [],
   "source": [
    "phys_srvc_io_group['16/17_srvc_chng'] = abs(phys_srvc_io_group['srvc_cnt_17'] - phys_srvc_io_group['srvc_cnt_16'])\n",
    "phys_srvc_io_group['15/16_srvc_chng'] = abs(phys_srvc_io_group['srvc_cnt_16'] - phys_srvc_io_group['srvc_cnt_15'])\n",
    "phys_srvc_io_group['15/17_srvc_chng'] = abs(phys_srvc_io_group['srvc_cnt_17'] - phys_srvc_io_group['srvc_cnt_15'])"
   ]
  },
  {
   "cell_type": "code",
   "execution_count": 168,
   "metadata": {},
   "outputs": [
    {
     "name": "stdout",
     "output_type": "stream",
     "text": [
      "     hcpcs_code  srvc_cnt_17  srvc_cnt_15  15/17_srvc_chng\n",
      "2636      99214   94026127.0   88256439.0        5769688.0\n",
      "2135      90670    1066959.0    3082406.0        2015447.0\n",
      "2729      G0009    2072045.0    3831010.0        1758965.0\n",
      "2635      99213   91096891.0   92566424.0        1469533.0\n",
      "2803      G0439    5442814.0    4088907.0        1353907.0\n"
     ]
    }
   ],
   "source": [
    "phys_srvc_io_1517 = phys_srvc_io_group.sort_values(by=['15/17_srvc_chng'], ascending=False).head()\n",
    "phys_srvc_io_1517 = phys_srvc_io_1517.drop(columns={'srvc_cnt_16', '15/16_srvc_chng', '16/17_srvc_chng'})\n",
    "print(phys_srvc_io_1517)"
   ]
  },
  {
   "cell_type": "code",
   "execution_count": 169,
   "metadata": {
    "scrolled": true
   },
   "outputs": [
    {
     "name": "stdout",
     "output_type": "stream",
     "text": [
      "     hcpcs_code  srvc_cnt_17  srvc_cnt_16  srvc_cnt_15  16/17_srvc_chng  \\\n",
      "2135      90670    1066959.0    1889678.0    3082406.0         822719.0   \n",
      "2635      99213   91096891.0   95619902.0   92566424.0        4523011.0   \n",
      "2636      99214   94026127.0   95110178.0   88256439.0        1084051.0   \n",
      "2729      G0009    2072045.0    2774906.0    3831010.0         702861.0   \n",
      "2803      G0439    5442814.0    4943112.0    4088907.0         499702.0   \n",
      "\n",
      "      15/16_srvc_chng  15/17_srvc_chng  \n",
      "2135        1192728.0        2015447.0  \n",
      "2635        3053478.0        1469533.0  \n",
      "2636        6853739.0        5769688.0  \n",
      "2729        1056104.0        1758965.0  \n",
      "2803         854205.0        1353907.0  \n"
     ]
    }
   ],
   "source": [
    "phys_srvc_io_top5 = phys_srvc_io_group[phys_srvc_io_group[\"hcpcs_code\"].isin(['99214', '90670', 'G0009', '99213', 'G0439'])]\n",
    "print(phys_srvc_io_top5)"
   ]
  },
  {
   "cell_type": "code",
   "execution_count": 170,
   "metadata": {},
   "outputs": [
    {
     "name": "stdout",
     "output_type": "stream",
     "text": [
      "     hcpcs_code  srvc_cnt_17  srvc_cnt_16  srvc_cnt_15\n",
      "0         00103      47067.0      49645.0      47545.0\n",
      "1         00104      84865.0      93742.0      92427.0\n",
      "2         00120       1374.0       1508.0       1352.0\n",
      "3         00126        247.0        256.0        249.0\n",
      "4         00140      73286.0      75607.0      67682.0\n",
      "...         ...          ...          ...          ...\n",
      "3065      Q4110         86.0         67.0         70.0\n",
      "3066      Q9962        412.0        332.0        297.0\n",
      "3067      Q9965        292.0        290.0        380.0\n",
      "3068      Q9967        209.0        301.0        237.0\n",
      "3069      R0070        120.0         94.0         73.0\n",
      "\n",
      "[3070 rows x 4 columns]\n"
     ]
    }
   ],
   "source": [
    "phys_srvc_if_group = phys_srvc_indv_F.groupby('hcpcs_code').sum()\n",
    "phys_srvc_if_group = phys_srvc_if_group.reset_index()\n",
    "print(phys_srvc_if_group)"
   ]
  },
  {
   "cell_type": "code",
   "execution_count": 171,
   "metadata": {},
   "outputs": [],
   "source": [
    "phys_srvc_if_group['16/17_srvc_chng'] = abs(phys_srvc_if_group['srvc_cnt_17'] - phys_srvc_if_group['srvc_cnt_16'])\n",
    "phys_srvc_if_group['15/16_srvc_chng'] = abs(phys_srvc_if_group['srvc_cnt_16'] - phys_srvc_if_group['srvc_cnt_15'])\n",
    "phys_srvc_if_group['15/17_srvc_chng'] = abs(phys_srvc_if_group['srvc_cnt_17'] - phys_srvc_if_group['srvc_cnt_15'])"
   ]
  },
  {
   "cell_type": "code",
   "execution_count": 172,
   "metadata": {},
   "outputs": [
    {
     "name": "stdout",
     "output_type": "stream",
     "text": [
      "     hcpcs_code  srvc_cnt_17  srvc_cnt_15  15/17_srvc_chng\n",
      "2946      99232   42792246.0   45508819.0        2716573.0\n",
      "2945      99231    5767212.0    6629364.0         862152.0\n",
      "2056      71020    8007739.0    8747573.0         739834.0\n",
      "2054      71010   15615760.0   16214980.0         599220.0\n",
      "2941      99223    9380241.0    9899690.0         519449.0\n"
     ]
    }
   ],
   "source": [
    "phys_srvc_if_1517 = phys_srvc_if_group.sort_values(by=['15/17_srvc_chng'], ascending=False).head()\n",
    "phys_srvc_if_1517 = phys_srvc_if_1517.drop(columns={'srvc_cnt_16', '15/16_srvc_chng', '16/17_srvc_chng'})\n",
    "print(phys_srvc_if_1517)"
   ]
  },
  {
   "cell_type": "code",
   "execution_count": 174,
   "metadata": {},
   "outputs": [
    {
     "name": "stdout",
     "output_type": "stream",
     "text": [
      "     hcpcs_code  srvc_cnt_17  srvc_cnt_16  srvc_cnt_15  16/17_srvc_chng  \\\n",
      "2054      71010   15615760.0   16301744.0   16214980.0         685984.0   \n",
      "2056      71020    8007739.0    8448580.0    8747573.0         440841.0   \n",
      "2941      99223    9380241.0    9998417.0    9899690.0         618176.0   \n",
      "2945      99231    5767212.0    6534560.0    6629364.0         767348.0   \n",
      "2946      99232   42792246.0   45805451.0   45508819.0        3013205.0   \n",
      "\n",
      "      15/16_srvc_chng  15/17_srvc_chng  \n",
      "2054          86764.0         599220.0  \n",
      "2056         298993.0         739834.0  \n",
      "2941          98727.0         519449.0  \n",
      "2945          94804.0         862152.0  \n",
      "2946         296632.0        2716573.0  \n"
     ]
    }
   ],
   "source": [
    "phys_srvc_if_top5 = phys_srvc_if_group[phys_srvc_if_group[\"hcpcs_code\"].isin(['99232', '99231', '71020', '71010', '99223'])]\n",
    "print(phys_srvc_if_top5)"
   ]
  },
  {
   "cell_type": "code",
   "execution_count": 175,
   "metadata": {},
   "outputs": [
    {
     "name": "stdout",
     "output_type": "stream",
     "text": [
      "     hcpcs_code  srvc_cnt_17  srvc_cnt_16  srvc_cnt_15\n",
      "0         0159T        482.0        524.0        452.0\n",
      "1         0297T      96380.0      65881.0      36186.0\n",
      "2         0379T      33752.0      14651.0        415.0\n",
      "3         10022        470.0        400.0        399.0\n",
      "4         19083         14.0         19.0         22.0\n",
      "...         ...          ...          ...          ...\n",
      "1491      Q9965        463.0        698.0        714.0\n",
      "1492      Q9966       2772.0       2667.0       2723.0\n",
      "1493      Q9967     105811.0     101279.0      93400.0\n",
      "1494      R0070     984445.0     999723.0    1017439.0\n",
      "1495      R0075     454919.0     435089.0     445865.0\n",
      "\n",
      "[1496 rows x 4 columns]\n"
     ]
    }
   ],
   "source": [
    "phys_srvc_oo_group = phys_srvc_org_O.groupby('hcpcs_code').sum()\n",
    "phys_srvc_oo_group = phys_srvc_oo_group.reset_index()\n",
    "print(phys_srvc_oo_group)"
   ]
  },
  {
   "cell_type": "code",
   "execution_count": 176,
   "metadata": {},
   "outputs": [],
   "source": [
    "phys_srvc_oo_group['16/17_srvc_chng'] = abs(phys_srvc_oo_group['srvc_cnt_17'] - phys_srvc_oo_group['srvc_cnt_16'])\n",
    "phys_srvc_oo_group['15/16_srvc_chng'] = abs(phys_srvc_oo_group['srvc_cnt_16'] - phys_srvc_oo_group['srvc_cnt_15'])\n",
    "phys_srvc_oo_group['15/17_srvc_chng'] = abs(phys_srvc_oo_group['srvc_cnt_17'] - phys_srvc_oo_group['srvc_cnt_15'])"
   ]
  },
  {
   "cell_type": "code",
   "execution_count": 177,
   "metadata": {},
   "outputs": [
    {
     "name": "stdout",
     "output_type": "stream",
     "text": [
      "     hcpcs_code  srvc_cnt_17  srvc_cnt_15  15/17_srvc_chng\n",
      "789       85610    5476487.0    6842974.0        1366487.0\n",
      "731       85025   20300577.0   19375248.0         925329.0\n",
      "561       83036   10751744.0    9856872.0         894872.0\n",
      "1384      G0008    7548853.0    6657571.0         891282.0\n",
      "291       80053   23512086.0   22667851.0         844235.0\n"
     ]
    }
   ],
   "source": [
    "phys_srvc_oo_1517 = phys_srvc_oo_group.sort_values(by=['15/17_srvc_chng'], ascending=False).head()\n",
    "phys_srvc_oo_1517 = phys_srvc_oo_1517.drop(columns={'srvc_cnt_16', '15/16_srvc_chng', '16/17_srvc_chng'})\n",
    "print(phys_srvc_oo_1517)"
   ]
  },
  {
   "cell_type": "code",
   "execution_count": 178,
   "metadata": {},
   "outputs": [
    {
     "name": "stdout",
     "output_type": "stream",
     "text": [
      "     hcpcs_code  srvc_cnt_17  srvc_cnt_16  srvc_cnt_15  16/17_srvc_chng  \\\n",
      "291       80053   23512086.0   23571497.0   22667851.0          59411.0   \n",
      "561       83036   10751744.0   10502986.0    9856872.0         248758.0   \n",
      "731       85025   20300577.0   20253539.0   19375248.0          47038.0   \n",
      "789       85610    5476487.0    6248387.0    6842974.0         771900.0   \n",
      "1384      G0008    7548853.0    6743867.0    6657571.0         804986.0   \n",
      "\n",
      "      15/16_srvc_chng  15/17_srvc_chng  \n",
      "291          903646.0         844235.0  \n",
      "561          646114.0         894872.0  \n",
      "731          878291.0         925329.0  \n",
      "789          594587.0        1366487.0  \n",
      "1384          86296.0         891282.0  \n"
     ]
    }
   ],
   "source": [
    "phys_srvc_oo_top5 = phys_srvc_oo_group[phys_srvc_oo_group[\"hcpcs_code\"].isin(['85610', '85025', '83036', 'G0008', '80053'])]\n",
    "print(phys_srvc_oo_top5)"
   ]
  },
  {
   "cell_type": "code",
   "execution_count": 179,
   "metadata": {},
   "outputs": [
    {
     "name": "stdout",
     "output_type": "stream",
     "text": [
      "    hcpcs_code  srvc_cnt_17  srvc_cnt_16  srvc_cnt_15\n",
      "0        0191T      24870.0      25427.0      19818.0\n",
      "1        10022        131.0        118.0        102.0\n",
      "2        11012         14.0         15.0         16.0\n",
      "3        11042      12413.0       6353.0       3445.0\n",
      "4        11043       1149.0       6321.0       1128.0\n",
      "..         ...          ...          ...          ...\n",
      "991      Q0092      44286.0      51052.0      43208.0\n",
      "992      Q2037         35.0         45.0        229.0\n",
      "993      R0070      30839.0      35751.0      31699.0\n",
      "994      R0075      13467.0      13997.0      10801.0\n",
      "995      V2785       7848.0       8149.0       9232.0\n",
      "\n",
      "[996 rows x 4 columns]\n"
     ]
    }
   ],
   "source": [
    "phys_srvc_of_group = phys_srvc_org_F.groupby('hcpcs_code').sum()\n",
    "phys_srvc_of_group = phys_srvc_of_group.reset_index()\n",
    "print(phys_srvc_of_group)"
   ]
  },
  {
   "cell_type": "code",
   "execution_count": 180,
   "metadata": {},
   "outputs": [],
   "source": [
    "phys_srvc_of_group['16/17_srvc_chng'] = abs(phys_srvc_of_group['srvc_cnt_17'] - phys_srvc_of_group['srvc_cnt_16'])\n",
    "phys_srvc_of_group['15/16_srvc_chng'] = abs(phys_srvc_of_group['srvc_cnt_16'] - phys_srvc_of_group['srvc_cnt_15'])\n",
    "phys_srvc_of_group['15/17_srvc_chng'] = abs(phys_srvc_of_group['srvc_cnt_17'] - phys_srvc_of_group['srvc_cnt_15'])"
   ]
  },
  {
   "cell_type": "code",
   "execution_count": 181,
   "metadata": {},
   "outputs": [
    {
     "name": "stdout",
     "output_type": "stream",
     "text": [
      "    hcpcs_code  srvc_cnt_17  srvc_cnt_15  15/17_srvc_chng\n",
      "949      A0428    4132079.0    4355082.0         223003.0\n",
      "977      G0471    3175479.0    2979164.0         196315.0\n",
      "836      85610      30861.0     144353.0         113492.0\n",
      "989      P9603    1381163.0    1466905.0          85742.0\n",
      "948      A0427    5605890.0    5522989.0          82901.0\n"
     ]
    }
   ],
   "source": [
    "phys_srvc_of_1517 = phys_srvc_of_group.sort_values(by=['15/17_srvc_chng'], ascending=False).head()\n",
    "phys_srvc_of_1517 = phys_srvc_of_1517.drop(columns={'srvc_cnt_16', '15/16_srvc_chng', '16/17_srvc_chng'})\n",
    "print(phys_srvc_of_1517)"
   ]
  },
  {
   "cell_type": "code",
   "execution_count": 182,
   "metadata": {},
   "outputs": [
    {
     "name": "stdout",
     "output_type": "stream",
     "text": [
      "    hcpcs_code  srvc_cnt_17  srvc_cnt_16  srvc_cnt_15  16/17_srvc_chng  \\\n",
      "836      85610      30861.0      94170.0     144353.0          63309.0   \n",
      "948      A0427    5605890.0    5575800.0    5522989.0          30090.0   \n",
      "949      A0428    4132079.0    4258869.0    4355082.0         126790.0   \n",
      "977      G0471    3175479.0    3106023.0    2979164.0          69456.0   \n",
      "989      P9603    1381163.0    1453607.0    1466905.0          72444.0   \n",
      "\n",
      "     15/16_srvc_chng  15/17_srvc_chng  \n",
      "836          50183.0         113492.0  \n",
      "948          52811.0          82901.0  \n",
      "949          96213.0         223003.0  \n",
      "977         126859.0         196315.0  \n",
      "989          13298.0          85742.0  \n"
     ]
    }
   ],
   "source": [
    "phys_srvc_of_top5 = phys_srvc_of_group[phys_srvc_of_group[\"hcpcs_code\"].isin(['A0428', 'G0471', '85610', 'P9603', 'A0427'])]\n",
    "print(phys_srvc_of_top5)"
   ]
  },
  {
   "cell_type": "code",
   "execution_count": 183,
   "metadata": {},
   "outputs": [
    {
     "name": "stdout",
     "output_type": "stream",
     "text": [
      "     hcpcs_code  avg_med_amt_17  avg_med_amt_16  avg_med_amt_15  \\\n",
      "609       41530      946.850260      943.177983     3105.401348   \n",
      "2861      J0600     1933.008855     1735.182012      225.866088   \n",
      "3035      J7192    17895.679067      324.885624    33345.018081   \n",
      "3092      J9999     1746.413318     1439.377377      465.466032   \n",
      "3120      Q2043    39255.403622    37640.843298    35877.310500   \n",
      "\n",
      "      16/17_med_chng  15/16_med_chng  15/17_med_chng  \n",
      "609         3.672277     2162.223365     2158.551088  \n",
      "2861      197.826843     1509.315924     1707.142767  \n",
      "3035    17570.793443    33020.132458    15449.339014  \n",
      "3092      307.035941      973.911345     1280.947286  \n",
      "3120     1614.560324     1763.532799     3378.093122  \n"
     ]
    }
   ],
   "source": [
    "print(phys_med_io_top5)"
   ]
  },
  {
   "cell_type": "code",
   "execution_count": 184,
   "metadata": {},
   "outputs": [],
   "source": [
    "phys_supp_17['ZIP'] = phys_supp_17['nppes_provider_zip'].str[:5]"
   ]
  },
  {
   "cell_type": "code",
   "execution_count": 220,
   "metadata": {},
   "outputs": [],
   "source": [
    "phys_zip_17 = pd.merge(phys_supp_17, zip_cbsa, how='left', on='ZIP')"
   ]
  },
  {
   "cell_type": "code",
   "execution_count": 221,
   "metadata": {},
   "outputs": [],
   "source": [
    "phys_zip_17 = phys_zip_17.drop(columns={'npi', 'nppes_provider_last_org_name', 'nppes_entity_code', 'nppes_provider_zip', 'nppes_provider_state', 'provider_type', 'place_of_service', 'CBSA'})"
   ]
  },
  {
   "cell_type": "code",
   "execution_count": 222,
   "metadata": {},
   "outputs": [
    {
     "name": "stdout",
     "output_type": "stream",
     "text": [
      "     hcpcs_code  srvc_cnt_17  avg_med_amt_17\n",
      "0         0008M    45.800000     3443.360000\n",
      "1         00100    12.250000      279.764101\n",
      "2         00103    29.379651      150.285108\n",
      "3         00104    46.344046       81.635614\n",
      "4         00120    22.214286      191.618064\n",
      "...         ...          ...             ...\n",
      "6043      Q9989    16.000000       12.878341\n",
      "6044      R0070  2792.685484      179.225073\n",
      "6045      R0075  1813.689139       77.755564\n",
      "6046      V2632    89.000000      113.830000\n",
      "6047      V2785    40.196507     3840.269851\n",
      "\n",
      "[6048 rows x 3 columns]\n"
     ]
    }
   ],
   "source": [
    "phys_17_medio_top5 = phys_zip_17.groupby('hcpcs_code').mean()\n",
    "phys_17_medio_top5 = phys_17_medio_top5.reset_index()\n",
    "print(phys_17_medio_top5)"
   ]
  },
  {
   "cell_type": "code",
   "execution_count": 223,
   "metadata": {
    "scrolled": true
   },
   "outputs": [
    {
     "name": "stdout",
     "output_type": "stream",
     "text": [
      "     hcpcs_code  average_medicare_allowed_amt  year\n",
      "1781      41530                    875.926198  2017\n",
      "5636      J0600                   2354.875647  2017\n",
      "5837      J7192                  12880.678381  2017\n",
      "5914      J9999                   1241.578519  2017\n",
      "5976      Q2043                  39279.086545  2017\n"
     ]
    }
   ],
   "source": [
    "phys_17_medio_top5 = phys_17_medio_top5[phys_17_medio_top5[\"hcpcs_code\"].isin(['41530', 'J0600', 'J7192', 'J9999', 'Q2043'])]\n",
    "phys_17_medio_top5['year'] = 2017\n",
    "phys_17_medio_top5 = phys_17_medio_top5.drop(columns={'srvc_cnt_17'})\n",
    "phys_17_medio_top5 = phys_17_medio_top5.rename(columns={'avg_med_amt_17' : 'average_medicare_allowed_amt'})\n",
    "print(phys_17_medio_top5)"
   ]
  },
  {
   "cell_type": "code",
   "execution_count": 224,
   "metadata": {},
   "outputs": [],
   "source": [
    "phys_zip_16 = pd.read_csv(\"/Users/adamtsuchiyama/Documents/healthcare-bluebook-red-team/data/Medicare_Provider_Util_Payment_PUF_CY2016.txt\", sep='\\t', usecols=['NPI','NPPES_PROVIDER_ZIP', 'PLACE_OF_SERVICE', 'HCPCS_CODE', 'BENE_DAY_SRVC_CNT', 'AVERAGE_MEDICARE_ALLOWED_AMT'], dtype={'NPI': str, 'NPPES_PROVIDER_ZIP' : str, 'PLACE_OF_SERVICE' : str, 'HCPCS_CODE' : str, 'BENE_DAY_SRVC_CNT' : float, 'AVERAGE_MEDICARE_ALLOWED_AMT' : float})"
   ]
  },
  {
   "cell_type": "code",
   "execution_count": 225,
   "metadata": {},
   "outputs": [],
   "source": [
    "phys_zip_16.columns = map(str.lower, phys_zip_16.columns)"
   ]
  },
  {
   "cell_type": "code",
   "execution_count": 226,
   "metadata": {},
   "outputs": [],
   "source": [
    "phys_zip_16['ZIP'] = phys_zip_16['nppes_provider_zip'].str[:5]"
   ]
  },
  {
   "cell_type": "code",
   "execution_count": 227,
   "metadata": {},
   "outputs": [],
   "source": [
    "phys_zip_16 = pd.merge(phys_zip_16, zip_cbsa, how='left', on='ZIP')"
   ]
  },
  {
   "cell_type": "code",
   "execution_count": 228,
   "metadata": {},
   "outputs": [],
   "source": [
    "phys_zip_16 = phys_zip_16.drop(columns={'npi', 'nppes_provider_zip', 'place_of_service'})"
   ]
  },
  {
   "cell_type": "code",
   "execution_count": 229,
   "metadata": {},
   "outputs": [
    {
     "name": "stdout",
     "output_type": "stream",
     "text": [
      "     hcpcs_code  bene_day_srvc_cnt  average_medicare_allowed_amt\n",
      "0         0008M          65.666667                   3419.419776\n",
      "1         00100          12.333333                    290.975942\n",
      "2         00103          28.995647                    148.848422\n",
      "3         00104          47.340542                     81.226855\n",
      "4         0010M       13453.000000                    333.559722\n",
      "...         ...                ...                           ...\n",
      "6017      Q9983          26.571429                   2632.567331\n",
      "6018      R0070        2674.819095                    179.152107\n",
      "6019      R0075        1711.455556                     77.560227\n",
      "6020      V2632          98.000000                    113.040000\n",
      "6021      V2785          37.155378                   3774.329022\n",
      "\n",
      "[6022 rows x 3 columns]\n"
     ]
    }
   ],
   "source": [
    "phys_16_medio_top5 = phys_zip_16.groupby('hcpcs_code').mean()\n",
    "phys_16_medio_top5 = phys_16_medio_top5.reset_index()\n",
    "print(phys_16_medio_top5)"
   ]
  },
  {
   "cell_type": "code",
   "execution_count": 230,
   "metadata": {},
   "outputs": [
    {
     "name": "stdout",
     "output_type": "stream",
     "text": [
      "     hcpcs_code  average_medicare_allowed_amt  year\n",
      "1775      41530                    893.447110  2016\n",
      "5618      J0600                   1039.718002  2016\n",
      "5817      J7192                  19275.296602  2016\n",
      "5891      J9999                   1737.626059  2016\n",
      "5957      Q2043                  37672.456856  2016\n"
     ]
    }
   ],
   "source": [
    "phys_16_medio_top5 = phys_16_medio_top5[phys_16_medio_top5[\"hcpcs_code\"].isin(['41530', 'J0600', 'J7192', 'J9999', 'Q2043'])]\n",
    "phys_16_medio_top5['year'] = 2016\n",
    "phys_16_medio_top5 = phys_16_medio_top5.drop(columns={'bene_day_srvc_cnt'})\n",
    "print(phys_16_medio_top5)"
   ]
  },
  {
   "cell_type": "code",
   "execution_count": 231,
   "metadata": {},
   "outputs": [],
   "source": [
    "phys_zip_15 = pd.read_csv(\"/Users/adamtsuchiyama/Documents/healthcare-bluebook-red-team/data/Medicare_Provider_Util_Payment_PUF_CY2015.txt\", sep='\\t', usecols=['npi', 'nppes_provider_zip', 'place_of_service', 'hcpcs_code', 'bene_day_srvc_cnt', 'average_Medicare_allowed_amt'], dtype={'npi': str, 'nppes_provider_zip' : str, 'place_of_service' : str, 'hcpcs_code' : str, 'bene_day_srvc_cnt' : float, 'average_Medicare_allowed_amt' : float})"
   ]
  },
  {
   "cell_type": "code",
   "execution_count": 232,
   "metadata": {},
   "outputs": [],
   "source": [
    "phys_zip_15.columns = map(str.lower, phys_zip_15.columns)"
   ]
  },
  {
   "cell_type": "code",
   "execution_count": 233,
   "metadata": {},
   "outputs": [],
   "source": [
    "phys_zip_15['ZIP'] = phys_zip_15['nppes_provider_zip'].str[:5]"
   ]
  },
  {
   "cell_type": "code",
   "execution_count": 234,
   "metadata": {},
   "outputs": [],
   "source": [
    "phys_zip_15 = pd.merge(phys_zip_15, zip_cbsa, how='left', on='ZIP')"
   ]
  },
  {
   "cell_type": "code",
   "execution_count": 235,
   "metadata": {},
   "outputs": [],
   "source": [
    "phys_zip_15 = phys_zip_15.drop(columns={'npi', 'nppes_provider_zip', 'place_of_service'})"
   ]
  },
  {
   "cell_type": "code",
   "execution_count": 236,
   "metadata": {},
   "outputs": [
    {
     "name": "stdout",
     "output_type": "stream",
     "text": [
      "     hcpcs_code  bene_day_srvc_cnt  average_medicare_allowed_amt\n",
      "0         00100          15.000000                    266.582807\n",
      "1         00102          26.000000                     95.198939\n",
      "2         00103          29.361905                    154.333417\n",
      "3         00104          48.227996                     83.078735\n",
      "4         00120          22.018182                    203.457393\n",
      "...         ...                ...                           ...\n",
      "5978      Q9979          55.333333                   1725.411777\n",
      "5979      R0070        2732.017241                    179.336948\n",
      "5980      R0075        1807.130597                     76.752054\n",
      "5981      V2632         103.000000                    113.490000\n",
      "5982      V2785          39.342960                   3122.129476\n",
      "\n",
      "[5983 rows x 3 columns]\n"
     ]
    }
   ],
   "source": [
    "phys_15_medio_top5 = phys_zip_15.groupby('hcpcs_code').mean()\n",
    "phys_15_medio_top5 = phys_15_medio_top5.reset_index()\n",
    "print(phys_15_medio_top5)"
   ]
  },
  {
   "cell_type": "code",
   "execution_count": 237,
   "metadata": {},
   "outputs": [
    {
     "name": "stdout",
     "output_type": "stream",
     "text": [
      "     hcpcs_code  average_medicare_allowed_amt  year\n",
      "1762      41530                   2988.085332  2015\n",
      "5583      J0600                    473.686663  2015\n",
      "5786      J7192                  18652.902051  2015\n",
      "5861      J9999                   2708.152776  2015\n",
      "5927      Q2043                  35938.558603  2015\n"
     ]
    }
   ],
   "source": [
    "phys_15_medio_top5 = phys_15_medio_top5[phys_15_medio_top5[\"hcpcs_code\"].isin(['41530', 'J0600', 'J7192', 'J9999', 'Q2043'])]\n",
    "phys_15_medio_top5['year'] = 2015\n",
    "phys_15_medio_top5 = phys_15_medio_top5.drop(columns={'bene_day_srvc_cnt'})\n",
    "print(phys_15_medio_top5)"
   ]
  },
  {
   "cell_type": "code",
   "execution_count": 238,
   "metadata": {
    "scrolled": true
   },
   "outputs": [
    {
     "name": "stdout",
     "output_type": "stream",
     "text": [
      "   hcpcs_code  average_medicare_allowed_amt  year\n",
      "0       41530                    875.926198  2017\n",
      "1       J0600                   2354.875647  2017\n",
      "2       J7192                  12880.678381  2017\n",
      "3       J9999                   1241.578519  2017\n",
      "4       Q2043                  39279.086545  2017\n",
      "5       41530                    893.447110  2016\n",
      "6       J0600                   1039.718002  2016\n",
      "7       J7192                  19275.296602  2016\n",
      "8       J9999                   1737.626059  2016\n",
      "9       Q2043                  37672.456856  2016\n",
      "10      41530                   2988.085332  2015\n",
      "11      J0600                    473.686663  2015\n",
      "12      J7192                  18652.902051  2015\n",
      "13      J9999                   2708.152776  2015\n",
      "14      Q2043                  35938.558603  2015\n"
     ]
    }
   ],
   "source": [
    "phys_medio_top5 = pd.concat([phys_17_medio_top5, phys_16_medio_top5, phys_15_medio_top5], ignore_index=True)\n",
    "print(phys_medio_top5)"
   ]
  },
  {
   "cell_type": "code",
   "execution_count": 239,
   "metadata": {},
   "outputs": [
    {
     "data": {
      "image/png": "[encoded data removed]",
      "text/plain": [
       "<Figure size 1080x216 with 5 Axes>"
      ]
     },
     "metadata": {
      "needs_background": "light"
     },
     "output_type": "display_data"
    }
   ],
   "source": [
    "import seaborn as sns\n",
    "g = sns.FacetGrid(phys_medio_top5, col=\"hcpcs_code\").set(xlim=(2014, 2018), ylim=(0, 40000), xticks=[2015, 2016, 2017], yticks=[0, 2500, 5000, 7500, 10000, 12500, 15000, 17500, 20000, 22500, 25000, 27500, 30000, 32500, 35000, 37500, 40000])\n",
    "g = g.map(plt.plot, \"year\", \"average_medicare_allowed_amt\")"
   ]
  },
  {
   "cell_type": "code",
   "execution_count": 97,
   "metadata": {},
   "outputs": [
    {
     "name": "stdout",
     "output_type": "stream",
     "text": [
      "    hcpcs_code  avg_med_amt_17  avg_med_amt_16  avg_med_amt_15  \\\n",
      "244      22533     1404.745455     1090.690909     1009.205833   \n",
      "249      22600      847.505000     1133.361818     1226.502857   \n",
      "703      51999     1560.157368     1100.056364     1152.990000   \n",
      "899      67113     1087.874833     1154.871030     1435.191447   \n",
      "905      67228      348.022535      350.304631     1087.920947   \n",
      "\n",
      "     16/17_med_chng  15/16_med_chng  15/17_med_chng  \n",
      "244      314.054545       81.485076      395.539621  \n",
      "249      285.856818       93.141039      378.997857  \n",
      "703      460.101005       52.933636      407.167368  \n",
      "899       66.996198      280.320417      347.316615  \n",
      "905        2.282096      737.616315      739.898411  \n"
     ]
    }
   ],
   "source": [
    "print(phys_med_if_top5)"
   ]
  },
  {
   "cell_type": "code",
   "execution_count": 240,
   "metadata": {},
   "outputs": [
    {
     "name": "stdout",
     "output_type": "stream",
     "text": [
      "     hcpcs_code  srvc_cnt_17  avg_med_amt_17\n",
      "0         0008M    45.800000     3443.360000\n",
      "1         00100    12.250000      279.764101\n",
      "2         00103    29.379651      150.285108\n",
      "3         00104    46.344046       81.635614\n",
      "4         00120    22.214286      191.618064\n",
      "...         ...          ...             ...\n",
      "6043      Q9989    16.000000       12.878341\n",
      "6044      R0070  2792.685484      179.225073\n",
      "6045      R0075  1813.689139       77.755564\n",
      "6046      V2632    89.000000      113.830000\n",
      "6047      V2785    40.196507     3840.269851\n",
      "\n",
      "[6048 rows x 3 columns]\n"
     ]
    }
   ],
   "source": [
    "phys_17_medif_top5 = phys_zip_17.groupby('hcpcs_code').mean()\n",
    "phys_17_medif_top5 = phys_17_medif_top5.reset_index()\n",
    "print(phys_17_medif_top5)"
   ]
  },
  {
   "cell_type": "code",
   "execution_count": 242,
   "metadata": {},
   "outputs": [
    {
     "name": "stdout",
     "output_type": "stream",
     "text": [
      "     hcpcs_code  average_medicare_allowed_amt  year\n",
      "642       22533                   1073.365650  2017\n",
      "649       22600                    720.355884  2017\n",
      "2257      51999                   1806.836264  2017\n",
      "2851      67113                   1284.494152  2017\n",
      "2862      67228                    331.506730  2017\n"
     ]
    }
   ],
   "source": [
    "phys_17_medif_top5 = phys_17_medif_top5[phys_17_medif_top5[\"hcpcs_code\"].isin(['22533', '22600', '51999', '67113', '67228'])]\n",
    "phys_17_medif_top5['year'] = 2017\n",
    "phys_17_medif_top5 = phys_17_medif_top5.drop(columns={'srvc_cnt_17'})\n",
    "phys_17_medif_top5 = phys_17_medif_top5.rename(columns={'avg_med_amt_17' : 'average_medicare_allowed_amt'})\n",
    "print(phys_17_medif_top5)"
   ]
  },
  {
   "cell_type": "code",
   "execution_count": 243,
   "metadata": {
    "scrolled": true
   },
   "outputs": [
    {
     "name": "stdout",
     "output_type": "stream",
     "text": [
      "     hcpcs_code  bene_day_srvc_cnt  average_medicare_allowed_amt\n",
      "0         0008M          65.666667                   3419.419776\n",
      "1         00100          12.333333                    290.975942\n",
      "2         00103          28.995647                    148.848422\n",
      "3         00104          47.340542                     81.226855\n",
      "4         0010M       13453.000000                    333.559722\n",
      "...         ...                ...                           ...\n",
      "6017      Q9983          26.571429                   2632.567331\n",
      "6018      R0070        2674.819095                    179.152107\n",
      "6019      R0075        1711.455556                     77.560227\n",
      "6020      V2632          98.000000                    113.040000\n",
      "6021      V2785          37.155378                   3774.329022\n",
      "\n",
      "[6022 rows x 3 columns]\n"
     ]
    }
   ],
   "source": [
    "phys_16_medif_top5 = phys_zip_16.groupby('hcpcs_code').mean()\n",
    "phys_16_medif_top5 = phys_16_medif_top5.reset_index()\n",
    "print(phys_16_medif_top5)"
   ]
  },
  {
   "cell_type": "code",
   "execution_count": 245,
   "metadata": {},
   "outputs": [
    {
     "name": "stdout",
     "output_type": "stream",
     "text": [
      "     hcpcs_code  average_medicare_allowed_amt  year\n",
      "643       22533                    928.896667  2016\n",
      "652       22600                    684.744121  2016\n",
      "2252      51999                   1771.621782  2016\n",
      "2845      67113                   1339.807552  2016\n",
      "2856      67228                    329.305534  2016\n"
     ]
    }
   ],
   "source": [
    "phys_16_medif_top5 = phys_16_medif_top5[phys_16_medif_top5[\"hcpcs_code\"].isin(['22533', '22600', '51999', '67113', '67228'])]\n",
    "phys_16_medif_top5['year'] = 2016\n",
    "phys_16_medif_top5 = phys_16_medif_top5.drop(columns={'bene_day_srvc_cnt'})\n",
    "phys_16_medif_top5 = phys_16_medif_top5.rename(columns={'avg_med_amt_16' : 'average_medicare_allowed_amt'})\n",
    "print(phys_16_medif_top5)"
   ]
  },
  {
   "cell_type": "code",
   "execution_count": 246,
   "metadata": {},
   "outputs": [
    {
     "name": "stdout",
     "output_type": "stream",
     "text": [
      "     hcpcs_code  bene_day_srvc_cnt  average_medicare_allowed_amt\n",
      "0         00100          15.000000                    266.582807\n",
      "1         00102          26.000000                     95.198939\n",
      "2         00103          29.361905                    154.333417\n",
      "3         00104          48.227996                     83.078735\n",
      "4         00120          22.018182                    203.457393\n",
      "...         ...                ...                           ...\n",
      "5978      Q9979          55.333333                   1725.411777\n",
      "5979      R0070        2732.017241                    179.336948\n",
      "5980      R0075        1807.130597                     76.752054\n",
      "5981      V2632         103.000000                    113.490000\n",
      "5982      V2785          39.342960                   3122.129476\n",
      "\n",
      "[5983 rows x 3 columns]\n"
     ]
    }
   ],
   "source": [
    "phys_15_medif_top5 = phys_zip_15.groupby('hcpcs_code').mean()\n",
    "phys_15_medif_top5 = phys_15_medif_top5.reset_index()\n",
    "print(phys_15_medif_top5)"
   ]
  },
  {
   "cell_type": "code",
   "execution_count": 247,
   "metadata": {
    "scrolled": true
   },
   "outputs": [
    {
     "name": "stdout",
     "output_type": "stream",
     "text": [
      "     hcpcs_code  average_medicare_allowed_amt  year\n",
      "650       22533                   1023.488295  2015\n",
      "660       22600                    800.170254  2015\n",
      "2217      51999                   1455.293918  2015\n",
      "2801      67113                   1520.005549  2015\n",
      "2812      67228                    959.330722  2015\n"
     ]
    }
   ],
   "source": [
    "phys_15_medif_top5 = phys_15_medif_top5[phys_15_medif_top5[\"hcpcs_code\"].isin(['22533', '22600', '51999', '67113', '67228'])]\n",
    "phys_15_medif_top5['year'] = 2015\n",
    "phys_15_medif_top5 = phys_15_medif_top5.drop(columns={'bene_day_srvc_cnt'})\n",
    "phys_15_medif_top5 = phys_15_medif_top5.rename(columns={'avg_med_amt_15' : 'average_medicare_allowed_amt'})\n",
    "print(phys_15_medif_top5)"
   ]
  },
  {
   "cell_type": "code",
   "execution_count": 248,
   "metadata": {},
   "outputs": [
    {
     "name": "stdout",
     "output_type": "stream",
     "text": [
      "   hcpcs_code  average_medicare_allowed_amt  year\n",
      "0       22533                   1073.365650  2017\n",
      "1       22600                    720.355884  2017\n",
      "2       51999                   1806.836264  2017\n",
      "3       67113                   1284.494152  2017\n",
      "4       67228                    331.506730  2017\n",
      "5       22533                    928.896667  2016\n",
      "6       22600                    684.744121  2016\n",
      "7       51999                   1771.621782  2016\n",
      "8       67113                   1339.807552  2016\n",
      "9       67228                    329.305534  2016\n",
      "10      22533                   1023.488295  2015\n",
      "11      22600                    800.170254  2015\n",
      "12      51999                   1455.293918  2015\n",
      "13      67113                   1520.005549  2015\n",
      "14      67228                    959.330722  2015\n"
     ]
    }
   ],
   "source": [
    "phys_medif_top5 = pd.concat([phys_17_medif_top5, phys_16_medif_top5, phys_15_medif_top5], ignore_index=True)\n",
    "print(phys_medif_top5)"
   ]
  },
  {
   "cell_type": "code",
   "execution_count": 249,
   "metadata": {},
   "outputs": [
    {
     "data": {
      "image/png": "[encoded data removed]",
      "text/plain": [
       "<Figure size 1080x216 with 5 Axes>"
      ]
     },
     "metadata": {
      "needs_background": "light"
     },
     "output_type": "display_data"
    }
   ],
   "source": [
    "g = sns.FacetGrid(phys_medif_top5, col=\"hcpcs_code\").set(xlim=(2014, 2018), ylim=(0, 2000), xticks=[2015, 2016, 2017], yticks=[0, 200, 400, 600, 800, 1000, 1200, 1400, 1600, 1800, 2000])\n",
    "g = g.map(plt.plot, \"year\", \"average_medicare_allowed_amt\")"
   ]
  },
  {
   "cell_type": "code",
   "execution_count": 250,
   "metadata": {},
   "outputs": [
    {
     "name": "stdout",
     "output_type": "stream",
     "text": [
      "     hcpcs_code  avg_med_amt_17  avg_med_amt_16  avg_med_amt_15  \\\n",
      "253       77371     1772.950000     1735.268750      742.704444   \n",
      "1444      J7187    42280.125522    34201.918387    23863.910069   \n",
      "1445      J7190        2.195144     5206.283813     7549.290722   \n",
      "1446      J7192    17266.087675    21000.894385    19813.444168   \n",
      "1447      J7195    25003.926636    29024.583734    30536.542002   \n",
      "\n",
      "      16/17_med_chng  15/16_med_chng  15/17_med_chng  \n",
      "253        37.681250      992.564306     1030.245556  \n",
      "1444     8078.207135    10338.008318    18416.215453  \n",
      "1445     5204.088669     2343.006909     7547.095578  \n",
      "1446     3734.806709     1187.450217     2547.356493  \n",
      "1447     4020.657099     1511.958268     5532.615366  \n"
     ]
    }
   ],
   "source": [
    "print(phys_med_oo_top5)"
   ]
  },
  {
   "cell_type": "code",
   "execution_count": 251,
   "metadata": {},
   "outputs": [
    {
     "name": "stdout",
     "output_type": "stream",
     "text": [
      "     hcpcs_code  srvc_cnt_17  avg_med_amt_17\n",
      "0         0008M    45.800000     3443.360000\n",
      "1         00100    12.250000      279.764101\n",
      "2         00103    29.379651      150.285108\n",
      "3         00104    46.344046       81.635614\n",
      "4         00120    22.214286      191.618064\n",
      "...         ...          ...             ...\n",
      "6043      Q9989    16.000000       12.878341\n",
      "6044      R0070  2792.685484      179.225073\n",
      "6045      R0075  1813.689139       77.755564\n",
      "6046      V2632    89.000000      113.830000\n",
      "6047      V2785    40.196507     3840.269851\n",
      "\n",
      "[6048 rows x 3 columns]\n"
     ]
    }
   ],
   "source": [
    "phys_17_medoo_top5 = phys_zip_17.groupby('hcpcs_code').mean()\n",
    "phys_17_medoo_top5 = phys_17_medoo_top5.reset_index()\n",
    "print(phys_17_medoo_top5)"
   ]
  },
  {
   "cell_type": "code",
   "execution_count": 252,
   "metadata": {},
   "outputs": [
    {
     "name": "stdout",
     "output_type": "stream",
     "text": [
      "     hcpcs_code  average_medicare_allowed_amt  year\n",
      "3417      77371                   2052.875000  2017\n",
      "5835      J7187                  27738.835016  2017\n",
      "5836      J7190                      2.195144  2017\n",
      "5837      J7192                  12880.678381  2017\n",
      "5838      J7195                  31261.043571  2017\n"
     ]
    }
   ],
   "source": [
    "phys_17_medoo_top5 = phys_17_medoo_top5[phys_17_medoo_top5[\"hcpcs_code\"].isin(['77371', 'J7187', 'J7190', 'J7192', 'J7195'])]\n",
    "phys_17_medoo_top5['year'] = 2017\n",
    "phys_17_medoo_top5 = phys_17_medoo_top5.drop(columns={'srvc_cnt_17'})\n",
    "phys_17_medoo_top5 = phys_17_medoo_top5.rename(columns={'avg_med_amt_17' : 'average_medicare_allowed_amt'})\n",
    "print(phys_17_medoo_top5)"
   ]
  },
  {
   "cell_type": "code",
   "execution_count": 253,
   "metadata": {},
   "outputs": [
    {
     "name": "stdout",
     "output_type": "stream",
     "text": [
      "     hcpcs_code  bene_day_srvc_cnt  average_medicare_allowed_amt\n",
      "0         0008M          65.666667                   3419.419776\n",
      "1         00100          12.333333                    290.975942\n",
      "2         00103          28.995647                    148.848422\n",
      "3         00104          47.340542                     81.226855\n",
      "4         0010M       13453.000000                    333.559722\n",
      "...         ...                ...                           ...\n",
      "6017      Q9983          26.571429                   2632.567331\n",
      "6018      R0070        2674.819095                    179.152107\n",
      "6019      R0075        1711.455556                     77.560227\n",
      "6020      V2632          98.000000                    113.040000\n",
      "6021      V2785          37.155378                   3774.329022\n",
      "\n",
      "[6022 rows x 3 columns]\n"
     ]
    }
   ],
   "source": [
    "phys_16_medoo_top5 = phys_zip_16.groupby('hcpcs_code').mean()\n",
    "phys_16_medoo_top5 = phys_16_medoo_top5.reset_index()\n",
    "print(phys_16_medoo_top5)"
   ]
  },
  {
   "cell_type": "code",
   "execution_count": 254,
   "metadata": {},
   "outputs": [
    {
     "name": "stdout",
     "output_type": "stream",
     "text": [
      "     hcpcs_code  average_medicare_allowed_amt  year\n",
      "3417      77371                   1957.069375  2016\n",
      "5815      J7187                  34201.918387  2016\n",
      "5816      J7190                  16333.239106  2016\n",
      "5817      J7192                  19275.296602  2016\n",
      "5818      J7195                  29024.583734  2016\n"
     ]
    }
   ],
   "source": [
    "phys_16_medoo_top5 = phys_16_medoo_top5[phys_16_medoo_top5[\"hcpcs_code\"].isin(['77371', 'J7187', 'J7190', 'J7192', 'J7195'])]\n",
    "phys_16_medoo_top5['year'] = 2016\n",
    "phys_16_medoo_top5 = phys_16_medoo_top5.drop(columns={'bene_day_srvc_cnt'})\n",
    "phys_16_medoo_top5 = phys_16_medoo_top5.rename(columns={'avg_med_amt_16' : 'average_medicare_allowed_amt'})\n",
    "print(phys_16_medoo_top5)"
   ]
  },
  {
   "cell_type": "code",
   "execution_count": 255,
   "metadata": {
    "scrolled": true
   },
   "outputs": [
    {
     "name": "stdout",
     "output_type": "stream",
     "text": [
      "     hcpcs_code  bene_day_srvc_cnt  average_medicare_allowed_amt\n",
      "0         00100          15.000000                    266.582807\n",
      "1         00102          26.000000                     95.198939\n",
      "2         00103          29.361905                    154.333417\n",
      "3         00104          48.227996                     83.078735\n",
      "4         00120          22.018182                    203.457393\n",
      "...         ...                ...                           ...\n",
      "5978      Q9979          55.333333                   1725.411777\n",
      "5979      R0070        2732.017241                    179.336948\n",
      "5980      R0075        1807.130597                     76.752054\n",
      "5981      V2632         103.000000                    113.490000\n",
      "5982      V2785          39.342960                   3122.129476\n",
      "\n",
      "[5983 rows x 3 columns]\n"
     ]
    }
   ],
   "source": [
    "phys_15_medoo_top5 = phys_zip_15.groupby('hcpcs_code').mean()\n",
    "phys_15_medoo_top5 = phys_15_medoo_top5.reset_index()\n",
    "print(phys_15_medoo_top5)"
   ]
  },
  {
   "cell_type": "code",
   "execution_count": 256,
   "metadata": {},
   "outputs": [
    {
     "name": "stdout",
     "output_type": "stream",
     "text": [
      "     hcpcs_code  average_medicare_allowed_amt  year\n",
      "3385      77371                   1792.280322  2015\n",
      "5784      J7187                  23863.910069  2015\n",
      "5785      J7190                  16275.470678  2015\n",
      "5786      J7192                  18652.902051  2015\n",
      "5788      J7195                  30536.542002  2015\n"
     ]
    }
   ],
   "source": [
    "phys_15_medoo_top5 = phys_15_medoo_top5[phys_15_medoo_top5[\"hcpcs_code\"].isin(['77371', 'J7187', 'J7190', 'J7192', 'J7195'])]\n",
    "phys_15_medoo_top5['year'] = 2015\n",
    "phys_15_medoo_top5 = phys_15_medoo_top5.drop(columns={'bene_day_srvc_cnt'})\n",
    "phys_15_medoo_top5 = phys_15_medoo_top5.rename(columns={'avg_med_amt_15' : 'average_medicare_allowed_amt'})\n",
    "print(phys_15_medoo_top5)"
   ]
  },
  {
   "cell_type": "code",
   "execution_count": 257,
   "metadata": {},
   "outputs": [
    {
     "name": "stdout",
     "output_type": "stream",
     "text": [
      "   hcpcs_code  average_medicare_allowed_amt  year\n",
      "0       77371                   2052.875000  2017\n",
      "1       J7187                  27738.835016  2017\n",
      "2       J7190                      2.195144  2017\n",
      "3       J7192                  12880.678381  2017\n",
      "4       J7195                  31261.043571  2017\n",
      "5       77371                   1957.069375  2016\n",
      "6       J7187                  34201.918387  2016\n",
      "7       J7190                  16333.239106  2016\n",
      "8       J7192                  19275.296602  2016\n",
      "9       J7195                  29024.583734  2016\n",
      "10      77371                   1792.280322  2015\n",
      "11      J7187                  23863.910069  2015\n",
      "12      J7190                  16275.470678  2015\n",
      "13      J7192                  18652.902051  2015\n",
      "14      J7195                  30536.542002  2015\n"
     ]
    }
   ],
   "source": [
    "phys_medoo_top5 = pd.concat([phys_17_medoo_top5, phys_16_medoo_top5, phys_15_medoo_top5], ignore_index=True)\n",
    "print(phys_medoo_top5)"
   ]
  },
  {
   "cell_type": "code",
   "execution_count": 258,
   "metadata": {},
   "outputs": [
    {
     "data": {
      "image/png": "[encoded data removed]",
      "text/plain": [
       "<Figure size 1080x216 with 5 Axes>"
      ]
     },
     "metadata": {
      "needs_background": "light"
     },
     "output_type": "display_data"
    }
   ],
   "source": [
    "g = sns.FacetGrid(phys_medoo_top5, col=\"hcpcs_code\").set(xlim=(2014, 2018), ylim=(0, 35000), xticks=[2015, 2016, 2017], yticks=[0, 2500, 5000, 7500, 10000, 12500, 15000, 17500, 20000, 22500, 25000, 27500, 30000, 32500, 35000])\n",
    "g = g.map(plt.plot, \"year\", \"average_medicare_allowed_amt\")"
   ]
  },
  {
   "cell_type": "code",
   "execution_count": 259,
   "metadata": {},
   "outputs": [
    {
     "name": "stdout",
     "output_type": "stream",
     "text": [
      "    hcpcs_code  avg_med_amt_17  avg_med_amt_16  avg_med_amt_15  \\\n",
      "220      28730     6780.870000     3329.220000     2507.134286   \n",
      "233      29825     1624.120000     1815.060000     3147.276410   \n",
      "282      33264    24362.086026    26318.603125    28020.960000   \n",
      "485      64575     9495.304583     4330.190000     4135.850000   \n",
      "632      69930    30720.781782    29795.304200    27903.864054   \n",
      "\n",
      "     16/17_med_chng  15/16_med_chng  15/17_med_chng  \n",
      "220     3451.650000      822.085714     4273.735714  \n",
      "233      190.940000     1332.216410     1523.156410  \n",
      "282     1956.517100     1702.356875     3658.873974  \n",
      "485     5165.114583      194.340000     5359.454583  \n",
      "632      925.477582     1891.440146     2816.917729  \n"
     ]
    }
   ],
   "source": [
    "print(phys_med_of_top5)"
   ]
  },
  {
   "cell_type": "code",
   "execution_count": 260,
   "metadata": {},
   "outputs": [
    {
     "name": "stdout",
     "output_type": "stream",
     "text": [
      "     hcpcs_code  srvc_cnt_17  avg_med_amt_17\n",
      "0         0008M    45.800000     3443.360000\n",
      "1         00100    12.250000      279.764101\n",
      "2         00103    29.379651      150.285108\n",
      "3         00104    46.344046       81.635614\n",
      "4         00120    22.214286      191.618064\n",
      "...         ...          ...             ...\n",
      "6043      Q9989    16.000000       12.878341\n",
      "6044      R0070  2792.685484      179.225073\n",
      "6045      R0075  1813.689139       77.755564\n",
      "6046      V2632    89.000000      113.830000\n",
      "6047      V2785    40.196507     3840.269851\n",
      "\n",
      "[6048 rows x 3 columns]\n"
     ]
    }
   ],
   "source": [
    "phys_17_medof_top5 = phys_zip_17.groupby('hcpcs_code').mean()\n",
    "phys_17_medof_top5 = phys_17_medof_top5.reset_index()\n",
    "print(phys_17_medof_top5)"
   ]
  },
  {
   "cell_type": "code",
   "execution_count": 261,
   "metadata": {},
   "outputs": [
    {
     "name": "stdout",
     "output_type": "stream",
     "text": [
      "     hcpcs_code  average_medicare_allowed_amt  year\n",
      "1122      28730                    725.425583  2017\n",
      "1181      29825                    252.134648  2017\n",
      "1420      33264                    947.956661  2017\n",
      "2693      64575                   3316.283491  2017\n",
      "3005      69930                   2987.475095  2017\n"
     ]
    }
   ],
   "source": [
    "phys_17_medof_top5 = phys_17_medof_top5[phys_17_medof_top5[\"hcpcs_code\"].isin(['28730', '29825', '33264', '64575', '69930'])]\n",
    "phys_17_medof_top5['year'] = 2017\n",
    "phys_17_medof_top5 = phys_17_medof_top5.drop(columns={'srvc_cnt_17'})\n",
    "phys_17_medof_top5 = phys_17_medof_top5.rename(columns={'avg_med_amt_17' : 'average_medicare_allowed_amt'})\n",
    "print(phys_17_medof_top5)\n"
   ]
  },
  {
   "cell_type": "code",
   "execution_count": 262,
   "metadata": {},
   "outputs": [
    {
     "name": "stdout",
     "output_type": "stream",
     "text": [
      "     hcpcs_code  bene_day_srvc_cnt  average_medicare_allowed_amt\n",
      "0         0008M          65.666667                   3419.419776\n",
      "1         00100          12.333333                    290.975942\n",
      "2         00103          28.995647                    148.848422\n",
      "3         00104          47.340542                     81.226855\n",
      "4         0010M       13453.000000                    333.559722\n",
      "...         ...                ...                           ...\n",
      "6017      Q9983          26.571429                   2632.567331\n",
      "6018      R0070        2674.819095                    179.152107\n",
      "6019      R0075        1711.455556                     77.560227\n",
      "6020      V2632          98.000000                    113.040000\n",
      "6021      V2785          37.155378                   3774.329022\n",
      "\n",
      "[6022 rows x 3 columns]\n"
     ]
    }
   ],
   "source": [
    "phys_16_medof_top5 = phys_zip_16.groupby('hcpcs_code').mean()\n",
    "phys_16_medof_top5 = phys_16_medof_top5.reset_index()\n",
    "print(phys_16_medof_top5)"
   ]
  },
  {
   "cell_type": "code",
   "execution_count": 263,
   "metadata": {},
   "outputs": [
    {
     "name": "stdout",
     "output_type": "stream",
     "text": [
      "     hcpcs_code  average_medicare_allowed_amt  year\n",
      "1128      28730                    671.270684  2016\n",
      "1184      29825                    268.106221  2016\n",
      "1417      33264                    834.299731  2016\n",
      "2683      64575                    880.036299  2016\n",
      "2992      69930                   3268.645347  2016\n"
     ]
    }
   ],
   "source": [
    "phys_16_medof_top5 = phys_16_medof_top5[phys_16_medof_top5[\"hcpcs_code\"].isin(['28730', '29825', '33264', '64575', '69930'])]\n",
    "phys_16_medof_top5['year'] = 2016\n",
    "phys_16_medof_top5 = phys_16_medof_top5.drop(columns={'bene_day_srvc_cnt'})\n",
    "phys_16_medof_top5 = phys_16_medof_top5.rename(columns={'avg_med_amt_16' : 'average_medicare_allowed_amt'})\n",
    "print(phys_16_medof_top5)"
   ]
  },
  {
   "cell_type": "code",
   "execution_count": 264,
   "metadata": {},
   "outputs": [
    {
     "name": "stdout",
     "output_type": "stream",
     "text": [
      "     hcpcs_code  bene_day_srvc_cnt  average_medicare_allowed_amt\n",
      "0         00100          15.000000                    266.582807\n",
      "1         00102          26.000000                     95.198939\n",
      "2         00103          29.361905                    154.333417\n",
      "3         00104          48.227996                     83.078735\n",
      "4         00120          22.018182                    203.457393\n",
      "...         ...                ...                           ...\n",
      "5978      Q9979          55.333333                   1725.411777\n",
      "5979      R0070        2732.017241                    179.336948\n",
      "5980      R0075        1807.130597                     76.752054\n",
      "5981      V2632         103.000000                    113.490000\n",
      "5982      V2785          39.342960                   3122.129476\n",
      "\n",
      "[5983 rows x 3 columns]\n"
     ]
    }
   ],
   "source": [
    "phys_15_medof_top5 = phys_zip_15.groupby('hcpcs_code').mean()\n",
    "phys_15_medof_top5 = phys_15_medof_top5.reset_index()\n",
    "print(phys_15_medof_top5)"
   ]
  },
  {
   "cell_type": "code",
   "execution_count": 265,
   "metadata": {},
   "outputs": [
    {
     "name": "stdout",
     "output_type": "stream",
     "text": [
      "     hcpcs_code  average_medicare_allowed_amt  year\n",
      "1117      28730                    635.693244  2015\n",
      "1172      29825                    301.399816  2015\n",
      "1402      33264                    822.247357  2015\n",
      "2641      64575                    848.669255  2015\n",
      "2956      69930                   2779.019062  2015\n"
     ]
    }
   ],
   "source": [
    "phys_15_medof_top5 = phys_15_medof_top5[phys_15_medof_top5[\"hcpcs_code\"].isin(['28730', '29825', '33264', '64575', '69930'])]\n",
    "phys_15_medof_top5['year'] = 2015\n",
    "phys_15_medof_top5 = phys_15_medof_top5.drop(columns={'bene_day_srvc_cnt'})\n",
    "phys_15_medof_top5 = phys_15_medof_top5.rename(columns={'avg_med_amt_15' : 'average_medicare_allowed_amt'})\n",
    "print(phys_15_medof_top5)"
   ]
  },
  {
   "cell_type": "code",
   "execution_count": 267,
   "metadata": {},
   "outputs": [
    {
     "name": "stdout",
     "output_type": "stream",
     "text": [
      "   hcpcs_code  average_medicare_allowed_amt  year\n",
      "0       28730                    725.425583  2017\n",
      "1       29825                    252.134648  2017\n",
      "2       33264                    947.956661  2017\n",
      "3       64575                   3316.283491  2017\n",
      "4       69930                   2987.475095  2017\n",
      "5       28730                    671.270684  2016\n",
      "6       29825                    268.106221  2016\n",
      "7       33264                    834.299731  2016\n",
      "8       64575                    880.036299  2016\n",
      "9       69930                   3268.645347  2016\n",
      "10      28730                    635.693244  2015\n",
      "11      29825                    301.399816  2015\n",
      "12      33264                    822.247357  2015\n",
      "13      64575                    848.669255  2015\n",
      "14      69930                   2779.019062  2015\n"
     ]
    }
   ],
   "source": [
    "phys_medof_top5 = pd.concat([phys_17_medof_top5, phys_16_medof_top5, phys_15_medof_top5], ignore_index=True)\n",
    "print(phys_medof_top5)"
   ]
  },
  {
   "cell_type": "code",
   "execution_count": 268,
   "metadata": {},
   "outputs": [
    {
     "data": {
      "image/png": "[encoded data removed]",
      "text/plain": [
       "<Figure size 1080x216 with 5 Axes>"
      ]
     },
     "metadata": {
      "needs_background": "light"
     },
     "output_type": "display_data"
    }
   ],
   "source": [
    "g = sns.FacetGrid(phys_medof_top5, col=\"hcpcs_code\").set(xlim=(2014, 2018), ylim=(0, 3500), xticks=[2015, 2016, 2017], yticks=[0, 250, 500, 750, 1000, 1250, 1500, 1750, 2000, 2250, 2500, 2750, 3000, 3250, 3500])\n",
    "g = g.map(plt.plot, \"year\", \"average_medicare_allowed_amt\")"
   ]
  },
  {
   "cell_type": "markdown",
   "metadata": {},
   "source": [
    "phys_medio_top5.to_csv('phys_med_io.csv')\n",
    "phys_medif_top5.to_csv('phys_med_if.csv')\n",
    "phys_medoo_top5.to_csv('phys_med_oo.csv')\n",
    "phys_medof_top5.to_csv('phys_med_of.csv')"
   ]
  },
  {
   "cell_type": "code",
   "execution_count": null,
   "metadata": {},
   "outputs": [],
   "source": []
  }
 ],
 "metadata": {
  "kernelspec": {
   "display_name": "Python 3",
   "language": "python",
   "name": "python3"
  },
  "language_info": {
   "codemirror_mode": {
    "name": "ipython",
    "version": 3
   },
   "file_extension": ".py",
   "mimetype": "text/x-python",
   "name": "python",
   "nbconvert_exporter": "python",
   "pygments_lexer": "ipython3",
   "version": "3.7.6"
  }
 },
 "nbformat": 4,
 "nbformat_minor": 4
}
