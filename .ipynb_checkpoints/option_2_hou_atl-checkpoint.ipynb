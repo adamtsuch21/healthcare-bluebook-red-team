{
 "cells": [
  {
   "cell_type": "code",
   "execution_count": 1,
   "metadata": {},
   "outputs": [],
   "source": [
    "import pandas as pd\n",
    "import numpy as np\n",
    "import matplotlib.pyplot as plt\n",
    "import seaborn as sns"
   ]
  },
  {
   "cell_type": "code",
   "execution_count": 2,
   "metadata": {},
   "outputs": [],
   "source": [
    "phys_supp_17 = pd.read_csv(\"/Users/adamtsuchiyama/Documents/healthcare-bluebook-red-team/data/Medicare_Provider_Util_Payment_PUF_CY2017.txt\", sep='\\t', usecols=['npi', 'nppes_provider_last_org_name', 'nppes_entity_code', 'nppes_provider_zip', 'nppes_provider_state', 'provider_type', 'place_of_service', 'hcpcs_code', 'bene_day_srvc_cnt', 'average_Medicare_allowed_amt'], dtype={'npi': str, 'nppes_provider_last_org_name' : str, 'nppes_entity_code' : str, 'nppes_provider_zip' : str, 'nppes_provider_state' : str, 'provider_type' : str, 'place_of_service' : str, 'hcpcs_code' : str, 'bene_day_srvc_cnt' : float, 'average_Medicare_allowed_amt' : float})\n",
    "\n"
   ]
  },
  {
   "cell_type": "code",
   "execution_count": 3,
   "metadata": {},
   "outputs": [],
   "source": [
    "phys_supp_16 = pd.read_csv(\"/Users/adamtsuchiyama/Documents/healthcare-bluebook-red-team/data/Medicare_Provider_Util_Payment_PUF_CY2016.txt\", sep='\\t', usecols=['NPI','NPPES_PROVIDER_ZIP', 'PLACE_OF_SERVICE', 'HCPCS_CODE', 'BENE_DAY_SRVC_CNT', 'AVERAGE_MEDICARE_ALLOWED_AMT'], dtype={'NPI': str, 'NPPES_PROVIDER_ZIP' : str, 'PLACE_OF_SERVICE' : str, 'HCPCS_CODE' : str, 'BENE_DAY_SRVC_CNT' : float, 'AVERAGE_MEDICARE_ALLOWED_AMT' : float})\n",
    "\n"
   ]
  },
  {
   "cell_type": "code",
   "execution_count": 4,
   "metadata": {},
   "outputs": [],
   "source": [
    "phys_supp_15 = pd.read_csv(\"/Users/adamtsuchiyama/Documents/healthcare-bluebook-red-team/data/Medicare_Provider_Util_Payment_PUF_CY2015.txt\", sep='\\t', usecols=['npi', 'nppes_provider_zip', 'place_of_service', 'hcpcs_code', 'bene_day_srvc_cnt', 'average_Medicare_allowed_amt'], dtype={'npi': str, 'nppes_provider_zip' : str, 'place_of_service' : str, 'hcpcs_code' : str, 'bene_day_srvc_cnt' : float, 'average_Medicare_allowed_amt' : float})\n",
    "\n"
   ]
  },
  {
   "cell_type": "code",
   "execution_count": 5,
   "metadata": {},
   "outputs": [],
   "source": [
    "zip_cbsa = pd.read_excel(\"/Users/adamtsuchiyama/Documents/healthcare-bluebook-red-team/data/ZIP_CBSA_032020.xlsx\", usecols=['ZIP', 'CBSA'], dtype={'ZIP' : str, 'CBSA' : str})"
   ]
  },
  {
   "cell_type": "code",
   "execution_count": 6,
   "metadata": {},
   "outputs": [],
   "source": [
    "apc_cw = pd.read_excel(\"/Users/adamtsuchiyama/Documents/healthcare-bluebook-red-team/data/2020_january_web_addendum_b.12312019.xlsx\", header=2, usecols=['HCPCS Code', 'APC '], dtype={'HCPCS Code' : str, 'APC ' : str})"
   ]
  },
  {
   "cell_type": "code",
   "execution_count": 7,
   "metadata": {},
   "outputs": [],
   "source": [
    "apc_cw = apc_cw.rename(columns={'APC ' : 'APC'})"
   ]
  },
  {
   "cell_type": "code",
   "execution_count": 8,
   "metadata": {},
   "outputs": [],
   "source": [
    "phys_supp_17.columns = map(str.lower, phys_supp_17.columns)\n",
    "phys_supp_16.columns = map(str.lower, phys_supp_16.columns)\n",
    "phys_supp_15.columns = map(str.lower, phys_supp_15.columns)"
   ]
  },
  {
   "cell_type": "code",
   "execution_count": 9,
   "metadata": {},
   "outputs": [
    {
     "name": "stdout",
     "output_type": "stream",
     "text": [
      "<class 'pandas.core.frame.DataFrame'>\n",
      "RangeIndex: 9847444 entries, 0 to 9847443\n",
      "Data columns (total 10 columns):\n",
      " #   Column                        Dtype  \n",
      "---  ------                        -----  \n",
      " 0   npi                           object \n",
      " 1   nppes_provider_last_org_name  object \n",
      " 2   nppes_entity_code             object \n",
      " 3   nppes_provider_zip            object \n",
      " 4   nppes_provider_state          object \n",
      " 5   provider_type                 object \n",
      " 6   place_of_service              object \n",
      " 7   hcpcs_code                    object \n",
      " 8   srvc_cnt_17                   float64\n",
      " 9   avg_med_amt_17                float64\n",
      "dtypes: float64(2), object(8)\n",
      "memory usage: 751.3+ MB\n",
      "None\n",
      "<class 'pandas.core.frame.DataFrame'>\n",
      "RangeIndex: 9714897 entries, 0 to 9714896\n",
      "Data columns (total 6 columns):\n",
      " #   Column              Dtype  \n",
      "---  ------              -----  \n",
      " 0   npi                 object \n",
      " 1   nppes_provider_zip  object \n",
      " 2   place_of_service    object \n",
      " 3   hcpcs_code          object \n",
      " 4   srvc_cnt_16         float64\n",
      " 5   avg_med_amt_16      float64\n",
      "dtypes: float64(2), object(4)\n",
      "memory usage: 444.7+ MB\n",
      "None\n",
      "<class 'pandas.core.frame.DataFrame'>\n",
      "RangeIndex: 9497892 entries, 0 to 9497891\n",
      "Data columns (total 6 columns):\n",
      " #   Column              Dtype  \n",
      "---  ------              -----  \n",
      " 0   npi                 object \n",
      " 1   nppes_provider_zip  object \n",
      " 2   place_of_service    object \n",
      " 3   hcpcs_code          object \n",
      " 4   srvc_cnt_15         float64\n",
      " 5   avg_med_amt_15      float64\n",
      "dtypes: float64(2), object(4)\n",
      "memory usage: 434.8+ MB\n",
      "None\n"
     ]
    }
   ],
   "source": [
    "phys_supp_17 = phys_supp_17.rename(columns={'bene_day_srvc_cnt' : 'srvc_cnt_17', 'average_medicare_allowed_amt' : 'avg_med_amt_17'})\n",
    "phys_supp_16 = phys_supp_16.rename(columns={'bene_day_srvc_cnt' : 'srvc_cnt_16', 'average_medicare_allowed_amt' : 'avg_med_amt_16'})\n",
    "phys_supp_15 = phys_supp_15.rename(columns={'bene_day_srvc_cnt' : 'srvc_cnt_15', 'average_medicare_allowed_amt' : 'avg_med_amt_15'})\n",
    "print(phys_supp_17.info())\n",
    "print(phys_supp_16.info())\n",
    "print(phys_supp_15.info())"
   ]
  },
  {
   "cell_type": "code",
   "execution_count": 10,
   "metadata": {},
   "outputs": [
    {
     "name": "stdout",
     "output_type": "stream",
     "text": [
      "          npi                       nppes_provider_last_org_name  \\\n",
      "0  0000000001  CPT copyright 2016 American Medical Associatio...   \n",
      "1  1003000126                                          ENKESHAFI   \n",
      "2  1003000126                                          ENKESHAFI   \n",
      "3  1003000126                                          ENKESHAFI   \n",
      "4  1003000126                                          ENKESHAFI   \n",
      "\n",
      "  nppes_entity_code nppes_provider_zip_x nppes_provider_state  \\\n",
      "0               NaN                  NaN                  NaN   \n",
      "1                 I            215021854                   MD   \n",
      "2                 I            215021854                   MD   \n",
      "3                 I            215021854                   MD   \n",
      "4                 I            215021854                   MD   \n",
      "\n",
      "       provider_type place_of_service hcpcs_code  srvc_cnt_17  avg_med_amt_17  \\\n",
      "0                NaN              NaN        NaN          NaN             NaN   \n",
      "1  Internal Medicine                F      99217        100.0       73.398800   \n",
      "2  Internal Medicine                F      99219         52.0      136.380000   \n",
      "3  Internal Medicine                F      99220         59.0      190.363729   \n",
      "4  Internal Medicine                F      99221         16.0      101.680000   \n",
      "\n",
      "  nppes_provider_zip_y  srvc_cnt_16  avg_med_amt_16  \n",
      "0                  NaN          NaN             NaN  \n",
      "1            215021854         57.0       72.743158  \n",
      "2            215021854         38.0      135.010000  \n",
      "3            215021854         23.0      189.239565  \n",
      "4            215021854         20.0      100.750000  \n"
     ]
    }
   ],
   "source": [
    "phys_join = pd.merge(phys_supp_17, phys_supp_16, how='inner', on=['npi', 'place_of_service' ,'hcpcs_code'])\n",
    "print(phys_join.head())"
   ]
  },
  {
   "cell_type": "code",
   "execution_count": 11,
   "metadata": {},
   "outputs": [
    {
     "name": "stdout",
     "output_type": "stream",
     "text": [
      "          npi                       nppes_provider_last_org_name  \\\n",
      "0  0000000001  CPT copyright 2016 American Medical Associatio...   \n",
      "1  1003000126                                          ENKESHAFI   \n",
      "2  1003000126                                          ENKESHAFI   \n",
      "3  1003000126                                          ENKESHAFI   \n",
      "4  1003000126                                          ENKESHAFI   \n",
      "\n",
      "  nppes_entity_code nppes_provider_state      provider_type place_of_service  \\\n",
      "0               NaN                  NaN                NaN              NaN   \n",
      "1                 I                   MD  Internal Medicine                F   \n",
      "2                 I                   MD  Internal Medicine                F   \n",
      "3                 I                   MD  Internal Medicine                F   \n",
      "4                 I                   MD  Internal Medicine                F   \n",
      "\n",
      "  hcpcs_code  srvc_cnt_17  avg_med_amt_17  srvc_cnt_16  avg_med_amt_16  \\\n",
      "0        NaN          NaN             NaN          NaN             NaN   \n",
      "1      99217        100.0         73.3988         57.0       72.743158   \n",
      "2      99219         52.0        136.3800         38.0      135.010000   \n",
      "3      99221         16.0        101.6800         20.0      100.750000   \n",
      "4      99222         59.0        137.3100         96.0      136.250000   \n",
      "\n",
      "  nppes_provider_zip  srvc_cnt_15  avg_med_amt_15  \n",
      "0                NaN          NaN             NaN  \n",
      "1          215021854         23.0       72.680000  \n",
      "2          215021854         18.0      135.850000  \n",
      "3          215021854         59.0      101.365085  \n",
      "4          215021854        132.0      139.010455  \n"
     ]
    }
   ],
   "source": [
    "phys_join = pd.merge(phys_join, phys_supp_15, how='inner', on=['npi', 'place_of_service' ,'hcpcs_code'])\n",
    "phys_join = phys_join.drop(columns={'nppes_provider_zip_x', 'nppes_provider_zip_y'})\n",
    "print(phys_join.head())"
   ]
  },
  {
   "cell_type": "code",
   "execution_count": 12,
   "metadata": {},
   "outputs": [],
   "source": [
    "phys_join['ZIP'] = phys_join['nppes_provider_zip'].str[:5]"
   ]
  },
  {
   "cell_type": "code",
   "execution_count": 13,
   "metadata": {},
   "outputs": [],
   "source": [
    "phys_join = pd.merge(phys_join, zip_cbsa, how='left', on='ZIP')"
   ]
  },
  {
   "cell_type": "code",
   "execution_count": 16,
   "metadata": {},
   "outputs": [],
   "source": [
    "phys_hou_join = phys_join[phys_join['CBSA'] == '26420']"
   ]
  },
  {
   "cell_type": "code",
   "execution_count": 17,
   "metadata": {},
   "outputs": [],
   "source": [
    "phys_atl_join = phys_join[phys_join['CBSA'] == '12060']"
   ]
  },
  {
   "cell_type": "code",
   "execution_count": 22,
   "metadata": {},
   "outputs": [
    {
     "name": "stdout",
     "output_type": "stream",
     "text": [
      "<class 'pandas.core.frame.DataFrame'>\n",
      "Int64Index: 86779 entries, 79 to 6842200\n",
      "Data columns (total 9 columns):\n",
      " #   Column             Non-Null Count  Dtype  \n",
      "---  ------             --------------  -----  \n",
      " 0   npi                86779 non-null  object \n",
      " 1   nppes_entity_code  86779 non-null  object \n",
      " 2   place_of_service   86779 non-null  object \n",
      " 3   hcpcs_code         86779 non-null  object \n",
      " 4   avg_med_amt_17     86779 non-null  float64\n",
      " 5   avg_med_amt_16     86779 non-null  float64\n",
      " 6   avg_med_amt_15     86779 non-null  float64\n",
      " 7   ZIP                86779 non-null  object \n",
      " 8   CBSA               86779 non-null  object \n",
      "dtypes: float64(3), object(6)\n",
      "memory usage: 6.6+ MB\n",
      "None\n",
      "(86779, 9)\n"
     ]
    }
   ],
   "source": [
    "phys_hou_med = phys_hou_join.drop(columns={'nppes_provider_last_org_name', 'nppes_provider_zip', 'nppes_provider_state', 'provider_type', 'srvc_cnt_17', 'srvc_cnt_16', 'srvc_cnt_15'})\n",
    "print(phys_hou_med.info())\n",
    "print(np.shape(phys_hou_med))"
   ]
  },
  {
   "cell_type": "code",
   "execution_count": 23,
   "metadata": {},
   "outputs": [
    {
     "name": "stdout",
     "output_type": "stream",
     "text": [
      "<class 'pandas.core.frame.DataFrame'>\n",
      "Int64Index: 89517 entries, 145 to 6841787\n",
      "Data columns (total 9 columns):\n",
      " #   Column             Non-Null Count  Dtype  \n",
      "---  ------             --------------  -----  \n",
      " 0   npi                89517 non-null  object \n",
      " 1   nppes_entity_code  89517 non-null  object \n",
      " 2   place_of_service   89517 non-null  object \n",
      " 3   hcpcs_code         89517 non-null  object \n",
      " 4   avg_med_amt_17     89517 non-null  float64\n",
      " 5   avg_med_amt_16     89517 non-null  float64\n",
      " 6   avg_med_amt_15     89517 non-null  float64\n",
      " 7   ZIP                89517 non-null  object \n",
      " 8   CBSA               89517 non-null  object \n",
      "dtypes: float64(3), object(6)\n",
      "memory usage: 6.8+ MB\n",
      "None\n",
      "(89517, 9)\n"
     ]
    }
   ],
   "source": [
    "phys_atl_med = phys_atl_join.drop(columns={'nppes_provider_last_org_name', 'nppes_provider_zip', 'nppes_provider_state', 'provider_type', 'srvc_cnt_17', 'srvc_cnt_16', 'srvc_cnt_15'})\n",
    "print(phys_atl_med.info())\n",
    "print(np.shape(phys_atl_med))"
   ]
  },
  {
   "cell_type": "code",
   "execution_count": 24,
   "metadata": {},
   "outputs": [
    {
     "name": "stdout",
     "output_type": "stream",
     "text": [
      "(37241, 9)\n"
     ]
    }
   ],
   "source": [
    "phys_houmed_indv_F = phys_hou_med[phys_hou_med['nppes_entity_code'] == 'I']\n",
    "phys_houmed_indv_F = phys_houmed_indv_F[phys_houmed_indv_F['place_of_service'] == 'F']\n",
    "print(np.shape(phys_houmed_indv_F))"
   ]
  },
  {
   "cell_type": "code",
   "execution_count": 25,
   "metadata": {},
   "outputs": [
    {
     "name": "stdout",
     "output_type": "stream",
     "text": [
      "(32704, 9)\n"
     ]
    }
   ],
   "source": [
    "phys_atlmed_indv_F = phys_atl_med[phys_atl_med['nppes_entity_code'] == 'I']\n",
    "phys_atlmed_indv_F = phys_atlmed_indv_F[phys_atlmed_indv_F['place_of_service'] == 'F']\n",
    "print(np.shape(phys_atlmed_indv_F))"
   ]
  },
  {
   "cell_type": "code",
   "execution_count": 26,
   "metadata": {},
   "outputs": [
    {
     "name": "stdout",
     "output_type": "stream",
     "text": [
      "     hcpcs_code  avg_med_amt_17  avg_med_amt_16  avg_med_amt_15\n",
      "0         00103      111.036333      108.353718      117.273093\n",
      "1         00104      124.963153      122.244005      126.870697\n",
      "2         00140      103.537808      103.893620      111.236905\n",
      "3         00142       90.166320       91.272302       91.684099\n",
      "4         00144      120.917274      128.910031      138.375944\n",
      "...         ...             ...             ...             ...\n",
      "1090      G0416      187.101458      158.449444      182.472214\n",
      "1091      G0439      119.150000      118.720000      119.343333\n",
      "1092      G0452       18.962224       18.916011       19.312164\n",
      "1093      G0453       33.200823       33.167248       33.143798\n",
      "1094      G6002       21.146536       20.714108       20.686417\n",
      "\n",
      "[1095 rows x 4 columns]\n"
     ]
    }
   ],
   "source": [
    "phys_houmed_if_group = phys_houmed_indv_F.groupby('hcpcs_code').mean()\n",
    "phys_houmed_if_group = phys_houmed_if_group.reset_index()\n",
    "print(phys_houmed_if_group)"
   ]
  },
  {
   "cell_type": "code",
   "execution_count": 27,
   "metadata": {},
   "outputs": [
    {
     "name": "stdout",
     "output_type": "stream",
     "text": [
      "    hcpcs_code  avg_med_amt_17  avg_med_amt_16  avg_med_amt_15\n",
      "0        00103      112.904862      113.820997      118.505054\n",
      "1        00104       78.698307       77.023273       80.047849\n",
      "2        00140      105.368367      105.066300      108.295158\n",
      "3        00142       78.301327       79.124825       79.967937\n",
      "4        00144      117.964562      116.293238      118.621088\n",
      "..         ...             ...             ...             ...\n",
      "912      G0452       18.650102       18.620000       19.004109\n",
      "913      G0453       33.085413       32.782041       32.918209\n",
      "914      G6002       20.736576       25.440975       34.491787\n",
      "915      Q0091       18.140000       18.050000       18.063430\n",
      "916      Q3014       24.841695       22.810000       22.675000\n",
      "\n",
      "[917 rows x 4 columns]\n"
     ]
    }
   ],
   "source": [
    "phys_atlmed_if_group = phys_atlmed_indv_F.groupby('hcpcs_code').mean()\n",
    "phys_atlmed_if_group = phys_atlmed_if_group.reset_index()\n",
    "print(phys_atlmed_if_group)"
   ]
  },
  {
   "cell_type": "code",
   "execution_count": 28,
   "metadata": {},
   "outputs": [],
   "source": [
    "phys_houmed_if_group['16/17_med_chng'] = abs(phys_houmed_if_group['avg_med_amt_17'] - phys_houmed_if_group['avg_med_amt_16'])\n",
    "phys_houmed_if_group['15/16_med_chng'] = abs(phys_houmed_if_group['avg_med_amt_16'] - phys_houmed_if_group['avg_med_amt_15'])\n",
    "phys_houmed_if_group['15/17_med_chng'] = abs(phys_houmed_if_group['avg_med_amt_17'] - phys_houmed_if_group['avg_med_amt_15'])"
   ]
  },
  {
   "cell_type": "code",
   "execution_count": 29,
   "metadata": {},
   "outputs": [],
   "source": [
    "phys_atlmed_if_group['16/17_med_chng'] = abs(phys_atlmed_if_group['avg_med_amt_17'] - phys_atlmed_if_group['avg_med_amt_16'])\n",
    "phys_atlmed_if_group['15/16_med_chng'] = abs(phys_atlmed_if_group['avg_med_amt_16'] - phys_atlmed_if_group['avg_med_amt_15'])\n",
    "phys_atlmed_if_group['15/17_med_chng'] = abs(phys_atlmed_if_group['avg_med_amt_17'] - phys_atlmed_if_group['avg_med_amt_15'])"
   ]
  },
  {
   "cell_type": "code",
   "execution_count": 30,
   "metadata": {},
   "outputs": [
    {
     "name": "stdout",
     "output_type": "stream",
     "text": [
      "    hcpcs_code  avg_med_amt_17  avg_med_amt_15  15/17_med_chng\n",
      "384      47135     4318.622196     3597.041699      721.580497\n",
      "546      67228      289.937857      917.211747      627.273890\n",
      "419      51999     3141.658500     2517.003333      624.655167\n",
      "258      33418     1184.370000     1672.071923      487.701923\n",
      "470      61867     2850.853000     2425.559310      425.293690\n"
     ]
    }
   ],
   "source": [
    "phys_houmed_if_1517 = phys_houmed_if_group.sort_values(by=['15/17_med_chng'], ascending=False).head()\n",
    "phys_houmed_if_1517 = phys_houmed_if_1517.drop(columns={'avg_med_amt_16', '15/16_med_chng', '16/17_med_chng'})\n",
    "print(phys_houmed_if_1517)"
   ]
  },
  {
   "cell_type": "code",
   "execution_count": 31,
   "metadata": {},
   "outputs": [
    {
     "name": "stdout",
     "output_type": "stream",
     "text": [
      "    hcpcs_code  avg_med_amt_17  avg_med_amt_15  15/17_med_chng\n",
      "382      63045     1300.721538      725.905455      574.816084\n",
      "134      22600      722.114266     1201.672468      479.558202\n",
      "434      67108     1211.403667     1605.660308      394.256641\n",
      "435      67113     1358.485667     1728.453125      369.967458\n",
      "433      67042     1171.157685      840.495148      330.662537\n"
     ]
    }
   ],
   "source": [
    "phys_atlmed_if_1517 = phys_atlmed_if_group.sort_values(by=['15/17_med_chng'], ascending=False).head()\n",
    "phys_atlmed_if_1517 = phys_atlmed_if_1517.drop(columns={'avg_med_amt_16', '15/16_med_chng', '16/17_med_chng'})\n",
    "print(phys_atlmed_if_1517)"
   ]
  },
  {
   "cell_type": "code",
   "execution_count": 32,
   "metadata": {},
   "outputs": [
    {
     "name": "stdout",
     "output_type": "stream",
     "text": [
      "    hcpcs_code  avg_med_amt_17  avg_med_amt_16  avg_med_amt_15  \\\n",
      "258      33418     1184.370000     1335.751667     1672.071923   \n",
      "384      47135     4318.622196     3940.773477     3597.041699   \n",
      "419      51999     3141.658500     3154.090000     2517.003333   \n",
      "470      61867     2850.853000     2814.599583     2425.559310   \n",
      "546      67228      289.937857      302.867308      917.211747   \n",
      "\n",
      "     16/17_med_chng  15/16_med_chng  15/17_med_chng  \n",
      "258      151.381667      336.320256      487.701923  \n",
      "384      377.848719      343.731778      721.580497  \n",
      "419       12.431500      637.086667      624.655167  \n",
      "470       36.253417      389.040273      425.293690  \n",
      "546       12.929451      614.344439      627.273890  \n"
     ]
    }
   ],
   "source": [
    "phys_houmed_if_top5 = phys_houmed_if_group[phys_houmed_if_group[\"hcpcs_code\"].isin(['47135', '67228', '51999', '33418', '61867'])]\n",
    "print(phys_houmed_if_top5)\n",
    "\n"
   ]
  },
  {
   "cell_type": "code",
   "execution_count": 34,
   "metadata": {},
   "outputs": [
    {
     "name": "stdout",
     "output_type": "stream",
     "text": [
      "    hcpcs_code  avg_med_amt_17  avg_med_amt_16  avg_med_amt_15  \\\n",
      "134      22600      722.114266      900.695000     1201.672468   \n",
      "382      63045     1300.721538     1263.941111      725.905455   \n",
      "433      67042     1171.157685     1165.135000      840.495148   \n",
      "434      67108     1211.403667     1310.955000     1605.660308   \n",
      "435      67113     1358.485667     1388.586250     1728.453125   \n",
      "\n",
      "     16/17_med_chng  15/16_med_chng  15/17_med_chng  \n",
      "134      178.580734      300.977468      479.558202  \n",
      "382       36.780427      538.035657      574.816084  \n",
      "433        6.022685      324.639852      330.662537  \n",
      "434       99.551333      294.705308      394.256641  \n",
      "435       30.100583      339.866875      369.967458  \n"
     ]
    }
   ],
   "source": [
    "phys_atlmed_if_top5 = phys_atlmed_if_group[phys_atlmed_if_group[\"hcpcs_code\"].isin(['63045', '22600', '67108', '67113', '67042'])]\n",
    "print(phys_atlmed_if_top5)\n",
    "\n"
   ]
  },
  {
   "cell_type": "code",
   "execution_count": 35,
   "metadata": {},
   "outputs": [
    {
     "name": "stdout",
     "output_type": "stream",
     "text": [
      "<class 'pandas.core.frame.DataFrame'>\n",
      "Int64Index: 86779 entries, 79 to 6842200\n",
      "Data columns (total 9 columns):\n",
      " #   Column             Non-Null Count  Dtype  \n",
      "---  ------             --------------  -----  \n",
      " 0   npi                86779 non-null  object \n",
      " 1   nppes_entity_code  86779 non-null  object \n",
      " 2   place_of_service   86779 non-null  object \n",
      " 3   hcpcs_code         86779 non-null  object \n",
      " 4   srvc_cnt_17        86779 non-null  float64\n",
      " 5   srvc_cnt_16        86779 non-null  float64\n",
      " 6   srvc_cnt_15        86779 non-null  float64\n",
      " 7   ZIP                86779 non-null  object \n",
      " 8   CBSA               86779 non-null  object \n",
      "dtypes: float64(3), object(6)\n",
      "memory usage: 6.6+ MB\n",
      "None\n",
      "(86779, 9)\n"
     ]
    }
   ],
   "source": [
    "phys_hou_srvc = phys_hou_join.drop(columns={'nppes_provider_last_org_name', 'nppes_provider_zip', 'nppes_provider_state', 'provider_type', 'avg_med_amt_17', 'avg_med_amt_16', 'avg_med_amt_15'})\n",
    "print(phys_hou_srvc.info())\n",
    "print(np.shape(phys_hou_srvc))"
   ]
  },
  {
   "cell_type": "code",
   "execution_count": 36,
   "metadata": {},
   "outputs": [
    {
     "name": "stdout",
     "output_type": "stream",
     "text": [
      "<class 'pandas.core.frame.DataFrame'>\n",
      "Int64Index: 89517 entries, 145 to 6841787\n",
      "Data columns (total 9 columns):\n",
      " #   Column             Non-Null Count  Dtype  \n",
      "---  ------             --------------  -----  \n",
      " 0   npi                89517 non-null  object \n",
      " 1   nppes_entity_code  89517 non-null  object \n",
      " 2   place_of_service   89517 non-null  object \n",
      " 3   hcpcs_code         89517 non-null  object \n",
      " 4   srvc_cnt_17        89517 non-null  float64\n",
      " 5   srvc_cnt_16        89517 non-null  float64\n",
      " 6   srvc_cnt_15        89517 non-null  float64\n",
      " 7   ZIP                89517 non-null  object \n",
      " 8   CBSA               89517 non-null  object \n",
      "dtypes: float64(3), object(6)\n",
      "memory usage: 6.8+ MB\n",
      "None\n",
      "(89517, 9)\n"
     ]
    }
   ],
   "source": [
    "phys_atl_srvc = phys_atl_join.drop(columns={'nppes_provider_last_org_name', 'nppes_provider_zip', 'nppes_provider_state', 'provider_type', 'avg_med_amt_17', 'avg_med_amt_16', 'avg_med_amt_15'})\n",
    "print(phys_atl_srvc.info())\n",
    "print(np.shape(phys_atl_srvc))"
   ]
  },
  {
   "cell_type": "code",
   "execution_count": 37,
   "metadata": {},
   "outputs": [
    {
     "name": "stdout",
     "output_type": "stream",
     "text": [
      "(37241, 9)\n"
     ]
    }
   ],
   "source": [
    "phys_housrvc_indv_F = phys_hou_srvc[phys_hou_srvc['nppes_entity_code'] == 'I']\n",
    "phys_housrvc_indv_F = phys_housrvc_indv_F[phys_housrvc_indv_F['place_of_service'] == 'F']\n",
    "print(np.shape(phys_housrvc_indv_F))"
   ]
  },
  {
   "cell_type": "code",
   "execution_count": 38,
   "metadata": {},
   "outputs": [
    {
     "name": "stdout",
     "output_type": "stream",
     "text": [
      "(32704, 9)\n"
     ]
    }
   ],
   "source": [
    "phys_atlsrvc_indv_F = phys_atl_srvc[phys_atl_srvc['nppes_entity_code'] == 'I']\n",
    "phys_atlsrvc_indv_F = phys_atlsrvc_indv_F[phys_atlsrvc_indv_F['place_of_service'] == 'F']\n",
    "print(np.shape(phys_atlsrvc_indv_F))"
   ]
  },
  {
   "cell_type": "code",
   "execution_count": 40,
   "metadata": {},
   "outputs": [
    {
     "name": "stdout",
     "output_type": "stream",
     "text": [
      "     hcpcs_code  srvc_cnt_17  srvc_cnt_16  srvc_cnt_15\n",
      "0         00103        416.0        440.0        369.0\n",
      "1         00104        513.0        748.0        713.0\n",
      "2         00140       1188.0       1148.0        918.0\n",
      "3         00142      25629.0      27612.0      23920.0\n",
      "4         00144        349.0        333.0        366.0\n",
      "...         ...          ...          ...          ...\n",
      "1090      G0416        210.0        214.0        204.0\n",
      "1091      G0439         35.0         36.0         36.0\n",
      "1092      G0452       7621.0       8095.0       7365.0\n",
      "1093      G0453       2224.0       2647.0       2022.0\n",
      "1094      G6002      15489.0      14534.0      14215.0\n",
      "\n",
      "[1095 rows x 4 columns]\n"
     ]
    }
   ],
   "source": [
    "phys_housrvc_if_group = phys_housrvc_indv_F.groupby('hcpcs_code').sum()\n",
    "phys_housrvc_if_group = phys_housrvc_if_group.reset_index()\n",
    "print(phys_housrvc_if_group)"
   ]
  },
  {
   "cell_type": "code",
   "execution_count": 41,
   "metadata": {},
   "outputs": [
    {
     "name": "stdout",
     "output_type": "stream",
     "text": [
      "    hcpcs_code  srvc_cnt_17  srvc_cnt_16  srvc_cnt_15\n",
      "0        00103        751.0        795.0        727.0\n",
      "1        00104       2722.0       2849.0       3403.0\n",
      "2        00140       1124.0       1049.0        889.0\n",
      "3        00142      28846.0      30764.0      30693.0\n",
      "4        00144        246.0        325.0        267.0\n",
      "..         ...          ...          ...          ...\n",
      "912      G0452        203.0        176.0        151.0\n",
      "913      G0453       1179.0       1249.0        962.0\n",
      "914      G6002       6010.0       4545.0       6619.0\n",
      "915      Q0091         62.0         63.0         59.0\n",
      "916      Q3014        171.0        192.0        120.0\n",
      "\n",
      "[917 rows x 4 columns]\n"
     ]
    }
   ],
   "source": [
    "phys_atlsrvc_if_group = phys_atlsrvc_indv_F.groupby('hcpcs_code').sum()\n",
    "phys_atlsrvc_if_group = phys_atlsrvc_if_group.reset_index()\n",
    "print(phys_atlsrvc_if_group)"
   ]
  },
  {
   "cell_type": "code",
   "execution_count": 42,
   "metadata": {},
   "outputs": [],
   "source": [
    "phys_housrvc_if_group['16/17_srvc_chng'] = abs(phys_housrvc_if_group['srvc_cnt_17'] - phys_housrvc_if_group['srvc_cnt_16'])\n",
    "phys_housrvc_if_group['15/16_srvc_chng'] = abs(phys_housrvc_if_group['srvc_cnt_16'] - phys_housrvc_if_group['srvc_cnt_15'])\n",
    "phys_housrvc_if_group['15/17_srvc_chng'] = abs(phys_housrvc_if_group['srvc_cnt_17'] - phys_housrvc_if_group['srvc_cnt_15'])"
   ]
  },
  {
   "cell_type": "code",
   "execution_count": 44,
   "metadata": {},
   "outputs": [],
   "source": [
    "phys_atlsrvc_if_group['16/17_srvc_chng'] = abs(phys_atlsrvc_if_group['srvc_cnt_17'] - phys_atlsrvc_if_group['srvc_cnt_16'])\n",
    "phys_atlsrvc_if_group['15/16_srvc_chng'] = abs(phys_atlsrvc_if_group['srvc_cnt_16'] - phys_atlsrvc_if_group['srvc_cnt_15'])\n",
    "phys_atlsrvc_if_group['15/17_srvc_chng'] = abs(phys_atlsrvc_if_group['srvc_cnt_17'] - phys_atlsrvc_if_group['srvc_cnt_15'])"
   ]
  },
  {
   "cell_type": "code",
   "execution_count": 45,
   "metadata": {},
   "outputs": [
    {
     "name": "stdout",
     "output_type": "stream",
     "text": [
      "     hcpcs_code  srvc_cnt_17  srvc_cnt_15  15/17_srvc_chng\n",
      "1051      99232    1159337.0    1299196.0         139859.0\n",
      "1050      99231     105673.0     145255.0          39582.0\n",
      "581       71010     285012.0     302466.0          17454.0\n",
      "582       71020     101259.0     114689.0          13430.0\n",
      "1046      99223     160159.0     173174.0          13015.0\n"
     ]
    }
   ],
   "source": [
    "phys_housrvc_if_1517 = phys_housrvc_if_group.sort_values(by=['15/17_srvc_chng'], ascending=False).head()\n",
    "phys_housrvc_if_1517 = phys_housrvc_if_1517.drop(columns={'srvc_cnt_16', '15/16_srvc_chng', '16/17_srvc_chng'})\n",
    "print(phys_housrvc_if_1517)"
   ]
  },
  {
   "cell_type": "code",
   "execution_count": 46,
   "metadata": {},
   "outputs": [
    {
     "name": "stdout",
     "output_type": "stream",
     "text": [
      "    hcpcs_code  srvc_cnt_17  srvc_cnt_15  15/17_srvc_chng\n",
      "868      99232     439349.0     479938.0          40589.0\n",
      "863      99223     119052.0     129091.0          10039.0\n",
      "469      71010     194166.0     204027.0           9861.0\n",
      "470      71020      84488.0      93615.0           9127.0\n",
      "899      G0202      51955.0      60322.0           8367.0\n"
     ]
    }
   ],
   "source": [
    "phys_atlsrvc_if_1517 = phys_atlsrvc_if_group.sort_values(by=['15/17_srvc_chng'], ascending=False).head()\n",
    "phys_atlsrvc_if_1517 = phys_atlsrvc_if_1517.drop(columns={'srvc_cnt_16', '15/16_srvc_chng', '16/17_srvc_chng'})\n",
    "print(phys_atlsrvc_if_1517)"
   ]
  },
  {
   "cell_type": "code",
   "execution_count": 47,
   "metadata": {},
   "outputs": [
    {
     "name": "stdout",
     "output_type": "stream",
     "text": [
      "     hcpcs_code  srvc_cnt_17  srvc_cnt_16  srvc_cnt_15  16/17_srvc_chng  \\\n",
      "581       71010     285012.0     299186.0     302466.0          14174.0   \n",
      "582       71020     101259.0     107778.0     114689.0           6519.0   \n",
      "1046      99223     160159.0     170020.0     173174.0           9861.0   \n",
      "1050      99231     105673.0     130578.0     145255.0          24905.0   \n",
      "1051      99232    1159337.0    1275274.0    1299196.0         115937.0   \n",
      "\n",
      "      15/16_srvc_chng  15/17_srvc_chng  \n",
      "581            3280.0          17454.0  \n",
      "582            6911.0          13430.0  \n",
      "1046           3154.0          13015.0  \n",
      "1050          14677.0          39582.0  \n",
      "1051          23922.0         139859.0  \n"
     ]
    }
   ],
   "source": [
    "phys_housrvc_if_top5 = phys_housrvc_if_group[phys_housrvc_if_group[\"hcpcs_code\"].isin(['99232', '99231', '71010', '71020', '99223'])]\n",
    "print(phys_housrvc_if_top5)"
   ]
  },
  {
   "cell_type": "code",
   "execution_count": 48,
   "metadata": {},
   "outputs": [
    {
     "name": "stdout",
     "output_type": "stream",
     "text": [
      "    hcpcs_code  srvc_cnt_17  srvc_cnt_16  srvc_cnt_15  16/17_srvc_chng  \\\n",
      "469      71010     194166.0     206800.0     204027.0          12634.0   \n",
      "470      71020      84488.0      91828.0      93615.0           7340.0   \n",
      "863      99223     119052.0     127906.0     129091.0           8854.0   \n",
      "868      99232     439349.0     462711.0     479938.0          23362.0   \n",
      "899      G0202      51955.0      52713.0      60322.0            758.0   \n",
      "\n",
      "     15/16_srvc_chng  15/17_srvc_chng  \n",
      "469           2773.0           9861.0  \n",
      "470           1787.0           9127.0  \n",
      "863           1185.0          10039.0  \n",
      "868          17227.0          40589.0  \n",
      "899           7609.0           8367.0  \n"
     ]
    }
   ],
   "source": [
    "phys_atlsrvc_if_top5 = phys_atlsrvc_if_group[phys_atlsrvc_if_group[\"hcpcs_code\"].isin(['99232', '99223', '71010', '71020', 'G0202'])]\n",
    "print(phys_atlsrvc_if_top5)"
   ]
  },
  {
   "cell_type": "code",
   "execution_count": 58,
   "metadata": {},
   "outputs": [],
   "source": [
    "phys_supp_17['ZIP'] = phys_supp_17['nppes_provider_zip'].str[:5]"
   ]
  },
  {
   "cell_type": "code",
   "execution_count": 59,
   "metadata": {},
   "outputs": [],
   "source": [
    "phys_supp_16['ZIP'] = phys_supp_16['nppes_provider_zip'].str[:5]"
   ]
  },
  {
   "cell_type": "code",
   "execution_count": 60,
   "metadata": {},
   "outputs": [],
   "source": [
    "phys_supp_15['ZIP'] = phys_supp_15['nppes_provider_zip'].str[:5]"
   ]
  },
  {
   "cell_type": "code",
   "execution_count": 61,
   "metadata": {},
   "outputs": [],
   "source": [
    "phys_zip_17 = pd.merge(phys_supp_17, zip_cbsa, how='left', on='ZIP')"
   ]
  },
  {
   "cell_type": "code",
   "execution_count": 62,
   "metadata": {},
   "outputs": [],
   "source": [
    "phys_zip_16 = pd.merge(phys_supp_16, zip_cbsa, how='left', on='ZIP')"
   ]
  },
  {
   "cell_type": "code",
   "execution_count": 63,
   "metadata": {},
   "outputs": [],
   "source": [
    "phys_zip_15 = pd.merge(phys_supp_15, zip_cbsa, how='left', on='ZIP')"
   ]
  },
  {
   "cell_type": "code",
   "execution_count": 64,
   "metadata": {},
   "outputs": [],
   "source": [
    "phys_zip_17 = phys_zip_17.drop(columns={'npi', 'nppes_provider_last_org_name', 'nppes_entity_code', 'nppes_provider_zip', 'nppes_provider_state', 'provider_type', 'place_of_service'})"
   ]
  },
  {
   "cell_type": "code",
   "execution_count": 66,
   "metadata": {},
   "outputs": [],
   "source": [
    "phys_zip_16 = phys_zip_16.drop(columns={'npi', 'nppes_provider_zip', 'place_of_service'})"
   ]
  },
  {
   "cell_type": "code",
   "execution_count": 67,
   "metadata": {},
   "outputs": [],
   "source": [
    "phys_zip_15 = phys_zip_15.drop(columns={'npi', 'nppes_provider_zip', 'place_of_service'})"
   ]
  },
  {
   "cell_type": "code",
   "execution_count": 70,
   "metadata": {},
   "outputs": [],
   "source": [
    "phys_hou_17 = phys_zip_17[phys_zip_17['CBSA'] == '26420']"
   ]
  },
  {
   "cell_type": "code",
   "execution_count": 72,
   "metadata": {},
   "outputs": [],
   "source": [
    "phys_hou_16 = phys_zip_16[phys_zip_16['CBSA'] == '26420']"
   ]
  },
  {
   "cell_type": "code",
   "execution_count": 73,
   "metadata": {},
   "outputs": [],
   "source": [
    "phys_hou_15 = phys_zip_15[phys_zip_15['CBSA'] == '26420']"
   ]
  },
  {
   "cell_type": "code",
   "execution_count": 74,
   "metadata": {},
   "outputs": [],
   "source": [
    "phys_atl_17 = phys_zip_17[phys_zip_17['CBSA'] == '12060']"
   ]
  },
  {
   "cell_type": "code",
   "execution_count": 75,
   "metadata": {},
   "outputs": [],
   "source": [
    "phys_atl_16 = phys_zip_16[phys_zip_16['CBSA'] == '12060']"
   ]
  },
  {
   "cell_type": "code",
   "execution_count": 76,
   "metadata": {},
   "outputs": [],
   "source": [
    "phys_atl_15 = phys_zip_15[phys_zip_15['CBSA'] == '12060']"
   ]
  },
  {
   "cell_type": "code",
   "execution_count": 77,
   "metadata": {},
   "outputs": [
    {
     "name": "stdout",
     "output_type": "stream",
     "text": [
      "     hcpcs_code  srvc_cnt_17  avg_med_amt_17\n",
      "0         00103    25.179487      119.207508\n",
      "1         00104   113.750000      116.368885\n",
      "2         00140    34.653846      113.877579\n",
      "3         00142    97.818681       92.367712\n",
      "4         00144    25.687500      121.490049\n",
      "...         ...          ...             ...\n",
      "2824      Q9963    32.000000        0.190253\n",
      "2825      Q9965    49.500000        0.835307\n",
      "2826      Q9966    84.781250        0.235326\n",
      "2827      Q9967    66.108808        0.123759\n",
      "2828      V2785    30.666667     3814.599567\n",
      "\n",
      "[2829 rows x 3 columns]\n"
     ]
    }
   ],
   "source": [
    "phys_hou17_group = phys_hou_17.groupby('hcpcs_code').mean()\n",
    "phys_hou17_group = phys_hou17_group.reset_index()\n",
    "print(phys_hou17_group)"
   ]
  },
  {
   "cell_type": "code",
   "execution_count": 78,
   "metadata": {},
   "outputs": [
    {
     "name": "stdout",
     "output_type": "stream",
     "text": [
      "     hcpcs_code  srvc_cnt_16  avg_med_amt_16\n",
      "0         00103    22.025641      111.087137\n",
      "1         00104   167.000000      116.073173\n",
      "2         00120    12.000000      161.000000\n",
      "3         00126    11.000000       73.828182\n",
      "4         00140    36.159091      107.048317\n",
      "...         ...          ...             ...\n",
      "2812      Q9965    63.000000        0.856488\n",
      "2813      Q9966    84.323529        0.166798\n",
      "2814      Q9967    74.201031        0.124781\n",
      "2815      Q9980    77.000000        9.883219\n",
      "2816      V2785    37.333333     3631.065756\n",
      "\n",
      "[2817 rows x 3 columns]\n"
     ]
    }
   ],
   "source": [
    "phys_hou16_group = phys_hou_16.groupby('hcpcs_code').mean()\n",
    "phys_hou16_group = phys_hou16_group.reset_index()\n",
    "print(phys_hou16_group)"
   ]
  },
  {
   "cell_type": "code",
   "execution_count": 79,
   "metadata": {},
   "outputs": [
    {
     "name": "stdout",
     "output_type": "stream",
     "text": [
      "     hcpcs_code  srvc_cnt_15  avg_med_amt_15\n",
      "0         00103    23.250000      117.862193\n",
      "1         00104   116.857143      124.875130\n",
      "2         00126    13.500000       64.246500\n",
      "3         00140    30.105263      109.356835\n",
      "4         00142    82.177378       95.339505\n",
      "...         ...          ...             ...\n",
      "2796      Q9967    71.282609        0.153867\n",
      "2797      Q9977    56.533333      108.861655\n",
      "2798      R0070  2226.333333      251.495290\n",
      "2799      R0075  1981.000000      109.892746\n",
      "2800      V2785    46.333333     2579.220185\n",
      "\n",
      "[2801 rows x 3 columns]\n"
     ]
    }
   ],
   "source": [
    "phys_hou15_group = phys_hou_15.groupby('hcpcs_code').mean()\n",
    "phys_hou15_group = phys_hou15_group.reset_index()\n",
    "print(phys_hou15_group)"
   ]
  },
  {
   "cell_type": "code",
   "execution_count": 80,
   "metadata": {},
   "outputs": [
    {
     "name": "stdout",
     "output_type": "stream",
     "text": [
      "    hcpcs_code  avg_med_amt_17  avg_med_amt_16  avg_med_amt_15  \\\n",
      "258      33418     1184.370000     1335.751667     1672.071923   \n",
      "384      47135     4318.622196     3940.773477     3597.041699   \n",
      "419      51999     3141.658500     3154.090000     2517.003333   \n",
      "470      61867     2850.853000     2814.599583     2425.559310   \n",
      "546      67228      289.937857      302.867308      917.211747   \n",
      "\n",
      "     16/17_med_chng  15/16_med_chng  15/17_med_chng  \n",
      "258      151.381667      336.320256      487.701923  \n",
      "384      377.848719      343.731778      721.580497  \n",
      "419       12.431500      637.086667      624.655167  \n",
      "470       36.253417      389.040273      425.293690  \n",
      "546       12.929451      614.344439      627.273890  \n"
     ]
    }
   ],
   "source": [
    "print(phys_houmed_if_top5)"
   ]
  },
  {
   "cell_type": "code",
   "execution_count": 81,
   "metadata": {},
   "outputs": [
    {
     "name": "stdout",
     "output_type": "stream",
     "text": [
      "  hcpcs_code  average_medicare_allowed_amt  year\n",
      "0      33418                   1475.299043  2017\n",
      "1      47135                   4318.622196  2017\n",
      "2      51999                   3141.658500  2017\n",
      "3      61867                   2850.853000  2017\n",
      "4      67228                    321.688914  2017\n"
     ]
    }
   ],
   "source": [
    "phys_17_houmedif_top5 = phys_hou17_group[phys_hou17_group[\"hcpcs_code\"].isin(['33418', '47135', '51999', '61867', '67228'])]\n",
    "phys_17_houmedif_top5 = phys_17_houmedif_top5.reset_index()\n",
    "phys_17_houmedif_top5['year'] = 2017\n",
    "phys_17_houmedif_top5 = phys_17_houmedif_top5.drop(columns={'srvc_cnt_17', 'index'})\n",
    "phys_17_houmedif_top5 = phys_17_houmedif_top5.rename(columns={'avg_med_amt_17' : 'average_medicare_allowed_amt'})\n",
    "print(phys_17_houmedif_top5)"
   ]
  },
  {
   "cell_type": "code",
   "execution_count": 82,
   "metadata": {},
   "outputs": [
    {
     "name": "stdout",
     "output_type": "stream",
     "text": [
      "  hcpcs_code  average_medicare_allowed_amt  year\n",
      "0      33418                   1435.410731  2016\n",
      "1      47135                   3940.773477  2016\n",
      "2      51999                   3154.090000  2016\n",
      "3      61867                   2695.403333  2016\n",
      "4      67228                    330.454467  2016\n"
     ]
    }
   ],
   "source": [
    "phys_16_houmedif_top5 = phys_hou16_group[phys_hou16_group[\"hcpcs_code\"].isin(['33418', '47135', '51999', '61867', '67228'])]\n",
    "phys_16_houmedif_top5 = phys_16_houmedif_top5.reset_index()\n",
    "phys_16_houmedif_top5['year'] = 2016\n",
    "phys_16_houmedif_top5 = phys_16_houmedif_top5.drop(columns={'srvc_cnt_16', 'index'})\n",
    "phys_16_houmedif_top5 = phys_16_houmedif_top5.rename(columns={'avg_med_amt_16' : 'average_medicare_allowed_amt'})\n",
    "print(phys_16_houmedif_top5)"
   ]
  },
  {
   "cell_type": "code",
   "execution_count": 83,
   "metadata": {},
   "outputs": [
    {
     "name": "stdout",
     "output_type": "stream",
     "text": [
      "  hcpcs_code  average_medicare_allowed_amt  year\n",
      "0      33418                   1672.071923  2015\n",
      "1      47135                   3597.041699  2015\n",
      "2      51999                   2446.270513  2015\n",
      "3      61867                   2417.934156  2015\n",
      "4      67228                    994.772302  2015\n"
     ]
    }
   ],
   "source": [
    "phys_15_houmedif_top5 = phys_hou15_group[phys_hou15_group[\"hcpcs_code\"].isin(['33418', '47135', '51999', '61867', '67228'])]\n",
    "phys_15_houmedif_top5 = phys_15_houmedif_top5.reset_index()\n",
    "phys_15_houmedif_top5['year'] = 2015\n",
    "phys_15_houmedif_top5 = phys_15_houmedif_top5.drop(columns={'srvc_cnt_15', 'index'})\n",
    "phys_15_houmedif_top5 = phys_15_houmedif_top5.rename(columns={'avg_med_amt_15' : 'average_medicare_allowed_amt'})\n",
    "print(phys_15_houmedif_top5)"
   ]
  },
  {
   "cell_type": "code",
   "execution_count": 84,
   "metadata": {
    "scrolled": true
   },
   "outputs": [
    {
     "name": "stdout",
     "output_type": "stream",
     "text": [
      "   hcpcs_code  average_medicare_allowed_amt  year\n",
      "0       33418                   1475.299043  2017\n",
      "1       47135                   4318.622196  2017\n",
      "2       51999                   3141.658500  2017\n",
      "3       61867                   2850.853000  2017\n",
      "4       67228                    321.688914  2017\n",
      "5       33418                   1435.410731  2016\n",
      "6       47135                   3940.773477  2016\n",
      "7       51999                   3154.090000  2016\n",
      "8       61867                   2695.403333  2016\n",
      "9       67228                    330.454467  2016\n",
      "10      33418                   1672.071923  2015\n",
      "11      47135                   3597.041699  2015\n",
      "12      51999                   2446.270513  2015\n",
      "13      61867                   2417.934156  2015\n",
      "14      67228                    994.772302  2015\n"
     ]
    }
   ],
   "source": [
    "phys_houmedif_top5 = pd.concat([phys_17_houmedif_top5, phys_16_houmedif_top5, phys_15_houmedif_top5], ignore_index=True)\n",
    "print(phys_houmedif_top5)"
   ]
  },
  {
   "cell_type": "code",
   "execution_count": 86,
   "metadata": {},
   "outputs": [
    {
     "name": "stdout",
     "output_type": "stream",
     "text": [
      "     hcpcs_code  srvc_cnt_17  avg_med_amt_17\n",
      "0         0008M    91.000000     3443.360000\n",
      "1         00103    25.301370      104.590384\n",
      "2         00104   114.027778       75.699764\n",
      "3         00120    12.000000      153.849167\n",
      "4         00140    26.418605      107.369465\n",
      "...         ...          ...             ...\n",
      "2708      Q9966    92.485714        0.236429\n",
      "2709      Q9967    87.158537        0.140276\n",
      "2710      R0070   503.666667      138.066414\n",
      "2711      R0075    47.000000       67.570638\n",
      "2712      V2785    72.500000     3819.280704\n",
      "\n",
      "[2713 rows x 3 columns]\n"
     ]
    }
   ],
   "source": [
    "phys_atl17_group = phys_atl_17.groupby('hcpcs_code').mean()\n",
    "phys_atl17_group = phys_atl17_group.reset_index()\n",
    "print(phys_atl17_group)"
   ]
  },
  {
   "cell_type": "code",
   "execution_count": 87,
   "metadata": {},
   "outputs": [
    {
     "name": "stdout",
     "output_type": "stream",
     "text": [
      "     hcpcs_code  srvc_cnt_16  avg_med_amt_16\n",
      "0         00103    23.338028      108.611819\n",
      "1         00104   109.256410       79.581670\n",
      "2         00120    15.500000      170.546535\n",
      "3         00140    25.458333      113.950030\n",
      "4         00142    72.712687       79.870936\n",
      "...         ...          ...             ...\n",
      "2687      Q9966   128.129032        0.175090\n",
      "2688      Q9967    65.405063        0.132737\n",
      "2689      R0070   773.500000      137.071787\n",
      "2690      R0075    30.000000       63.208333\n",
      "2691      V2785    82.500000     3786.094456\n",
      "\n",
      "[2692 rows x 3 columns]\n"
     ]
    }
   ],
   "source": [
    "phys_atl16_group = phys_atl_16.groupby('hcpcs_code').mean()\n",
    "phys_atl16_group = phys_atl16_group.reset_index()\n",
    "print(phys_atl16_group)"
   ]
  },
  {
   "cell_type": "code",
   "execution_count": 88,
   "metadata": {},
   "outputs": [
    {
     "name": "stdout",
     "output_type": "stream",
     "text": [
      "     hcpcs_code  srvc_cnt_15  avg_med_amt_15\n",
      "0         00103    23.432836      115.398427\n",
      "1         00104   126.358974       79.697746\n",
      "2         00140    24.345455      113.811482\n",
      "3         00142    76.767396       80.768736\n",
      "4         00144    26.500000      134.672417\n",
      "...         ...          ...             ...\n",
      "2698      Q9967    79.011494        0.154572\n",
      "2699      Q9977    12.000000        2.358333\n",
      "2700      R0070   638.500000      137.037418\n",
      "2701      R0075    48.000000       63.502500\n",
      "2702      V2785    81.000000     3339.483063\n",
      "\n",
      "[2703 rows x 3 columns]\n"
     ]
    }
   ],
   "source": [
    "phys_atl15_group = phys_atl_15.groupby('hcpcs_code').mean()\n",
    "phys_atl15_group = phys_atl15_group.reset_index()\n",
    "print(phys_atl15_group)"
   ]
  },
  {
   "cell_type": "code",
   "execution_count": 89,
   "metadata": {},
   "outputs": [
    {
     "name": "stdout",
     "output_type": "stream",
     "text": [
      "    hcpcs_code  avg_med_amt_17  avg_med_amt_16  avg_med_amt_15  \\\n",
      "134      22600      722.114266      900.695000     1201.672468   \n",
      "382      63045     1300.721538     1263.941111      725.905455   \n",
      "433      67042     1171.157685     1165.135000      840.495148   \n",
      "434      67108     1211.403667     1310.955000     1605.660308   \n",
      "435      67113     1358.485667     1388.586250     1728.453125   \n",
      "\n",
      "     16/17_med_chng  15/16_med_chng  15/17_med_chng  \n",
      "134      178.580734      300.977468      479.558202  \n",
      "382       36.780427      538.035657      574.816084  \n",
      "433        6.022685      324.639852      330.662537  \n",
      "434       99.551333      294.705308      394.256641  \n",
      "435       30.100583      339.866875      369.967458  \n"
     ]
    }
   ],
   "source": [
    "print(phys_atlmed_if_top5)"
   ]
  },
  {
   "cell_type": "code",
   "execution_count": 90,
   "metadata": {},
   "outputs": [
    {
     "name": "stdout",
     "output_type": "stream",
     "text": [
      "  hcpcs_code  average_medicare_allowed_amt  year\n",
      "0      22600                    726.867389  2017\n",
      "1      63045                   1300.721538  2017\n",
      "2      67042                   1308.494734  2017\n",
      "3      67108                   1363.744368  2017\n",
      "4      67113                   1229.977780  2017\n"
     ]
    }
   ],
   "source": [
    "phys_17_atlmedif_top5 = phys_atl17_group[phys_atl17_group[\"hcpcs_code\"].isin(['22600', '63045', '67042', '67108', '67113'])]\n",
    "phys_17_atlmedif_top5 = phys_17_atlmedif_top5.reset_index()\n",
    "phys_17_atlmedif_top5['year'] = 2017\n",
    "phys_17_atlmedif_top5 = phys_17_atlmedif_top5.drop(columns={'srvc_cnt_17', 'index'})\n",
    "phys_17_atlmedif_top5 = phys_17_atlmedif_top5.rename(columns={'avg_med_amt_17' : 'average_medicare_allowed_amt'})\n",
    "print(phys_17_atlmedif_top5)"
   ]
  },
  {
   "cell_type": "code",
   "execution_count": 91,
   "metadata": {},
   "outputs": [
    {
     "name": "stdout",
     "output_type": "stream",
     "text": [
      "  hcpcs_code  average_medicare_allowed_amt  year\n",
      "0      22600                    822.940000  2016\n",
      "1      63045                   1263.941111  2016\n",
      "2      67042                   1352.205238  2016\n",
      "3      67108                   1373.094394  2016\n",
      "4      67113                   1605.863003  2016\n"
     ]
    }
   ],
   "source": [
    "phys_16_atlmedif_top5 = phys_atl16_group[phys_atl16_group[\"hcpcs_code\"].isin(['22600', '63045', '67042', '67108', '67113'])]\n",
    "phys_16_atlmedif_top5 = phys_16_atlmedif_top5.reset_index()\n",
    "phys_16_atlmedif_top5['year'] = 2016\n",
    "phys_16_atlmedif_top5 = phys_16_atlmedif_top5.drop(columns={'srvc_cnt_16', 'index'})\n",
    "phys_16_atlmedif_top5 = phys_16_atlmedif_top5.rename(columns={'avg_med_amt_16' : 'average_medicare_allowed_amt'})\n",
    "print(phys_16_atlmedif_top5)"
   ]
  },
  {
   "cell_type": "code",
   "execution_count": 92,
   "metadata": {},
   "outputs": [
    {
     "name": "stdout",
     "output_type": "stream",
     "text": [
      "  hcpcs_code  average_medicare_allowed_amt  year\n",
      "0      22600                   1201.672468  2015\n",
      "1      63045                    725.905455  2015\n",
      "2      67042                   1239.879510  2015\n",
      "3      67108                   1618.781252  2015\n",
      "4      67113                   1435.941073  2015\n"
     ]
    }
   ],
   "source": [
    "phys_15_atlmedif_top5 = phys_atl15_group[phys_atl15_group[\"hcpcs_code\"].isin(['22600', '63045', '67042', '67108', '67113'])]\n",
    "phys_15_atlmedif_top5 = phys_15_atlmedif_top5.reset_index()\n",
    "phys_15_atlmedif_top5['year'] = 2015\n",
    "phys_15_atlmedif_top5 = phys_15_atlmedif_top5.drop(columns={'srvc_cnt_15', 'index'})\n",
    "phys_15_atlmedif_top5 = phys_15_atlmedif_top5.rename(columns={'avg_med_amt_15' : 'average_medicare_allowed_amt'})\n",
    "print(phys_15_atlmedif_top5)"
   ]
  },
  {
   "cell_type": "code",
   "execution_count": 93,
   "metadata": {},
   "outputs": [
    {
     "name": "stdout",
     "output_type": "stream",
     "text": [
      "   hcpcs_code  average_medicare_allowed_amt  year\n",
      "0       22600                    726.867389  2017\n",
      "1       63045                   1300.721538  2017\n",
      "2       67042                   1308.494734  2017\n",
      "3       67108                   1363.744368  2017\n",
      "4       67113                   1229.977780  2017\n",
      "5       22600                    822.940000  2016\n",
      "6       63045                   1263.941111  2016\n",
      "7       67042                   1352.205238  2016\n",
      "8       67108                   1373.094394  2016\n",
      "9       67113                   1605.863003  2016\n",
      "10      22600                   1201.672468  2015\n",
      "11      63045                    725.905455  2015\n",
      "12      67042                   1239.879510  2015\n",
      "13      67108                   1618.781252  2015\n",
      "14      67113                   1435.941073  2015\n"
     ]
    }
   ],
   "source": [
    "phys_atlmedif_top5 = pd.concat([phys_17_atlmedif_top5, phys_16_atlmedif_top5, phys_15_atlmedif_top5], ignore_index=True)\n",
    "print(phys_atlmedif_top5)"
   ]
  },
  {
   "cell_type": "code",
   "execution_count": 94,
   "metadata": {},
   "outputs": [
    {
     "name": "stdout",
     "output_type": "stream",
     "text": [
      "     hcpcs_code  srvc_cnt_17  avg_med_amt_17\n",
      "0         00103        982.0     4649.092802\n",
      "1         00104        910.0      930.951076\n",
      "2         00140       1802.0     5921.634118\n",
      "3         00142      35606.0    33621.847329\n",
      "4         00144        411.0     1943.840781\n",
      "...         ...          ...             ...\n",
      "2824      Q9963         96.0        0.570760\n",
      "2825      Q9965         99.0        1.670614\n",
      "2826      Q9966       2713.0        7.530424\n",
      "2827      Q9967      12759.0       23.885522\n",
      "2828      V2785         92.0    11443.798701\n",
      "\n",
      "[2829 rows x 3 columns]\n"
     ]
    }
   ],
   "source": [
    "phys_hou17_srvcgroup = phys_hou_17.groupby('hcpcs_code').sum()\n",
    "phys_hou17_srvcgroup = phys_hou17_srvcgroup.reset_index()\n",
    "print(phys_hou17_srvcgroup)"
   ]
  },
  {
   "cell_type": "code",
   "execution_count": 95,
   "metadata": {},
   "outputs": [
    {
     "name": "stdout",
     "output_type": "stream",
     "text": [
      "     hcpcs_code  srvc_cnt_16  avg_med_amt_16\n",
      "0         00103        859.0     4332.398325\n",
      "1         00104       1002.0      696.439037\n",
      "2         00120         12.0      161.000000\n",
      "3         00126         11.0       73.828182\n",
      "4         00140       1591.0     4710.125967\n",
      "...         ...          ...             ...\n",
      "2812      Q9965         63.0        0.856488\n",
      "2813      Q9966       2867.0        5.671115\n",
      "2814      Q9967      14395.0       24.207441\n",
      "2815      Q9980         77.0        9.883219\n",
      "2816      V2785        112.0    10893.197267\n",
      "\n",
      "[2817 rows x 3 columns]\n"
     ]
    }
   ],
   "source": [
    "phys_hou16_srvcgroup = phys_hou_16.groupby('hcpcs_code').sum()\n",
    "phys_hou16_srvcgroup = phys_hou16_srvcgroup.reset_index()\n",
    "print(phys_hou16_srvcgroup)"
   ]
  },
  {
   "cell_type": "code",
   "execution_count": 96,
   "metadata": {},
   "outputs": [
    {
     "name": "stdout",
     "output_type": "stream",
     "text": [
      "     hcpcs_code  srvc_cnt_15  avg_med_amt_15\n",
      "0         00103        744.0     3771.590182\n",
      "1         00104        818.0      874.125913\n",
      "2         00126         27.0      128.493000\n",
      "3         00140       1144.0     4155.559718\n",
      "4         00142      31967.0    37087.067364\n",
      "...         ...          ...             ...\n",
      "2796      Q9967      13116.0       28.311540\n",
      "2797      Q9977        848.0     1632.924830\n",
      "2798      R0070       6679.0      754.485871\n",
      "2799      R0075       3962.0      219.785491\n",
      "2800      V2785        139.0     7737.660556\n",
      "\n",
      "[2801 rows x 3 columns]\n"
     ]
    }
   ],
   "source": [
    "phys_hou15_srvcgroup = phys_hou_15.groupby('hcpcs_code').sum()\n",
    "phys_hou15_srvcgroup = phys_hou15_srvcgroup.reset_index()\n",
    "print(phys_hou15_srvcgroup)"
   ]
  },
  {
   "cell_type": "code",
   "execution_count": 97,
   "metadata": {},
   "outputs": [
    {
     "name": "stdout",
     "output_type": "stream",
     "text": [
      "     hcpcs_code  srvc_cnt_17  avg_med_amt_17\n",
      "0         0008M         91.0     3443.360000\n",
      "1         00103       1847.0     7635.098032\n",
      "2         00104       4105.0     2725.191506\n",
      "3         00120         12.0      153.849167\n",
      "4         00140       2272.0     9233.774003\n",
      "...         ...          ...             ...\n",
      "2708      Q9966       3237.0        8.275005\n",
      "2709      Q9967       7147.0       11.502594\n",
      "2710      R0070       1511.0      414.199243\n",
      "2711      R0075         47.0       67.570638\n",
      "2712      V2785        290.0    15277.122817\n",
      "\n",
      "[2713 rows x 3 columns]\n"
     ]
    }
   ],
   "source": [
    "phys_atl17_srvcgroup = phys_atl_17.groupby('hcpcs_code').sum()\n",
    "phys_atl17_srvcgroup = phys_atl17_srvcgroup.reset_index()\n",
    "print(phys_atl17_srvcgroup)"
   ]
  },
  {
   "cell_type": "code",
   "execution_count": 98,
   "metadata": {},
   "outputs": [
    {
     "name": "stdout",
     "output_type": "stream",
     "text": [
      "     hcpcs_code  srvc_cnt_16  avg_med_amt_16\n",
      "0         00103       1657.0     7711.439168\n",
      "1         00104       4261.0     3103.685131\n",
      "2         00120         31.0      341.093070\n",
      "3         00140       1833.0     8204.402147\n",
      "4         00142      38974.0    42810.821604\n",
      "...         ...          ...             ...\n",
      "2687      Q9966       3972.0        5.427785\n",
      "2688      Q9967       5167.0       10.486189\n",
      "2689      R0070       1547.0      274.143575\n",
      "2690      R0075         30.0       63.208333\n",
      "2691      V2785        330.0    15144.377823\n",
      "\n",
      "[2692 rows x 3 columns]\n"
     ]
    }
   ],
   "source": [
    "phys_atl16_srvcgroup = phys_atl_16.groupby('hcpcs_code').sum()\n",
    "phys_atl16_srvcgroup = phys_atl16_srvcgroup.reset_index()\n",
    "print(phys_atl16_srvcgroup)"
   ]
  },
  {
   "cell_type": "code",
   "execution_count": 99,
   "metadata": {},
   "outputs": [
    {
     "name": "stdout",
     "output_type": "stream",
     "text": [
      "     hcpcs_code  srvc_cnt_15  avg_med_amt_15\n",
      "0         00103       1570.0     7731.694600\n",
      "1         00104       4928.0     3108.212106\n",
      "2         00140       1339.0     6259.631528\n",
      "3         00142      38614.0    40626.674445\n",
      "4         00144        371.0     1885.413844\n",
      "...         ...          ...             ...\n",
      "2698      Q9967       6874.0       13.447803\n",
      "2699      Q9977         12.0        2.358333\n",
      "2700      R0070       1277.0      274.074836\n",
      "2701      R0075         48.0       63.502500\n",
      "2702      V2785        324.0    13357.932251\n",
      "\n",
      "[2703 rows x 3 columns]\n"
     ]
    }
   ],
   "source": [
    "phys_atl15_srvcgroup = phys_atl_15.groupby('hcpcs_code').sum()\n",
    "phys_atl15_srvcgroup = phys_atl15_srvcgroup.reset_index()\n",
    "print(phys_atl15_srvcgroup)"
   ]
  },
  {
   "cell_type": "code",
   "execution_count": 100,
   "metadata": {},
   "outputs": [
    {
     "name": "stdout",
     "output_type": "stream",
     "text": [
      "     hcpcs_code  srvc_cnt_17  srvc_cnt_16  srvc_cnt_15  16/17_srvc_chng  \\\n",
      "581       71010     285012.0     299186.0     302466.0          14174.0   \n",
      "582       71020     101259.0     107778.0     114689.0           6519.0   \n",
      "1046      99223     160159.0     170020.0     173174.0           9861.0   \n",
      "1050      99231     105673.0     130578.0     145255.0          24905.0   \n",
      "1051      99232    1159337.0    1275274.0    1299196.0         115937.0   \n",
      "\n",
      "      15/16_srvc_chng  15/17_srvc_chng  \n",
      "581            3280.0          17454.0  \n",
      "582            6911.0          13430.0  \n",
      "1046           3154.0          13015.0  \n",
      "1050          14677.0          39582.0  \n",
      "1051          23922.0         139859.0  \n"
     ]
    }
   ],
   "source": [
    "print(phys_housrvc_if_top5)"
   ]
  },
  {
   "cell_type": "code",
   "execution_count": 101,
   "metadata": {},
   "outputs": [
    {
     "name": "stdout",
     "output_type": "stream",
     "text": [
      "  hcpcs_code   srvc_cnt  year\n",
      "0      71010   325240.0  2017\n",
      "1      71020   159983.0  2017\n",
      "2      99223   199523.0  2017\n",
      "3      99231   133667.0  2017\n",
      "4      99232  1306008.0  2017\n"
     ]
    }
   ],
   "source": [
    "phys_17_housrvcif_top5 = phys_hou17_srvcgroup[phys_hou17_srvcgroup[\"hcpcs_code\"].isin(['71010', '71020', '99223', '99231', '99232'])]\n",
    "phys_17_housrvcif_top5 = phys_17_housrvcif_top5.reset_index()\n",
    "phys_17_housrvcif_top5['year'] = 2017\n",
    "phys_17_housrvcif_top5 = phys_17_housrvcif_top5.drop(columns={'avg_med_amt_17', 'index'})\n",
    "phys_17_housrvcif_top5 = phys_17_housrvcif_top5.rename(columns={'srvc_cnt_17' : 'srvc_cnt'})\n",
    "print(phys_17_housrvcif_top5)"
   ]
  },
  {
   "cell_type": "code",
   "execution_count": 102,
   "metadata": {},
   "outputs": [
    {
     "name": "stdout",
     "output_type": "stream",
     "text": [
      "  hcpcs_code   srvc_cnt  year\n",
      "0      71010   311749.0  2016\n",
      "1      71020   150280.0  2016\n",
      "2      99223   192632.0  2016\n",
      "3      99231   158093.0  2016\n",
      "4      99232  1361114.0  2016\n"
     ]
    }
   ],
   "source": [
    "phys_16_housrvcif_top5 = phys_hou16_srvcgroup[phys_hou16_srvcgroup[\"hcpcs_code\"].isin(['71010', '71020', '99223', '99231', '99232'])]\n",
    "phys_16_housrvcif_top5 = phys_16_housrvcif_top5.reset_index()\n",
    "phys_16_housrvcif_top5['year'] = 2016\n",
    "phys_16_housrvcif_top5 = phys_16_housrvcif_top5.drop(columns={'avg_med_amt_16', 'index'})\n",
    "phys_16_housrvcif_top5 = phys_16_housrvcif_top5.rename(columns={'srvc_cnt_16' : 'srvc_cnt'})\n",
    "print(phys_16_housrvcif_top5)"
   ]
  },
  {
   "cell_type": "code",
   "execution_count": 104,
   "metadata": {},
   "outputs": [
    {
     "name": "stdout",
     "output_type": "stream",
     "text": [
      "  hcpcs_code   srvc_cnt  year\n",
      "0      71010   327376.0  2015\n",
      "1      71020   158965.0  2015\n",
      "2      99223   197850.0  2015\n",
      "3      99231   177984.0  2015\n",
      "4      99232  1388180.0  2015\n"
     ]
    }
   ],
   "source": [
    "phys_15_housrvcif_top5 = phys_hou15_srvcgroup[phys_hou15_srvcgroup[\"hcpcs_code\"].isin(['71010', '71020', '99223', '99231', '99232'])]\n",
    "phys_15_housrvcif_top5 = phys_15_housrvcif_top5.reset_index()\n",
    "phys_15_housrvcif_top5['year'] = 2015\n",
    "phys_15_housrvcif_top5 = phys_15_housrvcif_top5.drop(columns={'avg_med_amt_15', 'index'})\n",
    "phys_15_housrvcif_top5 = phys_15_housrvcif_top5.rename(columns={'srvc_cnt_15' : 'srvc_cnt'})\n",
    "print(phys_15_housrvcif_top5)"
   ]
  },
  {
   "cell_type": "code",
   "execution_count": 105,
   "metadata": {},
   "outputs": [
    {
     "name": "stdout",
     "output_type": "stream",
     "text": [
      "   hcpcs_code   srvc_cnt  year\n",
      "0       71010   325240.0  2017\n",
      "1       71020   159983.0  2017\n",
      "2       99223   199523.0  2017\n",
      "3       99231   133667.0  2017\n",
      "4       99232  1306008.0  2017\n",
      "5       71010   311749.0  2016\n",
      "6       71020   150280.0  2016\n",
      "7       99223   192632.0  2016\n",
      "8       99231   158093.0  2016\n",
      "9       99232  1361114.0  2016\n",
      "10      71010   327376.0  2015\n",
      "11      71020   158965.0  2015\n",
      "12      99223   197850.0  2015\n",
      "13      99231   177984.0  2015\n",
      "14      99232  1388180.0  2015\n"
     ]
    }
   ],
   "source": [
    "phys_housrvcif_top5 = pd.concat([phys_17_housrvcif_top5, phys_16_housrvcif_top5, phys_15_housrvcif_top5], ignore_index=True)\n",
    "print(phys_housrvcif_top5)"
   ]
  },
  {
   "cell_type": "code",
   "execution_count": 106,
   "metadata": {},
   "outputs": [
    {
     "name": "stdout",
     "output_type": "stream",
     "text": [
      "    hcpcs_code  srvc_cnt_17  srvc_cnt_16  srvc_cnt_15  16/17_srvc_chng  \\\n",
      "469      71010     194166.0     206800.0     204027.0          12634.0   \n",
      "470      71020      84488.0      91828.0      93615.0           7340.0   \n",
      "863      99223     119052.0     127906.0     129091.0           8854.0   \n",
      "868      99232     439349.0     462711.0     479938.0          23362.0   \n",
      "899      G0202      51955.0      52713.0      60322.0            758.0   \n",
      "\n",
      "     15/16_srvc_chng  15/17_srvc_chng  \n",
      "469           2773.0           9861.0  \n",
      "470           1787.0           9127.0  \n",
      "863           1185.0          10039.0  \n",
      "868          17227.0          40589.0  \n",
      "899           7609.0           8367.0  \n"
     ]
    }
   ],
   "source": [
    "print(phys_atlsrvc_if_top5)"
   ]
  },
  {
   "cell_type": "code",
   "execution_count": 107,
   "metadata": {},
   "outputs": [
    {
     "name": "stdout",
     "output_type": "stream",
     "text": [
      "  hcpcs_code  srvc_cnt  year\n",
      "0      71010  213432.0  2017\n",
      "1      71020  149640.0  2017\n",
      "2      99223  147362.0  2017\n",
      "3      99232  524599.0  2017\n",
      "4      G0202   83706.0  2017\n"
     ]
    }
   ],
   "source": [
    "phys_17_atlsrvcif_top5 = phys_atl17_srvcgroup[phys_atl17_srvcgroup[\"hcpcs_code\"].isin(['71010', '71020', '99223', '99232', 'G0202'])]\n",
    "phys_17_atlsrvcif_top5 = phys_17_atlsrvcif_top5.reset_index()\n",
    "phys_17_atlsrvcif_top5['year'] = 2017\n",
    "phys_17_atlsrvcif_top5 = phys_17_atlsrvcif_top5.drop(columns={'avg_med_amt_17', 'index'})\n",
    "phys_17_atlsrvcif_top5 = phys_17_atlsrvcif_top5.rename(columns={'srvc_cnt_17' : 'srvc_cnt'})\n",
    "print(phys_17_atlsrvcif_top5)"
   ]
  },
  {
   "cell_type": "code",
   "execution_count": 108,
   "metadata": {},
   "outputs": [
    {
     "name": "stdout",
     "output_type": "stream",
     "text": [
      "  hcpcs_code  srvc_cnt  year\n",
      "0      71010  227924.0  2016\n",
      "1      71020  156974.0  2016\n",
      "2      99223  149809.0  2016\n",
      "3      99232  522383.0  2016\n",
      "4      G0202   81706.0  2016\n"
     ]
    }
   ],
   "source": [
    "phys_16_atlsrvcif_top5 = phys_atl16_srvcgroup[phys_atl16_srvcgroup[\"hcpcs_code\"].isin(['71010', '71020', '99223', '99232', 'G0202'])]\n",
    "phys_16_atlsrvcif_top5 = phys_16_atlsrvcif_top5.reset_index()\n",
    "phys_16_atlsrvcif_top5['year'] = 2016\n",
    "phys_16_atlsrvcif_top5 = phys_16_atlsrvcif_top5.drop(columns={'avg_med_amt_16', 'index'})\n",
    "phys_16_atlsrvcif_top5 = phys_16_atlsrvcif_top5.rename(columns={'srvc_cnt_16' : 'srvc_cnt'})\n",
    "print(phys_16_atlsrvcif_top5)"
   ]
  },
  {
   "cell_type": "code",
   "execution_count": 109,
   "metadata": {},
   "outputs": [
    {
     "name": "stdout",
     "output_type": "stream",
     "text": [
      "  hcpcs_code  srvc_cnt  year\n",
      "0      71010  216277.0  2015\n",
      "1      71020  153174.0  2015\n",
      "2      99223  149530.0  2015\n",
      "3      99232  537234.0  2015\n",
      "4      G0202   77787.0  2015\n"
     ]
    }
   ],
   "source": [
    "phys_15_atlsrvcif_top5 = phys_atl15_srvcgroup[phys_atl15_srvcgroup[\"hcpcs_code\"].isin(['71010', '71020', '99223', '99232', 'G0202'])]\n",
    "phys_15_atlsrvcif_top5 = phys_15_atlsrvcif_top5.reset_index()\n",
    "phys_15_atlsrvcif_top5['year'] = 2015\n",
    "phys_15_atlsrvcif_top5 = phys_15_atlsrvcif_top5.drop(columns={'avg_med_amt_15', 'index'})\n",
    "phys_15_atlsrvcif_top5 = phys_15_atlsrvcif_top5.rename(columns={'srvc_cnt_15' : 'srvc_cnt'})\n",
    "print(phys_15_atlsrvcif_top5)"
   ]
  },
  {
   "cell_type": "code",
   "execution_count": 110,
   "metadata": {},
   "outputs": [
    {
     "name": "stdout",
     "output_type": "stream",
     "text": [
      "   hcpcs_code  srvc_cnt  year\n",
      "0       71010  213432.0  2017\n",
      "1       71020  149640.0  2017\n",
      "2       99223  147362.0  2017\n",
      "3       99232  524599.0  2017\n",
      "4       G0202   83706.0  2017\n",
      "5       71010  227924.0  2016\n",
      "6       71020  156974.0  2016\n",
      "7       99223  149809.0  2016\n",
      "8       99232  522383.0  2016\n",
      "9       G0202   81706.0  2016\n",
      "10      71010  216277.0  2015\n",
      "11      71020  153174.0  2015\n",
      "12      99223  149530.0  2015\n",
      "13      99232  537234.0  2015\n",
      "14      G0202   77787.0  2015\n"
     ]
    }
   ],
   "source": [
    "phys_atlsrvcif_top5 = pd.concat([phys_17_atlsrvcif_top5, phys_16_atlsrvcif_top5, phys_15_atlsrvcif_top5], ignore_index=True)\n",
    "print(phys_atlsrvcif_top5)"
   ]
  },
  {
   "cell_type": "code",
   "execution_count": 111,
   "metadata": {},
   "outputs": [
    {
     "name": "stdout",
     "output_type": "stream",
     "text": [
      "   hcpcs_code  average_medicare_allowed_amt  year\n",
      "0       33418                   1475.299043  2017\n",
      "1       47135                   4318.622196  2017\n",
      "2       51999                   3141.658500  2017\n",
      "3       61867                   2850.853000  2017\n",
      "4       67228                    321.688914  2017\n",
      "5       33418                   1435.410731  2016\n",
      "6       47135                   3940.773477  2016\n",
      "7       51999                   3154.090000  2016\n",
      "8       61867                   2695.403333  2016\n",
      "9       67228                    330.454467  2016\n",
      "10      33418                   1672.071923  2015\n",
      "11      47135                   3597.041699  2015\n",
      "12      51999                   2446.270513  2015\n",
      "13      61867                   2417.934156  2015\n",
      "14      67228                    994.772302  2015\n"
     ]
    }
   ],
   "source": [
    "print(phys_houmedif_top5)"
   ]
  },
  {
   "cell_type": "markdown",
   "metadata": {},
   "source": [
    "phys_houmedif_top5.to_csv('hou_med_if.csv')"
   ]
  },
  {
   "cell_type": "code",
   "execution_count": 113,
   "metadata": {},
   "outputs": [
    {
     "name": "stdout",
     "output_type": "stream",
     "text": [
      "   hcpcs_code  average_medicare_allowed_amt  year\n",
      "0       22600                    726.867389  2017\n",
      "1       63045                   1300.721538  2017\n",
      "2       67042                   1308.494734  2017\n",
      "3       67108                   1363.744368  2017\n",
      "4       67113                   1229.977780  2017\n",
      "5       22600                    822.940000  2016\n",
      "6       63045                   1263.941111  2016\n",
      "7       67042                   1352.205238  2016\n",
      "8       67108                   1373.094394  2016\n",
      "9       67113                   1605.863003  2016\n",
      "10      22600                   1201.672468  2015\n",
      "11      63045                    725.905455  2015\n",
      "12      67042                   1239.879510  2015\n",
      "13      67108                   1618.781252  2015\n",
      "14      67113                   1435.941073  2015\n"
     ]
    }
   ],
   "source": [
    "print(phys_atlmedif_top5)"
   ]
  },
  {
   "cell_type": "markdown",
   "metadata": {},
   "source": [
    "phys_atlmedif_top5.to_csv('atl_med_if.csv')"
   ]
  },
  {
   "cell_type": "code",
   "execution_count": 115,
   "metadata": {},
   "outputs": [
    {
     "name": "stdout",
     "output_type": "stream",
     "text": [
      "   hcpcs_code   srvc_cnt  year\n",
      "0       71010   325240.0  2017\n",
      "1       71020   159983.0  2017\n",
      "2       99223   199523.0  2017\n",
      "3       99231   133667.0  2017\n",
      "4       99232  1306008.0  2017\n",
      "5       71010   311749.0  2016\n",
      "6       71020   150280.0  2016\n",
      "7       99223   192632.0  2016\n",
      "8       99231   158093.0  2016\n",
      "9       99232  1361114.0  2016\n",
      "10      71010   327376.0  2015\n",
      "11      71020   158965.0  2015\n",
      "12      99223   197850.0  2015\n",
      "13      99231   177984.0  2015\n",
      "14      99232  1388180.0  2015\n"
     ]
    }
   ],
   "source": [
    "print(phys_housrvcif_top5)"
   ]
  },
  {
   "cell_type": "markdown",
   "metadata": {},
   "source": [
    "phys_housrvcif_top5.to_csv('hou_srvc_if.csv')"
   ]
  },
  {
   "cell_type": "code",
   "execution_count": 117,
   "metadata": {},
   "outputs": [
    {
     "name": "stdout",
     "output_type": "stream",
     "text": [
      "   hcpcs_code  srvc_cnt  year\n",
      "0       71010  213432.0  2017\n",
      "1       71020  149640.0  2017\n",
      "2       99223  147362.0  2017\n",
      "3       99232  524599.0  2017\n",
      "4       G0202   83706.0  2017\n",
      "5       71010  227924.0  2016\n",
      "6       71020  156974.0  2016\n",
      "7       99223  149809.0  2016\n",
      "8       99232  522383.0  2016\n",
      "9       G0202   81706.0  2016\n",
      "10      71010  216277.0  2015\n",
      "11      71020  153174.0  2015\n",
      "12      99223  149530.0  2015\n",
      "13      99232  537234.0  2015\n",
      "14      G0202   77787.0  2015\n"
     ]
    }
   ],
   "source": [
    "print(phys_atlsrvcif_top5)"
   ]
  },
  {
   "cell_type": "markdown",
   "metadata": {},
   "source": [
    "phys_atlsrvcif_top5.to_csv('atl_srvc_if.csv')"
   ]
  },
  {
   "cell_type": "code",
   "execution_count": null,
   "metadata": {},
   "outputs": [],
   "source": []
  }
 ],
 "metadata": {
  "kernelspec": {
   "display_name": "Python 3",
   "language": "python",
   "name": "python3"
  },
  "language_info": {
   "codemirror_mode": {
    "name": "ipython",
    "version": 3
   },
   "file_extension": ".py",
   "mimetype": "text/x-python",
   "name": "python",
   "nbconvert_exporter": "python",
   "pygments_lexer": "ipython3",
   "version": "3.7.6"
  }
 },
 "nbformat": 4,
 "nbformat_minor": 4
}
