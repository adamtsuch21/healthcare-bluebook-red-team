{
 "cells": [
  {
   "cell_type": "code",
   "execution_count": 2,
   "metadata": {},
   "outputs": [],
   "source": [
    "# import\n",
    "import pandas as pd\n",
    "import numpy as py\n",
    "import matplotlib as plt \n",
    "import seaborn as sns"
   ]
  },
  {
   "cell_type": "code",
   "execution_count": 4,
   "metadata": {},
   "outputs": [],
   "source": [
    "# inline for testing\n",
    "%matplotlib inline"
   ]
  },
  {
   "cell_type": "code",
   "execution_count": 95,
   "metadata": {},
   "outputs": [],
   "source": [
    "# create filepaths \n",
    "physician_df = pd.read_csv('..\\data\\Physician_&_Other_Supplier_Payments\\Medicare_Provider_Util_Payment_PUF_CY2017.txt', sep = \"\\t\",\n",
    "                          usecols = lambda col: col not in [\"average_submitted_chrg_amt\", \"average_Medicare_payment_amt\",\n",
    "                                                  \"average_Medicare_standard_amt\", \"hcpcs_drug_indicator\", \n",
    "                                                  \"medicare_participation_indicator\"], low_memory = False)\n",
    "outpatient_df = pd.read_csv('..\\data\\Hospital_Outpatient\\Provider_Outpatient_Hospital_Charge_Data_by_APC__CY2017.csv')\n",
    "zip_CBSA_df = pd.read_csv('..\\data\\Zip_Code_to_CBSA\\ZIP_CBSA_032020.csv')\n",
    "apc_cw_df = pd.read_csv('..\\\\data\\\\APC_to_CPTHCPCS_crosswalk\\\\2020_january_web_addendum_b.12312019.csv', header=2)"
   ]
  },
  {
   "cell_type": "code",
   "execution_count": 86,
   "metadata": {},
   "outputs": [],
   "source": [
    "# for col in physician_df.columns:\n",
    "#     print(col)\n",
    "\n",
    "#Physician is very large. Think about using chunksize and dropping columns. \n",
    "# Every other file path should work\n",
    "# Columns not needed for physician: [average_submitted_chrg_amt, \n",
    "#                                   average_Medicare_payment_amt, average_Medicare_standard_amt,\n",
    "#                                   hcpcs_drug_indicator, medicare_participation_indicator]"
   ]
  },
  {
   "cell_type": "code",
   "execution_count": null,
   "metadata": {
    "scrolled": true
   },
   "outputs": [],
   "source": []
  },
  {
   "cell_type": "code",
   "execution_count": null,
   "metadata": {},
   "outputs": [],
   "source": []
  }
 ],
 "metadata": {
  "kernelspec": {
   "display_name": "Python 3",
   "language": "python",
   "name": "python3"
  },
  "language_info": {
   "codemirror_mode": {
    "name": "ipython",
    "version": 3
   },
   "file_extension": ".py",
   "mimetype": "text/x-python",
   "name": "python",
   "nbconvert_exporter": "python",
   "pygments_lexer": "ipython3",
   "version": "3.7.6"
  }
 },
 "nbformat": 4,
 "nbformat_minor": 4
}
