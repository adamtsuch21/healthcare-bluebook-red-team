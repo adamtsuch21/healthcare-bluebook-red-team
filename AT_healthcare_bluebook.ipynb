{
 "cells": [
  {
   "cell_type": "code",
   "execution_count": 2,
   "metadata": {},
   "outputs": [],
   "source": [
    "import pandas as pd\n",
    "import numpy as np\n",
    "import matplotlib.pyplot as plt"
   ]
  },
  {
   "cell_type": "code",
   "execution_count": 3,
   "metadata": {
    "scrolled": true
   },
   "outputs": [],
   "source": [
    "phys_supp = pd.read_csv(\"/Users/adamtsuchiyama/Documents/healthcare-bluebook-red-team/data/Medicare_Provider_Util_Payment_PUF_CY2017.txt\", sep='\\t', usecols=['npi', 'nppes_provider_last_org_name', 'nppes_entity_code', 'nppes_provider_zip', 'nppes_provider_state', 'provider_type', 'place_of_service', 'hcpcs_code', 'bene_day_srvc_cnt', 'average_Medicare_allowed_amt'], dtype={'npi': str, 'nppes_provider_last_org_name' : str, 'nppes_entity_code' : str, 'nppes_provider_zip' : str, 'nppes_provider_state' : str, 'provider_type' : str, 'place_of_service' : str, 'hcpcs_code' : str, 'bene_day_srvc_cnt' : float, 'average_Medicare_allowed_amt' : float})\n",
    "\n"
   ]
  },
  {
   "cell_type": "code",
   "execution_count": 4,
   "metadata": {},
   "outputs": [],
   "source": [
    "phys_supp['zip_5digits'] = phys_supp['nppes_provider_zip'].str[:5]"
   ]
  },
  {
   "cell_type": "code",
   "execution_count": 5,
   "metadata": {},
   "outputs": [
    {
     "name": "stdout",
     "output_type": "stream",
     "text": [
      "<class 'pandas.core.frame.DataFrame'>\n",
      "RangeIndex: 9847444 entries, 0 to 9847443\n",
      "Data columns (total 11 columns):\n",
      " #   Column                        Dtype  \n",
      "---  ------                        -----  \n",
      " 0   npi                           object \n",
      " 1   nppes_provider_last_org_name  object \n",
      " 2   nppes_entity_code             object \n",
      " 3   nppes_provider_zip            object \n",
      " 4   nppes_provider_state          object \n",
      " 5   provider_type                 object \n",
      " 6   place_of_service              object \n",
      " 7   hcpcs_code                    object \n",
      " 8   bene_day_srvc_cnt             float64\n",
      " 9   average_Medicare_allowed_amt  float64\n",
      " 10  zip_5digits                   object \n",
      "dtypes: float64(2), object(9)\n",
      "memory usage: 826.4+ MB\n",
      "None\n"
     ]
    }
   ],
   "source": [
    "print(phys_supp.info())"
   ]
  },
  {
   "cell_type": "code",
   "execution_count": 6,
   "metadata": {},
   "outputs": [],
   "source": [
    "hosp_op = pd.read_excel(\"/Users/adamtsuchiyama/Documents/healthcare-bluebook-red-team/data/MUP_OHP_R19_P04_V10_D17_APC_Provider.xlsx\", header=5, usecols=['Provider ID', 'Provider Name', 'Provider\\nState', 'Provider\\nZip Code', 'APC', 'Comprehensive APC\\nServices', 'Average\\nMedicare\\nAllowed\\nAmount'], dtype={'Provider ID' : str, 'Provider Name' : object, 'Provider\\nState' : object, 'Provider\\nZip Code' : str,  'APC' : object, 'Comprehensive APC\\nServices' : int, 'Average\\nMedicare\\nAllowed\\nAmount' : float})\n",
    "\n"
   ]
  },
  {
   "cell_type": "code",
   "execution_count": 7,
   "metadata": {},
   "outputs": [
    {
     "name": "stdout",
     "output_type": "stream",
     "text": [
      "<class 'pandas.core.frame.DataFrame'>\n",
      "RangeIndex: 61779 entries, 0 to 61778\n",
      "Data columns (total 7 columns):\n",
      " #   Column                           Non-Null Count  Dtype  \n",
      "---  ------                           --------------  -----  \n",
      " 0   Provider ID                      61779 non-null  object \n",
      " 1   Provider Name                    61779 non-null  object \n",
      " 2   Provider\n",
      "State                   61779 non-null  object \n",
      " 3   Provider\n",
      "Zip Code                61779 non-null  object \n",
      " 4   APC                              61779 non-null  object \n",
      " 5   Comprehensive APC\n",
      "Services       61779 non-null  int64  \n",
      " 6   Average\n",
      "Medicare\n",
      "Allowed\n",
      "Amount  61779 non-null  float64\n",
      "dtypes: float64(1), int64(1), object(5)\n",
      "memory usage: 3.3+ MB\n",
      "None\n"
     ]
    }
   ],
   "source": [
    "print(hosp_op.info())"
   ]
  },
  {
   "cell_type": "code",
   "execution_count": 8,
   "metadata": {},
   "outputs": [],
   "source": [
    "hosp_op = hosp_op.rename(columns={'Provider\\nState' : 'Provider State', 'Provider\\nZip Code' : 'Provider Zip Code', 'Comprehensive APC\\nServices' : 'Comprehensive APC Services', 'Average\\nMedicare\\nAllowed\\nAmount' : 'Average Medicare Allowed Amount'})\n",
    "\n"
   ]
  },
  {
   "cell_type": "code",
   "execution_count": 9,
   "metadata": {},
   "outputs": [
    {
     "name": "stdout",
     "output_type": "stream",
     "text": [
      "<class 'pandas.core.frame.DataFrame'>\n",
      "RangeIndex: 61779 entries, 0 to 61778\n",
      "Data columns (total 7 columns):\n",
      " #   Column                           Non-Null Count  Dtype  \n",
      "---  ------                           --------------  -----  \n",
      " 0   Provider ID                      61779 non-null  object \n",
      " 1   Provider Name                    61779 non-null  object \n",
      " 2   Provider State                   61779 non-null  object \n",
      " 3   Provider Zip Code                61779 non-null  object \n",
      " 4   APC                              61779 non-null  object \n",
      " 5   Comprehensive APC Services       61779 non-null  int64  \n",
      " 6   Average Medicare Allowed Amount  61779 non-null  float64\n",
      "dtypes: float64(1), int64(1), object(5)\n",
      "memory usage: 3.3+ MB\n",
      "None\n"
     ]
    }
   ],
   "source": [
    "print(hosp_op.info())"
   ]
  },
  {
   "cell_type": "code",
   "execution_count": 10,
   "metadata": {},
   "outputs": [],
   "source": [
    "apc_cw = pd.read_excel(\"/Users/adamtsuchiyama/Documents/healthcare-bluebook-red-team/data/2020_january_web_addendum_b.12312019.xlsx\", header=2, usecols=['HCPCS Code', 'APC ', 'Relative Weight', 'Payment Rate ', 'Minimum Unadjusted Copayment '], dtype={'HCPS Code' : str, 'APC ' : str, 'Relative Weight' : float, 'Payment Rate ' : float, 'Minimum Unadjusted Copayment ' : float})\n",
    "\n"
   ]
  },
  {
   "cell_type": "code",
   "execution_count": 11,
   "metadata": {},
   "outputs": [
    {
     "name": "stdout",
     "output_type": "stream",
     "text": [
      "<class 'pandas.core.frame.DataFrame'>\n",
      "RangeIndex: 16628 entries, 0 to 16627\n",
      "Data columns (total 5 columns):\n",
      " #   Column                         Non-Null Count  Dtype  \n",
      "---  ------                         --------------  -----  \n",
      " 0   HCPCS Code                     16628 non-null  object \n",
      " 1   APC                            5942 non-null   object \n",
      " 2   Relative Weight                5516 non-null   float64\n",
      " 3   Payment Rate                   5936 non-null   float64\n",
      " 4   Minimum Unadjusted Copayment   5936 non-null   float64\n",
      "dtypes: float64(3), object(2)\n",
      "memory usage: 649.7+ KB\n",
      "None\n"
     ]
    }
   ],
   "source": [
    "print(apc_cw.info())"
   ]
  },
  {
   "cell_type": "code",
   "execution_count": 12,
   "metadata": {},
   "outputs": [],
   "source": [
    "apc_cw = apc_cw.rename(columns={'APC ' : 'APC', 'Payment Rate ' : 'Payment Rate', 'Minimum Unadjusted Copayment ' : 'Minimum Unadjusted Copayment'})"
   ]
  },
  {
   "cell_type": "code",
   "execution_count": 13,
   "metadata": {},
   "outputs": [],
   "source": [
    "zip_cbsa = pd.read_excel(\"/Users/adamtsuchiyama/Documents/healthcare-bluebook-red-team/data/ZIP_CBSA_032020.xlsx\", usecols=['ZIP', 'CBSA'], dtype={'ZIP' : object, 'CBSA' : object})\n",
    "\n"
   ]
  },
  {
   "cell_type": "code",
   "execution_count": 14,
   "metadata": {
    "scrolled": true
   },
   "outputs": [
    {
     "name": "stdout",
     "output_type": "stream",
     "text": [
      "<class 'pandas.core.frame.DataFrame'>\n",
      "RangeIndex: 47415 entries, 0 to 47414\n",
      "Data columns (total 2 columns):\n",
      " #   Column  Non-Null Count  Dtype \n",
      "---  ------  --------------  ----- \n",
      " 0   ZIP     47415 non-null  object\n",
      " 1   CBSA    47415 non-null  object\n",
      "dtypes: object(2)\n",
      "memory usage: 741.0+ KB\n"
     ]
    }
   ],
   "source": [
    "zip_cbsa.info()"
   ]
  },
  {
   "cell_type": "code",
   "execution_count": 15,
   "metadata": {},
   "outputs": [],
   "source": [
    "phys_nash = pd.merge(phys_supp, zip_cbsa, how='left', left_on='zip_5digits', right_on='ZIP')\n",
    "phys_nash = pd.merge(phys_nash, apc_cw, how='left', left_on='hcpcs_code', right_on='HCPCS Code')"
   ]
  },
  {
   "cell_type": "code",
   "execution_count": 16,
   "metadata": {},
   "outputs": [],
   "source": [
    "phys_nash = phys_nash[phys_nash['APC'] == '5302']"
   ]
  },
  {
   "cell_type": "code",
   "execution_count": 17,
   "metadata": {},
   "outputs": [],
   "source": [
    "phys_nash = phys_nash[phys_nash['provider_type'] == 'Ambulatory Surgical Center']"
   ]
  },
  {
   "cell_type": "code",
   "execution_count": 18,
   "metadata": {
    "scrolled": false
   },
   "outputs": [],
   "source": [
    "phys_nash = phys_nash[phys_nash['CBSA'] == '34980']"
   ]
  },
  {
   "cell_type": "code",
   "execution_count": 19,
   "metadata": {
    "scrolled": false
   },
   "outputs": [
    {
     "name": "stdout",
     "output_type": "stream",
     "text": [
      "<class 'pandas.core.frame.DataFrame'>\n",
      "Int64Index: 8 entries, 1419490 to 6997002\n",
      "Data columns (total 4 columns):\n",
      " #   Column                        Non-Null Count  Dtype  \n",
      "---  ------                        --------------  -----  \n",
      " 0   npi                           8 non-null      object \n",
      " 1   place_of_service              8 non-null      object \n",
      " 2   bene_day_srvc_cnt             8 non-null      float64\n",
      " 3   average_Medicare_allowed_amt  8 non-null      float64\n",
      "dtypes: float64(2), object(2)\n",
      "memory usage: 320.0+ bytes\n",
      "None\n"
     ]
    }
   ],
   "source": [
    "phys_nash = phys_nash.drop(['zip_5digits', 'HCPCS Code', 'nppes_provider_last_org_name', 'nppes_entity_code', 'nppes_provider_zip', 'nppes_provider_state', 'provider_type', 'hcpcs_code', 'ZIP', 'CBSA', 'APC', 'Relative Weight', 'Payment Rate', 'Minimum Unadjusted Copayment'], axis=1)\n",
    "print(phys_nash.info())"
   ]
  },
  {
   "cell_type": "code",
   "execution_count": 20,
   "metadata": {},
   "outputs": [
    {
     "name": "stdout",
     "output_type": "stream",
     "text": [
      "<class 'pandas.core.frame.DataFrame'>\n",
      "Int64Index: 8 entries, 1419490 to 6997002\n",
      "Data columns (total 3 columns):\n",
      " #   Column                        Non-Null Count  Dtype  \n",
      "---  ------                        --------------  -----  \n",
      " 0   npi                           8 non-null      object \n",
      " 1   bene_day_srvc_cnt             8 non-null      float64\n",
      " 2   average_Medicare_allowed_amt  8 non-null      float64\n",
      "dtypes: float64(2), object(1)\n",
      "memory usage: 256.0+ bytes\n",
      "None\n"
     ]
    }
   ],
   "source": [
    "phys_nash = phys_nash.drop('place_of_service', axis=1)\n",
    "print(phys_nash.info())"
   ]
  },
  {
   "cell_type": "code",
   "execution_count": 21,
   "metadata": {},
   "outputs": [],
   "source": [
    "phys_nash = phys_nash.rename(columns={'npi' : 'npi/provider_id', 'bene_day_srvc_cnt' : 'service_cnt', 'average_Medicare_allowed_amt' : 'med_allwd_amt'})"
   ]
  },
  {
   "cell_type": "code",
   "execution_count": 22,
   "metadata": {},
   "outputs": [
    {
     "name": "stdout",
     "output_type": "stream",
     "text": [
      "<class 'pandas.core.frame.DataFrame'>\n",
      "Int64Index: 8 entries, 1419490 to 6997002\n",
      "Data columns (total 3 columns):\n",
      " #   Column           Non-Null Count  Dtype  \n",
      "---  ------           --------------  -----  \n",
      " 0   npi/provider_id  8 non-null      object \n",
      " 1   service_cnt      8 non-null      float64\n",
      " 2   med_allwd_amt    8 non-null      float64\n",
      "dtypes: float64(2), object(1)\n",
      "memory usage: 256.0+ bytes\n",
      "None\n"
     ]
    }
   ],
   "source": [
    "print(phys_nash.info())"
   ]
  },
  {
   "cell_type": "code",
   "execution_count": 23,
   "metadata": {},
   "outputs": [
    {
     "name": "stdout",
     "output_type": "stream",
     "text": [
      "(8, 3)\n"
     ]
    }
   ],
   "source": [
    "print(np.shape(phys_nash))"
   ]
  },
  {
   "cell_type": "code",
   "execution_count": 24,
   "metadata": {},
   "outputs": [],
   "source": [
    "hosp_nash = pd.merge(hosp_op, zip_cbsa, how='left', left_on='Provider Zip Code', right_on='ZIP')"
   ]
  },
  {
   "cell_type": "code",
   "execution_count": 25,
   "metadata": {},
   "outputs": [],
   "source": [
    "hosp_nash = hosp_nash[hosp_nash['APC'] == 5302]"
   ]
  },
  {
   "cell_type": "code",
   "execution_count": 26,
   "metadata": {},
   "outputs": [],
   "source": [
    "hosp_nash = hosp_nash[hosp_nash['CBSA'] == '34980']"
   ]
  },
  {
   "cell_type": "code",
   "execution_count": 27,
   "metadata": {},
   "outputs": [
    {
     "name": "stdout",
     "output_type": "stream",
     "text": [
      "<class 'pandas.core.frame.DataFrame'>\n",
      "Int64Index: 17 entries, 57329 to 59055\n",
      "Data columns (total 3 columns):\n",
      " #   Column                           Non-Null Count  Dtype  \n",
      "---  ------                           --------------  -----  \n",
      " 0   Provider ID                      17 non-null     object \n",
      " 1   Comprehensive APC Services       17 non-null     int64  \n",
      " 2   Average Medicare Allowed Amount  17 non-null     float64\n",
      "dtypes: float64(1), int64(1), object(1)\n",
      "memory usage: 544.0+ bytes\n",
      "None\n"
     ]
    }
   ],
   "source": [
    "hosp_nash = hosp_nash.drop(['Provider Zip Code','Provider Name', 'Provider State', 'APC', 'ZIP', 'CBSA'], axis=1)\n",
    "print(hosp_nash.info())"
   ]
  },
  {
   "cell_type": "code",
   "execution_count": 28,
   "metadata": {},
   "outputs": [],
   "source": [
    "hosp_nash = hosp_nash.rename(columns={'Provider ID' : 'npi/provider_id', 'Comprehensive APC Services' : 'service_cnt', 'Average Medicare Allowed Amount' : 'med_allwd_amt'})"
   ]
  },
  {
   "cell_type": "code",
   "execution_count": 29,
   "metadata": {},
   "outputs": [
    {
     "name": "stdout",
     "output_type": "stream",
     "text": [
      "<class 'pandas.core.frame.DataFrame'>\n",
      "Int64Index: 17 entries, 57329 to 59055\n",
      "Data columns (total 3 columns):\n",
      " #   Column           Non-Null Count  Dtype  \n",
      "---  ------           --------------  -----  \n",
      " 0   npi/provider_id  17 non-null     object \n",
      " 1   service_cnt      17 non-null     int64  \n",
      " 2   med_allwd_amt    17 non-null     float64\n",
      "dtypes: float64(1), int64(1), object(1)\n",
      "memory usage: 544.0+ bytes\n",
      "None\n"
     ]
    }
   ],
   "source": [
    "print(hosp_nash.info())"
   ]
  },
  {
   "cell_type": "code",
   "execution_count": 30,
   "metadata": {},
   "outputs": [
    {
     "name": "stdout",
     "output_type": "stream",
     "text": [
      "(17, 3)\n"
     ]
    }
   ],
   "source": [
    "print(np.shape(hosp_nash))"
   ]
  },
  {
   "cell_type": "code",
   "execution_count": 31,
   "metadata": {
    "scrolled": true
   },
   "outputs": [
    {
     "name": "stdout",
     "output_type": "stream",
     "text": [
      "   npi/provider_id  service_cnt  med_allwd_amt\n",
      "0       1124498357         16.0     660.990000\n",
      "1       1225039761         17.0     565.636471\n",
      "2       1225039761         14.0     587.110000\n",
      "3       1235376104         17.0     550.540000\n",
      "4       1235376104         21.0     537.431905\n",
      "5       1295708964         34.0     587.110000\n",
      "6       1427152073         23.0     587.110000\n",
      "7       1639299803         33.0     587.110000\n",
      "8           440003        114.0    1223.454825\n",
      "9           440006         15.0    1248.620000\n",
      "10          440029         18.0    1248.620000\n",
      "11          440039        623.0    1205.620546\n",
      "12          440046         13.0    1095.567692\n",
      "13          440053         55.0    1248.620000\n",
      "14          440065         29.0    1248.620000\n",
      "15          440073        254.0    1229.639134\n",
      "16          440082        207.0    1224.590048\n",
      "17          440111         12.0    1248.620000\n",
      "18          440133         98.0    1238.468571\n",
      "19          440150         21.0    1159.030952\n",
      "20          440161        170.0    1207.656000\n",
      "21          440193         30.0    1182.297333\n",
      "22          440194         92.0    1142.076522\n",
      "23          440197         49.0    1228.336327\n",
      "24          440227         51.0    1170.593333\n"
     ]
    }
   ],
   "source": [
    "phys_hosp_union = pd.concat([phys_nash, hosp_nash], ignore_index=True)\n",
    "print(phys_hosp_union)"
   ]
  },
  {
   "cell_type": "code",
   "execution_count": 53,
   "metadata": {
    "scrolled": true
   },
   "outputs": [
    {
     "data": {
      "image/png": "[encoded data removed]",
      "text/plain": [
       "<Figure size 432x288 with 1 Axes>"
      ]
     },
     "metadata": {
      "needs_background": "light"
     },
     "output_type": "display_data"
    }
   ],
   "source": [
    "colors = []\n",
    "for amt in phys_hosp_union['med_allwd_amt']:\n",
    "    if amt < 700:\n",
    "        colors.append('red')\n",
    "    else:\n",
    "        colors.append('blue')\n",
    "labels = {'ASC' : 'red', 'Hospitals' : 'blue'}\n",
    "labels2 = list(labels.keys())\n",
    "plt.bar(phys_hosp_union['npi/provider_id'], phys_hosp_union['med_allwd_amt'], color=colors, label=labels)\n",
    "handles = [plt.Rectangle((0,0),1,1, color=labels[label]) for label in labels2]\n",
    "plt.xticks([])\n",
    "plt.xlabel('Providers in Nashville')\n",
    "plt.ylabel('Medicare Allowed Amount')\n",
    "plt.title('Medicare Allowed Amounts, Hospitals vs. ASCs (Nashville)')\n",
    "plt.legend(handles, labels2)\n",
    "plt.show()"
   ]
  },
  {
   "cell_type": "markdown",
   "metadata": {},
   "source": [
    "ASC's costs are significantly lower than hospitals. This is most likely due to ASCs being a facility place of service, meaning the bill has likely been split between multiple providers."
   ]
  },
  {
   "cell_type": "code",
   "execution_count": 117,
   "metadata": {},
   "outputs": [
    {
     "name": "stdout",
     "output_type": "stream",
     "text": [
      "582.87979691875\n"
     ]
    }
   ],
   "source": [
    "phys_mean = np.mean(phys_nash['med_allwd_amt'])\n",
    "print(phys_mean)"
   ]
  },
  {
   "cell_type": "code",
   "execution_count": 118,
   "metadata": {},
   "outputs": [
    {
     "name": "stdout",
     "output_type": "stream",
     "text": [
      "1208.848899031107\n"
     ]
    }
   ],
   "source": [
    "hosp_mean = np.mean(hosp_nash['med_allwd_amt'])\n",
    "print(hosp_mean)"
   ]
  },
  {
   "cell_type": "code",
   "execution_count": null,
   "metadata": {},
   "outputs": [],
   "source": []
  }
 ],
 "metadata": {
  "kernelspec": {
   "display_name": "Python 3",
   "language": "python",
   "name": "python3"
  },
  "language_info": {
   "codemirror_mode": {
    "name": "ipython",
    "version": 3
   },
   "file_extension": ".py",
   "mimetype": "text/x-python",
   "name": "python",
   "nbconvert_exporter": "python",
   "pygments_lexer": "ipython3",
   "version": "3.7.6"
  }
 },
 "nbformat": 4,
 "nbformat_minor": 4
}
