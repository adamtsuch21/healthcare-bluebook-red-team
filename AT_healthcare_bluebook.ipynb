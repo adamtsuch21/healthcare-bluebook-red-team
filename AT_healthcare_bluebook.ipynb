{
 "cells": [
  {
   "cell_type": "code",
   "execution_count": 59,
   "metadata": {},
   "outputs": [],
   "source": [
    "import pandas as pd\n",
    "import numpy as np"
   ]
  },
  {
   "cell_type": "code",
   "execution_count": 7,
   "metadata": {
    "scrolled": true
   },
   "outputs": [],
   "source": [
    "phys_supp = pd.read_csv(\"/Users/adamtsuchiyama/Documents/healthcare-bluebook-red-team/data/Medicare_Provider_Util_Payment_PUF_CY2017.txt\", sep='\\t', usecols=['npi', 'nppes_provider_last_org_name', 'nppes_entity_code', 'nppes_provider_zip', 'nppes_provider_state', 'provider_type', 'hcpcs_code', 'bene_day_srvc_cnt', 'average_Medicare_allowed_amt'], dtype={'npi': str, 'nppes_provider_last_org_name' : str, 'nppes_entity_code' : str, 'nppes_provider_zip' : str, 'nppes_provider_state' : str, 'provider_type' : str, 'hcpcs_code' : str, 'bene_day_srvc_cnt' : float, 'average_Medicare_allowed_amt' : float})\n",
    "\n"
   ]
  },
  {
   "cell_type": "code",
   "execution_count": 8,
   "metadata": {},
   "outputs": [],
   "source": [
    "phys_supp['zip_5digits'] = phys_supp['nppes_provider_zip'].str[:5]"
   ]
  },
  {
   "cell_type": "code",
   "execution_count": 9,
   "metadata": {},
   "outputs": [
    {
     "name": "stdout",
     "output_type": "stream",
     "text": [
      "<class 'pandas.core.frame.DataFrame'>\n",
      "RangeIndex: 9847444 entries, 0 to 9847443\n",
      "Data columns (total 10 columns):\n",
      " #   Column                        Dtype  \n",
      "---  ------                        -----  \n",
      " 0   npi                           object \n",
      " 1   nppes_provider_last_org_name  object \n",
      " 2   nppes_entity_code             object \n",
      " 3   nppes_provider_zip            object \n",
      " 4   nppes_provider_state          object \n",
      " 5   provider_type                 object \n",
      " 6   hcpcs_code                    object \n",
      " 7   bene_day_srvc_cnt             float64\n",
      " 8   average_Medicare_allowed_amt  float64\n",
      " 9   zip_5digits                   object \n",
      "dtypes: float64(2), object(8)\n",
      "memory usage: 751.3+ MB\n",
      "None\n"
     ]
    }
   ],
   "source": [
    "print(phys_supp.info())"
   ]
  },
  {
   "cell_type": "code",
   "execution_count": 14,
   "metadata": {},
   "outputs": [],
   "source": [
    "hosp_op = pd.read_excel(\"/Users/adamtsuchiyama/Documents/healthcare-bluebook-red-team/data/MUP_OHP_R19_P04_V10_D17_APC_Provider.xlsx\", header=5, usecols=['Provider ID', 'Provider Name', 'Provider\\nState', 'Provider\\nZip Code', 'APC', 'Comprehensive APC\\nServices', 'Average\\nMedicare\\nAllowed\\nAmount'], dtype={'Provider ID' : object, 'Provider Name' : object, 'Provider\\nState' : object, 'Provider\\nZip Code' : str,  'APC' : object, 'Comprehensive APC\\nServices' : int, 'Average\\nMedicare\\nAllowed\\nAmount' : float})\n",
    "\n"
   ]
  },
  {
   "cell_type": "code",
   "execution_count": 15,
   "metadata": {},
   "outputs": [
    {
     "name": "stdout",
     "output_type": "stream",
     "text": [
      "<class 'pandas.core.frame.DataFrame'>\n",
      "RangeIndex: 61779 entries, 0 to 61778\n",
      "Data columns (total 7 columns):\n",
      " #   Column                           Non-Null Count  Dtype  \n",
      "---  ------                           --------------  -----  \n",
      " 0   Provider ID                      61779 non-null  object \n",
      " 1   Provider Name                    61779 non-null  object \n",
      " 2   Provider\n",
      "State                   61779 non-null  object \n",
      " 3   Provider\n",
      "Zip Code                61779 non-null  object \n",
      " 4   APC                              61779 non-null  object \n",
      " 5   Comprehensive APC\n",
      "Services       61779 non-null  int64  \n",
      " 6   Average\n",
      "Medicare\n",
      "Allowed\n",
      "Amount  61779 non-null  float64\n",
      "dtypes: float64(1), int64(1), object(5)\n",
      "memory usage: 3.3+ MB\n",
      "None\n"
     ]
    }
   ],
   "source": [
    "print(hosp_op.info())"
   ]
  },
  {
   "cell_type": "code",
   "execution_count": 16,
   "metadata": {},
   "outputs": [],
   "source": [
    "hosp_op = hosp_op.rename(columns={'Provider\\nState' : 'Provider State', 'Provider\\nZip Code' : 'Provider Zip Code', 'Comprehensive APC\\nServices' : 'Comprehensive APC Services', 'Average\\nMedicare\\nAllowed\\nAmount' : 'Average Medicare Allowed Amount'})\n",
    "\n"
   ]
  },
  {
   "cell_type": "code",
   "execution_count": 17,
   "metadata": {},
   "outputs": [
    {
     "name": "stdout",
     "output_type": "stream",
     "text": [
      "<class 'pandas.core.frame.DataFrame'>\n",
      "RangeIndex: 61779 entries, 0 to 61778\n",
      "Data columns (total 7 columns):\n",
      " #   Column                           Non-Null Count  Dtype  \n",
      "---  ------                           --------------  -----  \n",
      " 0   Provider ID                      61779 non-null  object \n",
      " 1   Provider Name                    61779 non-null  object \n",
      " 2   Provider State                   61779 non-null  object \n",
      " 3   Provider Zip Code                61779 non-null  object \n",
      " 4   APC                              61779 non-null  object \n",
      " 5   Comprehensive APC Services       61779 non-null  int64  \n",
      " 6   Average Medicare Allowed Amount  61779 non-null  float64\n",
      "dtypes: float64(1), int64(1), object(5)\n",
      "memory usage: 3.3+ MB\n",
      "None\n"
     ]
    }
   ],
   "source": [
    "print(hosp_op.info())"
   ]
  },
  {
   "cell_type": "code",
   "execution_count": 24,
   "metadata": {},
   "outputs": [],
   "source": [
    "apc_cw = pd.read_excel(\"/Users/adamtsuchiyama/Documents/healthcare-bluebook-red-team/data/2020_january_web_addendum_b.12312019.xlsx\", header=2, usecols=['HCPCS Code', 'APC ', 'Relative Weight', 'Payment Rate ', 'Minimum Unadjusted Copayment '], dtype={'HCPS Code' : str, 'APC ' : str, 'Relative Weight' : float, 'Payment Rate ' : float, 'Minimum Unadjusted Copayment ' : float})\n",
    "\n"
   ]
  },
  {
   "cell_type": "code",
   "execution_count": 25,
   "metadata": {},
   "outputs": [
    {
     "name": "stdout",
     "output_type": "stream",
     "text": [
      "<class 'pandas.core.frame.DataFrame'>\n",
      "RangeIndex: 16628 entries, 0 to 16627\n",
      "Data columns (total 5 columns):\n",
      " #   Column                         Non-Null Count  Dtype  \n",
      "---  ------                         --------------  -----  \n",
      " 0   HCPCS Code                     16628 non-null  object \n",
      " 1   APC                            5942 non-null   object \n",
      " 2   Relative Weight                5516 non-null   float64\n",
      " 3   Payment Rate                   5936 non-null   float64\n",
      " 4   Minimum Unadjusted Copayment   5936 non-null   float64\n",
      "dtypes: float64(3), object(2)\n",
      "memory usage: 649.7+ KB\n",
      "None\n"
     ]
    }
   ],
   "source": [
    "print(apc_cw.info())"
   ]
  },
  {
   "cell_type": "code",
   "execution_count": 26,
   "metadata": {},
   "outputs": [],
   "source": [
    "apc_cw = apc_cw.rename(columns={'APC ' : 'APC', 'Payment Rate ' : 'Payment Rate', 'Minimum Unadjusted Copayment ' : 'Minimum Unadjusted Copayment'})"
   ]
  },
  {
   "cell_type": "code",
   "execution_count": 30,
   "metadata": {},
   "outputs": [],
   "source": [
    "zip_cbsa = pd.read_excel(\"/Users/adamtsuchiyama/Documents/healthcare-bluebook-red-team/data/ZIP_CBSA_032020.xlsx\", usecols=['ZIP', 'CBSA'], dtype={'ZIP' : object, 'CBSA' : object})\n",
    "\n"
   ]
  },
  {
   "cell_type": "code",
   "execution_count": 31,
   "metadata": {
    "scrolled": true
   },
   "outputs": [
    {
     "name": "stdout",
     "output_type": "stream",
     "text": [
      "<class 'pandas.core.frame.DataFrame'>\n",
      "RangeIndex: 47415 entries, 0 to 47414\n",
      "Data columns (total 2 columns):\n",
      " #   Column  Non-Null Count  Dtype \n",
      "---  ------  --------------  ----- \n",
      " 0   ZIP     47415 non-null  object\n",
      " 1   CBSA    47415 non-null  object\n",
      "dtypes: object(2)\n",
      "memory usage: 741.0+ KB\n"
     ]
    }
   ],
   "source": [
    "zip_cbsa.info()"
   ]
  },
  {
   "cell_type": "code",
   "execution_count": 47,
   "metadata": {},
   "outputs": [],
   "source": [
    "phys_nash = pd.merge(phys_supp, zip_cbsa, how='left', left_on='zip_5digits', right_on='ZIP')\n",
    "phys_nash = pd.merge(phys_nash, apc_cw, how='left', left_on='hcpcs_code', right_on='HCPCS Code')"
   ]
  },
  {
   "cell_type": "code",
   "execution_count": 48,
   "metadata": {},
   "outputs": [],
   "source": [
    "phys_nash = phys_nash[phys_nash['APC'] == '5302']"
   ]
  },
  {
   "cell_type": "code",
   "execution_count": 49,
   "metadata": {},
   "outputs": [],
   "source": [
    "phys_nash = phys_nash[phys_nash['provider_type'] == 'Ambulatory Surgical Center']"
   ]
  },
  {
   "cell_type": "code",
   "execution_count": 50,
   "metadata": {
    "scrolled": false
   },
   "outputs": [],
   "source": [
    "phys_nash = phys_nash[phys_nash['CBSA'] == '34980']"
   ]
  },
  {
   "cell_type": "code",
   "execution_count": 51,
   "metadata": {
    "scrolled": true
   },
   "outputs": [
    {
     "name": "stdout",
     "output_type": "stream",
     "text": [
      "<class 'pandas.core.frame.DataFrame'>\n",
      "Int64Index: 8 entries, 1419490 to 6997002\n",
      "Data columns (total 15 columns):\n",
      " #   Column                        Non-Null Count  Dtype  \n",
      "---  ------                        --------------  -----  \n",
      " 0   npi                           8 non-null      object \n",
      " 1   nppes_provider_last_org_name  8 non-null      object \n",
      " 2   nppes_entity_code             8 non-null      object \n",
      " 3   nppes_provider_zip            8 non-null      object \n",
      " 4   nppes_provider_state          8 non-null      object \n",
      " 5   provider_type                 8 non-null      object \n",
      " 6   hcpcs_code                    8 non-null      object \n",
      " 7   bene_day_srvc_cnt             8 non-null      float64\n",
      " 8   average_Medicare_allowed_amt  8 non-null      float64\n",
      " 9   ZIP                           8 non-null      object \n",
      " 10  CBSA                          8 non-null      object \n",
      " 11  APC                           8 non-null      object \n",
      " 12  Relative Weight               8 non-null      float64\n",
      " 13  Payment Rate                  8 non-null      float64\n",
      " 14  Minimum Unadjusted Copayment  8 non-null      float64\n",
      "dtypes: float64(5), object(10)\n",
      "memory usage: 1.0+ KB\n",
      "None\n"
     ]
    }
   ],
   "source": [
    "phys_nash = phys_nash.drop(['zip_5digits', 'HCPCS Code'], axis=1)\n",
    "print(phys_nash.info())"
   ]
  },
  {
   "cell_type": "code",
   "execution_count": 61,
   "metadata": {},
   "outputs": [
    {
     "name": "stdout",
     "output_type": "stream",
     "text": [
      "(8, 15)\n"
     ]
    }
   ],
   "source": [
    "print(np.shape(phys_nash))"
   ]
  },
  {
   "cell_type": "code",
   "execution_count": 52,
   "metadata": {},
   "outputs": [],
   "source": [
    "hosp_nash = pd.merge(hosp_op, zip_cbsa, how='left', left_on='Provider Zip Code', right_on='ZIP')"
   ]
  },
  {
   "cell_type": "code",
   "execution_count": 53,
   "metadata": {},
   "outputs": [],
   "source": [
    "hosp_nash = hosp_nash[hosp_nash['APC'] == 5302]"
   ]
  },
  {
   "cell_type": "code",
   "execution_count": 54,
   "metadata": {},
   "outputs": [],
   "source": [
    "hosp_nash = hosp_nash[hosp_nash['CBSA'] == '34980']"
   ]
  },
  {
   "cell_type": "code",
   "execution_count": 55,
   "metadata": {},
   "outputs": [
    {
     "name": "stdout",
     "output_type": "stream",
     "text": [
      "<class 'pandas.core.frame.DataFrame'>\n",
      "Int64Index: 17 entries, 57329 to 59055\n",
      "Data columns (total 8 columns):\n",
      " #   Column                           Non-Null Count  Dtype  \n",
      "---  ------                           --------------  -----  \n",
      " 0   Provider ID                      17 non-null     object \n",
      " 1   Provider Name                    17 non-null     object \n",
      " 2   Provider State                   17 non-null     object \n",
      " 3   APC                              17 non-null     object \n",
      " 4   Comprehensive APC Services       17 non-null     int64  \n",
      " 5   Average Medicare Allowed Amount  17 non-null     float64\n",
      " 6   ZIP                              17 non-null     object \n",
      " 7   CBSA                             17 non-null     object \n",
      "dtypes: float64(1), int64(1), object(6)\n",
      "memory usage: 1.2+ KB\n",
      "None\n"
     ]
    }
   ],
   "source": [
    "hosp_nash = hosp_nash.drop('Provider Zip Code', axis=1)\n",
    "print(hosp_nash.info())"
   ]
  },
  {
   "cell_type": "code",
   "execution_count": 62,
   "metadata": {},
   "outputs": [
    {
     "name": "stdout",
     "output_type": "stream",
     "text": [
      "(17, 8)\n"
     ]
    }
   ],
   "source": [
    "print(np.shape(hosp_nash))"
   ]
  },
  {
   "cell_type": "code",
   "execution_count": null,
   "metadata": {},
   "outputs": [],
   "source": []
  }
 ],
 "metadata": {
  "kernelspec": {
   "display_name": "Python 3",
   "language": "python",
   "name": "python3"
  },
  "language_info": {
   "codemirror_mode": {
    "name": "ipython",
    "version": 3
   },
   "file_extension": ".py",
   "mimetype": "text/x-python",
   "name": "python",
   "nbconvert_exporter": "python",
   "pygments_lexer": "ipython3",
   "version": "3.7.6"
  }
 },
 "nbformat": 4,
 "nbformat_minor": 4
}
