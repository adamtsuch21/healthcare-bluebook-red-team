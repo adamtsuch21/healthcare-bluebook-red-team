{
 "cells": [
  {
   "cell_type": "code",
   "execution_count": 1,
   "metadata": {},
   "outputs": [],
   "source": [
    "import pandas as pd\n",
    "import numpy as np\n",
    "import matplotlib.pyplot as plt\n",
    "import seaborn as sns"
   ]
  },
  {
   "cell_type": "code",
   "execution_count": 2,
   "metadata": {},
   "outputs": [],
   "source": [
    "phys_supp_17 = pd.read_csv(\"/Users/adamtsuchiyama/Documents/healthcare-bluebook-red-team/data/Medicare_Provider_Util_Payment_PUF_CY2017.txt\", sep='\\t', usecols=['npi', 'nppes_provider_last_org_name', 'nppes_entity_code', 'nppes_provider_zip', 'nppes_provider_state', 'provider_type', 'place_of_service', 'hcpcs_code', 'bene_day_srvc_cnt', 'average_Medicare_allowed_amt'], dtype={'npi': str, 'nppes_provider_last_org_name' : str, 'nppes_entity_code' : str, 'nppes_provider_zip' : str, 'nppes_provider_state' : str, 'provider_type' : str, 'place_of_service' : str, 'hcpcs_code' : str, 'bene_day_srvc_cnt' : float, 'average_Medicare_allowed_amt' : float})\n",
    "\n"
   ]
  },
  {
   "cell_type": "code",
   "execution_count": 3,
   "metadata": {},
   "outputs": [],
   "source": [
    "phys_supp_16 = pd.read_csv(\"/Users/adamtsuchiyama/Documents/healthcare-bluebook-red-team/data/Medicare_Provider_Util_Payment_PUF_CY2016.txt\", sep='\\t', usecols=['NPI','NPPES_PROVIDER_ZIP', 'PLACE_OF_SERVICE', 'HCPCS_CODE', 'BENE_DAY_SRVC_CNT', 'AVERAGE_MEDICARE_ALLOWED_AMT'], dtype={'NPI': str, 'NPPES_PROVIDER_ZIP' : str, 'PLACE_OF_SERVICE' : str, 'HCPCS_CODE' : str, 'BENE_DAY_SRVC_CNT' : float, 'AVERAGE_MEDICARE_ALLOWED_AMT' : float})\n",
    "\n"
   ]
  },
  {
   "cell_type": "code",
   "execution_count": 4,
   "metadata": {},
   "outputs": [],
   "source": [
    "phys_supp_15 = pd.read_csv(\"/Users/adamtsuchiyama/Documents/healthcare-bluebook-red-team/data/Medicare_Provider_Util_Payment_PUF_CY2015.txt\", sep='\\t', usecols=['npi', 'nppes_provider_zip', 'place_of_service', 'hcpcs_code', 'bene_day_srvc_cnt', 'average_Medicare_allowed_amt'], dtype={'npi': str, 'nppes_provider_zip' : str, 'place_of_service' : str, 'hcpcs_code' : str, 'bene_day_srvc_cnt' : float, 'average_Medicare_allowed_amt' : float})\n",
    "\n"
   ]
  },
  {
   "cell_type": "code",
   "execution_count": 5,
   "metadata": {},
   "outputs": [],
   "source": [
    "zip_cbsa = pd.read_excel(\"/Users/adamtsuchiyama/Documents/healthcare-bluebook-red-team/data/ZIP_CBSA_032020.xlsx\", usecols=['ZIP', 'CBSA'], dtype={'ZIP' : str, 'CBSA' : str})"
   ]
  },
  {
   "cell_type": "code",
   "execution_count": 6,
   "metadata": {},
   "outputs": [],
   "source": [
    "apc_cw = pd.read_excel(\"/Users/adamtsuchiyama/Documents/healthcare-bluebook-red-team/data/2020_january_web_addendum_b.12312019.xlsx\", header=2, usecols=['HCPCS Code', 'APC '], dtype={'HCPCS Code' : str, 'APC ' : str})"
   ]
  },
  {
   "cell_type": "code",
   "execution_count": 7,
   "metadata": {},
   "outputs": [],
   "source": [
    "apc_cw = apc_cw.rename(columns={'APC ' : 'APC'})"
   ]
  },
  {
   "cell_type": "code",
   "execution_count": 8,
   "metadata": {},
   "outputs": [],
   "source": [
    "phys_supp_17.columns = map(str.lower, phys_supp_17.columns)\n",
    "phys_supp_16.columns = map(str.lower, phys_supp_16.columns)\n",
    "phys_supp_15.columns = map(str.lower, phys_supp_15.columns)"
   ]
  },
  {
   "cell_type": "code",
   "execution_count": 9,
   "metadata": {},
   "outputs": [
    {
     "name": "stdout",
     "output_type": "stream",
     "text": [
      "<class 'pandas.core.frame.DataFrame'>\n",
      "RangeIndex: 9847444 entries, 0 to 9847443\n",
      "Data columns (total 10 columns):\n",
      " #   Column                        Dtype  \n",
      "---  ------                        -----  \n",
      " 0   npi                           object \n",
      " 1   nppes_provider_last_org_name  object \n",
      " 2   nppes_entity_code             object \n",
      " 3   nppes_provider_zip            object \n",
      " 4   nppes_provider_state          object \n",
      " 5   provider_type                 object \n",
      " 6   place_of_service              object \n",
      " 7   hcpcs_code                    object \n",
      " 8   srvc_cnt_17                   float64\n",
      " 9   avg_med_amt_17                float64\n",
      "dtypes: float64(2), object(8)\n",
      "memory usage: 751.3+ MB\n",
      "None\n",
      "<class 'pandas.core.frame.DataFrame'>\n",
      "RangeIndex: 9714897 entries, 0 to 9714896\n",
      "Data columns (total 6 columns):\n",
      " #   Column              Dtype  \n",
      "---  ------              -----  \n",
      " 0   npi                 object \n",
      " 1   nppes_provider_zip  object \n",
      " 2   place_of_service    object \n",
      " 3   hcpcs_code          object \n",
      " 4   srvc_cnt_16         float64\n",
      " 5   avg_med_amt_16      float64\n",
      "dtypes: float64(2), object(4)\n",
      "memory usage: 444.7+ MB\n",
      "None\n",
      "<class 'pandas.core.frame.DataFrame'>\n",
      "RangeIndex: 9497892 entries, 0 to 9497891\n",
      "Data columns (total 6 columns):\n",
      " #   Column              Dtype  \n",
      "---  ------              -----  \n",
      " 0   npi                 object \n",
      " 1   nppes_provider_zip  object \n",
      " 2   place_of_service    object \n",
      " 3   hcpcs_code          object \n",
      " 4   srvc_cnt_15         float64\n",
      " 5   avg_med_amt_15      float64\n",
      "dtypes: float64(2), object(4)\n",
      "memory usage: 434.8+ MB\n",
      "None\n"
     ]
    }
   ],
   "source": [
    "phys_supp_17 = phys_supp_17.rename(columns={'bene_day_srvc_cnt' : 'srvc_cnt_17', 'average_medicare_allowed_amt' : 'avg_med_amt_17'})\n",
    "phys_supp_16 = phys_supp_16.rename(columns={'bene_day_srvc_cnt' : 'srvc_cnt_16', 'average_medicare_allowed_amt' : 'avg_med_amt_16'})\n",
    "phys_supp_15 = phys_supp_15.rename(columns={'bene_day_srvc_cnt' : 'srvc_cnt_15', 'average_medicare_allowed_amt' : 'avg_med_amt_15'})\n",
    "print(phys_supp_17.info())\n",
    "print(phys_supp_16.info())\n",
    "print(phys_supp_15.info())"
   ]
  },
  {
   "cell_type": "code",
   "execution_count": 10,
   "metadata": {},
   "outputs": [
    {
     "name": "stdout",
     "output_type": "stream",
     "text": [
      "          npi                       nppes_provider_last_org_name  \\\n",
      "0  0000000001  CPT copyright 2016 American Medical Associatio...   \n",
      "1  1003000126                                          ENKESHAFI   \n",
      "2  1003000126                                          ENKESHAFI   \n",
      "3  1003000126                                          ENKESHAFI   \n",
      "4  1003000126                                          ENKESHAFI   \n",
      "\n",
      "  nppes_entity_code nppes_provider_zip_x nppes_provider_state  \\\n",
      "0               NaN                  NaN                  NaN   \n",
      "1                 I            215021854                   MD   \n",
      "2                 I            215021854                   MD   \n",
      "3                 I            215021854                   MD   \n",
      "4                 I            215021854                   MD   \n",
      "\n",
      "       provider_type place_of_service hcpcs_code  srvc_cnt_17  avg_med_amt_17  \\\n",
      "0                NaN              NaN        NaN          NaN             NaN   \n",
      "1  Internal Medicine                F      99217        100.0       73.398800   \n",
      "2  Internal Medicine                F      99219         52.0      136.380000   \n",
      "3  Internal Medicine                F      99220         59.0      190.363729   \n",
      "4  Internal Medicine                F      99221         16.0      101.680000   \n",
      "\n",
      "  nppes_provider_zip_y  srvc_cnt_16  avg_med_amt_16  \n",
      "0                  NaN          NaN             NaN  \n",
      "1            215021854         57.0       72.743158  \n",
      "2            215021854         38.0      135.010000  \n",
      "3            215021854         23.0      189.239565  \n",
      "4            215021854         20.0      100.750000  \n"
     ]
    }
   ],
   "source": [
    "phys_join = pd.merge(phys_supp_17, phys_supp_16, how='inner', on=['npi', 'place_of_service' ,'hcpcs_code'])\n",
    "print(phys_join.head())"
   ]
  },
  {
   "cell_type": "code",
   "execution_count": 11,
   "metadata": {},
   "outputs": [
    {
     "name": "stdout",
     "output_type": "stream",
     "text": [
      "          npi                       nppes_provider_last_org_name  \\\n",
      "0  0000000001  CPT copyright 2016 American Medical Associatio...   \n",
      "1  1003000126                                          ENKESHAFI   \n",
      "2  1003000126                                          ENKESHAFI   \n",
      "3  1003000126                                          ENKESHAFI   \n",
      "4  1003000126                                          ENKESHAFI   \n",
      "\n",
      "  nppes_entity_code nppes_provider_state      provider_type place_of_service  \\\n",
      "0               NaN                  NaN                NaN              NaN   \n",
      "1                 I                   MD  Internal Medicine                F   \n",
      "2                 I                   MD  Internal Medicine                F   \n",
      "3                 I                   MD  Internal Medicine                F   \n",
      "4                 I                   MD  Internal Medicine                F   \n",
      "\n",
      "  hcpcs_code  srvc_cnt_17  avg_med_amt_17  srvc_cnt_16  avg_med_amt_16  \\\n",
      "0        NaN          NaN             NaN          NaN             NaN   \n",
      "1      99217        100.0         73.3988         57.0       72.743158   \n",
      "2      99219         52.0        136.3800         38.0      135.010000   \n",
      "3      99221         16.0        101.6800         20.0      100.750000   \n",
      "4      99222         59.0        137.3100         96.0      136.250000   \n",
      "\n",
      "  nppes_provider_zip  srvc_cnt_15  avg_med_amt_15  \n",
      "0                NaN          NaN             NaN  \n",
      "1          215021854         23.0       72.680000  \n",
      "2          215021854         18.0      135.850000  \n",
      "3          215021854         59.0      101.365085  \n",
      "4          215021854        132.0      139.010455  \n"
     ]
    }
   ],
   "source": [
    "phys_join = pd.merge(phys_join, phys_supp_15, how='inner', on=['npi', 'place_of_service' ,'hcpcs_code'])\n",
    "phys_join = phys_join.drop(columns={'nppes_provider_zip_x', 'nppes_provider_zip_y'})\n",
    "print(phys_join.head())"
   ]
  },
  {
   "cell_type": "code",
   "execution_count": 12,
   "metadata": {},
   "outputs": [],
   "source": [
    "phys_join['ZIP'] = phys_join['nppes_provider_zip'].str[:5]"
   ]
  },
  {
   "cell_type": "code",
   "execution_count": 13,
   "metadata": {},
   "outputs": [],
   "source": [
    "phys_join = pd.merge(phys_join, zip_cbsa, how='left', on='ZIP')"
   ]
  },
  {
   "cell_type": "code",
   "execution_count": 16,
   "metadata": {},
   "outputs": [],
   "source": [
    "phys_hou_join = phys_join[phys_join['CBSA'] == '26420']"
   ]
  },
  {
   "cell_type": "code",
   "execution_count": 17,
   "metadata": {},
   "outputs": [],
   "source": [
    "phys_atl_join = phys_join[phys_join['CBSA'] == '12060']"
   ]
  },
  {
   "cell_type": "code",
   "execution_count": 22,
   "metadata": {},
   "outputs": [
    {
     "name": "stdout",
     "output_type": "stream",
     "text": [
      "<class 'pandas.core.frame.DataFrame'>\n",
      "Int64Index: 86779 entries, 79 to 6842200\n",
      "Data columns (total 9 columns):\n",
      " #   Column             Non-Null Count  Dtype  \n",
      "---  ------             --------------  -----  \n",
      " 0   npi                86779 non-null  object \n",
      " 1   nppes_entity_code  86779 non-null  object \n",
      " 2   place_of_service   86779 non-null  object \n",
      " 3   hcpcs_code         86779 non-null  object \n",
      " 4   avg_med_amt_17     86779 non-null  float64\n",
      " 5   avg_med_amt_16     86779 non-null  float64\n",
      " 6   avg_med_amt_15     86779 non-null  float64\n",
      " 7   ZIP                86779 non-null  object \n",
      " 8   CBSA               86779 non-null  object \n",
      "dtypes: float64(3), object(6)\n",
      "memory usage: 6.6+ MB\n",
      "None\n",
      "(86779, 9)\n"
     ]
    }
   ],
   "source": [
    "phys_hou_med = phys_hou_join.drop(columns={'nppes_provider_last_org_name', 'nppes_provider_zip', 'nppes_provider_state', 'provider_type', 'srvc_cnt_17', 'srvc_cnt_16', 'srvc_cnt_15'})\n",
    "print(phys_hou_med.info())\n",
    "print(np.shape(phys_hou_med))"
   ]
  },
  {
   "cell_type": "code",
   "execution_count": 23,
   "metadata": {},
   "outputs": [
    {
     "name": "stdout",
     "output_type": "stream",
     "text": [
      "<class 'pandas.core.frame.DataFrame'>\n",
      "Int64Index: 89517 entries, 145 to 6841787\n",
      "Data columns (total 9 columns):\n",
      " #   Column             Non-Null Count  Dtype  \n",
      "---  ------             --------------  -----  \n",
      " 0   npi                89517 non-null  object \n",
      " 1   nppes_entity_code  89517 non-null  object \n",
      " 2   place_of_service   89517 non-null  object \n",
      " 3   hcpcs_code         89517 non-null  object \n",
      " 4   avg_med_amt_17     89517 non-null  float64\n",
      " 5   avg_med_amt_16     89517 non-null  float64\n",
      " 6   avg_med_amt_15     89517 non-null  float64\n",
      " 7   ZIP                89517 non-null  object \n",
      " 8   CBSA               89517 non-null  object \n",
      "dtypes: float64(3), object(6)\n",
      "memory usage: 6.8+ MB\n",
      "None\n",
      "(89517, 9)\n"
     ]
    }
   ],
   "source": [
    "phys_atl_med = phys_atl_join.drop(columns={'nppes_provider_last_org_name', 'nppes_provider_zip', 'nppes_provider_state', 'provider_type', 'srvc_cnt_17', 'srvc_cnt_16', 'srvc_cnt_15'})\n",
    "print(phys_atl_med.info())\n",
    "print(np.shape(phys_atl_med))"
   ]
  },
  {
   "cell_type": "code",
   "execution_count": 24,
   "metadata": {},
   "outputs": [
    {
     "name": "stdout",
     "output_type": "stream",
     "text": [
      "(37241, 9)\n"
     ]
    }
   ],
   "source": [
    "phys_houmed_indv_F = phys_hou_med[phys_hou_med['nppes_entity_code'] == 'I']\n",
    "phys_houmed_indv_F = phys_houmed_indv_F[phys_houmed_indv_F['place_of_service'] == 'F']\n",
    "print(np.shape(phys_houmed_indv_F))"
   ]
  },
  {
   "cell_type": "code",
   "execution_count": 25,
   "metadata": {},
   "outputs": [
    {
     "name": "stdout",
     "output_type": "stream",
     "text": [
      "(32704, 9)\n"
     ]
    }
   ],
   "source": [
    "phys_atlmed_indv_F = phys_atl_med[phys_atl_med['nppes_entity_code'] == 'I']\n",
    "phys_atlmed_indv_F = phys_atlmed_indv_F[phys_atlmed_indv_F['place_of_service'] == 'F']\n",
    "print(np.shape(phys_atlmed_indv_F))"
   ]
  },
  {
   "cell_type": "code",
   "execution_count": 26,
   "metadata": {},
   "outputs": [
    {
     "name": "stdout",
     "output_type": "stream",
     "text": [
      "     hcpcs_code  avg_med_amt_17  avg_med_amt_16  avg_med_amt_15\n",
      "0         00103      111.036333      108.353718      117.273093\n",
      "1         00104      124.963153      122.244005      126.870697\n",
      "2         00140      103.537808      103.893620      111.236905\n",
      "3         00142       90.166320       91.272302       91.684099\n",
      "4         00144      120.917274      128.910031      138.375944\n",
      "...         ...             ...             ...             ...\n",
      "1090      G0416      187.101458      158.449444      182.472214\n",
      "1091      G0439      119.150000      118.720000      119.343333\n",
      "1092      G0452       18.962224       18.916011       19.312164\n",
      "1093      G0453       33.200823       33.167248       33.143798\n",
      "1094      G6002       21.146536       20.714108       20.686417\n",
      "\n",
      "[1095 rows x 4 columns]\n"
     ]
    }
   ],
   "source": [
    "phys_houmed_if_group = phys_houmed_indv_F.groupby('hcpcs_code').mean()\n",
    "phys_houmed_if_group = phys_houmed_if_group.reset_index()\n",
    "print(phys_houmed_if_group)"
   ]
  },
  {
   "cell_type": "code",
   "execution_count": 27,
   "metadata": {},
   "outputs": [
    {
     "name": "stdout",
     "output_type": "stream",
     "text": [
      "    hcpcs_code  avg_med_amt_17  avg_med_amt_16  avg_med_amt_15\n",
      "0        00103      112.904862      113.820997      118.505054\n",
      "1        00104       78.698307       77.023273       80.047849\n",
      "2        00140      105.368367      105.066300      108.295158\n",
      "3        00142       78.301327       79.124825       79.967937\n",
      "4        00144      117.964562      116.293238      118.621088\n",
      "..         ...             ...             ...             ...\n",
      "912      G0452       18.650102       18.620000       19.004109\n",
      "913      G0453       33.085413       32.782041       32.918209\n",
      "914      G6002       20.736576       25.440975       34.491787\n",
      "915      Q0091       18.140000       18.050000       18.063430\n",
      "916      Q3014       24.841695       22.810000       22.675000\n",
      "\n",
      "[917 rows x 4 columns]\n"
     ]
    }
   ],
   "source": [
    "phys_atlmed_if_group = phys_atlmed_indv_F.groupby('hcpcs_code').mean()\n",
    "phys_atlmed_if_group = phys_atlmed_if_group.reset_index()\n",
    "print(phys_atlmed_if_group)"
   ]
  },
  {
   "cell_type": "code",
   "execution_count": 28,
   "metadata": {},
   "outputs": [],
   "source": [
    "phys_houmed_if_group['16/17_med_chng'] = abs(phys_houmed_if_group['avg_med_amt_17'] - phys_houmed_if_group['avg_med_amt_16'])\n",
    "phys_houmed_if_group['15/16_med_chng'] = abs(phys_houmed_if_group['avg_med_amt_16'] - phys_houmed_if_group['avg_med_amt_15'])\n",
    "phys_houmed_if_group['15/17_med_chng'] = abs(phys_houmed_if_group['avg_med_amt_17'] - phys_houmed_if_group['avg_med_amt_15'])"
   ]
  },
  {
   "cell_type": "code",
   "execution_count": 29,
   "metadata": {},
   "outputs": [],
   "source": [
    "phys_atlmed_if_group['16/17_med_chng'] = abs(phys_atlmed_if_group['avg_med_amt_17'] - phys_atlmed_if_group['avg_med_amt_16'])\n",
    "phys_atlmed_if_group['15/16_med_chng'] = abs(phys_atlmed_if_group['avg_med_amt_16'] - phys_atlmed_if_group['avg_med_amt_15'])\n",
    "phys_atlmed_if_group['15/17_med_chng'] = abs(phys_atlmed_if_group['avg_med_amt_17'] - phys_atlmed_if_group['avg_med_amt_15'])"
   ]
  },
  {
   "cell_type": "code",
   "execution_count": 30,
   "metadata": {},
   "outputs": [
    {
     "name": "stdout",
     "output_type": "stream",
     "text": [
      "    hcpcs_code  avg_med_amt_17  avg_med_amt_15  15/17_med_chng\n",
      "384      47135     4318.622196     3597.041699      721.580497\n",
      "546      67228      289.937857      917.211747      627.273890\n",
      "419      51999     3141.658500     2517.003333      624.655167\n",
      "258      33418     1184.370000     1672.071923      487.701923\n",
      "470      61867     2850.853000     2425.559310      425.293690\n"
     ]
    }
   ],
   "source": [
    "phys_houmed_if_1517 = phys_houmed_if_group.sort_values(by=['15/17_med_chng'], ascending=False).head()\n",
    "phys_houmed_if_1517 = phys_houmed_if_1517.drop(columns={'avg_med_amt_16', '15/16_med_chng', '16/17_med_chng'})\n",
    "print(phys_houmed_if_1517)"
   ]
  },
  {
   "cell_type": "code",
   "execution_count": null,
   "metadata": {},
   "outputs": [],
   "source": []
  }
 ],
 "metadata": {
  "kernelspec": {
   "display_name": "Python 3",
   "language": "python",
   "name": "python3"
  },
  "language_info": {
   "codemirror_mode": {
    "name": "ipython",
    "version": 3
   },
   "file_extension": ".py",
   "mimetype": "text/x-python",
   "name": "python",
   "nbconvert_exporter": "python",
   "pygments_lexer": "ipython3",
   "version": "3.7.6"
  }
 },
 "nbformat": 4,
 "nbformat_minor": 4
}
