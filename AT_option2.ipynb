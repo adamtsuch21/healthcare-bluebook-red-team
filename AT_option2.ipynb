{
 "cells": [
  {
   "cell_type": "code",
   "execution_count": 1,
   "metadata": {},
   "outputs": [],
   "source": [
    "import pandas as pd\n",
    "import numpy as np\n",
    "import matplotlib.pyplot as plt\n",
    "import seaborn as sns"
   ]
  },
  {
   "cell_type": "code",
   "execution_count": 2,
   "metadata": {},
   "outputs": [],
   "source": [
    "phys_supp_17 = pd.read_csv(\"/Users/adamtsuchiyama/Documents/healthcare-bluebook-red-team/data/Medicare_Provider_Util_Payment_PUF_CY2017.txt\", sep='\\t', usecols=['npi', 'nppes_provider_last_org_name', 'nppes_entity_code', 'nppes_provider_zip', 'nppes_provider_state', 'provider_type', 'place_of_service', 'hcpcs_code', 'bene_day_srvc_cnt', 'average_Medicare_allowed_amt'], dtype={'npi': str, 'nppes_provider_last_org_name' : str, 'nppes_entity_code' : str, 'nppes_provider_zip' : str, 'nppes_provider_state' : str, 'provider_type' : str, 'place_of_service' : str, 'hcpcs_code' : str, 'bene_day_srvc_cnt' : float, 'average_Medicare_allowed_amt' : float})\n",
    "\n"
   ]
  },
  {
   "cell_type": "code",
   "execution_count": 3,
   "metadata": {},
   "outputs": [],
   "source": [
    "phys_supp_16 = pd.read_csv(\"/Users/adamtsuchiyama/Documents/healthcare-bluebook-red-team/data/Medicare_Provider_Util_Payment_PUF_CY2016.txt\", sep='\\t', usecols=['NPI','NPPES_PROVIDER_ZIP', 'PLACE_OF_SERVICE', 'HCPCS_CODE', 'BENE_DAY_SRVC_CNT', 'AVERAGE_MEDICARE_ALLOWED_AMT'], dtype={'NPI': str, 'NPPES_PROVIDER_ZIP' : str, 'PLACE_OF_SERVICE' : str, 'HCPCS_CODE' : str, 'BENE_DAY_SRVC_CNT' : float, 'AVERAGE_MEDICARE_ALLOWED_AMT' : float})\n",
    "\n"
   ]
  },
  {
   "cell_type": "code",
   "execution_count": 4,
   "metadata": {},
   "outputs": [],
   "source": [
    "phys_supp_15 = pd.read_csv(\"/Users/adamtsuchiyama/Documents/healthcare-bluebook-red-team/data/Medicare_Provider_Util_Payment_PUF_CY2015.txt\", sep='\\t', usecols=['npi', 'nppes_provider_zip', 'place_of_service', 'hcpcs_code', 'bene_day_srvc_cnt', 'average_Medicare_allowed_amt'], dtype={'npi': str, 'nppes_provider_zip' : str, 'place_of_service' : str, 'hcpcs_code' : str, 'bene_day_srvc_cnt' : float, 'average_Medicare_allowed_amt' : float})\n",
    "\n"
   ]
  },
  {
   "cell_type": "code",
   "execution_count": 5,
   "metadata": {},
   "outputs": [],
   "source": [
    "zip_cbsa = pd.read_excel(\"/Users/adamtsuchiyama/Documents/healthcare-bluebook-red-team/data/ZIP_CBSA_032020.xlsx\", usecols=['ZIP', 'CBSA'], dtype={'ZIP' : str, 'CBSA' : str})"
   ]
  },
  {
   "cell_type": "code",
   "execution_count": 6,
   "metadata": {},
   "outputs": [],
   "source": [
    "apc_cw = pd.read_excel(\"/Users/adamtsuchiyama/Documents/healthcare-bluebook-red-team/data/2020_january_web_addendum_b.12312019.xlsx\", header=2, usecols=['HCPCS Code', 'APC '], dtype={'HCPCS Code' : str, 'APC ' : str})"
   ]
  },
  {
   "cell_type": "code",
   "execution_count": 7,
   "metadata": {},
   "outputs": [],
   "source": [
    "apc_cw = apc_cw.rename(columns={'APC ' : 'APC'})"
   ]
  },
  {
   "cell_type": "code",
   "execution_count": 8,
   "metadata": {},
   "outputs": [],
   "source": [
    "phys_supp_17.columns = map(str.lower, phys_supp_17.columns)\n",
    "phys_supp_16.columns = map(str.lower, phys_supp_16.columns)\n",
    "phys_supp_15.columns = map(str.lower, phys_supp_15.columns)"
   ]
  },
  {
   "cell_type": "code",
   "execution_count": 9,
   "metadata": {
    "scrolled": true
   },
   "outputs": [
    {
     "name": "stdout",
     "output_type": "stream",
     "text": [
      "<class 'pandas.core.frame.DataFrame'>\n",
      "RangeIndex: 9847444 entries, 0 to 9847443\n",
      "Data columns (total 10 columns):\n",
      " #   Column                        Dtype  \n",
      "---  ------                        -----  \n",
      " 0   npi                           object \n",
      " 1   nppes_provider_last_org_name  object \n",
      " 2   nppes_entity_code             object \n",
      " 3   nppes_provider_zip            object \n",
      " 4   nppes_provider_state          object \n",
      " 5   provider_type                 object \n",
      " 6   place_of_service              object \n",
      " 7   hcpcs_code                    object \n",
      " 8   srvc_cnt_17                   float64\n",
      " 9   avg_med_amt_17                float64\n",
      "dtypes: float64(2), object(8)\n",
      "memory usage: 751.3+ MB\n",
      "None\n",
      "<class 'pandas.core.frame.DataFrame'>\n",
      "RangeIndex: 9714897 entries, 0 to 9714896\n",
      "Data columns (total 6 columns):\n",
      " #   Column              Dtype  \n",
      "---  ------              -----  \n",
      " 0   npi                 object \n",
      " 1   nppes_provider_zip  object \n",
      " 2   place_of_service    object \n",
      " 3   hcpcs_code          object \n",
      " 4   srvc_cnt_16         float64\n",
      " 5   avg_med_amt_16      float64\n",
      "dtypes: float64(2), object(4)\n",
      "memory usage: 444.7+ MB\n",
      "None\n",
      "<class 'pandas.core.frame.DataFrame'>\n",
      "RangeIndex: 9497892 entries, 0 to 9497891\n",
      "Data columns (total 6 columns):\n",
      " #   Column              Dtype  \n",
      "---  ------              -----  \n",
      " 0   npi                 object \n",
      " 1   nppes_provider_zip  object \n",
      " 2   place_of_service    object \n",
      " 3   hcpcs_code          object \n",
      " 4   srvc_cnt_15         float64\n",
      " 5   avg_med_amt_15      float64\n",
      "dtypes: float64(2), object(4)\n",
      "memory usage: 434.8+ MB\n",
      "None\n"
     ]
    }
   ],
   "source": [
    "phys_supp_17 = phys_supp_17.rename(columns={'bene_day_srvc_cnt' : 'srvc_cnt_17', 'average_medicare_allowed_amt' : 'avg_med_amt_17'})\n",
    "phys_supp_16 = phys_supp_16.rename(columns={'bene_day_srvc_cnt' : 'srvc_cnt_16', 'average_medicare_allowed_amt' : 'avg_med_amt_16'})\n",
    "phys_supp_15 = phys_supp_15.rename(columns={'bene_day_srvc_cnt' : 'srvc_cnt_15', 'average_medicare_allowed_amt' : 'avg_med_amt_15'})\n",
    "print(phys_supp_17.info())\n",
    "print(phys_supp_16.info())\n",
    "print(phys_supp_15.info())\n"
   ]
  },
  {
   "cell_type": "code",
   "execution_count": 215,
   "metadata": {},
   "outputs": [
    {
     "name": "stdout",
     "output_type": "stream",
     "text": [
      "          npi                       nppes_provider_last_org_name  \\\n",
      "0  0000000001  CPT copyright 2016 American Medical Associatio...   \n",
      "1  1003000126                                          ENKESHAFI   \n",
      "2  1003000126                                          ENKESHAFI   \n",
      "3  1003000126                                          ENKESHAFI   \n",
      "4  1003000126                                          ENKESHAFI   \n",
      "\n",
      "  nppes_entity_code nppes_provider_zip_x nppes_provider_state  \\\n",
      "0               NaN                  NaN                  NaN   \n",
      "1                 I            215021854                   MD   \n",
      "2                 I            215021854                   MD   \n",
      "3                 I            215021854                   MD   \n",
      "4                 I            215021854                   MD   \n",
      "\n",
      "       provider_type place_of_service hcpcs_code  srvc_cnt_17  avg_med_amt_17  \\\n",
      "0                NaN              NaN        NaN          NaN             NaN   \n",
      "1  Internal Medicine                F      99217        100.0       73.398800   \n",
      "2  Internal Medicine                F      99219         52.0      136.380000   \n",
      "3  Internal Medicine                F      99220         59.0      190.363729   \n",
      "4  Internal Medicine                F      99221         16.0      101.680000   \n",
      "\n",
      "  nppes_provider_zip_y  srvc_cnt_16  avg_med_amt_16  \n",
      "0                  NaN          NaN             NaN  \n",
      "1            215021854         57.0       72.743158  \n",
      "2            215021854         38.0      135.010000  \n",
      "3            215021854         23.0      189.239565  \n",
      "4            215021854         20.0      100.750000  \n"
     ]
    }
   ],
   "source": [
    "phys_join = pd.merge(phys_supp_17, phys_supp_16, how='inner', on=['npi', 'place_of_service' ,'hcpcs_code'])\n",
    "print(phys_join.head())"
   ]
  },
  {
   "cell_type": "code",
   "execution_count": 216,
   "metadata": {
    "scrolled": true
   },
   "outputs": [
    {
     "name": "stdout",
     "output_type": "stream",
     "text": [
      "          npi                       nppes_provider_last_org_name  \\\n",
      "0  0000000001  CPT copyright 2016 American Medical Associatio...   \n",
      "1  1003000126                                          ENKESHAFI   \n",
      "2  1003000126                                          ENKESHAFI   \n",
      "3  1003000126                                          ENKESHAFI   \n",
      "4  1003000126                                          ENKESHAFI   \n",
      "\n",
      "  nppes_entity_code nppes_provider_state      provider_type place_of_service  \\\n",
      "0               NaN                  NaN                NaN              NaN   \n",
      "1                 I                   MD  Internal Medicine                F   \n",
      "2                 I                   MD  Internal Medicine                F   \n",
      "3                 I                   MD  Internal Medicine                F   \n",
      "4                 I                   MD  Internal Medicine                F   \n",
      "\n",
      "  hcpcs_code  srvc_cnt_17  avg_med_amt_17  srvc_cnt_16  avg_med_amt_16  \\\n",
      "0        NaN          NaN             NaN          NaN             NaN   \n",
      "1      99217        100.0         73.3988         57.0       72.743158   \n",
      "2      99219         52.0        136.3800         38.0      135.010000   \n",
      "3      99221         16.0        101.6800         20.0      100.750000   \n",
      "4      99222         59.0        137.3100         96.0      136.250000   \n",
      "\n",
      "  nppes_provider_zip  srvc_cnt_15  avg_med_amt_15  \n",
      "0                NaN          NaN             NaN  \n",
      "1          215021854         23.0       72.680000  \n",
      "2          215021854         18.0      135.850000  \n",
      "3          215021854         59.0      101.365085  \n",
      "4          215021854        132.0      139.010455  \n"
     ]
    }
   ],
   "source": [
    "phys_join = pd.merge(phys_join, phys_supp_15, how='inner', on=['npi', 'place_of_service' ,'hcpcs_code'])\n",
    "phys_join = phys_join.drop(columns={'nppes_provider_zip_x', 'nppes_provider_zip_y'})\n",
    "print(phys_join.head())"
   ]
  },
  {
   "cell_type": "code",
   "execution_count": 217,
   "metadata": {},
   "outputs": [],
   "source": [
    "phys_join['ZIP'] = phys_join['nppes_provider_zip'].str[:5]"
   ]
  },
  {
   "cell_type": "code",
   "execution_count": 218,
   "metadata": {},
   "outputs": [],
   "source": [
    "phys_join = pd.merge(phys_join, zip_cbsa, how='left', on='ZIP')"
   ]
  },
  {
   "cell_type": "code",
   "execution_count": 219,
   "metadata": {},
   "outputs": [
    {
     "name": "stdout",
     "output_type": "stream",
     "text": [
      "<class 'pandas.core.frame.DataFrame'>\n",
      "Int64Index: 6842256 entries, 0 to 6842255\n",
      "Data columns (total 9 columns):\n",
      " #   Column             Dtype  \n",
      "---  ------             -----  \n",
      " 0   npi                object \n",
      " 1   nppes_entity_code  object \n",
      " 2   place_of_service   object \n",
      " 3   hcpcs_code         object \n",
      " 4   avg_med_amt_17     float64\n",
      " 5   avg_med_amt_16     float64\n",
      " 6   avg_med_amt_15     float64\n",
      " 7   ZIP                object \n",
      " 8   CBSA               object \n",
      "dtypes: float64(3), object(6)\n",
      "memory usage: 522.0+ MB\n",
      "None\n",
      "(6842256, 9)\n"
     ]
    }
   ],
   "source": [
    "phys_join_med = phys_join.drop(columns={'nppes_provider_last_org_name', 'nppes_provider_zip', 'nppes_provider_state', 'provider_type', 'srvc_cnt_17', 'srvc_cnt_16', 'srvc_cnt_15'})\n",
    "print(phys_join_med.info())\n",
    "print(np.shape(phys_join_med))\n",
    "\n"
   ]
  },
  {
   "cell_type": "code",
   "execution_count": 220,
   "metadata": {},
   "outputs": [
    {
     "name": "stdout",
     "output_type": "stream",
     "text": [
      "(6497275, 9)\n"
     ]
    }
   ],
   "source": [
    "phys_med_indv_O = phys_join_med[phys_join_med['nppes_entity_code'] == 'I']\n",
    "print(np.shape(phys_med_indv_O))"
   ]
  },
  {
   "cell_type": "code",
   "execution_count": 221,
   "metadata": {},
   "outputs": [
    {
     "name": "stdout",
     "output_type": "stream",
     "text": [
      "(2531443, 9)\n"
     ]
    }
   ],
   "source": [
    "phys_med_indv_F = phys_med_indv_O[phys_med_indv_O['place_of_service'] == 'F']\n",
    "print(np.shape(phys_med_indv_F))"
   ]
  },
  {
   "cell_type": "code",
   "execution_count": 222,
   "metadata": {},
   "outputs": [
    {
     "name": "stdout",
     "output_type": "stream",
     "text": [
      "(3965832, 9)\n"
     ]
    }
   ],
   "source": [
    "phys_med_indv_O = phys_med_indv_O[phys_med_indv_O['place_of_service'] == 'O']\n",
    "print(np.shape(phys_med_indv_O))"
   ]
  },
  {
   "cell_type": "code",
   "execution_count": 223,
   "metadata": {},
   "outputs": [
    {
     "name": "stdout",
     "output_type": "stream",
     "text": [
      "(344980, 9)\n"
     ]
    }
   ],
   "source": [
    "phys_med_org_O = phys_join_med[phys_join_med['nppes_entity_code'] == 'O']\n",
    "print(np.shape(phys_med_org_O))"
   ]
  },
  {
   "cell_type": "code",
   "execution_count": 224,
   "metadata": {},
   "outputs": [
    {
     "name": "stdout",
     "output_type": "stream",
     "text": [
      "(82129, 9)\n"
     ]
    }
   ],
   "source": [
    "phys_med_org_F = phys_med_org_O[phys_med_org_O['place_of_service'] == 'F']\n",
    "print(np.shape(phys_med_org_F))"
   ]
  },
  {
   "cell_type": "code",
   "execution_count": 225,
   "metadata": {},
   "outputs": [
    {
     "name": "stdout",
     "output_type": "stream",
     "text": [
      "(262851, 9)\n"
     ]
    }
   ],
   "source": [
    "phys_med_org_O = phys_med_org_O[phys_med_org_O['place_of_service'] == 'O']\n",
    "print(np.shape(phys_med_org_O))"
   ]
  },
  {
   "cell_type": "code",
   "execution_count": 226,
   "metadata": {},
   "outputs": [
    {
     "name": "stdout",
     "output_type": "stream",
     "text": [
      "     hcpcs_code  avg_med_amt_17  avg_med_amt_16  avg_med_amt_15\n",
      "0         00103      242.459405      225.736845      263.455662\n",
      "1         00142       82.209689       83.102839       84.455969\n",
      "2         00160      213.750445      215.261039      216.226974\n",
      "3         00170      131.820746      126.353729      137.007402\n",
      "4         00300      138.754830      141.416685      147.488827\n",
      "...         ...             ...             ...             ...\n",
      "3163      Q9967        0.123271        0.124421        0.152255\n",
      "3164      Q9969        9.703697        9.743506       12.541174\n",
      "3165      R0070      222.432805      220.546799      219.447497\n",
      "3166      R0075       87.831579       91.664589       85.652551\n",
      "3167      V2632      113.830000      113.040000      113.490000\n",
      "\n",
      "[3168 rows x 4 columns]\n"
     ]
    }
   ],
   "source": [
    "phys_med_io_group = phys_med_indv_O.groupby('hcpcs_code').mean()\n",
    "phys_med_io_group = phys_med_io_group.reset_index()\n",
    "print(phys_med_io_group)"
   ]
  },
  {
   "cell_type": "code",
   "execution_count": 227,
   "metadata": {},
   "outputs": [],
   "source": [
    "phys_med_io_group['16/17_med_chng'] = abs(phys_med_io_group['avg_med_amt_17'] - phys_med_io_group['avg_med_amt_16'])\n",
    "phys_med_io_group['15/16_med_chng'] = abs(phys_med_io_group['avg_med_amt_16'] - phys_med_io_group['avg_med_amt_15'])\n",
    "phys_med_io_group['15/17_med_chng'] = abs(phys_med_io_group['avg_med_amt_17'] - phys_med_io_group['avg_med_amt_15'])"
   ]
  },
  {
   "cell_type": "code",
   "execution_count": 228,
   "metadata": {},
   "outputs": [
    {
     "name": "stdout",
     "output_type": "stream",
     "text": [
      "     hcpcs_code  avg_med_amt_17  avg_med_amt_15  15/17_med_chng\n",
      "3035      J7192    17895.679067    33345.018081    15449.339014\n",
      "3120      Q2043    39255.403622    35877.310500     3378.093122\n",
      "609       41530      946.850260     3105.401348     2158.551088\n",
      "2861      J0600     1933.008855      225.866088     1707.142767\n",
      "3092      J9999     1746.413318      465.466032     1280.947286\n"
     ]
    }
   ],
   "source": [
    "phys_med_io_1517 = phys_med_io_group.sort_values(by=['15/17_med_chng'], ascending=False).head()\n",
    "phys_med_io_1517 = phys_med_io_1517.drop(columns={'avg_med_amt_16', '15/16_med_chng', '16/17_med_chng'})\n",
    "print(phys_med_io_1517)"
   ]
  },
  {
   "cell_type": "code",
   "execution_count": 229,
   "metadata": {},
   "outputs": [
    {
     "name": "stdout",
     "output_type": "stream",
     "text": [
      "     hcpcs_code  avg_med_amt_17  avg_med_amt_16  avg_med_amt_15  \\\n",
      "609       41530      946.850260      943.177983     3105.401348   \n",
      "2861      J0600     1933.008855     1735.182012      225.866088   \n",
      "3035      J7192    17895.679067      324.885624    33345.018081   \n",
      "3092      J9999     1746.413318     1439.377377      465.466032   \n",
      "3120      Q2043    39255.403622    37640.843298    35877.310500   \n",
      "\n",
      "      16/17_med_chng  15/16_med_chng  15/17_med_chng  \n",
      "609         3.672277     2162.223365     2158.551088  \n",
      "2861      197.826843     1509.315924     1707.142767  \n",
      "3035    17570.793443    33020.132458    15449.339014  \n",
      "3092      307.035941      973.911345     1280.947286  \n",
      "3120     1614.560324     1763.532799     3378.093122  \n"
     ]
    }
   ],
   "source": [
    "phys_med_io_top5 = phys_med_io_group[phys_med_io_group[\"hcpcs_code\"].isin(['J7192', 'Q2043', '41530', 'J0600', 'J9999'])]\n",
    "print(phys_med_io_top5)"
   ]
  },
  {
   "cell_type": "code",
   "execution_count": 230,
   "metadata": {},
   "outputs": [
    {
     "name": "stdout",
     "output_type": "stream",
     "text": [
      "     hcpcs_code  avg_med_amt_17  avg_med_amt_16  avg_med_amt_15\n",
      "0         00103      154.717654      152.094815      157.181461\n",
      "1         00104       81.237561       80.954174       82.902766\n",
      "2         00120      185.990211      187.184187      197.825921\n",
      "3         00126       77.143073       77.420606       81.089396\n",
      "4         00140      140.357408      140.017159      147.483015\n",
      "...         ...             ...             ...             ...\n",
      "3065      Q4110       66.587918       39.104372       37.115946\n",
      "3066      Q9962        0.209927        0.200000        0.200000\n",
      "3067      Q9965        0.832785        0.854934        0.986658\n",
      "3068      Q9967        0.125239        0.124301        0.152614\n",
      "3069      R0070      211.460000      209.370000      206.069041\n",
      "\n",
      "[3070 rows x 4 columns]\n"
     ]
    }
   ],
   "source": [
    "phys_med_if_group = phys_med_indv_F.groupby('hcpcs_code').mean()\n",
    "phys_med_if_group = phys_med_if_group.reset_index()\n",
    "print(phys_med_if_group)"
   ]
  },
  {
   "cell_type": "code",
   "execution_count": 231,
   "metadata": {},
   "outputs": [],
   "source": [
    "phys_med_if_group['16/17_med_chng'] = abs(phys_med_if_group['avg_med_amt_17'] - phys_med_if_group['avg_med_amt_16'])\n",
    "phys_med_if_group['15/16_med_chng'] = abs(phys_med_if_group['avg_med_amt_16'] - phys_med_if_group['avg_med_amt_15'])\n",
    "phys_med_if_group['15/17_med_chng'] = abs(phys_med_if_group['avg_med_amt_17'] - phys_med_if_group['avg_med_amt_15'])"
   ]
  },
  {
   "cell_type": "code",
   "execution_count": 232,
   "metadata": {},
   "outputs": [
    {
     "name": "stdout",
     "output_type": "stream",
     "text": [
      "     hcpcs_code  avg_med_amt_17  avg_med_amt_15  15/17_med_chng\n",
      "1666      61592     1425.524706     2106.550741      681.026035\n",
      "1920      67228      309.887455      959.525858      649.638404\n",
      "1467      50820     1906.702727     1310.598636      596.104091\n",
      "1503      51999     2171.255375     1631.389033      539.866342\n",
      "848       31599     1031.115545      560.512778      470.602767\n"
     ]
    }
   ],
   "source": [
    "phys_med_if_1517 = phys_med_if_group.sort_values(by=['15/17_med_chng'], ascending=False).head()\n",
    "phys_med_if_1517 = phys_med_if_1517.drop(columns={'avg_med_amt_16', '15/16_med_chng', '16/17_med_chng'})\n",
    "print(phys_med_if_1517)"
   ]
  },
  {
   "cell_type": "code",
   "execution_count": 233,
   "metadata": {},
   "outputs": [
    {
     "name": "stdout",
     "output_type": "stream",
     "text": [
      "     hcpcs_code  avg_med_amt_17  avg_med_amt_16  avg_med_amt_15  \\\n",
      "848       31599     1031.115545      580.396331      560.512778   \n",
      "1467      50820     1906.702727     1792.720937     1310.598636   \n",
      "1503      51999     2171.255375     1845.089073     1631.389033   \n",
      "1666      61592     1425.524706     2044.420571     2106.550741   \n",
      "1920      67228      309.887455      309.744853      959.525858   \n",
      "\n",
      "      16/17_med_chng  15/16_med_chng  15/17_med_chng  \n",
      "848       450.719214       19.883553      470.602767  \n",
      "1467      113.981790      482.122301      596.104091  \n",
      "1503      326.166302      213.700039      539.866342  \n",
      "1666      618.895866       62.130169      681.026035  \n",
      "1920        0.142601      649.781005      649.638404  \n"
     ]
    }
   ],
   "source": [
    "phys_med_if_top5 = phys_med_if_group[phys_med_if_group[\"hcpcs_code\"].isin(['61592', '67228', '50820', '51999', '31599'])]\n",
    "print(phys_med_if_top5)"
   ]
  },
  {
   "cell_type": "code",
   "execution_count": 234,
   "metadata": {
    "scrolled": true
   },
   "outputs": [
    {
     "name": "stdout",
     "output_type": "stream",
     "text": [
      "     hcpcs_code  avg_med_amt_17  avg_med_amt_16  avg_med_amt_15\n",
      "0         0159T       12.945800       13.104211       12.013852\n",
      "1         0297T      335.272381      320.057977      315.872825\n",
      "2         0379T       74.378447       74.229995       74.230000\n",
      "3         10022      145.493419      145.813333      146.579176\n",
      "4         19083      602.640000      596.460000      579.040909\n",
      "...         ...             ...             ...             ...\n",
      "1491      Q9965        0.823380        0.856529        0.971121\n",
      "1492      Q9966        0.253390        0.174300        0.195898\n",
      "1493      Q9967        0.127954        0.126395        0.152965\n",
      "1494      R0070      179.270707      177.991836      177.270363\n",
      "1495      R0075       76.831816       76.360005       75.941786\n",
      "\n",
      "[1496 rows x 4 columns]\n"
     ]
    }
   ],
   "source": [
    "phys_med_oo_group = phys_med_org_O.groupby('hcpcs_code').mean()\n",
    "phys_med_oo_group = phys_med_oo_group.reset_index()\n",
    "print(phys_med_oo_group)"
   ]
  },
  {
   "cell_type": "code",
   "execution_count": 235,
   "metadata": {},
   "outputs": [],
   "source": [
    "phys_med_oo_group['16/17_med_chng'] = abs(phys_med_oo_group['avg_med_amt_17'] - phys_med_oo_group['avg_med_amt_16'])\n",
    "phys_med_oo_group['15/16_med_chng'] = abs(phys_med_oo_group['avg_med_amt_16'] - phys_med_oo_group['avg_med_amt_15'])\n",
    "phys_med_oo_group['15/17_med_chng'] = abs(phys_med_oo_group['avg_med_amt_17'] - phys_med_oo_group['avg_med_amt_15'])"
   ]
  },
  {
   "cell_type": "code",
   "execution_count": 236,
   "metadata": {},
   "outputs": [
    {
     "name": "stdout",
     "output_type": "stream",
     "text": [
      "     hcpcs_code  avg_med_amt_17  avg_med_amt_15  15/17_med_chng\n",
      "1444      J7187    42280.125522    23863.910069    18416.215453\n",
      "1445      J7190        2.195144     7549.290722     7547.095578\n",
      "1447      J7195    25003.926636    30536.542002     5532.615366\n",
      "1446      J7192    17266.087675    19813.444168     2547.356493\n",
      "253       77371     1772.950000      742.704444     1030.245556\n"
     ]
    }
   ],
   "source": [
    "phys_med_oo_1517 = phys_med_oo_group.sort_values(by=['15/17_med_chng'], ascending=False).head()\n",
    "phys_med_oo_1517 = phys_med_oo_1517.drop(columns={'avg_med_amt_16', '15/16_med_chng', '16/17_med_chng'})\n",
    "print(phys_med_oo_1517)"
   ]
  },
  {
   "cell_type": "code",
   "execution_count": 237,
   "metadata": {},
   "outputs": [
    {
     "name": "stdout",
     "output_type": "stream",
     "text": [
      "     hcpcs_code  avg_med_amt_17  avg_med_amt_16  avg_med_amt_15  \\\n",
      "253       77371     1772.950000     1735.268750      742.704444   \n",
      "1444      J7187    42280.125522    34201.918387    23863.910069   \n",
      "1445      J7190        2.195144     5206.283813     7549.290722   \n",
      "1446      J7192    17266.087675    21000.894385    19813.444168   \n",
      "1447      J7195    25003.926636    29024.583734    30536.542002   \n",
      "\n",
      "      16/17_med_chng  15/16_med_chng  15/17_med_chng  \n",
      "253        37.681250      992.564306     1030.245556  \n",
      "1444     8078.207135    10338.008318    18416.215453  \n",
      "1445     5204.088669     2343.006909     7547.095578  \n",
      "1446     3734.806709     1187.450217     2547.356493  \n",
      "1447     4020.657099     1511.958268     5532.615366  \n"
     ]
    }
   ],
   "source": [
    "phys_med_oo_top5 = phys_med_oo_group[phys_med_oo_group[\"hcpcs_code\"].isin(['J7187', 'J7190', 'J7195', 'J7192', '77371'])]\n",
    "print(phys_med_oo_top5)"
   ]
  },
  {
   "cell_type": "code",
   "execution_count": 238,
   "metadata": {},
   "outputs": [
    {
     "name": "stdout",
     "output_type": "stream",
     "text": [
      "    hcpcs_code  avg_med_amt_17  avg_med_amt_16  avg_med_amt_15\n",
      "0        0191T     2596.529464     1815.056496     1733.284501\n",
      "1        10022      100.968646      100.540024      100.962067\n",
      "2        11012      675.319333      567.479412      249.786667\n",
      "3        11042      128.391999      105.670336      138.334541\n",
      "4        11043      191.265589      188.126469      133.457044\n",
      "..         ...             ...             ...             ...\n",
      "991      Q0092       25.458637       25.485955       25.490223\n",
      "992      Q2037       17.690000       16.280000       15.830000\n",
      "993      R0070      182.340787      180.869384      180.268324\n",
      "994      R0075       82.599440       81.751214       83.108256\n",
      "995      V2785     3871.247952     3812.453578     3291.658953\n",
      "\n",
      "[996 rows x 4 columns]\n"
     ]
    }
   ],
   "source": [
    "phys_med_of_group = phys_med_org_F.groupby('hcpcs_code').mean()\n",
    "phys_med_of_group = phys_med_of_group.reset_index()\n",
    "print(phys_med_of_group)"
   ]
  },
  {
   "cell_type": "code",
   "execution_count": 239,
   "metadata": {},
   "outputs": [],
   "source": [
    "phys_med_of_group['16/17_med_chng'] = abs(phys_med_of_group['avg_med_amt_17'] - phys_med_of_group['avg_med_amt_16'])\n",
    "phys_med_of_group['15/16_med_chng'] = abs(phys_med_of_group['avg_med_amt_16'] - phys_med_of_group['avg_med_amt_15'])\n",
    "phys_med_of_group['15/17_med_chng'] = abs(phys_med_of_group['avg_med_amt_17'] - phys_med_of_group['avg_med_amt_15'])"
   ]
  },
  {
   "cell_type": "code",
   "execution_count": 240,
   "metadata": {
    "scrolled": true
   },
   "outputs": [
    {
     "name": "stdout",
     "output_type": "stream",
     "text": [
      "    hcpcs_code  avg_med_amt_17  avg_med_amt_15  15/17_med_chng\n",
      "485      64575     9495.304583     4135.850000     5359.454583\n",
      "220      28730     6780.870000     2507.134286     4273.735714\n",
      "282      33264    24362.086026    28020.960000     3658.873974\n",
      "632      69930    30720.781782    27903.864054     2816.917729\n",
      "233      29825     1624.120000     3147.276410     1523.156410\n"
     ]
    }
   ],
   "source": [
    "phys_med_of_1517 = phys_med_of_group.sort_values(by=['15/17_med_chng'], ascending=False).head()\n",
    "phys_med_of_1517 = phys_med_of_1517.drop(columns={'avg_med_amt_16', '15/16_med_chng', '16/17_med_chng'})\n",
    "print(phys_med_of_1517)"
   ]
  },
  {
   "cell_type": "code",
   "execution_count": 241,
   "metadata": {},
   "outputs": [
    {
     "name": "stdout",
     "output_type": "stream",
     "text": [
      "    hcpcs_code  avg_med_amt_17  avg_med_amt_16  avg_med_amt_15  \\\n",
      "220      28730     6780.870000     3329.220000     2507.134286   \n",
      "233      29825     1624.120000     1815.060000     3147.276410   \n",
      "282      33264    24362.086026    26318.603125    28020.960000   \n",
      "485      64575     9495.304583     4330.190000     4135.850000   \n",
      "632      69930    30720.781782    29795.304200    27903.864054   \n",
      "\n",
      "     16/17_med_chng  15/16_med_chng  15/17_med_chng  \n",
      "220     3451.650000      822.085714     4273.735714  \n",
      "233      190.940000     1332.216410     1523.156410  \n",
      "282     1956.517100     1702.356875     3658.873974  \n",
      "485     5165.114583      194.340000     5359.454583  \n",
      "632      925.477582     1891.440146     2816.917729  \n"
     ]
    }
   ],
   "source": [
    "phys_med_of_top5 = phys_med_of_group[phys_med_of_group[\"hcpcs_code\"].isin(['64575', '28730', '33264', '69930', '29825'])]\n",
    "print(phys_med_of_top5)"
   ]
  },
  {
   "cell_type": "code",
   "execution_count": 242,
   "metadata": {},
   "outputs": [
    {
     "name": "stdout",
     "output_type": "stream",
     "text": [
      "<class 'pandas.core.frame.DataFrame'>\n",
      "Int64Index: 6842256 entries, 0 to 6842255\n",
      "Data columns (total 9 columns):\n",
      " #   Column             Dtype  \n",
      "---  ------             -----  \n",
      " 0   npi                object \n",
      " 1   nppes_entity_code  object \n",
      " 2   place_of_service   object \n",
      " 3   hcpcs_code         object \n",
      " 4   srvc_cnt_17        float64\n",
      " 5   srvc_cnt_16        float64\n",
      " 6   srvc_cnt_15        float64\n",
      " 7   ZIP                object \n",
      " 8   CBSA               object \n",
      "dtypes: float64(3), object(6)\n",
      "memory usage: 522.0+ MB\n",
      "None\n",
      "(6842256, 9)\n"
     ]
    }
   ],
   "source": [
    "phys_join_srvc = phys_join.drop(columns={'nppes_provider_last_org_name', 'nppes_provider_zip', 'nppes_provider_state', 'provider_type', 'avg_med_amt_17', 'avg_med_amt_16', 'avg_med_amt_15'})\n",
    "print(phys_join_srvc.info())\n",
    "print(np.shape(phys_join_srvc))"
   ]
  },
  {
   "cell_type": "code",
   "execution_count": 243,
   "metadata": {},
   "outputs": [
    {
     "name": "stdout",
     "output_type": "stream",
     "text": [
      "(6497275, 9)\n"
     ]
    }
   ],
   "source": [
    "phys_srvc_indv_O = phys_join_srvc[phys_join_srvc['nppes_entity_code'] == 'I']\n",
    "print(np.shape(phys_srvc_indv_O))"
   ]
  },
  {
   "cell_type": "code",
   "execution_count": 244,
   "metadata": {},
   "outputs": [
    {
     "name": "stdout",
     "output_type": "stream",
     "text": [
      "(2531443, 9)\n"
     ]
    }
   ],
   "source": [
    "phys_srvc_indv_F = phys_srvc_indv_O[phys_srvc_indv_O['place_of_service'] == 'F']\n",
    "print(np.shape(phys_srvc_indv_F))"
   ]
  },
  {
   "cell_type": "code",
   "execution_count": 245,
   "metadata": {},
   "outputs": [
    {
     "name": "stdout",
     "output_type": "stream",
     "text": [
      "(3965832, 9)\n"
     ]
    }
   ],
   "source": [
    "phys_srvc_indv_O = phys_srvc_indv_O[phys_srvc_indv_O['place_of_service'] == 'O']\n",
    "print(np.shape(phys_srvc_indv_O))"
   ]
  },
  {
   "cell_type": "code",
   "execution_count": 246,
   "metadata": {},
   "outputs": [
    {
     "name": "stdout",
     "output_type": "stream",
     "text": [
      "(344980, 9)\n"
     ]
    }
   ],
   "source": [
    "phys_srvc_org_O = phys_join_srvc[phys_join_srvc['nppes_entity_code'] == 'O']\n",
    "print(np.shape(phys_srvc_org_O))"
   ]
  },
  {
   "cell_type": "code",
   "execution_count": 247,
   "metadata": {},
   "outputs": [
    {
     "name": "stdout",
     "output_type": "stream",
     "text": [
      "(82129, 9)\n"
     ]
    }
   ],
   "source": [
    "phys_srvc_org_F = phys_srvc_org_O[phys_srvc_org_O['place_of_service'] == 'F']\n",
    "print(np.shape(phys_srvc_org_F))"
   ]
  },
  {
   "cell_type": "code",
   "execution_count": 248,
   "metadata": {},
   "outputs": [
    {
     "name": "stdout",
     "output_type": "stream",
     "text": [
      "(262851, 9)\n"
     ]
    }
   ],
   "source": [
    "phys_srvc_org_O = phys_srvc_org_O[phys_srvc_org_O['place_of_service'] == 'O']\n",
    "print(np.shape(phys_srvc_org_O))"
   ]
  },
  {
   "cell_type": "code",
   "execution_count": 249,
   "metadata": {},
   "outputs": [
    {
     "name": "stdout",
     "output_type": "stream",
     "text": [
      "     hcpcs_code  srvc_cnt_17  srvc_cnt_16  srvc_cnt_15\n",
      "0         00103         29.0         40.0         54.0\n",
      "1         00142        823.0       1069.0        218.0\n",
      "2         00160        118.0        134.0        182.0\n",
      "3         00170        271.0        399.0        395.0\n",
      "4         00300        756.0        669.0        367.0\n",
      "...         ...          ...          ...          ...\n",
      "3163      Q9967     968813.0    1032095.0     962653.0\n",
      "3164      Q9969       2180.0       2175.0       1553.0\n",
      "3165      R0070       3741.0       3469.0       3268.0\n",
      "3166      R0075        497.0        374.0        428.0\n",
      "3167      V2632         89.0         98.0        103.0\n",
      "\n",
      "[3168 rows x 4 columns]\n"
     ]
    }
   ],
   "source": [
    "phys_srvc_io_group = phys_srvc_indv_O.groupby('hcpcs_code').sum()\n",
    "phys_srvc_io_group = phys_srvc_io_group.reset_index()\n",
    "print(phys_srvc_io_group)"
   ]
  },
  {
   "cell_type": "code",
   "execution_count": 250,
   "metadata": {},
   "outputs": [],
   "source": [
    "phys_srvc_io_group['16/17_srvc_chng'] = abs(phys_srvc_io_group['srvc_cnt_17'] - phys_srvc_io_group['srvc_cnt_16'])\n",
    "phys_srvc_io_group['15/16_srvc_chng'] = abs(phys_srvc_io_group['srvc_cnt_16'] - phys_srvc_io_group['srvc_cnt_15'])\n",
    "phys_srvc_io_group['15/17_srvc_chng'] = abs(phys_srvc_io_group['srvc_cnt_17'] - phys_srvc_io_group['srvc_cnt_15'])"
   ]
  },
  {
   "cell_type": "code",
   "execution_count": 251,
   "metadata": {},
   "outputs": [
    {
     "name": "stdout",
     "output_type": "stream",
     "text": [
      "     hcpcs_code  srvc_cnt_17  srvc_cnt_15  15/17_srvc_chng\n",
      "2636      99214   93946526.0   88251448.0        5695078.0\n",
      "2135      90670    1065891.0    3081734.0        2015843.0\n",
      "2729      G0009    2070585.0    3831076.0        1760491.0\n",
      "2635      99213   91046163.0   92561066.0        1514903.0\n",
      "2803      G0439    5442886.0    4089078.0        1353808.0\n"
     ]
    }
   ],
   "source": [
    "phys_srvc_io_1517 = phys_srvc_io_group.sort_values(by=['15/17_srvc_chng'], ascending=False).head()\n",
    "phys_srvc_io_1517 = phys_srvc_io_1517.drop(columns={'srvc_cnt_16', '15/16_srvc_chng', '16/17_srvc_chng'})\n",
    "print(phys_srvc_io_1517)"
   ]
  },
  {
   "cell_type": "code",
   "execution_count": 252,
   "metadata": {
    "scrolled": true
   },
   "outputs": [
    {
     "name": "stdout",
     "output_type": "stream",
     "text": [
      "     hcpcs_code  srvc_cnt_17  srvc_cnt_16  srvc_cnt_15  16/17_srvc_chng  \\\n",
      "2135      90670    1065891.0    1888401.0    3081734.0         822510.0   \n",
      "2635      99213   91046163.0   95594961.0   92561066.0        4548798.0   \n",
      "2636      99214   93946526.0   95071541.0   88251448.0        1125015.0   \n",
      "2729      G0009    2070585.0    2774033.0    3831076.0         703448.0   \n",
      "2803      G0439    5442886.0    4943145.0    4089078.0         499741.0   \n",
      "\n",
      "      15/16_srvc_chng  15/17_srvc_chng  \n",
      "2135        1193333.0        2015843.0  \n",
      "2635        3033895.0        1514903.0  \n",
      "2636        6820093.0        5695078.0  \n",
      "2729        1057043.0        1760491.0  \n",
      "2803         854067.0        1353808.0  \n"
     ]
    }
   ],
   "source": [
    "phys_srvc_io_top5 = phys_srvc_io_group[phys_srvc_io_group[\"hcpcs_code\"].isin(['99214', '90670', 'G0009', '99213', 'G0439'])]\n",
    "print(phys_srvc_io_top5)"
   ]
  },
  {
   "cell_type": "code",
   "execution_count": 253,
   "metadata": {},
   "outputs": [
    {
     "name": "stdout",
     "output_type": "stream",
     "text": [
      "     hcpcs_code  srvc_cnt_17  srvc_cnt_16  srvc_cnt_15\n",
      "0         00103      47067.0      49645.0      47545.0\n",
      "1         00104      84934.0      93741.0      92635.0\n",
      "2         00120       1374.0       1508.0       1352.0\n",
      "3         00126        247.0        256.0        249.0\n",
      "4         00140      73286.0      75607.0      67682.0\n",
      "...         ...          ...          ...          ...\n",
      "3065      Q4110         86.0         67.0         70.0\n",
      "3066      Q9962        412.0        332.0        297.0\n",
      "3067      Q9965        292.0        290.0        380.0\n",
      "3068      Q9967        209.0        301.0        237.0\n",
      "3069      R0070        120.0         94.0         73.0\n",
      "\n",
      "[3070 rows x 4 columns]\n"
     ]
    }
   ],
   "source": [
    "phys_srvc_if_group = phys_srvc_indv_F.groupby('hcpcs_code').sum()\n",
    "phys_srvc_if_group = phys_srvc_if_group.reset_index()\n",
    "print(phys_srvc_if_group)"
   ]
  },
  {
   "cell_type": "code",
   "execution_count": 254,
   "metadata": {},
   "outputs": [],
   "source": [
    "phys_srvc_if_group['16/17_srvc_chng'] = abs(phys_srvc_if_group['srvc_cnt_17'] - phys_srvc_if_group['srvc_cnt_16'])\n",
    "phys_srvc_if_group['15/16_srvc_chng'] = abs(phys_srvc_if_group['srvc_cnt_16'] - phys_srvc_if_group['srvc_cnt_15'])\n",
    "phys_srvc_if_group['15/17_srvc_chng'] = abs(phys_srvc_if_group['srvc_cnt_17'] - phys_srvc_if_group['srvc_cnt_15'])"
   ]
  },
  {
   "cell_type": "code",
   "execution_count": 255,
   "metadata": {},
   "outputs": [
    {
     "name": "stdout",
     "output_type": "stream",
     "text": [
      "     hcpcs_code  srvc_cnt_17  srvc_cnt_15  15/17_srvc_chng\n",
      "2946      99232   42815070.0   45516102.0        2701032.0\n",
      "2945      99231    5769872.0    6632663.0         862791.0\n",
      "2056      71020    8003711.0    8767182.0         763471.0\n",
      "2054      71010   15621331.0   16243571.0         622240.0\n",
      "2941      99223    9383693.0    9899220.0         515527.0\n"
     ]
    }
   ],
   "source": [
    "phys_srvc_if_1517 = phys_srvc_if_group.sort_values(by=['15/17_srvc_chng'], ascending=False).head()\n",
    "phys_srvc_if_1517 = phys_srvc_if_1517.drop(columns={'srvc_cnt_16', '15/16_srvc_chng', '16/17_srvc_chng'})\n",
    "print(phys_srvc_if_1517)"
   ]
  },
  {
   "cell_type": "code",
   "execution_count": 256,
   "metadata": {},
   "outputs": [
    {
     "name": "stdout",
     "output_type": "stream",
     "text": [
      "     hcpcs_code  srvc_cnt_17  srvc_cnt_16  srvc_cnt_15  16/17_srvc_chng  \\\n",
      "2054      71010   15621331.0   16313024.0   16243571.0         691693.0   \n",
      "2056      71020    8003711.0    8453529.0    8767182.0         449818.0   \n",
      "2941      99223    9383693.0    9997169.0    9899220.0         613476.0   \n",
      "2945      99231    5769872.0    6534493.0    6632663.0         764621.0   \n",
      "2946      99232   42815070.0   45812633.0   45516102.0        2997563.0   \n",
      "\n",
      "      15/16_srvc_chng  15/17_srvc_chng  \n",
      "2054          69453.0         622240.0  \n",
      "2056         313653.0         763471.0  \n",
      "2941          97949.0         515527.0  \n",
      "2945          98170.0         862791.0  \n",
      "2946         296531.0        2701032.0  \n"
     ]
    }
   ],
   "source": [
    "phys_srvc_if_top5 = phys_srvc_if_group[phys_srvc_if_group[\"hcpcs_code\"].isin(['99232', '99231', '71020', '71010', '99223'])]\n",
    "print(phys_srvc_if_top5)"
   ]
  },
  {
   "cell_type": "code",
   "execution_count": 257,
   "metadata": {},
   "outputs": [
    {
     "name": "stdout",
     "output_type": "stream",
     "text": [
      "     hcpcs_code  srvc_cnt_17  srvc_cnt_16  srvc_cnt_15\n",
      "0         0159T        482.0        524.0        452.0\n",
      "1         0297T      96380.0      65881.0      36186.0\n",
      "2         0379T      33752.0      14651.0        415.0\n",
      "3         10022        470.0        400.0        399.0\n",
      "4         19083         14.0         19.0         22.0\n",
      "...         ...          ...          ...          ...\n",
      "1491      Q9965        463.0        698.0        714.0\n",
      "1492      Q9966       2772.0       2667.0       2723.0\n",
      "1493      Q9967     105811.0     101279.0      93400.0\n",
      "1494      R0070     983648.0     999000.0    1016891.0\n",
      "1495      R0075     454600.0     434686.0     445609.0\n",
      "\n",
      "[1496 rows x 4 columns]\n"
     ]
    }
   ],
   "source": [
    "phys_srvc_oo_group = phys_srvc_org_O.groupby('hcpcs_code').sum()\n",
    "phys_srvc_oo_group = phys_srvc_oo_group.reset_index()\n",
    "print(phys_srvc_oo_group)"
   ]
  },
  {
   "cell_type": "code",
   "execution_count": 258,
   "metadata": {},
   "outputs": [],
   "source": [
    "phys_srvc_oo_group['16/17_srvc_chng'] = abs(phys_srvc_oo_group['srvc_cnt_17'] - phys_srvc_oo_group['srvc_cnt_16'])\n",
    "phys_srvc_oo_group['15/16_srvc_chng'] = abs(phys_srvc_oo_group['srvc_cnt_16'] - phys_srvc_oo_group['srvc_cnt_15'])\n",
    "phys_srvc_oo_group['15/17_srvc_chng'] = abs(phys_srvc_oo_group['srvc_cnt_17'] - phys_srvc_oo_group['srvc_cnt_15'])"
   ]
  },
  {
   "cell_type": "code",
   "execution_count": 259,
   "metadata": {},
   "outputs": [
    {
     "name": "stdout",
     "output_type": "stream",
     "text": [
      "     hcpcs_code  srvc_cnt_17  srvc_cnt_15  15/17_srvc_chng\n",
      "789       85610    5476487.0    6842974.0        1366487.0\n",
      "731       85025   20295417.0   19369083.0         926334.0\n",
      "561       83036   10751257.0    9855267.0         895990.0\n",
      "1384      G0008    7548685.0    6657914.0         890771.0\n",
      "291       80053   23506436.0   22661369.0         845067.0\n"
     ]
    }
   ],
   "source": [
    "phys_srvc_oo_1517 = phys_srvc_oo_group.sort_values(by=['15/17_srvc_chng'], ascending=False).head()\n",
    "phys_srvc_oo_1517 = phys_srvc_oo_1517.drop(columns={'srvc_cnt_16', '15/16_srvc_chng', '16/17_srvc_chng'})\n",
    "print(phys_srvc_oo_1517)"
   ]
  },
  {
   "cell_type": "code",
   "execution_count": 260,
   "metadata": {},
   "outputs": [
    {
     "name": "stdout",
     "output_type": "stream",
     "text": [
      "     hcpcs_code  srvc_cnt_17  srvc_cnt_16  srvc_cnt_15  16/17_srvc_chng  \\\n",
      "291       80053   23506436.0   23564980.0   22661369.0          58544.0   \n",
      "561       83036   10751257.0   10501332.0    9855267.0         249925.0   \n",
      "731       85025   20295417.0   20247232.0   19369083.0          48185.0   \n",
      "789       85610    5476487.0    6248387.0    6842974.0         771900.0   \n",
      "1384      G0008    7548685.0    6743827.0    6657914.0         804858.0   \n",
      "\n",
      "      15/16_srvc_chng  15/17_srvc_chng  \n",
      "291          903611.0         845067.0  \n",
      "561          646065.0         895990.0  \n",
      "731          878149.0         926334.0  \n",
      "789          594587.0        1366487.0  \n",
      "1384          85913.0         890771.0  \n"
     ]
    }
   ],
   "source": [
    "phys_srvc_oo_top5 = phys_srvc_oo_group[phys_srvc_oo_group[\"hcpcs_code\"].isin(['85610', '85025', '83036', 'G0008', '80053'])]\n",
    "print(phys_srvc_oo_top5)"
   ]
  },
  {
   "cell_type": "code",
   "execution_count": 261,
   "metadata": {},
   "outputs": [
    {
     "name": "stdout",
     "output_type": "stream",
     "text": [
      "    hcpcs_code  srvc_cnt_17  srvc_cnt_16  srvc_cnt_15\n",
      "0        0191T      24870.0      25427.0      19818.0\n",
      "1        10022        131.0        118.0        102.0\n",
      "2        11012         14.0         15.0         16.0\n",
      "3        11042      12413.0       6353.0       3445.0\n",
      "4        11043       1149.0       6321.0       1128.0\n",
      "..         ...          ...          ...          ...\n",
      "991      Q0092      44286.0      51052.0      43208.0\n",
      "992      Q2037         35.0         45.0        229.0\n",
      "993      R0070      30839.0      35751.0      31699.0\n",
      "994      R0075      13467.0      13997.0      10801.0\n",
      "995      V2785       7848.0       8149.0       9232.0\n",
      "\n",
      "[996 rows x 4 columns]\n"
     ]
    }
   ],
   "source": [
    "phys_srvc_of_group = phys_srvc_org_F.groupby('hcpcs_code').sum()\n",
    "phys_srvc_of_group = phys_srvc_of_group.reset_index()\n",
    "print(phys_srvc_of_group)"
   ]
  },
  {
   "cell_type": "code",
   "execution_count": 262,
   "metadata": {},
   "outputs": [],
   "source": [
    "phys_srvc_of_group['16/17_srvc_chng'] = abs(phys_srvc_of_group['srvc_cnt_17'] - phys_srvc_of_group['srvc_cnt_16'])\n",
    "phys_srvc_of_group['15/16_srvc_chng'] = abs(phys_srvc_of_group['srvc_cnt_16'] - phys_srvc_of_group['srvc_cnt_15'])\n",
    "phys_srvc_of_group['15/17_srvc_chng'] = abs(phys_srvc_of_group['srvc_cnt_17'] - phys_srvc_of_group['srvc_cnt_15'])"
   ]
  },
  {
   "cell_type": "code",
   "execution_count": 263,
   "metadata": {},
   "outputs": [
    {
     "name": "stdout",
     "output_type": "stream",
     "text": [
      "    hcpcs_code  srvc_cnt_17  srvc_cnt_15  15/17_srvc_chng\n",
      "949      A0428    4125995.0    4349497.0         223502.0\n",
      "977      G0471    3175479.0    2979164.0         196315.0\n",
      "836      85610      30861.0     144353.0         113492.0\n",
      "989      P9603    1381163.0    1466905.0          85742.0\n",
      "948      A0427    5602953.0    5519115.0          83838.0\n"
     ]
    }
   ],
   "source": [
    "phys_srvc_of_1517 = phys_srvc_of_group.sort_values(by=['15/17_srvc_chng'], ascending=False).head()\n",
    "phys_srvc_of_1517 = phys_srvc_of_1517.drop(columns={'srvc_cnt_16', '15/16_srvc_chng', '16/17_srvc_chng'})\n",
    "print(phys_srvc_of_1517)"
   ]
  },
  {
   "cell_type": "code",
   "execution_count": 264,
   "metadata": {},
   "outputs": [
    {
     "name": "stdout",
     "output_type": "stream",
     "text": [
      "    hcpcs_code  srvc_cnt_17  srvc_cnt_16  srvc_cnt_15  16/17_srvc_chng  \\\n",
      "836      85610      30861.0      94170.0     144353.0          63309.0   \n",
      "948      A0427    5602953.0    5573065.0    5519115.0          29888.0   \n",
      "949      A0428    4125995.0    4254642.0    4349497.0         128647.0   \n",
      "977      G0471    3175479.0    3106023.0    2979164.0          69456.0   \n",
      "989      P9603    1381163.0    1453607.0    1466905.0          72444.0   \n",
      "\n",
      "     15/16_srvc_chng  15/17_srvc_chng  \n",
      "836          50183.0         113492.0  \n",
      "948          53950.0          83838.0  \n",
      "949          94855.0         223502.0  \n",
      "977         126859.0         196315.0  \n",
      "989          13298.0          85742.0  \n"
     ]
    }
   ],
   "source": [
    "phys_srvc_of_top5 = phys_srvc_of_group[phys_srvc_of_group[\"hcpcs_code\"].isin(['A0428', 'G0471', '85610', 'P9603', 'A0427'])]\n",
    "print(phys_srvc_of_top5)"
   ]
  },
  {
   "cell_type": "code",
   "execution_count": 265,
   "metadata": {},
   "outputs": [
    {
     "name": "stdout",
     "output_type": "stream",
     "text": [
      "     hcpcs_code  avg_med_amt_17  avg_med_amt_16  avg_med_amt_15  \\\n",
      "609       41530      946.850260      943.177983     3105.401348   \n",
      "2861      J0600     1933.008855     1735.182012      225.866088   \n",
      "3035      J7192    17895.679067      324.885624    33345.018081   \n",
      "3092      J9999     1746.413318     1439.377377      465.466032   \n",
      "3120      Q2043    39255.403622    37640.843298    35877.310500   \n",
      "\n",
      "      16/17_med_chng  15/16_med_chng  15/17_med_chng  \n",
      "609         3.672277     2162.223365     2158.551088  \n",
      "2861      197.826843     1509.315924     1707.142767  \n",
      "3035    17570.793443    33020.132458    15449.339014  \n",
      "3092      307.035941      973.911345     1280.947286  \n",
      "3120     1614.560324     1763.532799     3378.093122  \n"
     ]
    }
   ],
   "source": [
    "print(phys_med_io_top5)"
   ]
  },
  {
   "cell_type": "code",
   "execution_count": 10,
   "metadata": {},
   "outputs": [],
   "source": [
    "phys_supp_17['ZIP'] = phys_supp_17['nppes_provider_zip'].str[:5]"
   ]
  },
  {
   "cell_type": "code",
   "execution_count": 11,
   "metadata": {},
   "outputs": [],
   "source": [
    "phys_zip_17 = pd.merge(phys_supp_17, zip_cbsa, how='left', on='ZIP')"
   ]
  },
  {
   "cell_type": "code",
   "execution_count": 12,
   "metadata": {},
   "outputs": [],
   "source": [
    "phys_zip_17 = phys_zip_17.drop(columns={'npi', 'nppes_provider_last_org_name', 'nppes_entity_code', 'nppes_provider_zip', 'nppes_provider_state', 'provider_type', 'place_of_service'})"
   ]
  },
  {
   "cell_type": "code",
   "execution_count": 269,
   "metadata": {},
   "outputs": [
    {
     "name": "stdout",
     "output_type": "stream",
     "text": [
      "     hcpcs_code  srvc_cnt_17  avg_med_amt_17\n",
      "0         0008M    45.800000     3443.360000\n",
      "1         00100    12.250000      279.764101\n",
      "2         00103    29.379651      150.285108\n",
      "3         00104    46.344046       81.635614\n",
      "4         00120    22.214286      191.618064\n",
      "...         ...          ...             ...\n",
      "6043      Q9989    16.000000       12.878341\n",
      "6044      R0070  2792.685484      179.225073\n",
      "6045      R0075  1813.689139       77.755564\n",
      "6046      V2632    89.000000      113.830000\n",
      "6047      V2785    40.196507     3840.269851\n",
      "\n",
      "[6048 rows x 3 columns]\n"
     ]
    }
   ],
   "source": [
    "phys_17_group = phys_zip_17.groupby('hcpcs_code').mean()\n",
    "phys_17_group = phys_17_group.reset_index()\n",
    "print(phys_17_group)"
   ]
  },
  {
   "cell_type": "code",
   "execution_count": 270,
   "metadata": {
    "scrolled": true
   },
   "outputs": [
    {
     "name": "stdout",
     "output_type": "stream",
     "text": [
      "  hcpcs_code  average_medicare_allowed_amt  year\n",
      "0      41530                    875.926198  2017\n",
      "1      J0600                   2354.875647  2017\n",
      "2      J7192                  12880.678381  2017\n",
      "3      J9999                   1241.578519  2017\n",
      "4      Q2043                  39279.086545  2017\n"
     ]
    }
   ],
   "source": [
    "phys_17_medio_top5 = phys_17_group[phys_17_group[\"hcpcs_code\"].isin(['41530', 'J0600', 'J7192', 'J9999', 'Q2043'])]\n",
    "phys_17_medio_top5 = phys_17_medio_top5.reset_index()\n",
    "phys_17_medio_top5['year'] = 2017\n",
    "phys_17_medio_top5 = phys_17_medio_top5.drop(columns={'srvc_cnt_17', 'index'})\n",
    "phys_17_medio_top5 = phys_17_medio_top5.rename(columns={'avg_med_amt_17' : 'average_medicare_allowed_amt'})\n",
    "print(phys_17_medio_top5)"
   ]
  },
  {
   "cell_type": "code",
   "execution_count": 13,
   "metadata": {},
   "outputs": [],
   "source": [
    "phys_supp_16['ZIP'] = phys_supp_16['nppes_provider_zip'].str[:5]"
   ]
  },
  {
   "cell_type": "code",
   "execution_count": 14,
   "metadata": {},
   "outputs": [],
   "source": [
    "phys_supp_16 = pd.merge(phys_supp_16, zip_cbsa, how='left', on='ZIP')"
   ]
  },
  {
   "cell_type": "code",
   "execution_count": 15,
   "metadata": {},
   "outputs": [],
   "source": [
    "phys_supp_16 = phys_supp_16.drop(columns={'npi', 'nppes_provider_zip', 'place_of_service'})"
   ]
  },
  {
   "cell_type": "code",
   "execution_count": 274,
   "metadata": {},
   "outputs": [
    {
     "name": "stdout",
     "output_type": "stream",
     "text": [
      "     hcpcs_code   srvc_cnt_16  avg_med_amt_16\n",
      "0         0008M     65.666667     3419.419776\n",
      "1         00100     12.333333      290.975942\n",
      "2         00103     28.995647      148.848422\n",
      "3         00104     47.340542       81.226855\n",
      "4         0010M  13453.000000      333.559722\n",
      "...         ...           ...             ...\n",
      "6017      Q9983     26.571429     2632.567331\n",
      "6018      R0070   2674.819095      179.152107\n",
      "6019      R0075   1711.455556       77.560227\n",
      "6020      V2632     98.000000      113.040000\n",
      "6021      V2785     37.155378     3774.329022\n",
      "\n",
      "[6022 rows x 3 columns]\n"
     ]
    }
   ],
   "source": [
    "phys_16_group = phys_supp_16.groupby('hcpcs_code').mean()\n",
    "phys_16_group = phys_16_group.reset_index()\n",
    "print(phys_16_group)"
   ]
  },
  {
   "cell_type": "code",
   "execution_count": 275,
   "metadata": {},
   "outputs": [
    {
     "name": "stdout",
     "output_type": "stream",
     "text": [
      "  hcpcs_code  average_medicare_allowed_amt  year\n",
      "0      41530                    893.447110  2016\n",
      "1      J0600                   1039.718002  2016\n",
      "2      J7192                  19275.296602  2016\n",
      "3      J9999                   1737.626059  2016\n",
      "4      Q2043                  37672.456856  2016\n"
     ]
    }
   ],
   "source": [
    "phys_16_medio_top5 = phys_16_group[phys_16_group[\"hcpcs_code\"].isin(['41530', 'J0600', 'J7192', 'J9999', 'Q2043'])]\n",
    "phys_16_medio_top5 = phys_16_medio_top5.reset_index()\n",
    "phys_16_medio_top5['year'] = 2016\n",
    "phys_16_medio_top5 = phys_16_medio_top5.drop(columns={'srvc_cnt_16', 'index'})\n",
    "phys_16_medio_top5 = phys_16_medio_top5.rename(columns={'avg_med_amt_16' : 'average_medicare_allowed_amt'})\n",
    "print(phys_16_medio_top5)"
   ]
  },
  {
   "cell_type": "code",
   "execution_count": 16,
   "metadata": {},
   "outputs": [],
   "source": [
    "phys_supp_15['ZIP'] = phys_supp_15['nppes_provider_zip'].str[:5]"
   ]
  },
  {
   "cell_type": "code",
   "execution_count": 17,
   "metadata": {},
   "outputs": [],
   "source": [
    "phys_supp_15 = pd.merge(phys_supp_15, zip_cbsa, how='left', on='ZIP')"
   ]
  },
  {
   "cell_type": "code",
   "execution_count": 18,
   "metadata": {},
   "outputs": [],
   "source": [
    "phys_supp_15 = phys_supp_15.drop(columns={'npi', 'nppes_provider_zip', 'place_of_service'})"
   ]
  },
  {
   "cell_type": "code",
   "execution_count": 279,
   "metadata": {},
   "outputs": [
    {
     "name": "stdout",
     "output_type": "stream",
     "text": [
      "     hcpcs_code  srvc_cnt_15  avg_med_amt_15\n",
      "0         00100    15.000000      266.582807\n",
      "1         00102    26.000000       95.198939\n",
      "2         00103    29.361905      154.333417\n",
      "3         00104    48.227996       83.078735\n",
      "4         00120    22.018182      203.457393\n",
      "...         ...          ...             ...\n",
      "5978      Q9979    55.333333     1725.411777\n",
      "5979      R0070  2732.017241      179.336948\n",
      "5980      R0075  1807.130597       76.752054\n",
      "5981      V2632   103.000000      113.490000\n",
      "5982      V2785    39.342960     3122.129476\n",
      "\n",
      "[5983 rows x 3 columns]\n"
     ]
    }
   ],
   "source": [
    "phys_15_group = phys_supp_15.groupby('hcpcs_code').mean()\n",
    "phys_15_group = phys_15_group.reset_index()\n",
    "print(phys_15_group)"
   ]
  },
  {
   "cell_type": "code",
   "execution_count": 280,
   "metadata": {},
   "outputs": [
    {
     "name": "stdout",
     "output_type": "stream",
     "text": [
      "  hcpcs_code  average_medicare_allowed_amt  year\n",
      "0      41530                   2988.085332  2015\n",
      "1      J0600                    473.686663  2015\n",
      "2      J7192                  18652.902051  2015\n",
      "3      J9999                   2708.152776  2015\n",
      "4      Q2043                  35938.558603  2015\n"
     ]
    }
   ],
   "source": [
    "phys_15_medio_top5 = phys_15_group[phys_15_group[\"hcpcs_code\"].isin(['41530', 'J0600', 'J7192', 'J9999', 'Q2043'])]\n",
    "phys_15_medio_top5 = phys_15_medio_top5.reset_index()\n",
    "phys_15_medio_top5['year'] = 2015\n",
    "phys_15_medio_top5 = phys_15_medio_top5.drop(columns={'srvc_cnt_15', 'index'})\n",
    "phys_15_medio_top5 = phys_15_medio_top5.rename(columns={'avg_med_amt_15' : 'average_medicare_allowed_amt'})\n",
    "print(phys_15_medio_top5)"
   ]
  },
  {
   "cell_type": "code",
   "execution_count": 281,
   "metadata": {
    "scrolled": true
   },
   "outputs": [
    {
     "name": "stdout",
     "output_type": "stream",
     "text": [
      "   hcpcs_code  average_medicare_allowed_amt  year\n",
      "0       41530                    875.926198  2017\n",
      "1       J0600                   2354.875647  2017\n",
      "2       J7192                  12880.678381  2017\n",
      "3       J9999                   1241.578519  2017\n",
      "4       Q2043                  39279.086545  2017\n",
      "5       41530                    893.447110  2016\n",
      "6       J0600                   1039.718002  2016\n",
      "7       J7192                  19275.296602  2016\n",
      "8       J9999                   1737.626059  2016\n",
      "9       Q2043                  37672.456856  2016\n",
      "10      41530                   2988.085332  2015\n",
      "11      J0600                    473.686663  2015\n",
      "12      J7192                  18652.902051  2015\n",
      "13      J9999                   2708.152776  2015\n",
      "14      Q2043                  35938.558603  2015\n"
     ]
    }
   ],
   "source": [
    "phys_medio_top5 = pd.concat([phys_17_medio_top5, phys_16_medio_top5, phys_15_medio_top5], ignore_index=True)\n",
    "print(phys_medio_top5)"
   ]
  },
  {
   "cell_type": "code",
   "execution_count": 282,
   "metadata": {},
   "outputs": [
    {
     "data": {
      "image/png": "[encoded data removed]",
      "text/plain": [
       "<Figure size 1080x216 with 5 Axes>"
      ]
     },
     "metadata": {
      "needs_background": "light"
     },
     "output_type": "display_data"
    }
   ],
   "source": [
    "import seaborn as sns\n",
    "g = sns.FacetGrid(phys_medio_top5, col=\"hcpcs_code\").set(xlim=(2014, 2018), ylim=(0, 40000), xticks=[2015, 2016, 2017], yticks=[0, 2500, 5000, 7500, 10000, 12500, 15000, 17500, 20000, 22500, 25000, 27500, 30000, 32500, 35000, 37500, 40000])\n",
    "g = g.map(plt.plot, \"year\", \"average_medicare_allowed_amt\")"
   ]
  },
  {
   "cell_type": "code",
   "execution_count": 283,
   "metadata": {},
   "outputs": [
    {
     "name": "stdout",
     "output_type": "stream",
     "text": [
      "     hcpcs_code  avg_med_amt_17  avg_med_amt_16  avg_med_amt_15  \\\n",
      "848       31599     1031.115545      580.396331      560.512778   \n",
      "1467      50820     1906.702727     1792.720937     1310.598636   \n",
      "1503      51999     2171.255375     1845.089073     1631.389033   \n",
      "1666      61592     1425.524706     2044.420571     2106.550741   \n",
      "1920      67228      309.887455      309.744853      959.525858   \n",
      "\n",
      "      16/17_med_chng  15/16_med_chng  15/17_med_chng  \n",
      "848       450.719214       19.883553      470.602767  \n",
      "1467      113.981790      482.122301      596.104091  \n",
      "1503      326.166302      213.700039      539.866342  \n",
      "1666      618.895866       62.130169      681.026035  \n",
      "1920        0.142601      649.781005      649.638404  \n"
     ]
    }
   ],
   "source": [
    "print(phys_med_if_top5)"
   ]
  },
  {
   "cell_type": "code",
   "execution_count": 284,
   "metadata": {},
   "outputs": [
    {
     "name": "stdout",
     "output_type": "stream",
     "text": [
      "  hcpcs_code  average_medicare_allowed_amt  year\n",
      "0      31599                   1031.115545  2017\n",
      "1      50820                   1374.406177  2017\n",
      "2      51999                   1806.836264  2017\n",
      "3      61592                   1828.745270  2017\n",
      "4      67228                    331.506730  2017\n"
     ]
    }
   ],
   "source": [
    "phys_17_medif_top5 = phys_17_group[phys_17_group[\"hcpcs_code\"].isin(['31599', '50820', '51999', '61592', '67228'])]\n",
    "phys_17_medif_top5 = phys_17_medif_top5.reset_index()\n",
    "phys_17_medif_top5['year'] = 2017\n",
    "phys_17_medif_top5 = phys_17_medif_top5.drop(columns={'srvc_cnt_17', 'index'})\n",
    "phys_17_medif_top5 = phys_17_medif_top5.rename(columns={'avg_med_amt_17' : 'average_medicare_allowed_amt'})\n",
    "print(phys_17_medif_top5)"
   ]
  },
  {
   "cell_type": "code",
   "execution_count": 285,
   "metadata": {},
   "outputs": [
    {
     "name": "stdout",
     "output_type": "stream",
     "text": [
      "  hcpcs_code  average_medicare_allowed_amt  year\n",
      "0      31599                    370.481654  2016\n",
      "1      50820                   1696.669716  2016\n",
      "2      51999                   1771.621782  2016\n",
      "3      61592                   1138.120286  2016\n",
      "4      67228                    329.305534  2016\n"
     ]
    }
   ],
   "source": [
    "phys_16_medif_top5 = phys_16_group[phys_16_group[\"hcpcs_code\"].isin(['31599', '50820', '51999', '61592', '67228'])]\n",
    "phys_16_medif_top5 = phys_16_medif_top5.reset_index()\n",
    "phys_16_medif_top5['year'] = 2016\n",
    "phys_16_medif_top5 = phys_16_medif_top5.drop(columns={'srvc_cnt_16', 'index'})\n",
    "phys_16_medif_top5 = phys_16_medif_top5.rename(columns={'avg_med_amt_16' : 'average_medicare_allowed_amt'})\n",
    "print(phys_16_medif_top5)"
   ]
  },
  {
   "cell_type": "code",
   "execution_count": 286,
   "metadata": {
    "scrolled": true
   },
   "outputs": [
    {
     "name": "stdout",
     "output_type": "stream",
     "text": [
      "  hcpcs_code  average_medicare_allowed_amt  year\n",
      "0      31599                    436.483986  2015\n",
      "1      50820                   1286.294388  2015\n",
      "2      51999                   1455.293918  2015\n",
      "3      61592                   2104.822643  2015\n",
      "4      67228                    959.330722  2015\n"
     ]
    }
   ],
   "source": [
    "phys_15_medif_top5 = phys_15_group[phys_15_group[\"hcpcs_code\"].isin(['31599', '50820', '51999', '61592', '67228'])]\n",
    "phys_15_medif_top5 = phys_15_medif_top5.reset_index()\n",
    "phys_15_medif_top5['year'] = 2015\n",
    "phys_15_medif_top5 = phys_15_medif_top5.drop(columns={'srvc_cnt_15', 'index'})\n",
    "phys_15_medif_top5 = phys_15_medif_top5.rename(columns={'avg_med_amt_15' : 'average_medicare_allowed_amt'})\n",
    "print(phys_15_medif_top5)"
   ]
  },
  {
   "cell_type": "code",
   "execution_count": 287,
   "metadata": {},
   "outputs": [
    {
     "name": "stdout",
     "output_type": "stream",
     "text": [
      "   hcpcs_code  average_medicare_allowed_amt  year\n",
      "0       31599                   1031.115545  2017\n",
      "1       50820                   1374.406177  2017\n",
      "2       51999                   1806.836264  2017\n",
      "3       61592                   1828.745270  2017\n",
      "4       67228                    331.506730  2017\n",
      "5       31599                    370.481654  2016\n",
      "6       50820                   1696.669716  2016\n",
      "7       51999                   1771.621782  2016\n",
      "8       61592                   1138.120286  2016\n",
      "9       67228                    329.305534  2016\n",
      "10      31599                    436.483986  2015\n",
      "11      50820                   1286.294388  2015\n",
      "12      51999                   1455.293918  2015\n",
      "13      61592                   2104.822643  2015\n",
      "14      67228                    959.330722  2015\n"
     ]
    }
   ],
   "source": [
    "phys_medif_top5 = pd.concat([phys_17_medif_top5, phys_16_medif_top5, phys_15_medif_top5], ignore_index=True)\n",
    "print(phys_medif_top5)"
   ]
  },
  {
   "cell_type": "code",
   "execution_count": 288,
   "metadata": {},
   "outputs": [
    {
     "data": {
      "image/png": "[encoded data removed]",
      "text/plain": [
       "<Figure size 1080x216 with 5 Axes>"
      ]
     },
     "metadata": {
      "needs_background": "light"
     },
     "output_type": "display_data"
    }
   ],
   "source": [
    "g = sns.FacetGrid(phys_medif_top5, col=\"hcpcs_code\").set(xlim=(2014, 2018), ylim=(0, 2000), xticks=[2015, 2016, 2017], yticks=[0, 200, 400, 600, 800, 1000, 1200, 1400, 1600, 1800, 2000])\n",
    "g = g.map(plt.plot, \"year\", \"average_medicare_allowed_amt\")"
   ]
  },
  {
   "cell_type": "code",
   "execution_count": 289,
   "metadata": {},
   "outputs": [
    {
     "name": "stdout",
     "output_type": "stream",
     "text": [
      "     hcpcs_code  avg_med_amt_17  avg_med_amt_16  avg_med_amt_15  \\\n",
      "253       77371     1772.950000     1735.268750      742.704444   \n",
      "1444      J7187    42280.125522    34201.918387    23863.910069   \n",
      "1445      J7190        2.195144     5206.283813     7549.290722   \n",
      "1446      J7192    17266.087675    21000.894385    19813.444168   \n",
      "1447      J7195    25003.926636    29024.583734    30536.542002   \n",
      "\n",
      "      16/17_med_chng  15/16_med_chng  15/17_med_chng  \n",
      "253        37.681250      992.564306     1030.245556  \n",
      "1444     8078.207135    10338.008318    18416.215453  \n",
      "1445     5204.088669     2343.006909     7547.095578  \n",
      "1446     3734.806709     1187.450217     2547.356493  \n",
      "1447     4020.657099     1511.958268     5532.615366  \n"
     ]
    }
   ],
   "source": [
    "print(phys_med_oo_top5)"
   ]
  },
  {
   "cell_type": "code",
   "execution_count": 290,
   "metadata": {},
   "outputs": [
    {
     "name": "stdout",
     "output_type": "stream",
     "text": [
      "  hcpcs_code  average_medicare_allowed_amt  year\n",
      "0      77371                   2052.875000  2017\n",
      "1      J7187                  27738.835016  2017\n",
      "2      J7190                      2.195144  2017\n",
      "3      J7192                  12880.678381  2017\n",
      "4      J7195                  31261.043571  2017\n"
     ]
    }
   ],
   "source": [
    "phys_17_medoo_top5 = phys_17_group[phys_17_group[\"hcpcs_code\"].isin(['77371', 'J7187', 'J7190', 'J7192', 'J7195'])]\n",
    "phys_17_medoo_top5 = phys_17_medoo_top5.reset_index()\n",
    "phys_17_medoo_top5['year'] = 2017\n",
    "phys_17_medoo_top5 = phys_17_medoo_top5.drop(columns={'srvc_cnt_17', 'index'})\n",
    "phys_17_medoo_top5 = phys_17_medoo_top5.rename(columns={'avg_med_amt_17' : 'average_medicare_allowed_amt'})\n",
    "print(phys_17_medoo_top5)"
   ]
  },
  {
   "cell_type": "code",
   "execution_count": 291,
   "metadata": {},
   "outputs": [
    {
     "name": "stdout",
     "output_type": "stream",
     "text": [
      "  hcpcs_code  average_medicare_allowed_amt  year\n",
      "0      77371                   1957.069375  2016\n",
      "1      J7187                  34201.918387  2016\n",
      "2      J7190                  16333.239106  2016\n",
      "3      J7192                  19275.296602  2016\n",
      "4      J7195                  29024.583734  2016\n"
     ]
    }
   ],
   "source": [
    "phys_16_medoo_top5 = phys_16_group[phys_16_group[\"hcpcs_code\"].isin(['77371', 'J7187', 'J7190', 'J7192', 'J7195'])]\n",
    "phys_16_medoo_top5 = phys_16_medoo_top5.reset_index()\n",
    "phys_16_medoo_top5['year'] = 2016\n",
    "phys_16_medoo_top5 = phys_16_medoo_top5.drop(columns={'srvc_cnt_16', 'index'})\n",
    "phys_16_medoo_top5 = phys_16_medoo_top5.rename(columns={'avg_med_amt_16' : 'average_medicare_allowed_amt'})\n",
    "print(phys_16_medoo_top5)"
   ]
  },
  {
   "cell_type": "code",
   "execution_count": 292,
   "metadata": {},
   "outputs": [
    {
     "name": "stdout",
     "output_type": "stream",
     "text": [
      "  hcpcs_code  average_medicare_allowed_amt  year\n",
      "0      77371                   1792.280322  2015\n",
      "1      J7187                  23863.910069  2015\n",
      "2      J7190                  16275.470678  2015\n",
      "3      J7192                  18652.902051  2015\n",
      "4      J7195                  30536.542002  2015\n"
     ]
    }
   ],
   "source": [
    "phys_15_medoo_top5 = phys_15_group[phys_15_group[\"hcpcs_code\"].isin(['77371', 'J7187', 'J7190', 'J7192', 'J7195'])]\n",
    "phys_15_medoo_top5 = phys_15_medoo_top5.reset_index()\n",
    "phys_15_medoo_top5['year'] = 2015\n",
    "phys_15_medoo_top5 = phys_15_medoo_top5.drop(columns={'srvc_cnt_15', 'index'})\n",
    "phys_15_medoo_top5 = phys_15_medoo_top5.rename(columns={'avg_med_amt_15' : 'average_medicare_allowed_amt'})\n",
    "print(phys_15_medoo_top5)"
   ]
  },
  {
   "cell_type": "code",
   "execution_count": 293,
   "metadata": {},
   "outputs": [
    {
     "name": "stdout",
     "output_type": "stream",
     "text": [
      "   hcpcs_code  average_medicare_allowed_amt  year\n",
      "0       77371                   2052.875000  2017\n",
      "1       J7187                  27738.835016  2017\n",
      "2       J7190                      2.195144  2017\n",
      "3       J7192                  12880.678381  2017\n",
      "4       J7195                  31261.043571  2017\n",
      "5       77371                   1957.069375  2016\n",
      "6       J7187                  34201.918387  2016\n",
      "7       J7190                  16333.239106  2016\n",
      "8       J7192                  19275.296602  2016\n",
      "9       J7195                  29024.583734  2016\n",
      "10      77371                   1792.280322  2015\n",
      "11      J7187                  23863.910069  2015\n",
      "12      J7190                  16275.470678  2015\n",
      "13      J7192                  18652.902051  2015\n",
      "14      J7195                  30536.542002  2015\n"
     ]
    }
   ],
   "source": [
    "phys_medoo_top5 = pd.concat([phys_17_medoo_top5, phys_16_medoo_top5, phys_15_medoo_top5], ignore_index=True)\n",
    "print(phys_medoo_top5)"
   ]
  },
  {
   "cell_type": "code",
   "execution_count": 294,
   "metadata": {},
   "outputs": [
    {
     "data": {
      "image/png": "[encoded data removed]",
      "text/plain": [
       "<Figure size 1080x216 with 5 Axes>"
      ]
     },
     "metadata": {
      "needs_background": "light"
     },
     "output_type": "display_data"
    }
   ],
   "source": [
    "g = sns.FacetGrid(phys_medoo_top5, col=\"hcpcs_code\").set(xlim=(2014, 2018), ylim=(0, 35000), xticks=[2015, 2016, 2017], yticks=[0, 2500, 5000, 7500, 10000, 12500, 15000, 17500, 20000, 22500, 25000, 27500, 30000, 32500, 35000])\n",
    "g = g.map(plt.plot, \"year\", \"average_medicare_allowed_amt\")"
   ]
  },
  {
   "cell_type": "code",
   "execution_count": 295,
   "metadata": {},
   "outputs": [
    {
     "name": "stdout",
     "output_type": "stream",
     "text": [
      "    hcpcs_code  avg_med_amt_17  avg_med_amt_16  avg_med_amt_15  \\\n",
      "220      28730     6780.870000     3329.220000     2507.134286   \n",
      "233      29825     1624.120000     1815.060000     3147.276410   \n",
      "282      33264    24362.086026    26318.603125    28020.960000   \n",
      "485      64575     9495.304583     4330.190000     4135.850000   \n",
      "632      69930    30720.781782    29795.304200    27903.864054   \n",
      "\n",
      "     16/17_med_chng  15/16_med_chng  15/17_med_chng  \n",
      "220     3451.650000      822.085714     4273.735714  \n",
      "233      190.940000     1332.216410     1523.156410  \n",
      "282     1956.517100     1702.356875     3658.873974  \n",
      "485     5165.114583      194.340000     5359.454583  \n",
      "632      925.477582     1891.440146     2816.917729  \n"
     ]
    }
   ],
   "source": [
    "print(phys_med_of_top5)"
   ]
  },
  {
   "cell_type": "code",
   "execution_count": 296,
   "metadata": {},
   "outputs": [
    {
     "name": "stdout",
     "output_type": "stream",
     "text": [
      "  hcpcs_code  average_medicare_allowed_amt  year\n",
      "0      28730                    725.425583  2017\n",
      "1      29825                    252.134648  2017\n",
      "2      33264                    947.956661  2017\n",
      "3      64575                   3316.283491  2017\n",
      "4      69930                   2987.475095  2017\n"
     ]
    }
   ],
   "source": [
    "phys_17_medof_top5 = phys_17_group[phys_17_group[\"hcpcs_code\"].isin(['28730', '29825', '33264', '64575', '69930'])]\n",
    "phys_17_medof_top5 = phys_17_medof_top5.reset_index()\n",
    "phys_17_medof_top5['year'] = 2017\n",
    "phys_17_medof_top5 = phys_17_medof_top5.drop(columns={'srvc_cnt_17', 'index'})\n",
    "phys_17_medof_top5 = phys_17_medof_top5.rename(columns={'avg_med_amt_17' : 'average_medicare_allowed_amt'})\n",
    "print(phys_17_medof_top5)"
   ]
  },
  {
   "cell_type": "code",
   "execution_count": 297,
   "metadata": {},
   "outputs": [
    {
     "name": "stdout",
     "output_type": "stream",
     "text": [
      "  hcpcs_code  average_medicare_allowed_amt  year\n",
      "0      28730                    671.270684  2016\n",
      "1      29825                    268.106221  2016\n",
      "2      33264                    834.299731  2016\n",
      "3      64575                    880.036299  2016\n",
      "4      69930                   3268.645347  2016\n"
     ]
    }
   ],
   "source": [
    "phys_16_medof_top5 = phys_16_group[phys_16_group[\"hcpcs_code\"].isin(['28730', '29825', '33264', '64575', '69930'])]\n",
    "phys_16_medof_top5 = phys_16_medof_top5.reset_index()\n",
    "phys_16_medof_top5['year'] = 2016\n",
    "phys_16_medof_top5 = phys_16_medof_top5.drop(columns={'srvc_cnt_16', 'index'})\n",
    "phys_16_medof_top5 = phys_16_medof_top5.rename(columns={'avg_med_amt_16' : 'average_medicare_allowed_amt'})\n",
    "print(phys_16_medof_top5)"
   ]
  },
  {
   "cell_type": "code",
   "execution_count": 298,
   "metadata": {},
   "outputs": [
    {
     "name": "stdout",
     "output_type": "stream",
     "text": [
      "  hcpcs_code  average_medicare_allowed_amt  year\n",
      "0      28730                    635.693244  2015\n",
      "1      29825                    301.399816  2015\n",
      "2      33264                    822.247357  2015\n",
      "3      64575                    848.669255  2015\n",
      "4      69930                   2779.019062  2015\n"
     ]
    }
   ],
   "source": [
    "phys_15_medof_top5 = phys_15_group[phys_15_group[\"hcpcs_code\"].isin(['28730', '29825', '33264', '64575', '69930'])]\n",
    "phys_15_medof_top5 = phys_15_medof_top5.reset_index()\n",
    "phys_15_medof_top5['year'] = 2015\n",
    "phys_15_medof_top5 = phys_15_medof_top5.drop(columns={'srvc_cnt_15', 'index'})\n",
    "phys_15_medof_top5 = phys_15_medof_top5.rename(columns={'avg_med_amt_15' : 'average_medicare_allowed_amt'})\n",
    "print(phys_15_medof_top5)"
   ]
  },
  {
   "cell_type": "code",
   "execution_count": 299,
   "metadata": {},
   "outputs": [
    {
     "name": "stdout",
     "output_type": "stream",
     "text": [
      "   hcpcs_code  average_medicare_allowed_amt  year\n",
      "0       28730                    725.425583  2017\n",
      "1       29825                    252.134648  2017\n",
      "2       33264                    947.956661  2017\n",
      "3       64575                   3316.283491  2017\n",
      "4       69930                   2987.475095  2017\n",
      "5       28730                    671.270684  2016\n",
      "6       29825                    268.106221  2016\n",
      "7       33264                    834.299731  2016\n",
      "8       64575                    880.036299  2016\n",
      "9       69930                   3268.645347  2016\n",
      "10      28730                    635.693244  2015\n",
      "11      29825                    301.399816  2015\n",
      "12      33264                    822.247357  2015\n",
      "13      64575                    848.669255  2015\n",
      "14      69930                   2779.019062  2015\n"
     ]
    }
   ],
   "source": [
    "phys_medof_top5 = pd.concat([phys_17_medof_top5, phys_16_medof_top5, phys_15_medof_top5], ignore_index=True)\n",
    "print(phys_medof_top5)"
   ]
  },
  {
   "cell_type": "code",
   "execution_count": 300,
   "metadata": {},
   "outputs": [
    {
     "data": {
      "image/png": "[encoded data removed]",
      "text/plain": [
       "<Figure size 1080x216 with 5 Axes>"
      ]
     },
     "metadata": {
      "needs_background": "light"
     },
     "output_type": "display_data"
    }
   ],
   "source": [
    "g = sns.FacetGrid(phys_medof_top5, col=\"hcpcs_code\").set(xlim=(2014, 2018), ylim=(0, 3500), xticks=[2015, 2016, 2017], yticks=[0, 250, 500, 750, 1000, 1250, 1500, 1750, 2000, 2250, 2500, 2750, 3000, 3250, 3500])\n",
    "g = g.map(plt.plot, \"year\", \"average_medicare_allowed_amt\")"
   ]
  },
  {
   "cell_type": "markdown",
   "metadata": {},
   "source": [
    "phys_medio_top5.to_csv('phys_med_io.csv')\n",
    "phys_medif_top5.to_csv('phys_med_if.csv')\n",
    "phys_medoo_top5.to_csv('phys_med_oo.csv')\n",
    "phys_medof_top5.to_csv('phys_med_of.csv')"
   ]
  },
  {
   "cell_type": "code",
   "execution_count": 301,
   "metadata": {},
   "outputs": [
    {
     "name": "stdout",
     "output_type": "stream",
     "text": [
      "     hcpcs_code  srvc_cnt_17  srvc_cnt_16  srvc_cnt_15  16/17_srvc_chng  \\\n",
      "2135      90670    1065891.0    1888401.0    3081734.0         822510.0   \n",
      "2635      99213   91046163.0   95594961.0   92561066.0        4548798.0   \n",
      "2636      99214   93946526.0   95071541.0   88251448.0        1125015.0   \n",
      "2729      G0009    2070585.0    2774033.0    3831076.0         703448.0   \n",
      "2803      G0439    5442886.0    4943145.0    4089078.0         499741.0   \n",
      "\n",
      "      15/16_srvc_chng  15/17_srvc_chng  \n",
      "2135        1193333.0        2015843.0  \n",
      "2635        3033895.0        1514903.0  \n",
      "2636        6820093.0        5695078.0  \n",
      "2729        1057043.0        1760491.0  \n",
      "2803         854067.0        1353808.0  \n"
     ]
    }
   ],
   "source": [
    "print(phys_srvc_io_top5)"
   ]
  },
  {
   "cell_type": "code",
   "execution_count": 302,
   "metadata": {},
   "outputs": [
    {
     "name": "stdout",
     "output_type": "stream",
     "text": [
      "     hcpcs_code  srvc_cnt_17  avg_med_amt_17\n",
      "0         0008M        229.0    17216.800000\n",
      "1         00100         65.0     1349.267352\n",
      "2         00103      71814.0   367896.493568\n",
      "3         00104     132520.0   233469.210848\n",
      "4         00120       2466.0    21347.256790\n",
      "...         ...          ...             ...\n",
      "6043      Q9989         16.0       12.878341\n",
      "6044      R0070     981876.0    61422.786412\n",
      "6045      R0075     467984.0    18920.334264\n",
      "6046      V2632         89.0      113.830000\n",
      "6047      V2785       9009.0   839328.598506\n",
      "\n",
      "[6048 rows x 3 columns]\n"
     ]
    }
   ],
   "source": [
    "phys_17_srvc_group = phys_supp_17.groupby('hcpcs_code').sum()\n",
    "phys_17_srvc_group = phys_17_srvc_group.reset_index()\n",
    "print(phys_17_srvc_group)"
   ]
  },
  {
   "cell_type": "code",
   "execution_count": 303,
   "metadata": {},
   "outputs": [
    {
     "name": "stdout",
     "output_type": "stream",
     "text": [
      "  hcpcs_code  year  srvc_cnt_mil\n",
      "0      90670  2017      2.024985\n",
      "1      99213  2017     96.476303\n",
      "2      99214  2017    101.135852\n",
      "3      G0009  2017      3.381640\n",
      "4      G0439  2017      6.345749\n"
     ]
    }
   ],
   "source": [
    "phys_17_srvcio_top5 = phys_17_srvc_group[phys_17_srvc_group[\"hcpcs_code\"].isin(['90670', '99213', '99214', 'G0009', 'G0439'])]\n",
    "phys_17_srvcio_top5 = phys_17_srvcio_top5.reset_index()\n",
    "phys_17_srvcio_top5['year'] = 2017\n",
    "phys_17_srvcio_top5['srvc_cnt_mil'] = phys_17_srvcio_top5['srvc_cnt_17']/1000000\n",
    "phys_17_srvcio_top5 = phys_17_srvcio_top5.drop(columns={'avg_med_amt_17', 'index', 'srvc_cnt_17'})\n",
    "print(phys_17_srvcio_top5)"
   ]
  },
  {
   "cell_type": "code",
   "execution_count": 304,
   "metadata": {},
   "outputs": [
    {
     "name": "stdout",
     "output_type": "stream",
     "text": [
      "     hcpcs_code  srvc_cnt_16  avg_med_amt_16\n",
      "0         0008M        197.0    10258.259329\n",
      "1         00100         37.0      872.927825\n",
      "2         00103      79941.0   410375.098923\n",
      "3         00104     146661.0   251640.795949\n",
      "4         0010M      13453.0      333.559722\n",
      "...         ...          ...             ...\n",
      "6017      Q9983        372.0    36855.942632\n",
      "6018      R0070    1064578.0    71302.538438\n",
      "6019      R0075     462093.0    20941.261282\n",
      "6020      V2632         98.0      113.040000\n",
      "6021      V2785       9326.0   947356.584602\n",
      "\n",
      "[6022 rows x 3 columns]\n"
     ]
    }
   ],
   "source": [
    "phys_16_srvc_group = phys_supp_16.groupby('hcpcs_code').sum()\n",
    "phys_16_srvc_group = phys_16_srvc_group.reset_index()\n",
    "print(phys_16_srvc_group)"
   ]
  },
  {
   "cell_type": "code",
   "execution_count": 305,
   "metadata": {},
   "outputs": [
    {
     "name": "stdout",
     "output_type": "stream",
     "text": [
      "  hcpcs_code  year  srvc_cnt_mil\n",
      "0      90670  2016      3.778629\n",
      "1      99213  2016    112.302118\n",
      "2      99214  2016    112.213273\n",
      "3      G0009  2016      4.844952\n",
      "4      G0439  2016      6.047432\n"
     ]
    }
   ],
   "source": [
    "phys_16_srvcio_top5 = phys_16_srvc_group[phys_16_srvc_group[\"hcpcs_code\"].isin(['90670', '99213', '99214', 'G0009', 'G0439'])]\n",
    "phys_16_srvcio_top5 = phys_16_srvcio_top5.reset_index()\n",
    "phys_16_srvcio_top5['year'] = 2016\n",
    "phys_16_srvcio_top5['srvc_cnt_mil'] = phys_16_srvcio_top5['srvc_cnt_16']/1000000\n",
    "phys_16_srvcio_top5 = phys_16_srvcio_top5.drop(columns={'avg_med_amt_16', 'index', 'srvc_cnt_16'})\n",
    "print(phys_16_srvcio_top5)"
   ]
  },
  {
   "cell_type": "code",
   "execution_count": 306,
   "metadata": {},
   "outputs": [
    {
     "name": "stdout",
     "output_type": "stream",
     "text": [
      "     hcpcs_code  srvc_cnt_15  avg_med_amt_15\n",
      "0         00100         60.0     1066.331227\n",
      "1         00102        130.0      475.994695\n",
      "2         00103      77075.0   405125.220471\n",
      "3         00104     148494.0   255799.426377\n",
      "4         00120       2422.0    22380.313195\n",
      "...         ...          ...             ...\n",
      "5978      Q9979        332.0    10352.470661\n",
      "5979      R0070    1109199.0    72810.800828\n",
      "5980      R0075     484311.0    20569.550416\n",
      "5981      V2632        103.0      113.490000\n",
      "5982      V2785      10898.0   864829.864820\n",
      "\n",
      "[5983 rows x 3 columns]\n"
     ]
    }
   ],
   "source": [
    "phys_15_srvc_group = phys_supp_15.groupby('hcpcs_code').sum()\n",
    "phys_15_srvc_group = phys_15_srvc_group.reset_index()\n",
    "print(phys_15_srvc_group)"
   ]
  },
  {
   "cell_type": "code",
   "execution_count": 307,
   "metadata": {},
   "outputs": [
    {
     "name": "stdout",
     "output_type": "stream",
     "text": [
      "  hcpcs_code  year  srvc_cnt_mil\n",
      "0      90670  2015      5.655305\n",
      "1      99213  2015    112.372468\n",
      "2      99214  2015    107.330867\n",
      "3      G0009  2015      6.260595\n",
      "4      G0439  2015      4.858574\n"
     ]
    }
   ],
   "source": [
    "phys_15_srvcio_top5 = phys_15_srvc_group[phys_15_srvc_group[\"hcpcs_code\"].isin(['90670', '99213', '99214', 'G0009', 'G0439'])]\n",
    "phys_15_srvcio_top5 = phys_15_srvcio_top5.reset_index()\n",
    "phys_15_srvcio_top5['year'] = 2015\n",
    "phys_15_srvcio_top5['srvc_cnt_mil'] = phys_15_srvcio_top5['srvc_cnt_15']/1000000\n",
    "phys_15_srvcio_top5 = phys_15_srvcio_top5.drop(columns={'avg_med_amt_15', 'index', 'srvc_cnt_15'})\n",
    "print(phys_15_srvcio_top5)"
   ]
  },
  {
   "cell_type": "code",
   "execution_count": 308,
   "metadata": {},
   "outputs": [
    {
     "name": "stdout",
     "output_type": "stream",
     "text": [
      "   hcpcs_code  year  srvc_cnt_mil\n",
      "0       90670  2017      2.024985\n",
      "1       99213  2017     96.476303\n",
      "2       99214  2017    101.135852\n",
      "3       G0009  2017      3.381640\n",
      "4       G0439  2017      6.345749\n",
      "5       90670  2016      3.778629\n",
      "6       99213  2016    112.302118\n",
      "7       99214  2016    112.213273\n",
      "8       G0009  2016      4.844952\n",
      "9       G0439  2016      6.047432\n",
      "10      90670  2015      5.655305\n",
      "11      99213  2015    112.372468\n",
      "12      99214  2015    107.330867\n",
      "13      G0009  2015      6.260595\n",
      "14      G0439  2015      4.858574\n"
     ]
    }
   ],
   "source": [
    "phys_srvcio_top5 = pd.concat([phys_17_srvcio_top5, phys_16_srvcio_top5, phys_15_srvcio_top5], ignore_index=True)\n",
    "print(phys_srvcio_top5)"
   ]
  },
  {
   "cell_type": "code",
   "execution_count": 309,
   "metadata": {},
   "outputs": [
    {
     "data": {
      "image/png": "[encoded data removed]",
      "text/plain": [
       "<Figure size 1080x216 with 5 Axes>"
      ]
     },
     "metadata": {
      "needs_background": "light"
     },
     "output_type": "display_data"
    }
   ],
   "source": [
    "g = sns.FacetGrid(phys_srvcio_top5, col=\"hcpcs_code\").set(xlim=(2014, 2018), ylim=(0, 120), xticks=[2015, 2016, 2017], yticks=[0, 12, 24, 36, 48, 60, 72, 84, 96, 108, 120])\n",
    "g = g.map(plt.plot, \"year\", \"srvc_cnt_mil\")"
   ]
  },
  {
   "cell_type": "code",
   "execution_count": 310,
   "metadata": {},
   "outputs": [
    {
     "name": "stdout",
     "output_type": "stream",
     "text": [
      "     hcpcs_code  srvc_cnt_17  srvc_cnt_16  srvc_cnt_15  16/17_srvc_chng  \\\n",
      "2054      71010   15621331.0   16313024.0   16243571.0         691693.0   \n",
      "2056      71020    8003711.0    8453529.0    8767182.0         449818.0   \n",
      "2941      99223    9383693.0    9997169.0    9899220.0         613476.0   \n",
      "2945      99231    5769872.0    6534493.0    6632663.0         764621.0   \n",
      "2946      99232   42815070.0   45812633.0   45516102.0        2997563.0   \n",
      "\n",
      "      15/16_srvc_chng  15/17_srvc_chng  \n",
      "2054          69453.0         622240.0  \n",
      "2056         313653.0         763471.0  \n",
      "2941          97949.0         515527.0  \n",
      "2945          98170.0         862791.0  \n",
      "2946         296531.0        2701032.0  \n"
     ]
    }
   ],
   "source": [
    "print(phys_srvc_if_top5)"
   ]
  },
  {
   "cell_type": "code",
   "execution_count": 311,
   "metadata": {},
   "outputs": [
    {
     "name": "stdout",
     "output_type": "stream",
     "text": [
      "  hcpcs_code  year  srvc_cnt_mil\n",
      "0      71010  2017     16.407982\n",
      "1      71020  2017     12.082669\n",
      "2      99223  2017     10.338909\n",
      "3      99231  2017      6.907843\n",
      "4      99232  2017     45.186732\n"
     ]
    }
   ],
   "source": [
    "phys_17_srvcif_top5 = phys_17_srvc_group[phys_17_srvc_group[\"hcpcs_code\"].isin(['71010', '71020', '99223', '99231', '99232'])]\n",
    "phys_17_srvcif_top5 = phys_17_srvcif_top5.reset_index()\n",
    "phys_17_srvcif_top5['year'] = 2017\n",
    "phys_17_srvcif_top5['srvc_cnt_mil'] = phys_17_srvcif_top5['srvc_cnt_17']/1000000\n",
    "phys_17_srvcif_top5 = phys_17_srvcif_top5.drop(columns={'avg_med_amt_17', 'index', 'srvc_cnt_17'})\n",
    "print(phys_17_srvcif_top5)"
   ]
  },
  {
   "cell_type": "code",
   "execution_count": 312,
   "metadata": {},
   "outputs": [
    {
     "name": "stdout",
     "output_type": "stream",
     "text": [
      "  hcpcs_code  year  srvc_cnt_mil\n",
      "0      71010  2016     18.081072\n",
      "1      71020  2016     13.469534\n",
      "2      99223  2016     11.328227\n",
      "3      99231  2016      8.245921\n",
      "4      99232  2016     50.018533\n"
     ]
    }
   ],
   "source": [
    "phys_16_srvcif_top5 = phys_16_srvc_group[phys_16_srvc_group[\"hcpcs_code\"].isin(['71010', '71020', '99223', '99231', '99232'])]\n",
    "phys_16_srvcif_top5 = phys_16_srvcif_top5.reset_index()\n",
    "phys_16_srvcif_top5['year'] = 2016\n",
    "phys_16_srvcif_top5['srvc_cnt_mil'] = phys_16_srvcif_top5['srvc_cnt_16']/1000000\n",
    "phys_16_srvcif_top5 = phys_16_srvcif_top5.drop(columns={'avg_med_amt_16', 'index', 'srvc_cnt_16'})\n",
    "print(phys_16_srvcif_top5)"
   ]
  },
  {
   "cell_type": "code",
   "execution_count": 313,
   "metadata": {},
   "outputs": [
    {
     "name": "stdout",
     "output_type": "stream",
     "text": [
      "  hcpcs_code  year  srvc_cnt_mil\n",
      "0      71010  2015     18.369140\n",
      "1      71020  2015     13.735138\n",
      "2      99223  2015     11.434881\n",
      "3      99231  2015      8.824792\n",
      "4      99232  2015     50.381203\n"
     ]
    }
   ],
   "source": [
    "phys_15_srvcif_top5 = phys_15_srvc_group[phys_15_srvc_group[\"hcpcs_code\"].isin(['71010', '71020', '99223', '99231', '99232'])]\n",
    "phys_15_srvcif_top5 = phys_15_srvcif_top5.reset_index()\n",
    "phys_15_srvcif_top5['year'] = 2015\n",
    "phys_15_srvcif_top5['srvc_cnt_mil'] = phys_15_srvcif_top5['srvc_cnt_15']/1000000\n",
    "phys_15_srvcif_top5 = phys_15_srvcif_top5.drop(columns={'avg_med_amt_15', 'index', 'srvc_cnt_15'})\n",
    "print(phys_15_srvcif_top5)"
   ]
  },
  {
   "cell_type": "code",
   "execution_count": 314,
   "metadata": {},
   "outputs": [
    {
     "name": "stdout",
     "output_type": "stream",
     "text": [
      "   hcpcs_code  year  srvc_cnt_mil\n",
      "0       71010  2017     16.407982\n",
      "1       71020  2017     12.082669\n",
      "2       99223  2017     10.338909\n",
      "3       99231  2017      6.907843\n",
      "4       99232  2017     45.186732\n",
      "5       71010  2016     18.081072\n",
      "6       71020  2016     13.469534\n",
      "7       99223  2016     11.328227\n",
      "8       99231  2016      8.245921\n",
      "9       99232  2016     50.018533\n",
      "10      71010  2015     18.369140\n",
      "11      71020  2015     13.735138\n",
      "12      99223  2015     11.434881\n",
      "13      99231  2015      8.824792\n",
      "14      99232  2015     50.381203\n"
     ]
    }
   ],
   "source": [
    "phys_srvcif_top5 = pd.concat([phys_17_srvcif_top5, phys_16_srvcif_top5, phys_15_srvcif_top5], ignore_index=True)\n",
    "print(phys_srvcif_top5)"
   ]
  },
  {
   "cell_type": "code",
   "execution_count": 315,
   "metadata": {},
   "outputs": [
    {
     "data": {
      "image/png": "[encoded data removed]",
      "text/plain": [
       "<Figure size 1080x216 with 5 Axes>"
      ]
     },
     "metadata": {
      "needs_background": "light"
     },
     "output_type": "display_data"
    }
   ],
   "source": [
    "g = sns.FacetGrid(phys_srvcif_top5, col=\"hcpcs_code\").set(xlim=(2014, 2018), ylim=(0, 54), xticks=[2015, 2016, 2017], yticks=[0, 6, 12, 18, 24, 30, 36, 42, 48, 54])\n",
    "g = g.map(plt.plot, \"year\", \"srvc_cnt_mil\")"
   ]
  },
  {
   "cell_type": "code",
   "execution_count": 316,
   "metadata": {},
   "outputs": [
    {
     "name": "stdout",
     "output_type": "stream",
     "text": [
      "     hcpcs_code  srvc_cnt_17  srvc_cnt_16  srvc_cnt_15  16/17_srvc_chng  \\\n",
      "291       80053   23506436.0   23564980.0   22661369.0          58544.0   \n",
      "561       83036   10751257.0   10501332.0    9855267.0         249925.0   \n",
      "731       85025   20295417.0   20247232.0   19369083.0          48185.0   \n",
      "789       85610    5476487.0    6248387.0    6842974.0         771900.0   \n",
      "1384      G0008    7548685.0    6743827.0    6657914.0         804858.0   \n",
      "\n",
      "      15/16_srvc_chng  15/17_srvc_chng  \n",
      "291          903611.0         845067.0  \n",
      "561          646065.0         895990.0  \n",
      "731          878149.0         926334.0  \n",
      "789          594587.0        1366487.0  \n",
      "1384          85913.0         890771.0  \n"
     ]
    }
   ],
   "source": [
    "print(phys_srvc_oo_top5)"
   ]
  },
  {
   "cell_type": "code",
   "execution_count": 317,
   "metadata": {},
   "outputs": [
    {
     "name": "stdout",
     "output_type": "stream",
     "text": [
      "  hcpcs_code  year  srvc_cnt_mil\n",
      "0      80053  2017     28.827450\n",
      "1      83036  2017     14.659924\n",
      "2      85025  2017     29.676379\n",
      "3      85610  2017     10.702525\n",
      "4      G0008  2017     14.022139\n"
     ]
    }
   ],
   "source": [
    "phys_17_srvcoo_top5 = phys_17_srvc_group[phys_17_srvc_group[\"hcpcs_code\"].isin(['80053', '83036', '85025', '85610', 'G0008'])]\n",
    "phys_17_srvcoo_top5 = phys_17_srvcoo_top5.reset_index()\n",
    "phys_17_srvcoo_top5['year'] = 2017\n",
    "phys_17_srvcoo_top5['srvc_cnt_mil'] = phys_17_srvcoo_top5['srvc_cnt_17']/1000000\n",
    "phys_17_srvcoo_top5 = phys_17_srvcoo_top5.drop(columns={'avg_med_amt_17', 'index', 'srvc_cnt_17'})\n",
    "print(phys_17_srvcoo_top5)"
   ]
  },
  {
   "cell_type": "code",
   "execution_count": 318,
   "metadata": {},
   "outputs": [
    {
     "name": "stdout",
     "output_type": "stream",
     "text": [
      "  hcpcs_code  year  srvc_cnt_mil\n",
      "0      80053  2016     32.972647\n",
      "1      83036  2016     16.633001\n",
      "2      85025  2016     34.225296\n",
      "3      85610  2016     14.596628\n",
      "4      G0008  2016     15.848625\n"
     ]
    }
   ],
   "source": [
    "phys_16_srvcoo_top5 = phys_16_srvc_group[phys_16_srvc_group[\"hcpcs_code\"].isin(['80053', '83036', '85025', '85610', 'G0008'])]\n",
    "phys_16_srvcoo_top5 = phys_16_srvcoo_top5.reset_index()\n",
    "phys_16_srvcoo_top5['year'] = 2016\n",
    "phys_16_srvcoo_top5['srvc_cnt_mil'] = phys_16_srvcoo_top5['srvc_cnt_16']/1000000\n",
    "phys_16_srvcoo_top5 = phys_16_srvcoo_top5.drop(columns={'avg_med_amt_16', 'index', 'srvc_cnt_16'})\n",
    "print(phys_16_srvcoo_top5)"
   ]
  },
  {
   "cell_type": "code",
   "execution_count": 319,
   "metadata": {},
   "outputs": [
    {
     "name": "stdout",
     "output_type": "stream",
     "text": [
      "  hcpcs_code  year  srvc_cnt_mil\n",
      "0      80053  2015     32.248417\n",
      "1      83036  2015     15.927256\n",
      "2      85025  2015     33.923805\n",
      "3      85610  2015     16.572815\n",
      "4      G0008  2015     15.624311\n"
     ]
    }
   ],
   "source": [
    "phys_15_srvcoo_top5 = phys_15_srvc_group[phys_15_srvc_group[\"hcpcs_code\"].isin(['80053', '83036', '85025', '85610', 'G0008'])]\n",
    "phys_15_srvcoo_top5 = phys_15_srvcoo_top5.reset_index()\n",
    "phys_15_srvcoo_top5['year'] = 2015\n",
    "phys_15_srvcoo_top5['srvc_cnt_mil'] = phys_15_srvcoo_top5['srvc_cnt_15']/1000000\n",
    "phys_15_srvcoo_top5 = phys_15_srvcoo_top5.drop(columns={'avg_med_amt_15', 'index', 'srvc_cnt_15'})\n",
    "print(phys_15_srvcoo_top5)"
   ]
  },
  {
   "cell_type": "code",
   "execution_count": 320,
   "metadata": {},
   "outputs": [
    {
     "name": "stdout",
     "output_type": "stream",
     "text": [
      "   hcpcs_code  year  srvc_cnt_mil\n",
      "0       80053  2017     28.827450\n",
      "1       83036  2017     14.659924\n",
      "2       85025  2017     29.676379\n",
      "3       85610  2017     10.702525\n",
      "4       G0008  2017     14.022139\n",
      "5       80053  2016     32.972647\n",
      "6       83036  2016     16.633001\n",
      "7       85025  2016     34.225296\n",
      "8       85610  2016     14.596628\n",
      "9       G0008  2016     15.848625\n",
      "10      80053  2015     32.248417\n",
      "11      83036  2015     15.927256\n",
      "12      85025  2015     33.923805\n",
      "13      85610  2015     16.572815\n",
      "14      G0008  2015     15.624311\n"
     ]
    }
   ],
   "source": [
    "phys_srvcoo_top5 = pd.concat([phys_17_srvcoo_top5, phys_16_srvcoo_top5, phys_15_srvcoo_top5], ignore_index=True)\n",
    "print(phys_srvcoo_top5)"
   ]
  },
  {
   "cell_type": "code",
   "execution_count": 321,
   "metadata": {
    "scrolled": true
   },
   "outputs": [
    {
     "data": {
      "image/png": "[encoded data removed]",
      "text/plain": [
       "<Figure size 1080x216 with 5 Axes>"
      ]
     },
     "metadata": {
      "needs_background": "light"
     },
     "output_type": "display_data"
    }
   ],
   "source": [
    "g = sns.FacetGrid(phys_srvcoo_top5, col=\"hcpcs_code\").set(xlim=(2014, 2018), ylim=(0, 36), xticks=[2015, 2016, 2017], yticks=[0, 3, 6, 9, 12, 15, 18, 21, 24, 27, 30, 33, 36])\n",
    "g = g.map(plt.plot, \"year\", \"srvc_cnt_mil\")"
   ]
  },
  {
   "cell_type": "code",
   "execution_count": 322,
   "metadata": {},
   "outputs": [
    {
     "name": "stdout",
     "output_type": "stream",
     "text": [
      "    hcpcs_code  srvc_cnt_17  srvc_cnt_16  srvc_cnt_15  16/17_srvc_chng  \\\n",
      "836      85610      30861.0      94170.0     144353.0          63309.0   \n",
      "948      A0427    5602953.0    5573065.0    5519115.0          29888.0   \n",
      "949      A0428    4125995.0    4254642.0    4349497.0         128647.0   \n",
      "977      G0471    3175479.0    3106023.0    2979164.0          69456.0   \n",
      "989      P9603    1381163.0    1453607.0    1466905.0          72444.0   \n",
      "\n",
      "     15/16_srvc_chng  15/17_srvc_chng  \n",
      "836          50183.0         113492.0  \n",
      "948          53950.0          83838.0  \n",
      "949          94855.0         223502.0  \n",
      "977         126859.0         196315.0  \n",
      "989          13298.0          85742.0  \n"
     ]
    }
   ],
   "source": [
    "print(phys_srvc_of_top5)"
   ]
  },
  {
   "cell_type": "code",
   "execution_count": 323,
   "metadata": {},
   "outputs": [
    {
     "name": "stdout",
     "output_type": "stream",
     "text": [
      "  hcpcs_code  year  srvc_cnt_mil\n",
      "0      85610  2017     10.702525\n",
      "1      A0427  2017      5.018635\n",
      "2      A0428  2017      3.916084\n",
      "3      G0471  2017      3.634055\n",
      "4      P9603  2017      3.565691\n"
     ]
    }
   ],
   "source": [
    "phys_17_srvcof_top5 = phys_17_srvc_group[phys_17_srvc_group[\"hcpcs_code\"].isin(['85610', 'A0427', 'A0428', 'G0471', 'P9603'])]\n",
    "phys_17_srvcof_top5 = phys_17_srvcof_top5.reset_index()\n",
    "phys_17_srvcof_top5['year'] = 2017\n",
    "phys_17_srvcof_top5['srvc_cnt_mil'] = phys_17_srvcof_top5['srvc_cnt_17']/1000000\n",
    "phys_17_srvcof_top5 = phys_17_srvcof_top5.drop(columns={'avg_med_amt_17', 'index', 'srvc_cnt_17'})\n",
    "print(phys_17_srvcof_top5)"
   ]
  },
  {
   "cell_type": "code",
   "execution_count": 324,
   "metadata": {},
   "outputs": [
    {
     "name": "stdout",
     "output_type": "stream",
     "text": [
      "  hcpcs_code  year  srvc_cnt_mil\n",
      "0      85610  2016     14.596628\n",
      "1      A0427  2016      5.679607\n",
      "2      A0428  2016      4.453641\n",
      "3      G0471  2016      4.559110\n",
      "4      P9603  2016      4.663791\n"
     ]
    }
   ],
   "source": [
    "phys_16_srvcof_top5 = phys_16_srvc_group[phys_16_srvc_group[\"hcpcs_code\"].isin(['85610', 'A0427', 'A0428', 'G0471', 'P9603'])]\n",
    "phys_16_srvcof_top5 = phys_16_srvcof_top5.reset_index()\n",
    "phys_16_srvcof_top5['year'] = 2016\n",
    "phys_16_srvcof_top5['srvc_cnt_mil'] = phys_16_srvcof_top5['srvc_cnt_16']/1000000\n",
    "phys_16_srvcof_top5 = phys_16_srvcof_top5.drop(columns={'avg_med_amt_16', 'index', 'srvc_cnt_16'})\n",
    "print(phys_16_srvcof_top5)"
   ]
  },
  {
   "cell_type": "code",
   "execution_count": 325,
   "metadata": {},
   "outputs": [
    {
     "name": "stdout",
     "output_type": "stream",
     "text": [
      "  hcpcs_code  year  srvc_cnt_mil\n",
      "0      85610  2015     16.572815\n",
      "1      A0427  2015      5.662929\n",
      "2      A0428  2015      4.780294\n",
      "3      G0471  2015      4.549116\n",
      "4      P9603  2015      4.835074\n"
     ]
    }
   ],
   "source": [
    "phys_15_srvcof_top5 = phys_15_srvc_group[phys_15_srvc_group[\"hcpcs_code\"].isin(['85610', 'A0427', 'A0428', 'G0471', 'P9603'])]\n",
    "phys_15_srvcof_top5 = phys_15_srvcof_top5.reset_index()\n",
    "phys_15_srvcof_top5['year'] = 2015\n",
    "phys_15_srvcof_top5['srvc_cnt_mil'] = phys_15_srvcof_top5['srvc_cnt_15']/1000000\n",
    "phys_15_srvcof_top5 = phys_15_srvcof_top5.drop(columns={'avg_med_amt_15', 'index', 'srvc_cnt_15'})\n",
    "print(phys_15_srvcof_top5)"
   ]
  },
  {
   "cell_type": "code",
   "execution_count": 326,
   "metadata": {},
   "outputs": [
    {
     "name": "stdout",
     "output_type": "stream",
     "text": [
      "   hcpcs_code  year  srvc_cnt_mil\n",
      "0       85610  2017     10.702525\n",
      "1       A0427  2017      5.018635\n",
      "2       A0428  2017      3.916084\n",
      "3       G0471  2017      3.634055\n",
      "4       P9603  2017      3.565691\n",
      "5       85610  2016     14.596628\n",
      "6       A0427  2016      5.679607\n",
      "7       A0428  2016      4.453641\n",
      "8       G0471  2016      4.559110\n",
      "9       P9603  2016      4.663791\n",
      "10      85610  2015     16.572815\n",
      "11      A0427  2015      5.662929\n",
      "12      A0428  2015      4.780294\n",
      "13      G0471  2015      4.549116\n",
      "14      P9603  2015      4.835074\n"
     ]
    }
   ],
   "source": [
    "phys_srvcof_top5 = pd.concat([phys_17_srvcof_top5, phys_16_srvcof_top5, phys_15_srvcof_top5], ignore_index=True)\n",
    "print(phys_srvcof_top5)"
   ]
  },
  {
   "cell_type": "code",
   "execution_count": 327,
   "metadata": {},
   "outputs": [
    {
     "data": {
      "image/png": "[encoded data removed]",
      "text/plain": [
       "<Figure size 1080x216 with 5 Axes>"
      ]
     },
     "metadata": {
      "needs_background": "light"
     },
     "output_type": "display_data"
    }
   ],
   "source": [
    "g = sns.FacetGrid(phys_srvcof_top5, col=\"hcpcs_code\").set(xlim=(2014, 2018), ylim=(0, 18), xticks=[2015, 2016, 2017], yticks=[0, 2, 4, 6, 8, 10, 12, 14, 16, 18])\n",
    "g = g.map(plt.plot, \"year\", \"srvc_cnt_mil\")"
   ]
  },
  {
   "cell_type": "markdown",
   "metadata": {},
   "source": [
    "phys_srvcio_top5.to_csv('phys_srvc_io.csv')\n",
    "phys_srvcif_top5.to_csv('phys_srvc_if.csv')\n",
    "phys_srvcoo_top5.to_csv('phys_srvc_oo.csv')\n",
    "phys_srvcof_top5.to_csv('phys_srvc_of.csv')"
   ]
  },
  {
   "cell_type": "code",
   "execution_count": 328,
   "metadata": {},
   "outputs": [
    {
     "name": "stdout",
     "output_type": "stream",
     "text": [
      "<class 'pandas.core.frame.DataFrame'>\n",
      "RangeIndex: 16628 entries, 0 to 16627\n",
      "Data columns (total 2 columns):\n",
      " #   Column      Non-Null Count  Dtype \n",
      "---  ------      --------------  ----- \n",
      " 0   HCPCS Code  16628 non-null  object\n",
      " 1   APC         5942 non-null   object\n",
      "dtypes: object(2)\n",
      "memory usage: 259.9+ KB\n",
      "None\n"
     ]
    }
   ],
   "source": [
    "print(apc_cw.info())"
   ]
  },
  {
   "cell_type": "code",
   "execution_count": 329,
   "metadata": {},
   "outputs": [
    {
     "name": "stdout",
     "output_type": "stream",
     "text": [
      "<class 'pandas.core.frame.DataFrame'>\n",
      "Int64Index: 6842256 entries, 0 to 6842255\n",
      "Data columns (total 18 columns):\n",
      " #   Column                        Dtype  \n",
      "---  ------                        -----  \n",
      " 0   npi                           object \n",
      " 1   nppes_provider_last_org_name  object \n",
      " 2   nppes_entity_code             object \n",
      " 3   nppes_provider_state          object \n",
      " 4   provider_type                 object \n",
      " 5   place_of_service              object \n",
      " 6   hcpcs_code                    object \n",
      " 7   srvc_cnt_17                   float64\n",
      " 8   avg_med_amt_17                float64\n",
      " 9   srvc_cnt_16                   float64\n",
      " 10  avg_med_amt_16                float64\n",
      " 11  nppes_provider_zip            object \n",
      " 12  srvc_cnt_15                   float64\n",
      " 13  avg_med_amt_15                float64\n",
      " 14  ZIP                           object \n",
      " 15  CBSA                          object \n",
      " 16  HCPCS Code                    object \n",
      " 17  APC                           object \n",
      "dtypes: float64(6), object(12)\n",
      "memory usage: 991.8+ MB\n",
      "None\n"
     ]
    }
   ],
   "source": [
    "phys_join_apc = pd.merge(phys_join, apc_cw, how='left', left_on='hcpcs_code', right_on='HCPCS Code')\n",
    "phys_nyc_apc = phys_join_apc[phys_join_apc['CBSA'] == '35620']\n",
    "phys_nyc_apc = phys_nyc_apc[phys_nyc_apc['APC'] == '5302']\n",
    "phys_nash_apc = phys_join_apc[phys_join_apc['CBSA'] == '34980']\n",
    "phys_nash_apc = phys_nash_apc[phys_nash_apc['APC'] == '5302']\n",
    "print(phys_join_apc.info())"
   ]
  },
  {
   "cell_type": "code",
   "execution_count": 330,
   "metadata": {},
   "outputs": [
    {
     "name": "stdout",
     "output_type": "stream",
     "text": [
      "<class 'pandas.core.frame.DataFrame'>\n",
      "Int64Index: 352 entries, 14774 to 6803361\n",
      "Data columns (total 10 columns):\n",
      " #   Column             Non-Null Count  Dtype  \n",
      "---  ------             --------------  -----  \n",
      " 0   npi                352 non-null    object \n",
      " 1   nppes_entity_code  352 non-null    object \n",
      " 2   place_of_service   352 non-null    object \n",
      " 3   hcpcs_code         352 non-null    object \n",
      " 4   avg_med_amt_17     352 non-null    float64\n",
      " 5   avg_med_amt_16     352 non-null    float64\n",
      " 6   avg_med_amt_15     352 non-null    float64\n",
      " 7   ZIP                352 non-null    object \n",
      " 8   CBSA               352 non-null    object \n",
      " 9   APC                352 non-null    object \n",
      "dtypes: float64(3), object(7)\n",
      "memory usage: 30.2+ KB\n",
      "None\n",
      "(352, 10)\n"
     ]
    }
   ],
   "source": [
    "phys_nyc_med = phys_nyc_apc.drop(columns={'nppes_provider_last_org_name', 'nppes_provider_zip', 'nppes_provider_state', 'provider_type', 'srvc_cnt_17', 'srvc_cnt_16', 'srvc_cnt_15', 'HCPCS Code'})\n",
    "print(phys_nyc_med.info())\n",
    "print(np.shape(phys_nyc_med))"
   ]
  },
  {
   "cell_type": "code",
   "execution_count": 331,
   "metadata": {},
   "outputs": [
    {
     "name": "stdout",
     "output_type": "stream",
     "text": [
      "(314, 10)\n"
     ]
    }
   ],
   "source": [
    "phys_nycmed_io = phys_nyc_med[phys_nyc_med['nppes_entity_code'] == 'I']\n",
    "print(np.shape(phys_nycmed_io))"
   ]
  },
  {
   "cell_type": "code",
   "execution_count": 332,
   "metadata": {},
   "outputs": [
    {
     "name": "stdout",
     "output_type": "stream",
     "text": [
      "(299, 10)\n"
     ]
    }
   ],
   "source": [
    "phys_nycmed_if = phys_nycmed_io[phys_nycmed_io['place_of_service'] == 'F']\n",
    "print(np.shape(phys_nycmed_if))"
   ]
  },
  {
   "cell_type": "code",
   "execution_count": 333,
   "metadata": {},
   "outputs": [
    {
     "name": "stdout",
     "output_type": "stream",
     "text": [
      "(15, 10)\n"
     ]
    }
   ],
   "source": [
    "phys_nycmed_io = phys_nycmed_io[phys_nycmed_io['place_of_service'] == 'O']\n",
    "print(np.shape(phys_nycmed_io))"
   ]
  },
  {
   "cell_type": "code",
   "execution_count": 334,
   "metadata": {},
   "outputs": [
    {
     "name": "stdout",
     "output_type": "stream",
     "text": [
      "(38, 10)\n"
     ]
    }
   ],
   "source": [
    "phys_nycmed_oo = phys_nyc_med[phys_nyc_med['nppes_entity_code'] == 'O']\n",
    "print(np.shape(phys_nycmed_oo))"
   ]
  },
  {
   "cell_type": "code",
   "execution_count": 335,
   "metadata": {},
   "outputs": [
    {
     "name": "stdout",
     "output_type": "stream",
     "text": [
      "(38, 10)\n"
     ]
    }
   ],
   "source": [
    "phys_nycmed_of = phys_nycmed_oo[phys_nycmed_oo['place_of_service'] == 'F']\n",
    "print(np.shape(phys_nycmed_of))"
   ]
  },
  {
   "cell_type": "code",
   "execution_count": 336,
   "metadata": {},
   "outputs": [
    {
     "name": "stdout",
     "output_type": "stream",
     "text": [
      "(0, 10)\n"
     ]
    }
   ],
   "source": [
    "phys_nycmed_oo = phys_nycmed_oo[phys_nycmed_oo['place_of_service'] == 'O']\n",
    "print(np.shape(phys_nycmed_oo))"
   ]
  },
  {
   "cell_type": "code",
   "execution_count": 337,
   "metadata": {},
   "outputs": [
    {
     "name": "stdout",
     "output_type": "stream",
     "text": [
      "  hcpcs_code  avg_med_amt_17  avg_med_amt_16  avg_med_amt_15\n",
      "0      43202      365.470000      436.490000      444.113182\n",
      "1      43249     1245.390000     1315.700000     1342.295000\n",
      "2      43250      299.219286      351.243333      359.185385\n",
      "3      43251      507.000780      577.436919      586.142142\n",
      "4      44361       99.170000      100.560000      105.576129\n",
      "5      44376      174.390000      177.320000      180.234375\n",
      "6      44377      173.102836      174.600000      182.802039\n"
     ]
    }
   ],
   "source": [
    "phys_nycmed_io_group = phys_nycmed_io.groupby('hcpcs_code').mean()\n",
    "phys_nycmed_io_group = phys_nycmed_io_group.reset_index()\n",
    "print(phys_nycmed_io_group)"
   ]
  },
  {
   "cell_type": "code",
   "execution_count": 338,
   "metadata": {},
   "outputs": [],
   "source": [
    "phys_nycmed_io_group['16/17_med_chng'] = abs(phys_nycmed_io_group['avg_med_amt_17'] - phys_nycmed_io_group['avg_med_amt_16'])\n",
    "phys_nycmed_io_group['15/16_med_chng'] = abs(phys_nycmed_io_group['avg_med_amt_16'] - phys_nycmed_io_group['avg_med_amt_15'])\n",
    "phys_nycmed_io_group['15/17_med_chng'] = abs(phys_nycmed_io_group['avg_med_amt_17'] - phys_nycmed_io_group['avg_med_amt_15'])"
   ]
  },
  {
   "cell_type": "code",
   "execution_count": 339,
   "metadata": {},
   "outputs": [
    {
     "name": "stdout",
     "output_type": "stream",
     "text": [
      "  hcpcs_code  avg_med_amt_17  avg_med_amt_15  15/17_med_chng\n",
      "1      43249     1245.390000     1342.295000       96.905000\n",
      "3      43251      507.000780      586.142142       79.141361\n",
      "0      43202      365.470000      444.113182       78.643182\n",
      "2      43250      299.219286      359.185385       59.966099\n",
      "6      44377      173.102836      182.802039        9.699204\n"
     ]
    }
   ],
   "source": [
    "phys_nycmed_io_1517 = phys_nycmed_io_group.sort_values(by=['15/17_med_chng'], ascending=False).head()\n",
    "phys_nycmed_io_1517 = phys_nycmed_io_1517.drop(columns={'avg_med_amt_16', '15/16_med_chng', '16/17_med_chng'})\n",
    "print(phys_nycmed_io_1517)"
   ]
  },
  {
   "cell_type": "code",
   "execution_count": 340,
   "metadata": {},
   "outputs": [
    {
     "name": "stdout",
     "output_type": "stream",
     "text": [
      "  hcpcs_code  avg_med_amt_17  avg_med_amt_16  avg_med_amt_15  16/17_med_chng  \\\n",
      "0      43202      365.470000      436.490000      444.113182       71.020000   \n",
      "1      43249     1245.390000     1315.700000     1342.295000       70.310000   \n",
      "2      43250      299.219286      351.243333      359.185385       52.024048   \n",
      "3      43251      507.000780      577.436919      586.142142       70.436139   \n",
      "6      44377      173.102836      174.600000      182.802039        1.497164   \n",
      "\n",
      "   15/16_med_chng  15/17_med_chng  \n",
      "0        7.623182       78.643182  \n",
      "1       26.595000       96.905000  \n",
      "2        7.942051       59.966099  \n",
      "3        8.705222       79.141361  \n",
      "6        8.202039        9.699204  \n"
     ]
    }
   ],
   "source": [
    "phys_nycmed_io_top5 = phys_nycmed_io_group[phys_nycmed_io_group[\"hcpcs_code\"].isin(['43249', '43251', '43202', '43250', '44377'])]\n",
    "print(phys_nycmed_io_top5)"
   ]
  },
  {
   "cell_type": "code",
   "execution_count": 341,
   "metadata": {},
   "outputs": [
    {
     "name": "stdout",
     "output_type": "stream",
     "text": [
      "   hcpcs_code  avg_med_amt_17  avg_med_amt_16  avg_med_amt_15\n",
      "0       32556      135.384815      130.238044      136.858214\n",
      "1       43202      115.162586      120.432630      124.007708\n",
      "2       43232      212.145455      242.340000      246.366571\n",
      "3       43237      208.444621      210.099238      219.561114\n",
      "4       43238      258.168537      262.178860      271.907787\n",
      "5       43242      286.794339      292.559185      303.202503\n",
      "6       43245      207.572727      198.783600      211.851111\n",
      "7       43246      203.193368      208.281443      210.654374\n",
      "8       43249      155.913433      156.260290      166.022824\n",
      "9       43251      208.108236      214.809526      215.373035\n",
      "10      43254      303.195000      315.810000      311.060417\n",
      "11      43255      219.810913      224.323301      228.690540\n",
      "12      43259      240.442238      251.333411      258.304250\n",
      "13      43270      256.241802      267.785587      282.259641\n",
      "14      43453       65.770000       64.245455       65.197273\n",
      "15      43830      771.830000      778.490000      780.030741\n",
      "16      44361      144.418578      154.681603      157.626972\n",
      "17      44365      141.273684      179.567105      177.018958\n",
      "18      44376      342.280000      343.535000      355.012500\n",
      "19      44378      480.260000      486.570000      500.181429\n",
      "20      49440      243.811269      258.975714      258.477948\n"
     ]
    }
   ],
   "source": [
    "phys_nycmed_if_group = phys_nycmed_if.groupby('hcpcs_code').mean()\n",
    "phys_nycmed_if_group = phys_nycmed_if_group.reset_index()\n",
    "print(phys_nycmed_if_group)"
   ]
  },
  {
   "cell_type": "code",
   "execution_count": 342,
   "metadata": {},
   "outputs": [],
   "source": [
    "phys_nycmed_if_group['16/17_med_chng'] = abs(phys_nycmed_if_group['avg_med_amt_17'] - phys_nycmed_if_group['avg_med_amt_16'])\n",
    "phys_nycmed_if_group['15/16_med_chng'] = abs(phys_nycmed_if_group['avg_med_amt_16'] - phys_nycmed_if_group['avg_med_amt_15'])\n",
    "phys_nycmed_if_group['15/17_med_chng'] = abs(phys_nycmed_if_group['avg_med_amt_17'] - phys_nycmed_if_group['avg_med_amt_15'])"
   ]
  },
  {
   "cell_type": "code",
   "execution_count": 343,
   "metadata": {},
   "outputs": [
    {
     "name": "stdout",
     "output_type": "stream",
     "text": [
      "   hcpcs_code  avg_med_amt_17  avg_med_amt_15  15/17_med_chng\n",
      "17      44365      141.273684      177.018958       35.745274\n",
      "2       43232      212.145455      246.366571       34.221117\n",
      "13      43270      256.241802      282.259641       26.017839\n",
      "19      44378      480.260000      500.181429       19.921429\n",
      "12      43259      240.442238      258.304250       17.862012\n"
     ]
    }
   ],
   "source": [
    "phys_nycmed_if_1517 = phys_nycmed_if_group.sort_values(by=['15/17_med_chng'], ascending=False).head()\n",
    "phys_nycmed_if_1517 = phys_nycmed_if_1517.drop(columns={'avg_med_amt_16', '15/16_med_chng', '16/17_med_chng'})\n",
    "print(phys_nycmed_if_1517)"
   ]
  },
  {
   "cell_type": "code",
   "execution_count": 344,
   "metadata": {},
   "outputs": [
    {
     "name": "stdout",
     "output_type": "stream",
     "text": [
      "   hcpcs_code  avg_med_amt_17  avg_med_amt_16  avg_med_amt_15  16/17_med_chng  \\\n",
      "2       43232      212.145455      242.340000      246.366571       30.194545   \n",
      "12      43259      240.442238      251.333411      258.304250       10.891173   \n",
      "13      43270      256.241802      267.785587      282.259641       11.543785   \n",
      "17      44365      141.273684      179.567105      177.018958       38.293421   \n",
      "19      44378      480.260000      486.570000      500.181429        6.310000   \n",
      "\n",
      "    15/16_med_chng  15/17_med_chng  \n",
      "2         4.026571       34.221117  \n",
      "12        6.970839       17.862012  \n",
      "13       14.474053       26.017839  \n",
      "17        2.548147       35.745274  \n",
      "19       13.611429       19.921429  \n"
     ]
    }
   ],
   "source": [
    "phys_nycmed_if_top5 = phys_nycmed_if_group[phys_nycmed_if_group[\"hcpcs_code\"].isin(['44365', '43232', '43270', '44378', '43259'])]\n",
    "print(phys_nycmed_if_top5)"
   ]
  },
  {
   "cell_type": "code",
   "execution_count": 345,
   "metadata": {},
   "outputs": [
    {
     "name": "stdout",
     "output_type": "stream",
     "text": [
      "  hcpcs_code  avg_med_amt_17  avg_med_amt_16  avg_med_amt_15\n",
      "0      43237      684.361053      670.476827      670.270000\n",
      "1      43238      696.400000      671.596154      670.270000\n",
      "2      43242      687.236842      698.460000      670.270000\n",
      "3      43249      666.830990      671.700365      644.780703\n",
      "4      43251      650.582628      638.876009      626.663809\n",
      "5      43255      696.400000      698.460000      666.270000\n",
      "6      43259      662.847955      664.559621      647.365183\n",
      "7      44361      626.599946      637.125269      481.337436\n",
      "8      44365      687.114667      698.460000      777.057857\n"
     ]
    }
   ],
   "source": [
    "phys_nycmed_of_group = phys_nycmed_of.groupby('hcpcs_code').mean()\n",
    "phys_nycmed_of_group = phys_nycmed_of_group.reset_index()\n",
    "print(phys_nycmed_of_group)"
   ]
  },
  {
   "cell_type": "code",
   "execution_count": 346,
   "metadata": {},
   "outputs": [],
   "source": [
    "phys_nycmed_of_group['16/17_med_chng'] = abs(phys_nycmed_of_group['avg_med_amt_17'] - phys_nycmed_of_group['avg_med_amt_16'])\n",
    "phys_nycmed_of_group['15/16_med_chng'] = abs(phys_nycmed_of_group['avg_med_amt_16'] - phys_nycmed_of_group['avg_med_amt_15'])\n",
    "phys_nycmed_of_group['15/17_med_chng'] = abs(phys_nycmed_of_group['avg_med_amt_17'] - phys_nycmed_of_group['avg_med_amt_15'])"
   ]
  },
  {
   "cell_type": "code",
   "execution_count": 347,
   "metadata": {},
   "outputs": [
    {
     "name": "stdout",
     "output_type": "stream",
     "text": [
      "  hcpcs_code  avg_med_amt_17  avg_med_amt_15  15/17_med_chng\n",
      "7      44361      626.599946      481.337436      145.262510\n",
      "8      44365      687.114667      777.057857       89.943190\n",
      "5      43255      696.400000      666.270000       30.130000\n",
      "1      43238      696.400000      670.270000       26.130000\n",
      "4      43251      650.582628      626.663809       23.918818\n"
     ]
    }
   ],
   "source": [
    "phys_nycmed_of_1517 = phys_nycmed_of_group.sort_values(by=['15/17_med_chng'], ascending=False).head()\n",
    "phys_nycmed_of_1517 = phys_nycmed_of_1517.drop(columns={'avg_med_amt_16', '15/16_med_chng', '16/17_med_chng'})\n",
    "print(phys_nycmed_of_1517)"
   ]
  },
  {
   "cell_type": "code",
   "execution_count": 348,
   "metadata": {},
   "outputs": [
    {
     "name": "stdout",
     "output_type": "stream",
     "text": [
      "  hcpcs_code  avg_med_amt_17  avg_med_amt_16  avg_med_amt_15  16/17_med_chng  \\\n",
      "1      43238      696.400000      671.596154      670.270000       24.803846   \n",
      "4      43251      650.582628      638.876009      626.663809       11.706619   \n",
      "5      43255      696.400000      698.460000      666.270000        2.060000   \n",
      "7      44361      626.599946      637.125269      481.337436       10.525323   \n",
      "8      44365      687.114667      698.460000      777.057857       11.345333   \n",
      "\n",
      "   15/16_med_chng  15/17_med_chng  \n",
      "1        1.326154       26.130000  \n",
      "4       12.212200       23.918818  \n",
      "5       32.190000       30.130000  \n",
      "7      155.787833      145.262510  \n",
      "8       78.597857       89.943190  \n"
     ]
    }
   ],
   "source": [
    "phys_nycmed_of_top5 = phys_nycmed_of_group[phys_nycmed_of_group[\"hcpcs_code\"].isin(['44361', '44365', '43255', '43238', '43251'])]\n",
    "print(phys_nycmed_of_top5)\n"
   ]
  },
  {
   "cell_type": "code",
   "execution_count": 349,
   "metadata": {},
   "outputs": [
    {
     "name": "stdout",
     "output_type": "stream",
     "text": [
      "<class 'pandas.core.frame.DataFrame'>\n",
      "Int64Index: 45 entries, 56433 to 6652958\n",
      "Data columns (total 10 columns):\n",
      " #   Column             Non-Null Count  Dtype  \n",
      "---  ------             --------------  -----  \n",
      " 0   npi                45 non-null     object \n",
      " 1   nppes_entity_code  45 non-null     object \n",
      " 2   place_of_service   45 non-null     object \n",
      " 3   hcpcs_code         45 non-null     object \n",
      " 4   avg_med_amt_17     45 non-null     float64\n",
      " 5   avg_med_amt_16     45 non-null     float64\n",
      " 6   avg_med_amt_15     45 non-null     float64\n",
      " 7   ZIP                45 non-null     object \n",
      " 8   CBSA               45 non-null     object \n",
      " 9   APC                45 non-null     object \n",
      "dtypes: float64(3), object(7)\n",
      "memory usage: 3.9+ KB\n",
      "None\n",
      "(45, 10)\n"
     ]
    }
   ],
   "source": [
    "phys_nash_med = phys_nash_apc.drop(columns={'nppes_provider_last_org_name', 'nppes_provider_zip', 'nppes_provider_state', 'provider_type', 'srvc_cnt_17', 'srvc_cnt_16', 'srvc_cnt_15', 'HCPCS Code'})\n",
    "print(phys_nash_med.info())\n",
    "print(np.shape(phys_nash_med))\n"
   ]
  },
  {
   "cell_type": "code",
   "execution_count": 350,
   "metadata": {},
   "outputs": [
    {
     "name": "stdout",
     "output_type": "stream",
     "text": [
      "(40, 10)\n"
     ]
    }
   ],
   "source": [
    "phys_nashmed_io = phys_nash_med[phys_nash_med['nppes_entity_code'] == 'I']\n",
    "print(np.shape(phys_nashmed_io))"
   ]
  },
  {
   "cell_type": "code",
   "execution_count": 351,
   "metadata": {},
   "outputs": [
    {
     "name": "stdout",
     "output_type": "stream",
     "text": [
      "(40, 10)\n"
     ]
    }
   ],
   "source": [
    "phys_nashmed_if = phys_nashmed_io[phys_nashmed_io['place_of_service'] == 'F']\n",
    "print(np.shape(phys_nashmed_if))"
   ]
  },
  {
   "cell_type": "code",
   "execution_count": 352,
   "metadata": {},
   "outputs": [
    {
     "name": "stdout",
     "output_type": "stream",
     "text": [
      "(0, 10)\n"
     ]
    }
   ],
   "source": [
    "phys_nashmed_io = phys_nashmed_io[phys_nashmed_io['place_of_service'] == 'O']\n",
    "print(np.shape(phys_nashmed_io))"
   ]
  },
  {
   "cell_type": "code",
   "execution_count": 353,
   "metadata": {},
   "outputs": [
    {
     "name": "stdout",
     "output_type": "stream",
     "text": [
      "(5, 10)\n"
     ]
    }
   ],
   "source": [
    "phys_nashmed_oo = phys_nash_med[phys_nash_med['nppes_entity_code'] == 'O']\n",
    "print(np.shape(phys_nashmed_oo))"
   ]
  },
  {
   "cell_type": "code",
   "execution_count": 354,
   "metadata": {},
   "outputs": [
    {
     "name": "stdout",
     "output_type": "stream",
     "text": [
      "(5, 10)\n"
     ]
    }
   ],
   "source": [
    "phys_nashmed_of = phys_nashmed_oo[phys_nashmed_oo['place_of_service'] == 'F']\n",
    "print(np.shape(phys_nashmed_of))"
   ]
  },
  {
   "cell_type": "code",
   "execution_count": 355,
   "metadata": {},
   "outputs": [
    {
     "name": "stdout",
     "output_type": "stream",
     "text": [
      "(0, 10)\n"
     ]
    }
   ],
   "source": [
    "phys_nashmed_oo = phys_nashmed_oo[phys_nashmed_oo['place_of_service'] == 'O']\n",
    "print(np.shape(phys_nashmed_oo))"
   ]
  },
  {
   "cell_type": "code",
   "execution_count": 356,
   "metadata": {},
   "outputs": [
    {
     "name": "stdout",
     "output_type": "stream",
     "text": [
      "   hcpcs_code  avg_med_amt_17  avg_med_amt_16  avg_med_amt_15\n",
      "0       43237      178.998103      189.639706      179.476444\n",
      "1       43238      220.887719      222.845933      223.782841\n",
      "2       43242      252.304635      255.692073      261.040951\n",
      "3       43244      231.354452      237.100956      241.231276\n",
      "4       43245      146.805882      149.642500      153.717000\n",
      "5       43246      189.151543      193.383670      196.176953\n",
      "6       43249      126.357797      131.560731      133.948455\n",
      "7       43251      161.439097      159.815451      173.465503\n",
      "8       43255      181.330476      190.974667      173.094706\n",
      "9       43259      215.227656      217.664771      220.302689\n",
      "10      43270      211.643846      232.940000      234.395000\n",
      "11      49440      201.194211      213.463824      210.524615\n"
     ]
    }
   ],
   "source": [
    "phys_nashmed_if_group = phys_nashmed_if.groupby('hcpcs_code').mean()\n",
    "phys_nashmed_if_group = phys_nashmed_if_group.reset_index()\n",
    "print(phys_nashmed_if_group)"
   ]
  },
  {
   "cell_type": "code",
   "execution_count": 357,
   "metadata": {},
   "outputs": [],
   "source": [
    "phys_nashmed_if_group['16/17_med_chng'] = abs(phys_nashmed_if_group['avg_med_amt_17'] - phys_nashmed_if_group['avg_med_amt_16'])\n",
    "phys_nashmed_if_group['15/16_med_chng'] = abs(phys_nashmed_if_group['avg_med_amt_16'] - phys_nashmed_if_group['avg_med_amt_15'])\n",
    "phys_nashmed_if_group['15/17_med_chng'] = abs(phys_nashmed_if_group['avg_med_amt_17'] - phys_nashmed_if_group['avg_med_amt_15'])"
   ]
  },
  {
   "cell_type": "code",
   "execution_count": 358,
   "metadata": {},
   "outputs": [
    {
     "name": "stdout",
     "output_type": "stream",
     "text": [
      "   hcpcs_code  avg_med_amt_17  avg_med_amt_15  15/17_med_chng\n",
      "10      43270      211.643846      234.395000       22.751154\n",
      "7       43251      161.439097      173.465503       12.026406\n",
      "3       43244      231.354452      241.231276        9.876824\n",
      "11      49440      201.194211      210.524615        9.330405\n",
      "2       43242      252.304635      261.040951        8.736316\n"
     ]
    }
   ],
   "source": [
    "phys_nashmed_if_1517 = phys_nashmed_if_group.sort_values(by=['15/17_med_chng'], ascending=False).head()\n",
    "phys_nashmed_if_1517 = phys_nashmed_if_1517.drop(columns={'avg_med_amt_16', '15/16_med_chng', '16/17_med_chng'})\n",
    "print(phys_nashmed_if_1517)"
   ]
  },
  {
   "cell_type": "code",
   "execution_count": 359,
   "metadata": {},
   "outputs": [
    {
     "name": "stdout",
     "output_type": "stream",
     "text": [
      "   hcpcs_code  avg_med_amt_17  avg_med_amt_16  avg_med_amt_15  16/17_med_chng  \\\n",
      "2       43242      252.304635      255.692073      261.040951        3.387437   \n",
      "3       43244      231.354452      237.100956      241.231276        5.746504   \n",
      "7       43251      161.439097      159.815451      173.465503        1.623646   \n",
      "10      43270      211.643846      232.940000      234.395000       21.296154   \n",
      "11      49440      201.194211      213.463824      210.524615       12.269613   \n",
      "\n",
      "    15/16_med_chng  15/17_med_chng  \n",
      "2         5.348879        8.736316  \n",
      "3         4.130320        9.876824  \n",
      "7        13.650052       12.026406  \n",
      "10        1.455000       22.751154  \n",
      "11        2.939208        9.330405  \n"
     ]
    }
   ],
   "source": [
    "phys_nashmed_if_top5 = phys_nashmed_if_group[phys_nashmed_if_group[\"hcpcs_code\"].isin(['43270', '43251', '43244', '49440', '43242'])]\n",
    "print(phys_nashmed_if_top5)"
   ]
  },
  {
   "cell_type": "code",
   "execution_count": 360,
   "metadata": {},
   "outputs": [
    {
     "name": "stdout",
     "output_type": "stream",
     "text": [
      "  hcpcs_code  avg_med_amt_17  avg_med_amt_16  avg_med_amt_15\n",
      "0      43246      550.540000      546.388261      536.060000\n",
      "1      43249      579.952157      575.320000      553.786667\n",
      "2      43251      587.110000      575.320000      553.970000\n"
     ]
    }
   ],
   "source": [
    "phys_nashmed_of_group = phys_nashmed_of.groupby('hcpcs_code').mean()\n",
    "phys_nashmed_of_group = phys_nashmed_of_group.reset_index()\n",
    "print(phys_nashmed_of_group)"
   ]
  },
  {
   "cell_type": "code",
   "execution_count": 361,
   "metadata": {},
   "outputs": [],
   "source": [
    "phys_nashmed_of_group['16/17_med_chng'] = abs(phys_nashmed_of_group['avg_med_amt_17'] - phys_nashmed_of_group['avg_med_amt_16'])\n",
    "phys_nashmed_of_group['15/16_med_chng'] = abs(phys_nashmed_of_group['avg_med_amt_16'] - phys_nashmed_of_group['avg_med_amt_15'])\n",
    "phys_nashmed_of_group['15/17_med_chng'] = abs(phys_nashmed_of_group['avg_med_amt_17'] - phys_nashmed_of_group['avg_med_amt_15'])"
   ]
  },
  {
   "cell_type": "code",
   "execution_count": 362,
   "metadata": {},
   "outputs": [
    {
     "name": "stdout",
     "output_type": "stream",
     "text": [
      "  hcpcs_code  avg_med_amt_17  avg_med_amt_16  avg_med_amt_15  16/17_med_chng  \\\n",
      "2      43251      587.110000      575.320000      553.970000       11.790000   \n",
      "1      43249      579.952157      575.320000      553.786667        4.632157   \n",
      "0      43246      550.540000      546.388261      536.060000        4.151739   \n",
      "\n",
      "   15/16_med_chng  15/17_med_chng  \n",
      "2       21.350000        33.14000  \n",
      "1       21.533333        26.16549  \n",
      "0       10.328261        14.48000  \n"
     ]
    }
   ],
   "source": [
    "phys_nashmed_of_top5 = phys_nashmed_of_group.sort_values(by=['15/17_med_chng'], ascending=False).head()\n",
    "print(phys_nashmed_of_top5)"
   ]
  },
  {
   "cell_type": "code",
   "execution_count": 363,
   "metadata": {},
   "outputs": [
    {
     "name": "stdout",
     "output_type": "stream",
     "text": [
      "<class 'pandas.core.frame.DataFrame'>\n",
      "Int64Index: 352 entries, 14774 to 6803361\n",
      "Data columns (total 10 columns):\n",
      " #   Column             Non-Null Count  Dtype  \n",
      "---  ------             --------------  -----  \n",
      " 0   npi                352 non-null    object \n",
      " 1   nppes_entity_code  352 non-null    object \n",
      " 2   place_of_service   352 non-null    object \n",
      " 3   hcpcs_code         352 non-null    object \n",
      " 4   srvc_cnt_17        352 non-null    float64\n",
      " 5   srvc_cnt_16        352 non-null    float64\n",
      " 6   srvc_cnt_15        352 non-null    float64\n",
      " 7   ZIP                352 non-null    object \n",
      " 8   CBSA               352 non-null    object \n",
      " 9   APC                352 non-null    object \n",
      "dtypes: float64(3), object(7)\n",
      "memory usage: 30.2+ KB\n",
      "None\n",
      "(352, 10)\n"
     ]
    }
   ],
   "source": [
    "phys_nyc_srvc = phys_nyc_apc.drop(columns={'nppes_provider_last_org_name', 'nppes_provider_zip', 'nppes_provider_state', 'provider_type', 'avg_med_amt_17', 'avg_med_amt_16', 'avg_med_amt_15', 'HCPCS Code'})\n",
    "print(phys_nyc_srvc.info())\n",
    "print(np.shape(phys_nyc_srvc))"
   ]
  },
  {
   "cell_type": "code",
   "execution_count": 364,
   "metadata": {},
   "outputs": [
    {
     "name": "stdout",
     "output_type": "stream",
     "text": [
      "(314, 10)\n"
     ]
    }
   ],
   "source": [
    "phys_nycsrvc_io = phys_nyc_srvc[phys_nyc_srvc['nppes_entity_code'] == 'I']\n",
    "print(np.shape(phys_nycsrvc_io))"
   ]
  },
  {
   "cell_type": "code",
   "execution_count": 365,
   "metadata": {},
   "outputs": [
    {
     "name": "stdout",
     "output_type": "stream",
     "text": [
      "(299, 10)\n"
     ]
    }
   ],
   "source": [
    "phys_nycsrvc_if = phys_nycsrvc_io[phys_nycsrvc_io['place_of_service'] == 'F']\n",
    "print(np.shape(phys_nycsrvc_if))"
   ]
  },
  {
   "cell_type": "code",
   "execution_count": 366,
   "metadata": {},
   "outputs": [
    {
     "name": "stdout",
     "output_type": "stream",
     "text": [
      "(15, 10)\n"
     ]
    }
   ],
   "source": [
    "phys_nycsrvc_io = phys_nycsrvc_io[phys_nycsrvc_io['place_of_service'] == 'O']\n",
    "print(np.shape(phys_nycsrvc_io))"
   ]
  },
  {
   "cell_type": "code",
   "execution_count": 367,
   "metadata": {},
   "outputs": [
    {
     "name": "stdout",
     "output_type": "stream",
     "text": [
      "(38, 10)\n"
     ]
    }
   ],
   "source": [
    "phys_nycsrvc_oo = phys_nyc_srvc[phys_nyc_srvc['nppes_entity_code'] == 'O']\n",
    "print(np.shape(phys_nycsrvc_oo))"
   ]
  },
  {
   "cell_type": "code",
   "execution_count": 368,
   "metadata": {},
   "outputs": [
    {
     "name": "stdout",
     "output_type": "stream",
     "text": [
      "(38, 10)\n"
     ]
    }
   ],
   "source": [
    "phys_nycsrvc_of = phys_nycsrvc_oo[phys_nycsrvc_oo['place_of_service'] == 'F']\n",
    "print(np.shape(phys_nycsrvc_of))"
   ]
  },
  {
   "cell_type": "code",
   "execution_count": 369,
   "metadata": {},
   "outputs": [
    {
     "name": "stdout",
     "output_type": "stream",
     "text": [
      "(0, 10)\n"
     ]
    }
   ],
   "source": [
    "phys_nycsrvc_oo = phys_nycsrvc_oo[phys_nycsrvc_oo['place_of_service'] == 'O']\n",
    "print(np.shape(phys_nycsrvc_oo))"
   ]
  },
  {
   "cell_type": "code",
   "execution_count": 370,
   "metadata": {},
   "outputs": [
    {
     "name": "stdout",
     "output_type": "stream",
     "text": [
      "  hcpcs_code  srvc_cnt_17  srvc_cnt_16  srvc_cnt_15\n",
      "0      43202         44.0         70.0         44.0\n",
      "1      43249         33.0         27.0         40.0\n",
      "2      43250         84.0         21.0         26.0\n",
      "3      43251        213.0        518.0        454.0\n",
      "4      44361         31.0         54.0         31.0\n",
      "5      44376        173.0        134.0         64.0\n",
      "6      44377        181.0        148.0        166.0\n"
     ]
    }
   ],
   "source": [
    "phys_nycsrvc_io_group = phys_nycsrvc_io.groupby('hcpcs_code').sum()\n",
    "phys_nycsrvc_io_group = phys_nycsrvc_io_group.reset_index()\n",
    "print(phys_nycsrvc_io_group)"
   ]
  },
  {
   "cell_type": "code",
   "execution_count": 371,
   "metadata": {},
   "outputs": [],
   "source": [
    "phys_nycsrvc_io_group['16/17_srvc_chng'] = abs(phys_nycsrvc_io_group['srvc_cnt_17'] - phys_nycsrvc_io_group['srvc_cnt_16'])\n",
    "phys_nycsrvc_io_group['15/16_srvc_chng'] = abs(phys_nycsrvc_io_group['srvc_cnt_16'] - phys_nycsrvc_io_group['srvc_cnt_15'])\n",
    "phys_nycsrvc_io_group['15/17_srvc_chng'] = abs(phys_nycsrvc_io_group['srvc_cnt_17'] - phys_nycsrvc_io_group['srvc_cnt_15'])"
   ]
  },
  {
   "cell_type": "code",
   "execution_count": 372,
   "metadata": {},
   "outputs": [
    {
     "name": "stdout",
     "output_type": "stream",
     "text": [
      "  hcpcs_code  srvc_cnt_17  srvc_cnt_15  15/17_srvc_chng\n",
      "3      43251        213.0        454.0            241.0\n",
      "5      44376        173.0         64.0            109.0\n",
      "2      43250         84.0         26.0             58.0\n",
      "6      44377        181.0        166.0             15.0\n",
      "1      43249         33.0         40.0              7.0\n"
     ]
    }
   ],
   "source": [
    "phys_nycsrvc_io_1517 = phys_nycsrvc_io_group.sort_values(by=['15/17_srvc_chng'], ascending=False).head()\n",
    "phys_nycsrvc_io_1517 = phys_nycsrvc_io_1517.drop(columns={'srvc_cnt_16', '15/16_srvc_chng', '16/17_srvc_chng'})\n",
    "print(phys_nycsrvc_io_1517)"
   ]
  },
  {
   "cell_type": "code",
   "execution_count": 373,
   "metadata": {},
   "outputs": [
    {
     "name": "stdout",
     "output_type": "stream",
     "text": [
      "  hcpcs_code  srvc_cnt_17  srvc_cnt_16  srvc_cnt_15  16/17_srvc_chng  \\\n",
      "1      43249         33.0         27.0         40.0              6.0   \n",
      "2      43250         84.0         21.0         26.0             63.0   \n",
      "3      43251        213.0        518.0        454.0            305.0   \n",
      "5      44376        173.0        134.0         64.0             39.0   \n",
      "6      44377        181.0        148.0        166.0             33.0   \n",
      "\n",
      "   15/16_srvc_chng  15/17_srvc_chng  \n",
      "1             13.0              7.0  \n",
      "2              5.0             58.0  \n",
      "3             64.0            241.0  \n",
      "5             70.0            109.0  \n",
      "6             18.0             15.0  \n"
     ]
    }
   ],
   "source": [
    "phys_nycsrvc_io_top5 = phys_nycsrvc_io_group[phys_nycsrvc_io_group[\"hcpcs_code\"].isin(['43251', '44376', '43250', '44377', '43249'])]\n",
    "print(phys_nycsrvc_io_top5)"
   ]
  },
  {
   "cell_type": "code",
   "execution_count": 374,
   "metadata": {},
   "outputs": [
    {
     "name": "stdout",
     "output_type": "stream",
     "text": [
      "   hcpcs_code  srvc_cnt_17  srvc_cnt_16  srvc_cnt_15\n",
      "0       32556         41.0         47.0         62.0\n",
      "1       43202         47.0         50.0         45.0\n",
      "2       43232         11.0         13.0         35.0\n",
      "3       43237        246.0        266.0        181.0\n",
      "4       43238        339.0        346.0        233.0\n",
      "5       43242       1186.0       1145.0       1123.0\n",
      "6       43245         22.0         25.0         18.0\n",
      "7       43246       3127.0       3208.0       3412.0\n",
      "8       43249        277.0        312.0        255.0\n",
      "9       43251        291.0        279.0        337.0\n",
      "10      43254         26.0         21.0         24.0\n",
      "11      43255        414.0        452.0        395.0\n",
      "12      43259       1859.0       2095.0       2056.0\n",
      "13      43270        208.0        194.0        217.0\n",
      "14      43453         15.0         22.0         22.0\n",
      "15      43830         20.0         21.0         27.0\n",
      "16      44361        719.0        739.0        632.0\n",
      "17      44365         76.0         76.0         48.0\n",
      "18      44376         11.0         16.0         12.0\n",
      "19      44378         21.0         15.0         14.0\n",
      "20      49440        107.0        100.0        123.0\n"
     ]
    }
   ],
   "source": [
    "phys_nycsrvc_if_group = phys_nycsrvc_if.groupby('hcpcs_code').sum()\n",
    "phys_nycsrvc_if_group = phys_nycsrvc_if_group.reset_index()\n",
    "print(phys_nycsrvc_if_group)"
   ]
  },
  {
   "cell_type": "code",
   "execution_count": 375,
   "metadata": {},
   "outputs": [],
   "source": [
    "phys_nycsrvc_if_group['16/17_srvc_chng'] = abs(phys_nycsrvc_if_group['srvc_cnt_17'] - phys_nycsrvc_if_group['srvc_cnt_16'])\n",
    "phys_nycsrvc_if_group['15/16_srvc_chng'] = abs(phys_nycsrvc_if_group['srvc_cnt_16'] - phys_nycsrvc_if_group['srvc_cnt_15'])\n",
    "phys_nycsrvc_if_group['15/17_srvc_chng'] = abs(phys_nycsrvc_if_group['srvc_cnt_17'] - phys_nycsrvc_if_group['srvc_cnt_15'])"
   ]
  },
  {
   "cell_type": "code",
   "execution_count": 376,
   "metadata": {},
   "outputs": [
    {
     "name": "stdout",
     "output_type": "stream",
     "text": [
      "   hcpcs_code  srvc_cnt_17  srvc_cnt_15  15/17_srvc_chng\n",
      "7       43246       3127.0       3412.0            285.0\n",
      "12      43259       1859.0       2056.0            197.0\n",
      "4       43238        339.0        233.0            106.0\n",
      "16      44361        719.0        632.0             87.0\n",
      "3       43237        246.0        181.0             65.0\n"
     ]
    }
   ],
   "source": [
    "phys_nycsrvc_if_1517 = phys_nycsrvc_if_group.sort_values(by=['15/17_srvc_chng'], ascending=False).head()\n",
    "phys_nycsrvc_if_1517 = phys_nycsrvc_if_1517.drop(columns={'srvc_cnt_16', '15/16_srvc_chng', '16/17_srvc_chng'})\n",
    "print(phys_nycsrvc_if_1517)"
   ]
  },
  {
   "cell_type": "code",
   "execution_count": 377,
   "metadata": {},
   "outputs": [
    {
     "name": "stdout",
     "output_type": "stream",
     "text": [
      "   hcpcs_code  srvc_cnt_17  srvc_cnt_16  srvc_cnt_15  16/17_srvc_chng  \\\n",
      "3       43237        246.0        266.0        181.0             20.0   \n",
      "4       43238        339.0        346.0        233.0              7.0   \n",
      "7       43246       3127.0       3208.0       3412.0             81.0   \n",
      "12      43259       1859.0       2095.0       2056.0            236.0   \n",
      "16      44361        719.0        739.0        632.0             20.0   \n",
      "\n",
      "    15/16_srvc_chng  15/17_srvc_chng  \n",
      "3              85.0             65.0  \n",
      "4             113.0            106.0  \n",
      "7             204.0            285.0  \n",
      "12             39.0            197.0  \n",
      "16            107.0             87.0  \n"
     ]
    }
   ],
   "source": [
    "phys_nycsrvc_if_top5 = phys_nycsrvc_if_group[phys_nycsrvc_if_group[\"hcpcs_code\"].isin(['43246', '43259', '43238', '44361', '43237'])]\n",
    "print(phys_nycsrvc_if_top5)"
   ]
  },
  {
   "cell_type": "code",
   "execution_count": 378,
   "metadata": {},
   "outputs": [
    {
     "name": "stdout",
     "output_type": "stream",
     "text": [
      "  hcpcs_code  srvc_cnt_17  srvc_cnt_16  srvc_cnt_15\n",
      "0      43237         56.0         63.0         40.0\n",
      "1      43238         16.0         13.0         17.0\n",
      "2      43242         43.0         35.0         39.0\n",
      "3      43249        301.0        328.0        267.0\n",
      "4      43251        352.0        301.0        311.0\n",
      "5      43255         13.0         14.0         13.0\n",
      "6      43259        386.0        438.0        429.0\n",
      "7      44361        587.0        705.0        715.0\n",
      "8      44365         75.0         71.0         42.0\n"
     ]
    }
   ],
   "source": [
    "phys_nycsrvc_of_group = phys_nycsrvc_of.groupby('hcpcs_code').sum()\n",
    "phys_nycsrvc_of_group = phys_nycsrvc_of_group.reset_index()\n",
    "print(phys_nycsrvc_of_group)"
   ]
  },
  {
   "cell_type": "code",
   "execution_count": 379,
   "metadata": {},
   "outputs": [],
   "source": [
    "phys_nycsrvc_of_group['16/17_srvc_chng'] = abs(phys_nycsrvc_of_group['srvc_cnt_17'] - phys_nycsrvc_of_group['srvc_cnt_16'])\n",
    "phys_nycsrvc_of_group['15/16_srvc_chng'] = abs(phys_nycsrvc_of_group['srvc_cnt_16'] - phys_nycsrvc_of_group['srvc_cnt_15'])\n",
    "phys_nycsrvc_of_group['15/17_srvc_chng'] = abs(phys_nycsrvc_of_group['srvc_cnt_17'] - phys_nycsrvc_of_group['srvc_cnt_15'])"
   ]
  },
  {
   "cell_type": "code",
   "execution_count": 380,
   "metadata": {},
   "outputs": [
    {
     "name": "stdout",
     "output_type": "stream",
     "text": [
      "  hcpcs_code  srvc_cnt_17  srvc_cnt_15  15/17_srvc_chng\n",
      "7      44361        587.0        715.0            128.0\n",
      "6      43259        386.0        429.0             43.0\n",
      "4      43251        352.0        311.0             41.0\n",
      "3      43249        301.0        267.0             34.0\n",
      "8      44365         75.0         42.0             33.0\n"
     ]
    }
   ],
   "source": [
    "phys_nycsrvc_of_1517 = phys_nycsrvc_of_group.sort_values(by=['15/17_srvc_chng'], ascending=False).head()\n",
    "phys_nycsrvc_of_1517 = phys_nycsrvc_of_1517.drop(columns={'srvc_cnt_16', '15/16_srvc_chng', '16/17_srvc_chng'})\n",
    "print(phys_nycsrvc_of_1517)"
   ]
  },
  {
   "cell_type": "code",
   "execution_count": 381,
   "metadata": {},
   "outputs": [
    {
     "name": "stdout",
     "output_type": "stream",
     "text": [
      "   hcpcs_code  srvc_cnt_17  srvc_cnt_16  srvc_cnt_15  16/17_srvc_chng  \\\n",
      "8       43249        277.0        312.0        255.0             35.0   \n",
      "9       43251        291.0        279.0        337.0             12.0   \n",
      "12      43259       1859.0       2095.0       2056.0            236.0   \n",
      "16      44361        719.0        739.0        632.0             20.0   \n",
      "17      44365         76.0         76.0         48.0              0.0   \n",
      "\n",
      "    15/16_srvc_chng  15/17_srvc_chng  \n",
      "8              57.0             22.0  \n",
      "9              58.0             46.0  \n",
      "12             39.0            197.0  \n",
      "16            107.0             87.0  \n",
      "17             28.0             28.0  \n"
     ]
    }
   ],
   "source": [
    "phys_nycsrvc_of_top5 = phys_nycsrvc_if_group[phys_nycsrvc_if_group[\"hcpcs_code\"].isin(['44361', '43259', '43251', '43249', '44365'])]\n",
    "print(phys_nycsrvc_of_top5)"
   ]
  },
  {
   "cell_type": "code",
   "execution_count": 382,
   "metadata": {},
   "outputs": [
    {
     "name": "stdout",
     "output_type": "stream",
     "text": [
      "<class 'pandas.core.frame.DataFrame'>\n",
      "Int64Index: 45 entries, 56433 to 6652958\n",
      "Data columns (total 10 columns):\n",
      " #   Column             Non-Null Count  Dtype  \n",
      "---  ------             --------------  -----  \n",
      " 0   npi                45 non-null     object \n",
      " 1   nppes_entity_code  45 non-null     object \n",
      " 2   place_of_service   45 non-null     object \n",
      " 3   hcpcs_code         45 non-null     object \n",
      " 4   srvc_cnt_17        45 non-null     float64\n",
      " 5   srvc_cnt_16        45 non-null     float64\n",
      " 6   srvc_cnt_15        45 non-null     float64\n",
      " 7   ZIP                45 non-null     object \n",
      " 8   CBSA               45 non-null     object \n",
      " 9   APC                45 non-null     object \n",
      "dtypes: float64(3), object(7)\n",
      "memory usage: 3.9+ KB\n",
      "None\n",
      "(45, 10)\n"
     ]
    }
   ],
   "source": [
    "phys_nash_srvc = phys_nash_apc.drop(columns={'nppes_provider_last_org_name', 'nppes_provider_zip', 'nppes_provider_state', 'provider_type', 'avg_med_amt_17', 'avg_med_amt_16', 'avg_med_amt_15', 'HCPCS Code'})\n",
    "print(phys_nash_srvc.info())\n",
    "print(np.shape(phys_nash_srvc))"
   ]
  },
  {
   "cell_type": "code",
   "execution_count": 383,
   "metadata": {},
   "outputs": [
    {
     "name": "stdout",
     "output_type": "stream",
     "text": [
      "(40, 10)\n"
     ]
    }
   ],
   "source": [
    "phys_nashsrvc_io = phys_nash_srvc[phys_nash_srvc['nppes_entity_code'] == 'I']\n",
    "print(np.shape(phys_nashsrvc_io))"
   ]
  },
  {
   "cell_type": "code",
   "execution_count": 384,
   "metadata": {},
   "outputs": [
    {
     "name": "stdout",
     "output_type": "stream",
     "text": [
      "(40, 10)\n"
     ]
    }
   ],
   "source": [
    "phys_nashsrvc_if = phys_nashsrvc_io[phys_nashsrvc_io['place_of_service'] == 'F']\n",
    "print(np.shape(phys_nashsrvc_if))"
   ]
  },
  {
   "cell_type": "code",
   "execution_count": 385,
   "metadata": {},
   "outputs": [
    {
     "name": "stdout",
     "output_type": "stream",
     "text": [
      "(0, 10)\n"
     ]
    }
   ],
   "source": [
    "phys_nashsrvc_io = phys_nashsrvc_io[phys_nashsrvc_io['place_of_service'] == 'O']\n",
    "print(np.shape(phys_nashsrvc_io))"
   ]
  },
  {
   "cell_type": "code",
   "execution_count": 386,
   "metadata": {},
   "outputs": [
    {
     "name": "stdout",
     "output_type": "stream",
     "text": [
      "(5, 10)\n"
     ]
    }
   ],
   "source": [
    "phys_nashsrvc_oo = phys_nash_srvc[phys_nash_srvc['nppes_entity_code'] == 'O']\n",
    "print(np.shape(phys_nashsrvc_oo))"
   ]
  },
  {
   "cell_type": "code",
   "execution_count": 387,
   "metadata": {},
   "outputs": [
    {
     "name": "stdout",
     "output_type": "stream",
     "text": [
      "(5, 10)\n"
     ]
    }
   ],
   "source": [
    "phys_nashsrvc_of = phys_nashsrvc_oo[phys_nashsrvc_oo['place_of_service'] == 'F']\n",
    "print(np.shape(phys_nashsrvc_of))"
   ]
  },
  {
   "cell_type": "code",
   "execution_count": 388,
   "metadata": {},
   "outputs": [
    {
     "name": "stdout",
     "output_type": "stream",
     "text": [
      "(0, 10)\n"
     ]
    }
   ],
   "source": [
    "phys_nashsrvc_oo = phys_nashsrvc_oo[phys_nashsrvc_oo['place_of_service'] == 'O']\n",
    "print(np.shape(phys_nashsrvc_oo))"
   ]
  },
  {
   "cell_type": "code",
   "execution_count": 389,
   "metadata": {},
   "outputs": [
    {
     "name": "stdout",
     "output_type": "stream",
     "text": [
      "   hcpcs_code  srvc_cnt_17  srvc_cnt_16  srvc_cnt_15\n",
      "0       43237         58.0         68.0         45.0\n",
      "1       43238         69.0         85.0         83.0\n",
      "2       43242        171.0        161.0        163.0\n",
      "3       43244         63.0         87.0         78.0\n",
      "4       43245         17.0         24.0         30.0\n",
      "5       43246        230.0        249.0        278.0\n",
      "6       43249        586.0        572.0        561.0\n",
      "7       43251         36.0         52.0         41.0\n",
      "8       43255         21.0         15.0         17.0\n",
      "9       43259        115.0        109.0        123.0\n",
      "10      43270         13.0         18.0         16.0\n",
      "11      49440         38.0         34.0         39.0\n"
     ]
    }
   ],
   "source": [
    "phys_nashsrvc_if_group = phys_nashsrvc_if.groupby('hcpcs_code').sum()\n",
    "phys_nashsrvc_if_group = phys_nashsrvc_if_group.reset_index()\n",
    "print(phys_nashsrvc_if_group)"
   ]
  },
  {
   "cell_type": "code",
   "execution_count": 390,
   "metadata": {},
   "outputs": [],
   "source": [
    "phys_nashsrvc_if_group['16/17_srvc_chng'] = abs(phys_nashsrvc_if_group['srvc_cnt_17'] - phys_nashsrvc_if_group['srvc_cnt_16'])\n",
    "phys_nashsrvc_if_group['15/16_srvc_chng'] = abs(phys_nashsrvc_if_group['srvc_cnt_16'] - phys_nashsrvc_if_group['srvc_cnt_15'])\n",
    "phys_nashsrvc_if_group['15/17_srvc_chng'] = abs(phys_nashsrvc_if_group['srvc_cnt_17'] - phys_nashsrvc_if_group['srvc_cnt_15'])"
   ]
  },
  {
   "cell_type": "code",
   "execution_count": 391,
   "metadata": {},
   "outputs": [
    {
     "name": "stdout",
     "output_type": "stream",
     "text": [
      "  hcpcs_code  srvc_cnt_17  srvc_cnt_15  15/17_srvc_chng\n",
      "5      43246        230.0        278.0             48.0\n",
      "6      43249        586.0        561.0             25.0\n",
      "3      43244         63.0         78.0             15.0\n",
      "1      43238         69.0         83.0             14.0\n",
      "0      43237         58.0         45.0             13.0\n"
     ]
    }
   ],
   "source": [
    "phys_nashsrvc_if_1517 = phys_nashsrvc_if_group.sort_values(by=['15/17_srvc_chng'], ascending=False).head()\n",
    "phys_nashsrvc_if_1517 = phys_nashsrvc_if_1517.drop(columns={'srvc_cnt_16', '15/16_srvc_chng', '16/17_srvc_chng'})\n",
    "print(phys_nashsrvc_if_1517)"
   ]
  },
  {
   "cell_type": "code",
   "execution_count": 392,
   "metadata": {},
   "outputs": [
    {
     "name": "stdout",
     "output_type": "stream",
     "text": [
      "  hcpcs_code  srvc_cnt_17  srvc_cnt_16  srvc_cnt_15  16/17_srvc_chng  \\\n",
      "0      43237         58.0         68.0         45.0             10.0   \n",
      "1      43238         69.0         85.0         83.0             16.0   \n",
      "3      43244         63.0         87.0         78.0             24.0   \n",
      "5      43246        230.0        249.0        278.0             19.0   \n",
      "6      43249        586.0        572.0        561.0             14.0   \n",
      "\n",
      "   15/16_srvc_chng  15/17_srvc_chng  \n",
      "0             23.0             13.0  \n",
      "1              2.0             14.0  \n",
      "3              9.0             15.0  \n",
      "5             29.0             48.0  \n",
      "6             11.0             25.0  \n"
     ]
    }
   ],
   "source": [
    "phys_nashsrvc_if_top5 = phys_nashsrvc_if_group[phys_nashsrvc_if_group[\"hcpcs_code\"].isin(['43246', '43249', '43244', '43238', '43237'])]\n",
    "print(phys_nashsrvc_if_top5)"
   ]
  },
  {
   "cell_type": "code",
   "execution_count": 393,
   "metadata": {},
   "outputs": [
    {
     "name": "stdout",
     "output_type": "stream",
     "text": [
      "  hcpcs_code  srvc_cnt_17  srvc_cnt_16  srvc_cnt_15\n",
      "0      43246         17.0         23.0         45.0\n",
      "1      43249         84.0        101.0         96.0\n",
      "2      43251         14.0         11.0         19.0\n"
     ]
    }
   ],
   "source": [
    "phys_nashsrvc_of_group = phys_nashsrvc_of.groupby('hcpcs_code').sum()\n",
    "phys_nashsrvc_of_group = phys_nashsrvc_of_group.reset_index()\n",
    "print(phys_nashsrvc_of_group)"
   ]
  },
  {
   "cell_type": "code",
   "execution_count": 394,
   "metadata": {},
   "outputs": [],
   "source": [
    "phys_nashsrvc_of_group['16/17_srvc_chng'] = abs(phys_nashsrvc_of_group['srvc_cnt_17'] - phys_nashsrvc_of_group['srvc_cnt_16'])\n",
    "phys_nashsrvc_of_group['15/16_srvc_chng'] = abs(phys_nashsrvc_of_group['srvc_cnt_16'] - phys_nashsrvc_of_group['srvc_cnt_15'])\n",
    "phys_nashsrvc_of_group['15/17_srvc_chng'] = abs(phys_nashsrvc_of_group['srvc_cnt_17'] - phys_nashsrvc_of_group['srvc_cnt_15'])"
   ]
  },
  {
   "cell_type": "code",
   "execution_count": 395,
   "metadata": {
    "scrolled": true
   },
   "outputs": [
    {
     "name": "stdout",
     "output_type": "stream",
     "text": [
      "  hcpcs_code  srvc_cnt_17  srvc_cnt_16  srvc_cnt_15  16/17_srvc_chng  \\\n",
      "0      43246         17.0         23.0         45.0              6.0   \n",
      "1      43249         84.0        101.0         96.0             17.0   \n",
      "2      43251         14.0         11.0         19.0              3.0   \n",
      "\n",
      "   15/16_srvc_chng  15/17_srvc_chng  \n",
      "0             22.0             28.0  \n",
      "1              5.0             12.0  \n",
      "2              8.0              5.0  \n"
     ]
    }
   ],
   "source": [
    "phys_nashsrvc_of_top5 = phys_nashsrvc_of_group.sort_values(by=['15/17_srvc_chng'], ascending=False).head()\n",
    "print(phys_nashsrvc_of_top5)"
   ]
  },
  {
   "cell_type": "code",
   "execution_count": 19,
   "metadata": {},
   "outputs": [],
   "source": [
    "phys_apc_17 = pd.merge(phys_zip_17, apc_cw, how='left', left_on='hcpcs_code', right_on='HCPCS Code')\n",
    "phys_nyc_17 = phys_apc_17[phys_apc_17['CBSA'] == '35620']\n",
    "phys_nyc_17 = phys_nyc_17[phys_nyc_17['APC'] == '5302']\n",
    "phys_nash_17 = phys_apc_17[phys_apc_17['CBSA'] == '34980']\n",
    "phys_nash_17 = phys_nash_17[phys_nash_17['APC'] == '5302']"
   ]
  },
  {
   "cell_type": "code",
   "execution_count": 20,
   "metadata": {},
   "outputs": [],
   "source": [
    "phys_apc_16 = pd.merge(phys_supp_16, apc_cw, how='left', left_on='hcpcs_code', right_on='HCPCS Code')\n",
    "phys_nyc_16 = phys_apc_16[phys_apc_16['CBSA'] == '35620']\n",
    "phys_nyc_16 = phys_nyc_16[phys_nyc_16['APC'] == '5302']\n",
    "phys_nash_16 = phys_apc_16[phys_apc_16['CBSA'] == '34980']\n",
    "phys_nash_16 = phys_nash_16[phys_nash_16['APC'] == '5302']"
   ]
  },
  {
   "cell_type": "code",
   "execution_count": 21,
   "metadata": {},
   "outputs": [],
   "source": [
    "phys_apc_15 = pd.merge(phys_supp_15, apc_cw, how='left', left_on='hcpcs_code', right_on='HCPCS Code')\n",
    "phys_nyc_15 = phys_apc_15[phys_apc_15['CBSA'] == '35620']\n",
    "phys_nyc_15 = phys_nyc_15[phys_nyc_15['APC'] == '5302']\n",
    "phys_nash_15 = phys_apc_15[phys_apc_15['CBSA'] == '34980']\n",
    "phys_nash_15 = phys_nash_15[phys_nash_15['APC'] == '5302']"
   ]
  },
  {
   "cell_type": "code",
   "execution_count": 400,
   "metadata": {},
   "outputs": [
    {
     "name": "stdout",
     "output_type": "stream",
     "text": [
      "  hcpcs_code  avg_med_amt_17  avg_med_amt_16  avg_med_amt_15  16/17_med_chng  \\\n",
      "0      43202      365.470000      436.490000      444.113182       71.020000   \n",
      "1      43249     1245.390000     1315.700000     1342.295000       70.310000   \n",
      "2      43250      299.219286      351.243333      359.185385       52.024048   \n",
      "3      43251      507.000780      577.436919      586.142142       70.436139   \n",
      "6      44377      173.102836      174.600000      182.802039        1.497164   \n",
      "\n",
      "   15/16_med_chng  15/17_med_chng  \n",
      "0        7.623182       78.643182  \n",
      "1       26.595000       96.905000  \n",
      "2        7.942051       59.966099  \n",
      "3        8.705222       79.141361  \n",
      "6        8.202039        9.699204  \n"
     ]
    }
   ],
   "source": [
    "print(phys_nycmed_io_top5)"
   ]
  },
  {
   "cell_type": "code",
   "execution_count": 22,
   "metadata": {},
   "outputs": [
    {
     "name": "stdout",
     "output_type": "stream",
     "text": [
      "   hcpcs_code  srvc_cnt_17  avg_med_amt_17\n",
      "0       32556    19.250000      138.670434\n",
      "1       43191    12.000000       78.630000\n",
      "2       43202    30.333333      198.598391\n",
      "3       43232    11.000000      212.145455\n",
      "4       43237    22.967742      244.817976\n",
      "5       43238    24.650000      295.281919\n",
      "6       43241    23.000000      172.471304\n",
      "7       43242    29.280702      328.953772\n",
      "8       43243    11.000000      262.490000\n",
      "9       43244    11.000000      280.550000\n",
      "10      43245    21.333333      355.614465\n",
      "11      43246    22.701657      198.885193\n",
      "12      43249    22.428571      415.459054\n",
      "13      43250    37.333333      545.689762\n",
      "14      43251    25.500000      396.399728\n",
      "15      43254    16.500000      320.096250\n",
      "16      43255    17.290909      232.288113\n",
      "17      43259    38.449275      298.430348\n",
      "18      43270    25.076923      326.787783\n",
      "19      43453    15.000000       65.770000\n",
      "20      43830    19.500000      784.262895\n",
      "21      44360    14.500000      169.816429\n",
      "22      44361    58.500000      288.007309\n",
      "23      44364    29.000000      296.973448\n",
      "24      44365    75.500000      414.194175\n",
      "25      44369    11.000000      307.420000\n",
      "26      44376    92.000000      258.335000\n",
      "27      44377    90.500000      173.102836\n",
      "28      44378    16.000000      475.370000\n",
      "29      49423    15.000000       79.304000\n",
      "30      49440    14.333333      237.089545\n"
     ]
    }
   ],
   "source": [
    "phys_nyc_17_group = phys_nyc_17.groupby('hcpcs_code').mean()\n",
    "phys_nyc_17_group = phys_nyc_17_group.reset_index()\n",
    "print(phys_nyc_17_group)"
   ]
  },
  {
   "cell_type": "code",
   "execution_count": 406,
   "metadata": {},
   "outputs": [
    {
     "name": "stdout",
     "output_type": "stream",
     "text": [
      "  hcpcs_code  average_medicare_allowed_amt  year\n",
      "0      41530                    875.926198  2017\n",
      "1      J0600                   2354.875647  2017\n",
      "2      J7192                  12880.678381  2017\n",
      "3      J9999                   1241.578519  2017\n",
      "4      Q2043                  39279.086545  2017\n"
     ]
    }
   ],
   "source": [
    "phys_nyc17_medio_top5 = phys_nyc_17_group[phys_nyc_17_group[\"hcpcs_code\"].isin(['43202', '43249', '43250', '43251', '44377'])]\n",
    "phys_nyc17_medio_top5 = phys_17_medio_top5.reset_index()\n",
    "phys_nyc17_medio_top5['year'] = 2017\n",
    "phys_nyc17_medio_top5 = phys_nyc17_medio_top5.drop(columns={'index'})\n",
    "phys_nyc17_medio_top5 = phys_nyc17_medio_top5.rename(columns={'avg_med_amt_17' : 'average_medicare_allowed_amt'})\n",
    "print(phys_nyc17_medio_top5)"
   ]
  },
  {
   "cell_type": "code",
   "execution_count": 23,
   "metadata": {},
   "outputs": [
    {
     "name": "stdout",
     "output_type": "stream",
     "text": [
      "   hcpcs_code  srvc_cnt_16  avg_med_amt_16\n",
      "0       32556    16.666667      136.345258\n",
      "1       43202    33.250000      180.200738\n",
      "2       43231    13.000000      148.083077\n",
      "3       43232    13.000000      242.340000\n",
      "4       43237    24.071429      281.226192\n",
      "5       43238    28.916667      299.235238\n",
      "6       43241    25.000000      179.306000\n",
      "7       43242    28.000000      323.269761\n",
      "8       43244    18.000000      281.410000\n",
      "9       43245    25.000000      198.783600\n",
      "10      43246    22.608696      205.345290\n",
      "11      43249    22.883721      418.209910\n",
      "12      43250    21.000000      360.532270\n",
      "13      43251    30.282609      427.409861\n",
      "14      43254    15.400000      326.559189\n",
      "15      43255    18.107143      229.498652\n",
      "16      43259    39.440000      301.668061\n",
      "17      43270    23.187500      259.361770\n",
      "18      43453    22.000000       64.245455\n",
      "19      43830    21.000000      778.490000\n",
      "20      44360    12.000000      178.264091\n",
      "21      44361    60.241379      281.101836\n",
      "22      44364    13.500000      294.495000\n",
      "23      44365    73.500000      439.013553\n",
      "24      44366    13.666667      266.709744\n",
      "25      44373    11.000000      135.664545\n",
      "26      44376    44.000000      244.974107\n",
      "27      44377    74.000000      174.600000\n",
      "28      44378    15.000000      486.570000\n",
      "29      49423    14.500000       78.021312\n",
      "30      49440    14.062500      258.948700\n"
     ]
    }
   ],
   "source": [
    "phys_nyc_16_group = phys_nyc_16.groupby('hcpcs_code').mean()\n",
    "phys_nyc_16_group = phys_nyc_16_group.reset_index()\n",
    "print(phys_nyc_16_group)"
   ]
  },
  {
   "cell_type": "code",
   "execution_count": 409,
   "metadata": {},
   "outputs": [
    {
     "name": "stdout",
     "output_type": "stream",
     "text": [
      "  hcpcs_code  average_medicare_allowed_amt  year\n",
      "0      41530                    893.447110  2016\n",
      "1      J0600                   1039.718002  2016\n",
      "2      J7192                  19275.296602  2016\n",
      "3      J9999                   1737.626059  2016\n",
      "4      Q2043                  37672.456856  2016\n"
     ]
    }
   ],
   "source": [
    "phys_nyc16_medio_top5 = phys_nyc_16_group[phys_nyc_16_group[\"hcpcs_code\"].isin(['43202', '43249', '43250', '43251', '44377'])]\n",
    "phys_nyc16_medio_top5 = phys_16_medio_top5.reset_index()\n",
    "phys_nyc16_medio_top5['year'] = 2016\n",
    "phys_nyc16_medio_top5 = phys_nyc16_medio_top5.drop(columns={'index'})\n",
    "phys_nyc16_medio_top5 = phys_nyc16_medio_top5.rename(columns={'avg_med_amt_16' : 'average_medicare_allowed_amt'})\n",
    "print(phys_nyc16_medio_top5)"
   ]
  },
  {
   "cell_type": "code",
   "execution_count": 24,
   "metadata": {},
   "outputs": [
    {
     "name": "stdout",
     "output_type": "stream",
     "text": [
      "   hcpcs_code  srvc_cnt_15  avg_med_amt_15\n",
      "0       32556    27.857143      142.502147\n",
      "1       43202    29.666667      230.709533\n",
      "2       43231    29.000000      207.658966\n",
      "3       43232    35.000000      246.366571\n",
      "4       43237    20.058824      320.968552\n",
      "5       43238    23.909091      308.620637\n",
      "6       43241    24.000000       71.439583\n",
      "7       43242    27.740741      323.682665\n",
      "8       43244    13.000000      297.850000\n",
      "9       43245    25.200000      377.831789\n",
      "10      43246    22.920833      212.182446\n",
      "11      43249    23.230769      447.634991\n",
      "12      43250    20.000000      359.253573\n",
      "13      43251    29.145833      427.264407\n",
      "14      43254    24.000000      311.060417\n",
      "15      43255    16.772727      234.815347\n",
      "16      43259    40.178082      302.792462\n",
      "17      43270    25.700000      278.424012\n",
      "18      43453    18.000000       65.576783\n",
      "19      43830    23.500000      812.527870\n",
      "20      44360    15.000000      162.409333\n",
      "21      44361    50.823529      234.802067\n",
      "22      44365    45.000000      477.038408\n",
      "23      44369    14.000000      269.585321\n",
      "24      44373    13.000000      144.933077\n",
      "25      44376    31.400000      215.904203\n",
      "26      44377    61.000000      223.579007\n",
      "27      44378    14.500000      500.802381\n",
      "28      49423    13.000000       78.927692\n",
      "29      49440    15.529412      257.235618\n",
      "30      49446    15.000000      105.637333\n"
     ]
    }
   ],
   "source": [
    "phys_nyc_15_group = phys_nyc_15.groupby('hcpcs_code').mean()\n",
    "phys_nyc_15_group = phys_nyc_15_group.reset_index()\n",
    "print(phys_nyc_15_group)"
   ]
  },
  {
   "cell_type": "code",
   "execution_count": 411,
   "metadata": {},
   "outputs": [
    {
     "name": "stdout",
     "output_type": "stream",
     "text": [
      "  hcpcs_code  average_medicare_allowed_amt  year\n",
      "0      41530                   2988.085332  2015\n",
      "1      J0600                    473.686663  2015\n",
      "2      J7192                  18652.902051  2015\n",
      "3      J9999                   2708.152776  2015\n",
      "4      Q2043                  35938.558603  2015\n"
     ]
    }
   ],
   "source": [
    "phys_nyc15_medio_top5 = phys_nyc_15_group[phys_nyc_15_group[\"hcpcs_code\"].isin(['43202', '43249', '43250', '43251', '44377'])]\n",
    "phys_nyc15_medio_top5 = phys_15_medio_top5.reset_index()\n",
    "phys_nyc15_medio_top5['year'] = 2015\n",
    "phys_nyc15_medio_top5 = phys_nyc15_medio_top5.drop(columns={'index'})\n",
    "phys_nyc15_medio_top5 = phys_nyc15_medio_top5.rename(columns={'avg_med_amt_15' : 'average_medicare_allowed_amt'})\n",
    "print(phys_nyc15_medio_top5)"
   ]
  },
  {
   "cell_type": "code",
   "execution_count": 412,
   "metadata": {},
   "outputs": [
    {
     "name": "stdout",
     "output_type": "stream",
     "text": [
      "   hcpcs_code  average_medicare_allowed_amt  year\n",
      "0       41530                    875.926198  2017\n",
      "1       J0600                   2354.875647  2017\n",
      "2       J7192                  12880.678381  2017\n",
      "3       J9999                   1241.578519  2017\n",
      "4       Q2043                  39279.086545  2017\n",
      "5       41530                    893.447110  2016\n",
      "6       J0600                   1039.718002  2016\n",
      "7       J7192                  19275.296602  2016\n",
      "8       J9999                   1737.626059  2016\n",
      "9       Q2043                  37672.456856  2016\n",
      "10      41530                   2988.085332  2015\n",
      "11      J0600                    473.686663  2015\n",
      "12      J7192                  18652.902051  2015\n",
      "13      J9999                   2708.152776  2015\n",
      "14      Q2043                  35938.558603  2015\n"
     ]
    }
   ],
   "source": [
    "phys_nyc_medio_top5 = pd.concat([phys_nyc17_medio_top5, phys_nyc16_medio_top5, phys_nyc15_medio_top5], ignore_index=True)\n",
    "print(phys_nyc_medio_top5)"
   ]
  },
  {
   "cell_type": "code",
   "execution_count": 413,
   "metadata": {},
   "outputs": [
    {
     "data": {
      "image/png": "[encoded data removed]",
      "text/plain": [
       "<Figure size 1080x216 with 5 Axes>"
      ]
     },
     "metadata": {
      "needs_background": "light"
     },
     "output_type": "display_data"
    }
   ],
   "source": [
    "g = sns.FacetGrid(phys_nyc_medio_top5, col=\"hcpcs_code\").set(xlim=(2014, 2018), ylim=(0, 40000), xticks=[2015, 2016, 2017], yticks=[0, 5000, 10000, 15000, 20000, 25000, 30000, 35000, 40000])\n",
    "g = g.map(plt.plot, \"year\", \"average_medicare_allowed_amt\")"
   ]
  },
  {
   "cell_type": "code",
   "execution_count": 414,
   "metadata": {},
   "outputs": [
    {
     "name": "stdout",
     "output_type": "stream",
     "text": [
      "   hcpcs_code  avg_med_amt_17  avg_med_amt_16  avg_med_amt_15  16/17_med_chng  \\\n",
      "2       43232      212.145455      242.340000      246.366571       30.194545   \n",
      "12      43259      240.442238      251.333411      258.304250       10.891173   \n",
      "13      43270      256.241802      267.785587      282.259641       11.543785   \n",
      "17      44365      141.273684      179.567105      177.018958       38.293421   \n",
      "19      44378      480.260000      486.570000      500.181429        6.310000   \n",
      "\n",
      "    15/16_med_chng  15/17_med_chng  \n",
      "2         4.026571       34.221117  \n",
      "12        6.970839       17.862012  \n",
      "13       14.474053       26.017839  \n",
      "17        2.548147       35.745274  \n",
      "19       13.611429       19.921429  \n"
     ]
    }
   ],
   "source": [
    "print(phys_nycmed_if_top5)"
   ]
  },
  {
   "cell_type": "code",
   "execution_count": 415,
   "metadata": {},
   "outputs": [
    {
     "name": "stdout",
     "output_type": "stream",
     "text": [
      "  hcpcs_code  average_medicare_allowed_amt  year\n",
      "0      31599                   1031.115545  2017\n",
      "1      50820                   1374.406177  2017\n",
      "2      51999                   1806.836264  2017\n",
      "3      61592                   1828.745270  2017\n",
      "4      67228                    331.506730  2017\n"
     ]
    }
   ],
   "source": [
    "phys_nyc17_medif_top5 = phys_nyc_17_group[phys_nyc_17_group[\"hcpcs_code\"].isin(['43232', '43259', '43270', '44365', '44378'])]\n",
    "phys_nyc17_medif_top5 = phys_17_medif_top5.reset_index()\n",
    "phys_nyc17_medif_top5['year'] = 2017\n",
    "phys_nyc17_medif_top5 = phys_nyc17_medif_top5.drop(columns={'index'})\n",
    "phys_nyc17_medif_top5 = phys_nyc17_medif_top5.rename(columns={'avg_med_amt_17' : 'average_medicare_allowed_amt'})\n",
    "print(phys_nyc17_medif_top5)"
   ]
  },
  {
   "cell_type": "code",
   "execution_count": 416,
   "metadata": {},
   "outputs": [
    {
     "name": "stdout",
     "output_type": "stream",
     "text": [
      "  hcpcs_code  average_medicare_allowed_amt  year\n",
      "0      31599                    370.481654  2016\n",
      "1      50820                   1696.669716  2016\n",
      "2      51999                   1771.621782  2016\n",
      "3      61592                   1138.120286  2016\n",
      "4      67228                    329.305534  2016\n"
     ]
    }
   ],
   "source": [
    "phys_nyc16_medif_top5 = phys_nyc_16_group[phys_nyc_16_group[\"hcpcs_code\"].isin(['43232', '43259', '43270', '44365', '44378'])]\n",
    "phys_nyc16_medif_top5 = phys_16_medif_top5.reset_index()\n",
    "phys_nyc16_medif_top5['year'] = 2016\n",
    "phys_nyc16_medif_top5 = phys_nyc16_medif_top5.drop(columns={'index'})\n",
    "phys_nyc16_medif_top5 = phys_nyc16_medif_top5.rename(columns={'avg_med_amt_16' : 'average_medicare_allowed_amt'})\n",
    "print(phys_nyc16_medif_top5)"
   ]
  },
  {
   "cell_type": "code",
   "execution_count": 417,
   "metadata": {},
   "outputs": [
    {
     "name": "stdout",
     "output_type": "stream",
     "text": [
      "  hcpcs_code  average_medicare_allowed_amt  year\n",
      "0      31599                    436.483986  2015\n",
      "1      50820                   1286.294388  2015\n",
      "2      51999                   1455.293918  2015\n",
      "3      61592                   2104.822643  2015\n",
      "4      67228                    959.330722  2015\n"
     ]
    }
   ],
   "source": [
    "phys_nyc15_medif_top5 = phys_nyc_15_group[phys_nyc_15_group[\"hcpcs_code\"].isin(['43232', '43259', '43270', '44365', '44378'])]\n",
    "phys_nyc15_medif_top5 = phys_15_medif_top5.reset_index()\n",
    "phys_nyc15_medif_top5['year'] = 2015\n",
    "phys_nyc15_medif_top5 = phys_nyc15_medif_top5.drop(columns={'index'})\n",
    "phys_nyc15_medif_top5 = phys_nyc15_medif_top5.rename(columns={'avg_med_amt_15' : 'average_medicare_allowed_amt'})\n",
    "print(phys_nyc15_medif_top5)"
   ]
  },
  {
   "cell_type": "code",
   "execution_count": 418,
   "metadata": {},
   "outputs": [
    {
     "name": "stdout",
     "output_type": "stream",
     "text": [
      "   hcpcs_code  average_medicare_allowed_amt  year\n",
      "0       31599                   1031.115545  2017\n",
      "1       50820                   1374.406177  2017\n",
      "2       51999                   1806.836264  2017\n",
      "3       61592                   1828.745270  2017\n",
      "4       67228                    331.506730  2017\n",
      "5       31599                    370.481654  2016\n",
      "6       50820                   1696.669716  2016\n",
      "7       51999                   1771.621782  2016\n",
      "8       61592                   1138.120286  2016\n",
      "9       67228                    329.305534  2016\n",
      "10      31599                    436.483986  2015\n",
      "11      50820                   1286.294388  2015\n",
      "12      51999                   1455.293918  2015\n",
      "13      61592                   2104.822643  2015\n",
      "14      67228                    959.330722  2015\n"
     ]
    }
   ],
   "source": [
    "phys_nyc_medif_top5 = pd.concat([phys_nyc17_medif_top5, phys_nyc16_medif_top5, phys_nyc15_medif_top5], ignore_index=True)\n",
    "print(phys_nyc_medif_top5)"
   ]
  },
  {
   "cell_type": "code",
   "execution_count": 419,
   "metadata": {},
   "outputs": [
    {
     "data": {
      "image/png": "[encoded data removed]",
      "text/plain": [
       "<Figure size 1080x216 with 5 Axes>"
      ]
     },
     "metadata": {
      "needs_background": "light"
     },
     "output_type": "display_data"
    }
   ],
   "source": [
    "g = sns.FacetGrid(phys_nyc_medif_top5, col=\"hcpcs_code\").set(xlim=(2014, 2018), ylim=(0, 2200), xticks=[2015, 2016, 2017], yticks=[0, 200, 400, 600, 800, 1000, 1200, 1400, 1600, 1800, 2000, 2200])\n",
    "g = g.map(plt.plot, \"year\", \"average_medicare_allowed_amt\")"
   ]
  },
  {
   "cell_type": "code",
   "execution_count": 420,
   "metadata": {},
   "outputs": [
    {
     "name": "stdout",
     "output_type": "stream",
     "text": [
      "  hcpcs_code  avg_med_amt_17  avg_med_amt_16  avg_med_amt_15  16/17_med_chng  \\\n",
      "1      43238      696.400000      671.596154      670.270000       24.803846   \n",
      "4      43251      650.582628      638.876009      626.663809       11.706619   \n",
      "5      43255      696.400000      698.460000      666.270000        2.060000   \n",
      "7      44361      626.599946      637.125269      481.337436       10.525323   \n",
      "8      44365      687.114667      698.460000      777.057857       11.345333   \n",
      "\n",
      "   15/16_med_chng  15/17_med_chng  \n",
      "1        1.326154       26.130000  \n",
      "4       12.212200       23.918818  \n",
      "5       32.190000       30.130000  \n",
      "7      155.787833      145.262510  \n",
      "8       78.597857       89.943190  \n"
     ]
    }
   ],
   "source": [
    "print(phys_nycmed_of_top5)"
   ]
  },
  {
   "cell_type": "code",
   "execution_count": 421,
   "metadata": {},
   "outputs": [
    {
     "name": "stdout",
     "output_type": "stream",
     "text": [
      "  hcpcs_code  average_medicare_allowed_amt  year\n",
      "0      28730                    725.425583  2017\n",
      "1      29825                    252.134648  2017\n",
      "2      33264                    947.956661  2017\n",
      "3      64575                   3316.283491  2017\n",
      "4      69930                   2987.475095  2017\n"
     ]
    }
   ],
   "source": [
    "phys_nyc17_medof_top5 = phys_nyc_17_group[phys_nyc_17_group[\"hcpcs_code\"].isin(['43238', '43251', '43255', '44361', '44365'])]\n",
    "phys_nyc17_medof_top5 = phys_17_medof_top5.reset_index()\n",
    "phys_nyc17_medof_top5['year'] = 2017\n",
    "phys_nyc17_medof_top5 = phys_nyc17_medof_top5.drop(columns={'index'})\n",
    "phys_nyc17_medof_top5 = phys_nyc17_medof_top5.rename(columns={'avg_med_amt_17' : 'average_medicare_allowed_amt'})\n",
    "print(phys_nyc17_medof_top5)"
   ]
  },
  {
   "cell_type": "code",
   "execution_count": 422,
   "metadata": {},
   "outputs": [
    {
     "name": "stdout",
     "output_type": "stream",
     "text": [
      "  hcpcs_code  average_medicare_allowed_amt  year\n",
      "0      28730                    671.270684  2016\n",
      "1      29825                    268.106221  2016\n",
      "2      33264                    834.299731  2016\n",
      "3      64575                    880.036299  2016\n",
      "4      69930                   3268.645347  2016\n"
     ]
    }
   ],
   "source": [
    "phys_nyc16_medof_top5 = phys_nyc_16_group[phys_nyc_16_group[\"hcpcs_code\"].isin(['43238', '43251', '43255', '44361', '44365'])]\n",
    "phys_nyc16_medof_top5 = phys_16_medof_top5.reset_index()\n",
    "phys_nyc16_medof_top5['year'] = 2016\n",
    "phys_nyc16_medof_top5 = phys_nyc16_medof_top5.drop(columns={'index'})\n",
    "phys_nyc16_medof_top5 = phys_nyc16_medof_top5.rename(columns={'avg_med_amt_16' : 'average_medicare_allowed_amt'})\n",
    "print(phys_nyc16_medof_top5)"
   ]
  },
  {
   "cell_type": "code",
   "execution_count": 423,
   "metadata": {},
   "outputs": [
    {
     "name": "stdout",
     "output_type": "stream",
     "text": [
      "  hcpcs_code  average_medicare_allowed_amt  year\n",
      "0      28730                    635.693244  2015\n",
      "1      29825                    301.399816  2015\n",
      "2      33264                    822.247357  2015\n",
      "3      64575                    848.669255  2015\n",
      "4      69930                   2779.019062  2015\n"
     ]
    }
   ],
   "source": [
    "phys_nyc15_medof_top5 = phys_nyc_15_group[phys_nyc_15_group[\"hcpcs_code\"].isin(['43238', '43251', '43255', '44361', '44365'])]\n",
    "phys_nyc15_medof_top5 = phys_15_medof_top5.reset_index()\n",
    "phys_nyc15_medof_top5['year'] = 2015\n",
    "phys_nyc15_medof_top5 = phys_nyc15_medof_top5.drop(columns={'index'})\n",
    "phys_nyc15_medof_top5 = phys_nyc15_medof_top5.rename(columns={'avg_med_amt_15' : 'average_medicare_allowed_amt'})\n",
    "print(phys_nyc15_medof_top5)"
   ]
  },
  {
   "cell_type": "code",
   "execution_count": 424,
   "metadata": {},
   "outputs": [
    {
     "name": "stdout",
     "output_type": "stream",
     "text": [
      "   hcpcs_code  average_medicare_allowed_amt  year\n",
      "0       28730                    725.425583  2017\n",
      "1       29825                    252.134648  2017\n",
      "2       33264                    947.956661  2017\n",
      "3       64575                   3316.283491  2017\n",
      "4       69930                   2987.475095  2017\n",
      "5       28730                    671.270684  2016\n",
      "6       29825                    268.106221  2016\n",
      "7       33264                    834.299731  2016\n",
      "8       64575                    880.036299  2016\n",
      "9       69930                   3268.645347  2016\n",
      "10      28730                    635.693244  2015\n",
      "11      29825                    301.399816  2015\n",
      "12      33264                    822.247357  2015\n",
      "13      64575                    848.669255  2015\n",
      "14      69930                   2779.019062  2015\n"
     ]
    }
   ],
   "source": [
    "phys_nyc_medof_top5 = pd.concat([phys_nyc17_medof_top5, phys_nyc16_medof_top5, phys_nyc15_medof_top5], ignore_index=True)\n",
    "print(phys_nyc_medof_top5)"
   ]
  },
  {
   "cell_type": "code",
   "execution_count": 425,
   "metadata": {
    "scrolled": true
   },
   "outputs": [
    {
     "data": {
      "image/png": "[encoded data removed]",
      "text/plain": [
       "<Figure size 1080x216 with 5 Axes>"
      ]
     },
     "metadata": {
      "needs_background": "light"
     },
     "output_type": "display_data"
    }
   ],
   "source": [
    "g = sns.FacetGrid(phys_nyc_medof_top5, col=\"hcpcs_code\").set(xlim=(2014, 2018), ylim=(0, 3600), xticks=[2015, 2016, 2017], yticks=[0, 400, 800, 1200, 1600, 2000, 2400, 2800, 3200, 3600])\n",
    "g = g.map(plt.plot, \"year\", \"average_medicare_allowed_amt\")"
   ]
  },
  {
   "cell_type": "code",
   "execution_count": 426,
   "metadata": {},
   "outputs": [
    {
     "name": "stdout",
     "output_type": "stream",
     "text": [
      "   hcpcs_code  srvc_cnt_17  avg_med_amt_17\n",
      "0       43191    15.000000       74.570000\n",
      "1       43233    13.000000      214.317692\n",
      "2       43237    45.500000      174.704052\n",
      "3       43238    38.000000      217.114109\n",
      "4       43242    57.000000      252.304635\n",
      "5       43244    19.750000      233.880839\n",
      "6       43245    17.000000      146.805882\n",
      "7       43246    20.000000      211.776764\n",
      "8       43249    35.904762      239.281357\n",
      "9       43250    13.000000      159.586923\n",
      "10      43251    17.750000      361.855025\n",
      "11      43254    15.000000      266.110000\n",
      "12      43255    14.800000      192.933562\n",
      "13      43259    57.500000      215.227656\n",
      "14      43270    15.500000      212.928034\n",
      "15      43453    26.000000      496.923077\n",
      "16      44361    13.000000       93.460000\n",
      "17      49440    25.500000      202.542105\n"
     ]
    }
   ],
   "source": [
    "phys_nash_17_group = phys_nash_17.groupby('hcpcs_code').mean()\n",
    "phys_nash_17_group = phys_nash_17_group.reset_index()\n",
    "print(phys_nash_17_group)"
   ]
  },
  {
   "cell_type": "code",
   "execution_count": 430,
   "metadata": {},
   "outputs": [
    {
     "name": "stdout",
     "output_type": "stream",
     "text": [
      "   hcpcs_code  srvc_cnt_16  avg_med_amt_16\n",
      "0       43237    30.666667      188.726918\n",
      "1       43238    32.666667      217.251391\n",
      "2       43242    45.000000      250.721818\n",
      "3       43244    23.600000      238.242573\n",
      "4       43245    18.500000      152.798558\n",
      "5       43246    22.333333      216.812614\n",
      "6       43249    35.761905      215.701615\n",
      "7       43251    20.750000      363.370226\n",
      "8       43255    13.800000      192.857109\n",
      "9       43259    33.000000      221.578010\n",
      "10      43270    17.000000      316.703382\n",
      "11      44360    12.000000      124.810000\n",
      "12      44369    11.000000      241.200000\n",
      "13      49440    20.666667      227.604191\n"
     ]
    }
   ],
   "source": [
    "phys_nash_16_group = phys_nash_16.groupby('hcpcs_code').mean()\n",
    "phys_nash_16_group = phys_nash_16_group.reset_index()\n",
    "print(phys_nash_16_group)"
   ]
  },
  {
   "cell_type": "code",
   "execution_count": 431,
   "metadata": {},
   "outputs": [
    {
     "name": "stdout",
     "output_type": "stream",
     "text": [
      "   hcpcs_code  srvc_cnt_15  avg_med_amt_15\n",
      "0       43237        28.00      184.824131\n",
      "1       43238        41.50      223.782841\n",
      "2       43242        47.50      260.267565\n",
      "3       43244        26.50      242.735779\n",
      "4       43245        22.50      257.761281\n",
      "5       43246        22.95      214.092334\n",
      "6       43249        36.90      198.032747\n",
      "7       43251        20.00      300.300335\n",
      "8       43254        14.00      242.115000\n",
      "9       43255        16.80      172.647616\n",
      "10      43259        61.50      220.302689\n",
      "11      43270        20.00      340.927800\n",
      "12      43830        12.00      619.562500\n",
      "13      44369        14.00      247.691429\n",
      "14      49440        39.00      210.524615\n"
     ]
    }
   ],
   "source": [
    "phys_nash_15_group = phys_nash_15.groupby('hcpcs_code').mean()\n",
    "phys_nash_15_group = phys_nash_15_group.reset_index()\n",
    "print(phys_nash_15_group)"
   ]
  },
  {
   "cell_type": "code",
   "execution_count": 427,
   "metadata": {},
   "outputs": [
    {
     "name": "stdout",
     "output_type": "stream",
     "text": [
      "   hcpcs_code  avg_med_amt_17  avg_med_amt_16  avg_med_amt_15  16/17_med_chng  \\\n",
      "2       43242      252.304635      255.692073      261.040951        3.387437   \n",
      "3       43244      231.354452      237.100956      241.231276        5.746504   \n",
      "7       43251      161.439097      159.815451      173.465503        1.623646   \n",
      "10      43270      211.643846      232.940000      234.395000       21.296154   \n",
      "11      49440      201.194211      213.463824      210.524615       12.269613   \n",
      "\n",
      "    15/16_med_chng  15/17_med_chng  \n",
      "2         5.348879        8.736316  \n",
      "3         4.130320        9.876824  \n",
      "7        13.650052       12.026406  \n",
      "10        1.455000       22.751154  \n",
      "11        2.939208        9.330405  \n"
     ]
    }
   ],
   "source": [
    "print(phys_nashmed_if_top5)"
   ]
  },
  {
   "cell_type": "code",
   "execution_count": 428,
   "metadata": {},
   "outputs": [
    {
     "name": "stdout",
     "output_type": "stream",
     "text": [
      "  hcpcs_code  srvc_cnt_17  average_medicare_allowed_amt  year\n",
      "0      43242        57.00                    252.304635  2017\n",
      "1      43244        19.75                    233.880839  2017\n",
      "2      43251        17.75                    361.855025  2017\n",
      "3      43270        15.50                    212.928034  2017\n",
      "4      49440        25.50                    202.542105  2017\n"
     ]
    }
   ],
   "source": [
    "phys_nash17_medif_top5 = phys_nash_17_group[phys_nash_17_group[\"hcpcs_code\"].isin(['43242', '43244', '43251', '43270', '49440'])]\n",
    "phys_nash17_medif_top5 = phys_nash17_medif_top5.reset_index()\n",
    "phys_nash17_medif_top5['year'] = 2017\n",
    "phys_nash17_medif_top5 = phys_nash17_medif_top5.drop(columns={'index'})\n",
    "phys_nash17_medif_top5 = phys_nash17_medif_top5.rename(columns={'avg_med_amt_17' : 'average_medicare_allowed_amt'})\n",
    "print(phys_nash17_medif_top5)"
   ]
  },
  {
   "cell_type": "code",
   "execution_count": 429,
   "metadata": {},
   "outputs": [
    {
     "name": "stdout",
     "output_type": "stream",
     "text": [
      "  hcpcs_code  average_medicare_allowed_amt  year\n",
      "0      43242                    252.304635  2017\n",
      "1      43244                    233.880839  2017\n",
      "2      43251                    361.855025  2017\n",
      "3      43270                    212.928034  2017\n",
      "4      49440                    202.542105  2017\n"
     ]
    }
   ],
   "source": [
    "phys_nash17_medif_top5 = phys_nash17_medif_top5.drop(columns={'srvc_cnt_17'})\n",
    "print(phys_nash17_medif_top5)"
   ]
  },
  {
   "cell_type": "code",
   "execution_count": 432,
   "metadata": {},
   "outputs": [
    {
     "name": "stdout",
     "output_type": "stream",
     "text": [
      "  hcpcs_code  average_medicare_allowed_amt  year\n",
      "0      43242                    250.721818  2016\n",
      "1      43244                    238.242573  2016\n",
      "2      43251                    363.370226  2016\n",
      "3      43270                    316.703382  2016\n",
      "4      49440                    227.604191  2016\n"
     ]
    }
   ],
   "source": [
    "phys_nash16_medif_top5 = phys_nash_16_group[phys_nash_16_group[\"hcpcs_code\"].isin(['43242', '43244', '43251', '43270', '49440'])]\n",
    "phys_nash16_medif_top5 = phys_nash16_medif_top5.reset_index()\n",
    "phys_nash16_medif_top5['year'] = 2016\n",
    "phys_nash16_medif_top5 = phys_nash16_medif_top5.drop(columns={'srvc_cnt_16', 'index'})\n",
    "phys_nash16_medif_top5 = phys_nash16_medif_top5.rename(columns={'avg_med_amt_16' : 'average_medicare_allowed_amt'})\n",
    "print(phys_nash16_medif_top5)"
   ]
  },
  {
   "cell_type": "code",
   "execution_count": 433,
   "metadata": {},
   "outputs": [
    {
     "name": "stdout",
     "output_type": "stream",
     "text": [
      "  hcpcs_code  average_medicare_allowed_amt  year\n",
      "0      43242                    260.267565  2015\n",
      "1      43244                    242.735779  2015\n",
      "2      43251                    300.300335  2015\n",
      "3      43270                    340.927800  2015\n",
      "4      49440                    210.524615  2015\n"
     ]
    }
   ],
   "source": [
    "phys_nash15_medif_top5 = phys_nash_15_group[phys_nash_15_group[\"hcpcs_code\"].isin(['43242', '43244', '43251', '43270', '49440'])]\n",
    "phys_nash15_medif_top5 = phys_nash15_medif_top5.reset_index()\n",
    "phys_nash15_medif_top5['year'] = 2015\n",
    "phys_nash15_medif_top5 = phys_nash15_medif_top5.drop(columns={'srvc_cnt_15', 'index'})\n",
    "phys_nash15_medif_top5 = phys_nash15_medif_top5.rename(columns={'avg_med_amt_15' : 'average_medicare_allowed_amt'})\n",
    "print(phys_nash15_medif_top5)"
   ]
  },
  {
   "cell_type": "code",
   "execution_count": 434,
   "metadata": {},
   "outputs": [
    {
     "name": "stdout",
     "output_type": "stream",
     "text": [
      "   hcpcs_code  average_medicare_allowed_amt  year\n",
      "0       43242                    252.304635  2017\n",
      "1       43244                    233.880839  2017\n",
      "2       43251                    361.855025  2017\n",
      "3       43270                    212.928034  2017\n",
      "4       49440                    202.542105  2017\n",
      "5       43242                    250.721818  2016\n",
      "6       43244                    238.242573  2016\n",
      "7       43251                    363.370226  2016\n",
      "8       43270                    316.703382  2016\n",
      "9       49440                    227.604191  2016\n",
      "10      43242                    260.267565  2015\n",
      "11      43244                    242.735779  2015\n",
      "12      43251                    300.300335  2015\n",
      "13      43270                    340.927800  2015\n",
      "14      49440                    210.524615  2015\n"
     ]
    }
   ],
   "source": [
    "phys_nash_medif_top5 = pd.concat([phys_nash17_medif_top5, phys_nash16_medif_top5, phys_nash15_medif_top5], ignore_index=True)\n",
    "print(phys_nash_medif_top5)"
   ]
  },
  {
   "cell_type": "code",
   "execution_count": 435,
   "metadata": {},
   "outputs": [
    {
     "data": {
      "image/png": "[encoded data removed]",
      "text/plain": [
       "<Figure size 1080x216 with 5 Axes>"
      ]
     },
     "metadata": {
      "needs_background": "light"
     },
     "output_type": "display_data"
    }
   ],
   "source": [
    "g = sns.FacetGrid(phys_nash_medif_top5, col=\"hcpcs_code\").set(xlim=(2014, 2018), ylim=(0, 400), xticks=[2015, 2016, 2017], yticks=[0, 50, 100, 150, 200, 250, 300, 350, 400])\n",
    "g = g.map(plt.plot, \"year\", \"average_medicare_allowed_amt\")"
   ]
  },
  {
   "cell_type": "code",
   "execution_count": 436,
   "metadata": {},
   "outputs": [
    {
     "name": "stdout",
     "output_type": "stream",
     "text": [
      "  hcpcs_code  avg_med_amt_17  avg_med_amt_16  avg_med_amt_15  16/17_med_chng  \\\n",
      "2      43251      587.110000      575.320000      553.970000       11.790000   \n",
      "1      43249      579.952157      575.320000      553.786667        4.632157   \n",
      "0      43246      550.540000      546.388261      536.060000        4.151739   \n",
      "\n",
      "   15/16_med_chng  15/17_med_chng  \n",
      "2       21.350000        33.14000  \n",
      "1       21.533333        26.16549  \n",
      "0       10.328261        14.48000  \n"
     ]
    }
   ],
   "source": [
    "print(phys_nashmed_of_top5)"
   ]
  },
  {
   "cell_type": "code",
   "execution_count": 437,
   "metadata": {},
   "outputs": [
    {
     "name": "stdout",
     "output_type": "stream",
     "text": [
      "  hcpcs_code  average_medicare_allowed_amt  year\n",
      "0      43246                    211.776764  2017\n",
      "1      43249                    239.281357  2017\n",
      "2      43251                    361.855025  2017\n"
     ]
    }
   ],
   "source": [
    "phys_nash17_medof_top5 = phys_nash_17_group[phys_nash_17_group[\"hcpcs_code\"].isin(['43251', '43249', '43246'])]\n",
    "phys_nash17_medof_top5 = phys_nash17_medof_top5.reset_index()\n",
    "phys_nash17_medof_top5['year'] = 2017\n",
    "phys_nash17_medof_top5 = phys_nash17_medof_top5.drop(columns={'srvc_cnt_17', 'index'})\n",
    "phys_nash17_medof_top5 = phys_nash17_medof_top5.rename(columns={'avg_med_amt_17' : 'average_medicare_allowed_amt'})\n",
    "print(phys_nash17_medof_top5)"
   ]
  },
  {
   "cell_type": "code",
   "execution_count": 438,
   "metadata": {},
   "outputs": [
    {
     "name": "stdout",
     "output_type": "stream",
     "text": [
      "  hcpcs_code  average_medicare_allowed_amt  year\n",
      "0      43246                    216.812614  2016\n",
      "1      43249                    215.701615  2016\n",
      "2      43251                    363.370226  2016\n"
     ]
    }
   ],
   "source": [
    "phys_nash16_medof_top5 = phys_nash_16_group[phys_nash_16_group[\"hcpcs_code\"].isin(['43251', '43249', '43246'])]\n",
    "phys_nash16_medof_top5 = phys_nash16_medof_top5.reset_index()\n",
    "phys_nash16_medof_top5['year'] = 2016\n",
    "phys_nash16_medof_top5 = phys_nash16_medof_top5.drop(columns={'srvc_cnt_16', 'index'})\n",
    "phys_nash16_medof_top5 = phys_nash16_medof_top5.rename(columns={'avg_med_amt_16' : 'average_medicare_allowed_amt'})\n",
    "print(phys_nash16_medof_top5)"
   ]
  },
  {
   "cell_type": "code",
   "execution_count": 439,
   "metadata": {},
   "outputs": [
    {
     "name": "stdout",
     "output_type": "stream",
     "text": [
      "  hcpcs_code  average_medicare_allowed_amt  year\n",
      "0      43246                    214.092334  2015\n",
      "1      43249                    198.032747  2015\n",
      "2      43251                    300.300335  2015\n"
     ]
    }
   ],
   "source": [
    "phys_nash15_medof_top5 = phys_nash_15_group[phys_nash_15_group[\"hcpcs_code\"].isin(['43251', '43249', '43246'])]\n",
    "phys_nash15_medof_top5 = phys_nash15_medof_top5.reset_index()\n",
    "phys_nash15_medof_top5['year'] = 2015\n",
    "phys_nash15_medof_top5 = phys_nash15_medof_top5.drop(columns={'srvc_cnt_15', 'index'})\n",
    "phys_nash15_medof_top5 = phys_nash15_medof_top5.rename(columns={'avg_med_amt_15' : 'average_medicare_allowed_amt'})\n",
    "print(phys_nash15_medof_top5)"
   ]
  },
  {
   "cell_type": "code",
   "execution_count": 440,
   "metadata": {},
   "outputs": [
    {
     "name": "stdout",
     "output_type": "stream",
     "text": [
      "  hcpcs_code  average_medicare_allowed_amt  year\n",
      "0      43246                    211.776764  2017\n",
      "1      43249                    239.281357  2017\n",
      "2      43251                    361.855025  2017\n",
      "3      43246                    216.812614  2016\n",
      "4      43249                    215.701615  2016\n",
      "5      43251                    363.370226  2016\n",
      "6      43246                    214.092334  2015\n",
      "7      43249                    198.032747  2015\n",
      "8      43251                    300.300335  2015\n"
     ]
    }
   ],
   "source": [
    "phys_nash_medof_top5 = pd.concat([phys_nash17_medof_top5, phys_nash16_medof_top5, phys_nash15_medof_top5], ignore_index=True)\n",
    "print(phys_nash_medof_top5)"
   ]
  },
  {
   "cell_type": "code",
   "execution_count": 441,
   "metadata": {},
   "outputs": [
    {
     "data": {
      "image/png": "[encoded data removed]",
      "text/plain": [
       "<Figure size 648x216 with 3 Axes>"
      ]
     },
     "metadata": {
      "needs_background": "light"
     },
     "output_type": "display_data"
    }
   ],
   "source": [
    "g = sns.FacetGrid(phys_nash_medof_top5, col=\"hcpcs_code\").set(xlim=(2014, 2018), ylim=(0, 400), xticks=[2015, 2016, 2017], yticks=[0, 50, 100, 150, 200, 250, 300, 350, 400])\n",
    "g = g.map(plt.plot, \"year\", \"average_medicare_allowed_amt\")"
   ]
  },
  {
   "cell_type": "code",
   "execution_count": 25,
   "metadata": {},
   "outputs": [
    {
     "name": "stdout",
     "output_type": "stream",
     "text": [
      "   hcpcs_code  srvc_cnt_17  avg_med_amt_17\n",
      "0       32556         77.0      554.681735\n",
      "1       43191         12.0       78.630000\n",
      "2       43202         91.0      595.795172\n",
      "3       43232         11.0      212.145455\n",
      "4       43237        712.0     7589.357242\n",
      "5       43238        493.0     5905.638379\n",
      "6       43241         23.0      172.471304\n",
      "7       43242       1669.0    18750.364998\n",
      "8       43243         11.0      262.490000\n",
      "9       43244         11.0      280.550000\n",
      "10      43245         64.0     1066.843394\n",
      "11      43246       4109.0    35998.219887\n",
      "12      43249        942.0    17449.280249\n",
      "13      43250        112.0     1637.069286\n",
      "14      43251       1071.0    16648.788586\n",
      "15      43254         66.0     1280.385000\n",
      "16      43255        951.0    12775.846229\n",
      "17      43259       2653.0    20591.694019\n",
      "18      43270        326.0     4248.241175\n",
      "19      43453         15.0       65.770000\n",
      "20      43830         39.0     1568.525789\n",
      "21      44360         29.0      339.632857\n",
      "22      44361       1404.0     6912.175423\n",
      "23      44364         58.0      593.946897\n",
      "24      44365        151.0      828.388351\n",
      "25      44369         11.0      307.420000\n",
      "26      44376        184.0      516.670000\n",
      "27      44377        181.0      346.205672\n",
      "28      44378         32.0      950.740000\n",
      "29      49423         45.0      237.912000\n",
      "30      49440        172.0     2845.074534\n"
     ]
    }
   ],
   "source": [
    "phys_nyc_17_srvcgroup = phys_nyc_17.groupby('hcpcs_code').sum()\n",
    "phys_nyc_17_srvcgroup = phys_nyc_17_srvcgroup.reset_index()\n",
    "print(phys_nyc_17_srvcgroup)"
   ]
  },
  {
   "cell_type": "code",
   "execution_count": 26,
   "metadata": {
    "scrolled": true
   },
   "outputs": [
    {
     "name": "stdout",
     "output_type": "stream",
     "text": [
      "   hcpcs_code  srvc_cnt_16  avg_med_amt_16\n",
      "0       32556        100.0      818.071548\n",
      "1       43202        133.0      720.802952\n",
      "2       43231         13.0      148.083077\n",
      "3       43232         13.0      242.340000\n",
      "4       43237        674.0     7874.333363\n",
      "5       43238        347.0     3590.822853\n",
      "6       43241         25.0      179.306000\n",
      "7       43242       1624.0    18749.646122\n",
      "8       43244         18.0      281.410000\n",
      "9       43245         25.0      198.783600\n",
      "10      43246       4680.0    42506.475000\n",
      "11      43249        984.0    17983.026137\n",
      "12      43250        105.0     1802.661349\n",
      "13      43251       1393.0    19660.853627\n",
      "14      43254         77.0     1632.795944\n",
      "15      43255       1014.0    12851.924508\n",
      "16      43259       2958.0    22625.104607\n",
      "17      43270        371.0     4149.788320\n",
      "18      43453         22.0       64.245455\n",
      "19      43830         21.0      778.490000\n",
      "20      44360         24.0      356.528182\n",
      "21      44361       1747.0     8151.953241\n",
      "22      44364         27.0      588.990000\n",
      "23      44365        147.0      878.027105\n",
      "24      44366         41.0      800.129231\n",
      "25      44373         11.0      135.664545\n",
      "26      44376        176.0      979.896429\n",
      "27      44377        148.0      349.200000\n",
      "28      44378         15.0      486.570000\n",
      "29      49423         29.0      156.042624\n",
      "30      49440        225.0     4143.179205\n"
     ]
    }
   ],
   "source": [
    "phys_nyc_16_srvcgroup = phys_nyc_16.groupby('hcpcs_code').sum()\n",
    "phys_nyc_16_srvcgroup = phys_nyc_16_srvcgroup.reset_index()\n",
    "print(phys_nyc_16_srvcgroup)"
   ]
  },
  {
   "cell_type": "code",
   "execution_count": 27,
   "metadata": {},
   "outputs": [
    {
     "name": "stdout",
     "output_type": "stream",
     "text": [
      "   hcpcs_code  srvc_cnt_15  avg_med_amt_15\n",
      "0       32556        195.0      997.515032\n",
      "1       43202         89.0      692.128598\n",
      "2       43231         29.0      207.658966\n",
      "3       43232         35.0      246.366571\n",
      "4       43237        341.0     5456.465386\n",
      "5       43238        263.0     3394.827006\n",
      "6       43241         24.0       71.439583\n",
      "7       43242       1498.0    17478.863922\n",
      "8       43244         13.0      297.850000\n",
      "9       43245        126.0     1889.158943\n",
      "10      43246       5501.0    50923.787113\n",
      "11      43249        604.0    11638.509773\n",
      "12      43250        100.0     1796.267863\n",
      "13      43251       1399.0    20508.691518\n",
      "14      43254         24.0      311.060417\n",
      "15      43255        738.0    10331.875274\n",
      "16      43259       2933.0    22103.849705\n",
      "17      43270        257.0     2784.240123\n",
      "18      43453         54.0      196.730350\n",
      "19      43830         47.0     1625.055741\n",
      "20      44360         15.0      162.409333\n",
      "21      44361       1728.0     7983.270292\n",
      "22      44365         90.0      954.076815\n",
      "23      44369         28.0      539.170642\n",
      "24      44373         13.0      144.933077\n",
      "25      44376        157.0     1079.521014\n",
      "26      44377        183.0      670.737020\n",
      "27      44378         29.0     1001.604762\n",
      "28      49423         13.0       78.927692\n",
      "29      49440        264.0     4373.005505\n",
      "30      49446         15.0      105.637333\n"
     ]
    }
   ],
   "source": [
    "phys_nyc_15_srvcgroup = phys_nyc_15.groupby('hcpcs_code').sum()\n",
    "phys_nyc_15_srvcgroup = phys_nyc_15_srvcgroup.reset_index()\n",
    "print(phys_nyc_15_srvcgroup)"
   ]
  },
  {
   "cell_type": "code",
   "execution_count": 445,
   "metadata": {},
   "outputs": [
    {
     "name": "stdout",
     "output_type": "stream",
     "text": [
      "  hcpcs_code  srvc_cnt_17  srvc_cnt_16  srvc_cnt_15  16/17_srvc_chng  \\\n",
      "1      43249         33.0         27.0         40.0              6.0   \n",
      "2      43250         84.0         21.0         26.0             63.0   \n",
      "3      43251        213.0        518.0        454.0            305.0   \n",
      "5      44376        173.0        134.0         64.0             39.0   \n",
      "6      44377        181.0        148.0        166.0             33.0   \n",
      "\n",
      "   15/16_srvc_chng  15/17_srvc_chng  \n",
      "1             13.0              7.0  \n",
      "2              5.0             58.0  \n",
      "3             64.0            241.0  \n",
      "5             70.0            109.0  \n",
      "6             18.0             15.0  \n"
     ]
    }
   ],
   "source": [
    "print(phys_nycsrvc_io_top5)"
   ]
  },
  {
   "cell_type": "code",
   "execution_count": 446,
   "metadata": {},
   "outputs": [
    {
     "name": "stdout",
     "output_type": "stream",
     "text": [
      "  hcpcs_code  srvc_cnt  year\n",
      "0      43249     942.0  2017\n",
      "1      43250     112.0  2017\n",
      "2      43251    1071.0  2017\n",
      "3      44376     184.0  2017\n",
      "4      44377     181.0  2017\n"
     ]
    }
   ],
   "source": [
    "phys_nyc17_srvcio_top5 = phys_nyc_17_srvcgroup[phys_nyc_17_srvcgroup[\"hcpcs_code\"].isin(['43249', '43250', '43251', '44376', '44377'])]\n",
    "phys_nyc17_srvcio_top5 = phys_nyc17_srvcio_top5.reset_index()\n",
    "phys_nyc17_srvcio_top5['year'] = 2017\n",
    "phys_nyc17_srvcio_top5 = phys_nyc17_srvcio_top5.drop(columns={'avg_med_amt_17', 'index'})\n",
    "phys_nyc17_srvcio_top5 = phys_nyc17_srvcio_top5.rename(columns={'srvc_cnt_17' : 'srvc_cnt'})\n",
    "print(phys_nyc17_srvcio_top5)"
   ]
  },
  {
   "cell_type": "code",
   "execution_count": 447,
   "metadata": {},
   "outputs": [
    {
     "name": "stdout",
     "output_type": "stream",
     "text": [
      "  hcpcs_code  srvc_cnt  year\n",
      "0      43249     984.0  2016\n",
      "1      43250     105.0  2016\n",
      "2      43251    1393.0  2016\n",
      "3      44376     176.0  2016\n",
      "4      44377     148.0  2016\n"
     ]
    }
   ],
   "source": [
    "phys_nyc16_srvcio_top5 = phys_nyc_16_srvcgroup[phys_nyc_16_srvcgroup[\"hcpcs_code\"].isin(['43249', '43250', '43251', '44376', '44377'])]\n",
    "phys_nyc16_srvcio_top5 = phys_nyc16_srvcio_top5.reset_index()\n",
    "phys_nyc16_srvcio_top5['year'] = 2016\n",
    "phys_nyc16_srvcio_top5 = phys_nyc16_srvcio_top5.drop(columns={'avg_med_amt_16', 'index'})\n",
    "phys_nyc16_srvcio_top5 = phys_nyc16_srvcio_top5.rename(columns={'srvc_cnt_16' : 'srvc_cnt'})\n",
    "print(phys_nyc16_srvcio_top5)"
   ]
  },
  {
   "cell_type": "code",
   "execution_count": 448,
   "metadata": {},
   "outputs": [
    {
     "name": "stdout",
     "output_type": "stream",
     "text": [
      "  hcpcs_code  srvc_cnt  year\n",
      "0      43249     604.0  2015\n",
      "1      43250     100.0  2015\n",
      "2      43251    1399.0  2015\n",
      "3      44376     157.0  2015\n",
      "4      44377     183.0  2015\n"
     ]
    }
   ],
   "source": [
    "phys_nyc15_srvcio_top5 = phys_nyc_15_srvcgroup[phys_nyc_15_srvcgroup[\"hcpcs_code\"].isin(['43249', '43250', '43251', '44376', '44377'])]\n",
    "phys_nyc15_srvcio_top5 = phys_nyc15_srvcio_top5.reset_index()\n",
    "phys_nyc15_srvcio_top5['year'] = 2015\n",
    "phys_nyc15_srvcio_top5 = phys_nyc15_srvcio_top5.drop(columns={'avg_med_amt_15', 'index'})\n",
    "phys_nyc15_srvcio_top5 = phys_nyc15_srvcio_top5.rename(columns={'srvc_cnt_15' : 'srvc_cnt'})\n",
    "print(phys_nyc15_srvcio_top5)"
   ]
  },
  {
   "cell_type": "code",
   "execution_count": 449,
   "metadata": {},
   "outputs": [
    {
     "name": "stdout",
     "output_type": "stream",
     "text": [
      "   hcpcs_code  srvc_cnt  year\n",
      "0       43249     942.0  2017\n",
      "1       43250     112.0  2017\n",
      "2       43251    1071.0  2017\n",
      "3       44376     184.0  2017\n",
      "4       44377     181.0  2017\n",
      "5       43249     984.0  2016\n",
      "6       43250     105.0  2016\n",
      "7       43251    1393.0  2016\n",
      "8       44376     176.0  2016\n",
      "9       44377     148.0  2016\n",
      "10      43249     604.0  2015\n",
      "11      43250     100.0  2015\n",
      "12      43251    1399.0  2015\n",
      "13      44376     157.0  2015\n",
      "14      44377     183.0  2015\n"
     ]
    }
   ],
   "source": [
    "phys_nyc_srvcio_top5 = pd.concat([phys_nyc17_srvcio_top5, phys_nyc16_srvcio_top5, phys_nyc15_srvcio_top5], ignore_index=True)\n",
    "print(phys_nyc_srvcio_top5)"
   ]
  },
  {
   "cell_type": "code",
   "execution_count": 450,
   "metadata": {},
   "outputs": [
    {
     "data": {
      "image/png": "[encoded data removed]",
      "text/plain": [
       "<Figure size 1080x216 with 5 Axes>"
      ]
     },
     "metadata": {
      "needs_background": "light"
     },
     "output_type": "display_data"
    }
   ],
   "source": [
    "g = sns.FacetGrid(phys_nyc_srvcio_top5, col=\"hcpcs_code\").set(xlim=(2014, 2018), ylim=(0, 1400), xticks=[2015, 2016, 2017], yticks=[0, 100, 200, 300, 400, 500, 600, 700, 800, 900, 1000, 1100, 1200, 1300, 1400])\n",
    "g = g.map(plt.plot, \"year\", \"srvc_cnt\")\n"
   ]
  },
  {
   "cell_type": "code",
   "execution_count": 451,
   "metadata": {},
   "outputs": [
    {
     "name": "stdout",
     "output_type": "stream",
     "text": [
      "   hcpcs_code  srvc_cnt_17  srvc_cnt_16  srvc_cnt_15  16/17_srvc_chng  \\\n",
      "3       43237        246.0        266.0        181.0             20.0   \n",
      "4       43238        339.0        346.0        233.0              7.0   \n",
      "7       43246       3127.0       3208.0       3412.0             81.0   \n",
      "12      43259       1859.0       2095.0       2056.0            236.0   \n",
      "16      44361        719.0        739.0        632.0             20.0   \n",
      "\n",
      "    15/16_srvc_chng  15/17_srvc_chng  \n",
      "3              85.0             65.0  \n",
      "4             113.0            106.0  \n",
      "7             204.0            285.0  \n",
      "12             39.0            197.0  \n",
      "16            107.0             87.0  \n"
     ]
    }
   ],
   "source": [
    "print(phys_nycsrvc_if_top5)"
   ]
  },
  {
   "cell_type": "code",
   "execution_count": 29,
   "metadata": {},
   "outputs": [
    {
     "name": "stdout",
     "output_type": "stream",
     "text": [
      "  hcpcs_code  srvc_cnt  year\n",
      "0      43232      11.0  2017\n",
      "1      43259    2653.0  2017\n",
      "2      43270     326.0  2017\n",
      "3      44365     151.0  2017\n",
      "4      44378      32.0  2017\n"
     ]
    }
   ],
   "source": [
    "phys_nyc17_srvcif_top5 = phys_nyc_17_srvcgroup[phys_nyc_17_srvcgroup[\"hcpcs_code\"].isin(['43232', '43259', '43270', '44365', '44378'])]\n",
    "phys_nyc17_srvcif_top5 = phys_nyc17_srvcif_top5.reset_index()\n",
    "phys_nyc17_srvcif_top5['year'] = 2017\n",
    "phys_nyc17_srvcif_top5 = phys_nyc17_srvcif_top5.drop(columns={'avg_med_amt_17', 'index'})\n",
    "phys_nyc17_srvcif_top5 = phys_nyc17_srvcif_top5.rename(columns={'srvc_cnt_17' : 'srvc_cnt'})\n",
    "print(phys_nyc17_srvcif_top5)"
   ]
  },
  {
   "cell_type": "code",
   "execution_count": 30,
   "metadata": {},
   "outputs": [
    {
     "name": "stdout",
     "output_type": "stream",
     "text": [
      "  hcpcs_code  srvc_cnt  year\n",
      "0      43232      13.0  2016\n",
      "1      43259    2958.0  2016\n",
      "2      43270     371.0  2016\n",
      "3      44365     147.0  2016\n",
      "4      44378      15.0  2016\n"
     ]
    }
   ],
   "source": [
    "phys_nyc16_srvcif_top5 = phys_nyc_16_srvcgroup[phys_nyc_16_srvcgroup[\"hcpcs_code\"].isin(['43232', '43259', '43270', '44365', '44378'])]\n",
    "phys_nyc16_srvcif_top5 = phys_nyc16_srvcif_top5.reset_index()\n",
    "phys_nyc16_srvcif_top5['year'] = 2016\n",
    "phys_nyc16_srvcif_top5 = phys_nyc16_srvcif_top5.drop(columns={'avg_med_amt_16', 'index'})\n",
    "phys_nyc16_srvcif_top5 = phys_nyc16_srvcif_top5.rename(columns={'srvc_cnt_16' : 'srvc_cnt'})\n",
    "print(phys_nyc16_srvcif_top5)"
   ]
  },
  {
   "cell_type": "code",
   "execution_count": 31,
   "metadata": {},
   "outputs": [
    {
     "name": "stdout",
     "output_type": "stream",
     "text": [
      "  hcpcs_code  srvc_cnt  year\n",
      "0      43232      35.0  2015\n",
      "1      43259    2933.0  2015\n",
      "2      43270     257.0  2015\n",
      "3      44365      90.0  2015\n",
      "4      44378      29.0  2015\n"
     ]
    }
   ],
   "source": [
    "phys_nyc15_srvcif_top5 = phys_nyc_15_srvcgroup[phys_nyc_15_srvcgroup[\"hcpcs_code\"].isin(['43232', '43259', '43270', '44365', '44378'])]\n",
    "phys_nyc15_srvcif_top5 = phys_nyc15_srvcif_top5.reset_index()\n",
    "phys_nyc15_srvcif_top5['year'] = 2015\n",
    "phys_nyc15_srvcif_top5 = phys_nyc15_srvcif_top5.drop(columns={'avg_med_amt_15', 'index'})\n",
    "phys_nyc15_srvcif_top5 = phys_nyc15_srvcif_top5.rename(columns={'srvc_cnt_15' : 'srvc_cnt'})\n",
    "print(phys_nyc15_srvcif_top5)"
   ]
  },
  {
   "cell_type": "code",
   "execution_count": 32,
   "metadata": {},
   "outputs": [
    {
     "name": "stdout",
     "output_type": "stream",
     "text": [
      "   hcpcs_code  srvc_cnt  year\n",
      "0       43232      11.0  2017\n",
      "1       43259    2653.0  2017\n",
      "2       43270     326.0  2017\n",
      "3       44365     151.0  2017\n",
      "4       44378      32.0  2017\n",
      "5       43232      13.0  2016\n",
      "6       43259    2958.0  2016\n",
      "7       43270     371.0  2016\n",
      "8       44365     147.0  2016\n",
      "9       44378      15.0  2016\n",
      "10      43232      35.0  2015\n",
      "11      43259    2933.0  2015\n",
      "12      43270     257.0  2015\n",
      "13      44365      90.0  2015\n",
      "14      44378      29.0  2015\n"
     ]
    }
   ],
   "source": [
    "phys_nyc_srvcif_top5 = pd.concat([phys_nyc17_srvcif_top5, phys_nyc16_srvcif_top5, phys_nyc15_srvcif_top5], ignore_index=True)\n",
    "print(phys_nyc_srvcif_top5)"
   ]
  },
  {
   "cell_type": "markdown",
   "metadata": {},
   "source": [
    "phys_nyc_srvcif_top5.to_csv('phys_nyc_medif.csv')"
   ]
  },
  {
   "cell_type": "code",
   "execution_count": 33,
   "metadata": {},
   "outputs": [
    {
     "data": {
      "image/png": "[encoded data removed]",
      "text/plain": [
       "<Figure size 1080x216 with 5 Axes>"
      ]
     },
     "metadata": {
      "needs_background": "light"
     },
     "output_type": "display_data"
    }
   ],
   "source": [
    "g = sns.FacetGrid(phys_nyc_srvcif_top5, col=\"hcpcs_code\").set(xlim=(2014, 2018), ylim=(0, 5600), xticks=[2015, 2016, 2017], yticks=[0, 400, 800, 1200, 1600, 2000, 2400, 2800, 3200, 3600, 4000, 4400, 4800, 5200, 5600])\n",
    "g = g.map(plt.plot, \"year\", \"srvc_cnt\")"
   ]
  },
  {
   "cell_type": "code",
   "execution_count": 457,
   "metadata": {},
   "outputs": [
    {
     "name": "stdout",
     "output_type": "stream",
     "text": [
      "   hcpcs_code  srvc_cnt_17  srvc_cnt_16  srvc_cnt_15  16/17_srvc_chng  \\\n",
      "8       43249        277.0        312.0        255.0             35.0   \n",
      "9       43251        291.0        279.0        337.0             12.0   \n",
      "12      43259       1859.0       2095.0       2056.0            236.0   \n",
      "16      44361        719.0        739.0        632.0             20.0   \n",
      "17      44365         76.0         76.0         48.0              0.0   \n",
      "\n",
      "    15/16_srvc_chng  15/17_srvc_chng  \n",
      "8              57.0             22.0  \n",
      "9              58.0             46.0  \n",
      "12             39.0            197.0  \n",
      "16            107.0             87.0  \n",
      "17             28.0             28.0  \n"
     ]
    }
   ],
   "source": [
    "print(phys_nycsrvc_of_top5)"
   ]
  },
  {
   "cell_type": "code",
   "execution_count": 458,
   "metadata": {},
   "outputs": [
    {
     "name": "stdout",
     "output_type": "stream",
     "text": [
      "  hcpcs_code  srvc_cnt  year\n",
      "0      43249     942.0  2017\n",
      "1      43251    1071.0  2017\n",
      "2      43259    2653.0  2017\n",
      "3      44361    1404.0  2017\n",
      "4      44365     151.0  2017\n"
     ]
    }
   ],
   "source": [
    "phys_nyc17_srvcof_top5 = phys_nyc_17_srvcgroup[phys_nyc_17_srvcgroup[\"hcpcs_code\"].isin(['43249', '43251', '43259', '44361', '44365'])]\n",
    "phys_nyc17_srvcof_top5 = phys_nyc17_srvcof_top5.reset_index()\n",
    "phys_nyc17_srvcof_top5['year'] = 2017\n",
    "phys_nyc17_srvcof_top5 = phys_nyc17_srvcof_top5.drop(columns={'avg_med_amt_17', 'index'})\n",
    "phys_nyc17_srvcof_top5 = phys_nyc17_srvcof_top5.rename(columns={'srvc_cnt_17' : 'srvc_cnt'})\n",
    "print(phys_nyc17_srvcof_top5)"
   ]
  },
  {
   "cell_type": "code",
   "execution_count": 459,
   "metadata": {},
   "outputs": [
    {
     "name": "stdout",
     "output_type": "stream",
     "text": [
      "  hcpcs_code  srvc_cnt  year\n",
      "0      43249     984.0  2016\n",
      "1      43251    1393.0  2016\n",
      "2      43259    2958.0  2016\n",
      "3      44361    1747.0  2016\n",
      "4      44365     147.0  2016\n"
     ]
    }
   ],
   "source": [
    "phys_nyc16_srvcof_top5 = phys_nyc_16_srvcgroup[phys_nyc_16_srvcgroup[\"hcpcs_code\"].isin(['43249', '43251', '43259', '44361', '44365'])]\n",
    "phys_nyc16_srvcof_top5 = phys_nyc16_srvcof_top5.reset_index()\n",
    "phys_nyc16_srvcof_top5['year'] = 2016\n",
    "phys_nyc16_srvcof_top5 = phys_nyc16_srvcof_top5.drop(columns={'avg_med_amt_16', 'index'})\n",
    "phys_nyc16_srvcof_top5 = phys_nyc16_srvcof_top5.rename(columns={'srvc_cnt_16' : 'srvc_cnt'})\n",
    "print(phys_nyc16_srvcof_top5)"
   ]
  },
  {
   "cell_type": "code",
   "execution_count": 460,
   "metadata": {},
   "outputs": [
    {
     "name": "stdout",
     "output_type": "stream",
     "text": [
      "  hcpcs_code  srvc_cnt  year\n",
      "0      43249     604.0  2015\n",
      "1      43251    1399.0  2015\n",
      "2      43259    2933.0  2015\n",
      "3      44361    1728.0  2015\n",
      "4      44365      90.0  2015\n"
     ]
    }
   ],
   "source": [
    "phys_nyc15_srvcof_top5 = phys_nyc_15_srvcgroup[phys_nyc_15_srvcgroup[\"hcpcs_code\"].isin(['43249', '43251', '43259', '44361', '44365'])]\n",
    "phys_nyc15_srvcof_top5 = phys_nyc15_srvcof_top5.reset_index()\n",
    "phys_nyc15_srvcof_top5['year'] = 2015\n",
    "phys_nyc15_srvcof_top5 = phys_nyc15_srvcof_top5.drop(columns={'avg_med_amt_15', 'index'})\n",
    "phys_nyc15_srvcof_top5 = phys_nyc15_srvcof_top5.rename(columns={'srvc_cnt_15' : 'srvc_cnt'})\n",
    "print(phys_nyc15_srvcof_top5)"
   ]
  },
  {
   "cell_type": "code",
   "execution_count": 461,
   "metadata": {},
   "outputs": [
    {
     "name": "stdout",
     "output_type": "stream",
     "text": [
      "   hcpcs_code  srvc_cnt  year\n",
      "0       43249     942.0  2017\n",
      "1       43251    1071.0  2017\n",
      "2       43259    2653.0  2017\n",
      "3       44361    1404.0  2017\n",
      "4       44365     151.0  2017\n",
      "5       43249     984.0  2016\n",
      "6       43251    1393.0  2016\n",
      "7       43259    2958.0  2016\n",
      "8       44361    1747.0  2016\n",
      "9       44365     147.0  2016\n",
      "10      43249     604.0  2015\n",
      "11      43251    1399.0  2015\n",
      "12      43259    2933.0  2015\n",
      "13      44361    1728.0  2015\n",
      "14      44365      90.0  2015\n"
     ]
    }
   ],
   "source": [
    "phys_nyc_srvcof_top5 = pd.concat([phys_nyc17_srvcof_top5, phys_nyc16_srvcof_top5, phys_nyc15_srvcof_top5], ignore_index=True)\n",
    "print(phys_nyc_srvcof_top5)"
   ]
  },
  {
   "cell_type": "code",
   "execution_count": 462,
   "metadata": {
    "scrolled": true
   },
   "outputs": [
    {
     "data": {
      "image/png": "[encoded data removed]",
      "text/plain": [
       "<Figure size 1080x216 with 5 Axes>"
      ]
     },
     "metadata": {
      "needs_background": "light"
     },
     "output_type": "display_data"
    }
   ],
   "source": [
    "g = sns.FacetGrid(phys_nyc_srvcif_top5, col=\"hcpcs_code\").set(xlim=(2014, 2018), ylim=(0, 3000), xticks=[2015, 2016, 2017], yticks=[0, 200, 400, 600, 800, 1000, 1200, 1400, 1600, 1800, 2000, 2200, 2400, 2600, 2800, 3000])\n",
    "g = g.map(plt.plot, \"year\", \"srvc_cnt\")"
   ]
  },
  {
   "cell_type": "code",
   "execution_count": 463,
   "metadata": {},
   "outputs": [
    {
     "name": "stdout",
     "output_type": "stream",
     "text": [
      "   hcpcs_code  srvc_cnt_17  avg_med_amt_17\n",
      "0       43191         15.0       74.570000\n",
      "1       43233         13.0      214.317692\n",
      "2       43237         91.0      349.408103\n",
      "3       43238        114.0      651.342327\n",
      "4       43242        171.0      756.913906\n",
      "5       43244         79.0      935.523356\n",
      "6       43245         17.0      146.805882\n",
      "7       43246        300.0     3176.651464\n",
      "8       43249        754.0     5024.908507\n",
      "9       43250         13.0      159.586923\n",
      "10      43251         71.0     1447.420099\n",
      "11      43254         15.0      266.110000\n",
      "12      43255         74.0      964.667810\n",
      "13      43259        115.0      430.455313\n",
      "14      43270         31.0      425.856068\n",
      "15      43453         26.0      496.923077\n",
      "16      44361         13.0       93.460000\n",
      "17      49440         51.0      405.084211\n"
     ]
    }
   ],
   "source": [
    "phys_nash_17_srvcgroup = phys_nash_17.groupby('hcpcs_code').sum()\n",
    "phys_nash_17_srvcgroup = phys_nash_17_srvcgroup.reset_index()\n",
    "print(phys_nash_17_srvcgroup)"
   ]
  },
  {
   "cell_type": "code",
   "execution_count": 464,
   "metadata": {
    "scrolled": true
   },
   "outputs": [
    {
     "name": "stdout",
     "output_type": "stream",
     "text": [
      "   hcpcs_code  srvc_cnt_16  avg_med_amt_16\n",
      "0       43237         92.0      566.180755\n",
      "1       43238         98.0      651.754174\n",
      "2       43242        180.0     1002.887271\n",
      "3       43244        118.0     1191.212867\n",
      "4       43245         37.0      305.597115\n",
      "5       43246        335.0     3252.189203\n",
      "6       43249        751.0     4529.733921\n",
      "7       43251         83.0     1453.480902\n",
      "8       43255         69.0      964.285546\n",
      "9       43259        132.0      886.312042\n",
      "10      43270         68.0     1266.813529\n",
      "11      44360         12.0      124.810000\n",
      "12      44369         11.0      241.200000\n",
      "13      49440         62.0      682.812574\n"
     ]
    }
   ],
   "source": [
    "phys_nash_16_srvcgroup = phys_nash_16.groupby('hcpcs_code').sum()\n",
    "phys_nash_16_srvcgroup = phys_nash_16_srvcgroup.reset_index()\n",
    "print(phys_nash_16_srvcgroup)"
   ]
  },
  {
   "cell_type": "code",
   "execution_count": 465,
   "metadata": {},
   "outputs": [
    {
     "name": "stdout",
     "output_type": "stream",
     "text": [
      "   hcpcs_code  srvc_cnt_15  avg_med_amt_15\n",
      "0       43237         56.0      369.648263\n",
      "1       43238         83.0      447.565681\n",
      "2       43242        190.0     1041.070262\n",
      "3       43244        106.0      970.943114\n",
      "4       43245         90.0     1031.045125\n",
      "5       43246        459.0     4281.846682\n",
      "6       43249        738.0     3960.654941\n",
      "7       43251         60.0      900.901005\n",
      "8       43254         14.0      242.115000\n",
      "9       43255         84.0      863.238078\n",
      "10      43259        123.0      440.605378\n",
      "11      43270         60.0     1022.783400\n",
      "12      43830         12.0      619.562500\n",
      "13      44369         14.0      247.691429\n",
      "14      49440         39.0      210.524615\n"
     ]
    }
   ],
   "source": [
    "phys_nash_15_srvcgroup = phys_nash_15.groupby('hcpcs_code').sum()\n",
    "phys_nash_15_srvcgroup = phys_nash_15_srvcgroup.reset_index()\n",
    "print(phys_nash_15_srvcgroup)"
   ]
  },
  {
   "cell_type": "code",
   "execution_count": 466,
   "metadata": {},
   "outputs": [
    {
     "name": "stdout",
     "output_type": "stream",
     "text": [
      "  hcpcs_code  srvc_cnt_17  srvc_cnt_16  srvc_cnt_15  16/17_srvc_chng  \\\n",
      "0      43237         58.0         68.0         45.0             10.0   \n",
      "1      43238         69.0         85.0         83.0             16.0   \n",
      "3      43244         63.0         87.0         78.0             24.0   \n",
      "5      43246        230.0        249.0        278.0             19.0   \n",
      "6      43249        586.0        572.0        561.0             14.0   \n",
      "\n",
      "   15/16_srvc_chng  15/17_srvc_chng  \n",
      "0             23.0             13.0  \n",
      "1              2.0             14.0  \n",
      "3              9.0             15.0  \n",
      "5             29.0             48.0  \n",
      "6             11.0             25.0  \n"
     ]
    }
   ],
   "source": [
    "print(phys_nashsrvc_if_top5)"
   ]
  },
  {
   "cell_type": "code",
   "execution_count": 467,
   "metadata": {},
   "outputs": [
    {
     "name": "stdout",
     "output_type": "stream",
     "text": [
      "  hcpcs_code  srvc_cnt  year\n",
      "0      43237      91.0  2017\n",
      "1      43238     114.0  2017\n",
      "2      43244      79.0  2017\n",
      "3      43246     300.0  2017\n",
      "4      43249     754.0  2017\n"
     ]
    }
   ],
   "source": [
    "phys_nash17_srvcif_top5 = phys_nash_17_srvcgroup[phys_nash_17_srvcgroup[\"hcpcs_code\"].isin(['43237', '43238', '43244', '43246', '43249'])]\n",
    "phys_nash17_srvcif_top5 = phys_nash17_srvcif_top5.reset_index()\n",
    "phys_nash17_srvcif_top5['year'] = 2017\n",
    "phys_nash17_srvcif_top5 = phys_nash17_srvcif_top5.drop(columns={'avg_med_amt_17', 'index'})\n",
    "phys_nash17_srvcif_top5 = phys_nash17_srvcif_top5.rename(columns={'srvc_cnt_17' : 'srvc_cnt'})\n",
    "print(phys_nash17_srvcif_top5)"
   ]
  },
  {
   "cell_type": "code",
   "execution_count": 468,
   "metadata": {},
   "outputs": [
    {
     "name": "stdout",
     "output_type": "stream",
     "text": [
      "  hcpcs_code  srvc_cnt  year\n",
      "0      43237      92.0  2016\n",
      "1      43238      98.0  2016\n",
      "2      43244     118.0  2016\n",
      "3      43246     335.0  2016\n",
      "4      43249     751.0  2016\n"
     ]
    }
   ],
   "source": [
    "phys_nash16_srvcif_top5 = phys_nash_16_srvcgroup[phys_nash_16_srvcgroup[\"hcpcs_code\"].isin(['43237', '43238', '43244', '43246', '43249'])]\n",
    "phys_nash16_srvcif_top5 = phys_nash16_srvcif_top5.reset_index()\n",
    "phys_nash16_srvcif_top5['year'] = 2016\n",
    "phys_nash16_srvcif_top5 = phys_nash16_srvcif_top5.drop(columns={'avg_med_amt_16', 'index'})\n",
    "phys_nash16_srvcif_top5 = phys_nash16_srvcif_top5.rename(columns={'srvc_cnt_16' : 'srvc_cnt'})\n",
    "print(phys_nash16_srvcif_top5)"
   ]
  },
  {
   "cell_type": "code",
   "execution_count": 469,
   "metadata": {},
   "outputs": [
    {
     "name": "stdout",
     "output_type": "stream",
     "text": [
      "  hcpcs_code  srvc_cnt  year\n",
      "0      43237      56.0  2015\n",
      "1      43238      83.0  2015\n",
      "2      43244     106.0  2015\n",
      "3      43246     459.0  2015\n",
      "4      43249     738.0  2015\n"
     ]
    }
   ],
   "source": [
    "phys_nash15_srvcif_top5 = phys_nash_15_srvcgroup[phys_nash_15_srvcgroup[\"hcpcs_code\"].isin(['43237', '43238', '43244', '43246', '43249'])]\n",
    "phys_nash15_srvcif_top5 = phys_nash15_srvcif_top5.reset_index()\n",
    "phys_nash15_srvcif_top5['year'] = 2015\n",
    "phys_nash15_srvcif_top5 = phys_nash15_srvcif_top5.drop(columns={'avg_med_amt_15', 'index'})\n",
    "phys_nash15_srvcif_top5 = phys_nash15_srvcif_top5.rename(columns={'srvc_cnt_15' : 'srvc_cnt'})\n",
    "print(phys_nash15_srvcif_top5)"
   ]
  },
  {
   "cell_type": "code",
   "execution_count": 470,
   "metadata": {},
   "outputs": [
    {
     "name": "stdout",
     "output_type": "stream",
     "text": [
      "   hcpcs_code  srvc_cnt  year\n",
      "0       43237      91.0  2017\n",
      "1       43238     114.0  2017\n",
      "2       43244      79.0  2017\n",
      "3       43246     300.0  2017\n",
      "4       43249     754.0  2017\n",
      "5       43237      92.0  2016\n",
      "6       43238      98.0  2016\n",
      "7       43244     118.0  2016\n",
      "8       43246     335.0  2016\n",
      "9       43249     751.0  2016\n",
      "10      43237      56.0  2015\n",
      "11      43238      83.0  2015\n",
      "12      43244     106.0  2015\n",
      "13      43246     459.0  2015\n",
      "14      43249     738.0  2015\n"
     ]
    }
   ],
   "source": [
    "phys_nash_srvcif_top5 = pd.concat([phys_nash17_srvcif_top5, phys_nash16_srvcif_top5, phys_nash15_srvcif_top5], ignore_index=True)\n",
    "print(phys_nash_srvcif_top5)"
   ]
  },
  {
   "cell_type": "code",
   "execution_count": 471,
   "metadata": {},
   "outputs": [
    {
     "data": {
      "image/png": "[encoded data removed]",
      "text/plain": [
       "<Figure size 1080x216 with 5 Axes>"
      ]
     },
     "metadata": {
      "needs_background": "light"
     },
     "output_type": "display_data"
    }
   ],
   "source": [
    "g = sns.FacetGrid(phys_nash_srvcif_top5, col=\"hcpcs_code\").set(xlim=(2014, 2018), ylim=(0, 800), xticks=[2015, 2016, 2017], yticks=[0, 50, 100, 150, 200, 250, 300, 350, 400, 450, 500, 550, 600, 650, 700, 750, 800])\n",
    "g = g.map(plt.plot, \"year\", \"srvc_cnt\")"
   ]
  },
  {
   "cell_type": "code",
   "execution_count": 472,
   "metadata": {},
   "outputs": [
    {
     "name": "stdout",
     "output_type": "stream",
     "text": [
      "  hcpcs_code  srvc_cnt_17  srvc_cnt_16  srvc_cnt_15  16/17_srvc_chng  \\\n",
      "0      43246         17.0         23.0         45.0              6.0   \n",
      "1      43249         84.0        101.0         96.0             17.0   \n",
      "2      43251         14.0         11.0         19.0              3.0   \n",
      "\n",
      "   15/16_srvc_chng  15/17_srvc_chng  \n",
      "0             22.0             28.0  \n",
      "1              5.0             12.0  \n",
      "2              8.0              5.0  \n"
     ]
    }
   ],
   "source": [
    "print(phys_nashsrvc_of_top5)"
   ]
  },
  {
   "cell_type": "code",
   "execution_count": 473,
   "metadata": {},
   "outputs": [
    {
     "name": "stdout",
     "output_type": "stream",
     "text": [
      "  hcpcs_code  srvc_cnt  year\n",
      "0      43246     300.0  2017\n",
      "1      43249     754.0  2017\n",
      "2      43251      71.0  2017\n"
     ]
    }
   ],
   "source": [
    "phys_nash17_srvcof_top5 = phys_nash_17_srvcgroup[phys_nash_17_srvcgroup[\"hcpcs_code\"].isin(['43246', '43249', '43251'])]\n",
    "phys_nash17_srvcof_top5 = phys_nash17_srvcof_top5.reset_index()\n",
    "phys_nash17_srvcof_top5['year'] = 2017\n",
    "phys_nash17_srvcof_top5 = phys_nash17_srvcof_top5.drop(columns={'avg_med_amt_17', 'index'})\n",
    "phys_nash17_srvcof_top5 = phys_nash17_srvcof_top5.rename(columns={'srvc_cnt_17' : 'srvc_cnt'})\n",
    "print(phys_nash17_srvcof_top5)"
   ]
  },
  {
   "cell_type": "code",
   "execution_count": 474,
   "metadata": {},
   "outputs": [
    {
     "name": "stdout",
     "output_type": "stream",
     "text": [
      "  hcpcs_code  srvc_cnt  year\n",
      "0      43246     335.0  2016\n",
      "1      43249     751.0  2016\n",
      "2      43251      83.0  2016\n"
     ]
    }
   ],
   "source": [
    "phys_nash16_srvcof_top5 = phys_nash_16_srvcgroup[phys_nash_16_srvcgroup[\"hcpcs_code\"].isin(['43246', '43249', '43251'])]\n",
    "phys_nash16_srvcof_top5 = phys_nash16_srvcof_top5.reset_index()\n",
    "phys_nash16_srvcof_top5['year'] = 2016\n",
    "phys_nash16_srvcof_top5 = phys_nash16_srvcof_top5.drop(columns={'avg_med_amt_16', 'index'})\n",
    "phys_nash16_srvcof_top5 = phys_nash16_srvcof_top5.rename(columns={'srvc_cnt_16' : 'srvc_cnt'})\n",
    "print(phys_nash16_srvcof_top5)"
   ]
  },
  {
   "cell_type": "code",
   "execution_count": 475,
   "metadata": {},
   "outputs": [
    {
     "name": "stdout",
     "output_type": "stream",
     "text": [
      "  hcpcs_code  srvc_cnt  year\n",
      "0      43246     459.0  2015\n",
      "1      43249     738.0  2015\n",
      "2      43251      60.0  2015\n"
     ]
    }
   ],
   "source": [
    "phys_nash15_srvcof_top5 = phys_nash_15_srvcgroup[phys_nash_15_srvcgroup[\"hcpcs_code\"].isin(['43246', '43249', '43251'])]\n",
    "phys_nash15_srvcof_top5 = phys_nash15_srvcof_top5.reset_index()\n",
    "phys_nash15_srvcof_top5['year'] = 2015\n",
    "phys_nash15_srvcof_top5 = phys_nash15_srvcof_top5.drop(columns={'avg_med_amt_15', 'index'})\n",
    "phys_nash15_srvcof_top5 = phys_nash15_srvcof_top5.rename(columns={'srvc_cnt_15' : 'srvc_cnt'})\n",
    "print(phys_nash15_srvcof_top5)"
   ]
  },
  {
   "cell_type": "code",
   "execution_count": 476,
   "metadata": {},
   "outputs": [
    {
     "name": "stdout",
     "output_type": "stream",
     "text": [
      "  hcpcs_code  srvc_cnt  year\n",
      "0      43246     300.0  2017\n",
      "1      43249     754.0  2017\n",
      "2      43251      71.0  2017\n",
      "3      43246     335.0  2016\n",
      "4      43249     751.0  2016\n",
      "5      43251      83.0  2016\n",
      "6      43246     459.0  2015\n",
      "7      43249     738.0  2015\n",
      "8      43251      60.0  2015\n"
     ]
    }
   ],
   "source": [
    "phys_nash_srvcof_top5 = pd.concat([phys_nash17_srvcof_top5, phys_nash16_srvcof_top5, phys_nash15_srvcof_top5], ignore_index=True)\n",
    "print(phys_nash_srvcof_top5)"
   ]
  },
  {
   "cell_type": "code",
   "execution_count": 477,
   "metadata": {},
   "outputs": [
    {
     "data": {
      "image/png": "[encoded data removed]",
      "text/plain": [
       "<Figure size 648x216 with 3 Axes>"
      ]
     },
     "metadata": {
      "needs_background": "light"
     },
     "output_type": "display_data"
    }
   ],
   "source": [
    "g = sns.FacetGrid(phys_nash_srvcof_top5, col=\"hcpcs_code\").set(xlim=(2014, 2018), ylim=(0, 800), xticks=[2015, 2016, 2017], yticks=[0, 50, 100, 150, 200, 250, 300, 350, 400, 450, 500, 550, 600, 650, 700, 750, 800])\n",
    "g = g.map(plt.plot, \"year\", \"srvc_cnt\")"
   ]
  },
  {
   "cell_type": "markdown",
   "metadata": {},
   "source": [
    "phys_nyc_medio_top5.to_csv('phys_nyc_medio.csv')\n",
    "phys_nyc_medif_top5.to_csv('phys_nyc_medif.csv')\n",
    "phys_nyc_medof_top5.to_csv('phys_nyc_medof.csv')\n",
    "phys_nash_medif_top5.to_csv('phys_nash_medif.csv')\n",
    "phys_nash_medof_top5.to_csv('phys_nash_medof.csv')\n",
    "phys_nyc_srvcio_top5.to_csv('phys_nyc_srvcio.csv')\n",
    "phys_nyc_srvcif_top5.to_csv('phys_nyc_srvcif.csv')\n",
    "phys_nyc_srvcof_top5.to_csv('phys_nyc_srvcof.csv')\n",
    "phys_nash_srvcif_top5.to_csv('phys_nash_srvcif.csv')\n",
    "phys_nash_srvcof_top5.to_csv('phys_nash_srvcof.csv')"
   ]
  },
  {
   "cell_type": "code",
   "execution_count": null,
   "metadata": {},
   "outputs": [],
   "source": []
  }
 ],
 "metadata": {
  "kernelspec": {
   "display_name": "Python 3",
   "language": "python",
   "name": "python3"
  },
  "language_info": {
   "codemirror_mode": {
    "name": "ipython",
    "version": 3
   },
   "file_extension": ".py",
   "mimetype": "text/x-python",
   "name": "python",
   "nbconvert_exporter": "python",
   "pygments_lexer": "ipython3",
   "version": "3.7.6"
  }
 },
 "nbformat": 4,
 "nbformat_minor": 4
}
