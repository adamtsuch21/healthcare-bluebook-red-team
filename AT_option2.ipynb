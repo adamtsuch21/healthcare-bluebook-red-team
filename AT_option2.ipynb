{
 "cells": [
  {
   "cell_type": "code",
   "execution_count": 60,
   "metadata": {},
   "outputs": [],
   "source": [
    "import pandas as pd\n",
    "import numpy as np\n",
    "import matplotlib.pyplot as plt"
   ]
  },
  {
   "cell_type": "code",
   "execution_count": 61,
   "metadata": {},
   "outputs": [],
   "source": [
    "phys_supp_17 = pd.read_csv(\"/Users/adamtsuchiyama/Documents/healthcare-bluebook-red-team/data/Medicare_Provider_Util_Payment_PUF_CY2017.txt\", sep='\\t', usecols=['npi', 'nppes_provider_last_org_name', 'nppes_entity_code', 'nppes_provider_zip', 'nppes_provider_state', 'provider_type', 'place_of_service', 'hcpcs_code', 'bene_day_srvc_cnt', 'average_Medicare_allowed_amt'], dtype={'npi': str, 'nppes_provider_last_org_name' : str, 'nppes_entity_code' : str, 'nppes_provider_zip' : str, 'nppes_provider_state' : str, 'provider_type' : str, 'place_of_service' : str, 'hcpcs_code' : str, 'bene_day_srvc_cnt' : float, 'average_Medicare_allowed_amt' : float})\n",
    "\n"
   ]
  },
  {
   "cell_type": "code",
   "execution_count": 62,
   "metadata": {},
   "outputs": [],
   "source": [
    "phys_supp_16 = pd.read_csv(\"/Users/adamtsuchiyama/Documents/healthcare-bluebook-red-team/data/Medicare_Provider_Util_Payment_PUF_CY2016.txt\", sep='\\t', usecols=['NPI', 'PLACE_OF_SERVICE', 'HCPCS_CODE', 'BENE_DAY_SRVC_CNT', 'AVERAGE_MEDICARE_ALLOWED_AMT'], dtype={'NPI': str, 'PLACE_OF_SERVICE' : str, 'HCPCS_CODE' : str, 'BENE_DAY_SRVC_CNT' : float, 'AVERAGE_MEDICARE_ALLOWED_AMT' : float})\n",
    "\n"
   ]
  },
  {
   "cell_type": "code",
   "execution_count": 63,
   "metadata": {},
   "outputs": [],
   "source": [
    "phys_supp_15 = pd.read_csv(\"/Users/adamtsuchiyama/Documents/healthcare-bluebook-red-team/data/Medicare_Provider_Util_Payment_PUF_CY2015.txt\", sep='\\t', usecols=['npi', 'place_of_service', 'hcpcs_code', 'bene_day_srvc_cnt', 'average_Medicare_allowed_amt'], dtype={'npi': str, 'place_of_service' : str, 'hcpcs_code' : str, 'bene_day_srvc_cnt' : float, 'average_Medicare_allowed_amt' : float})\n",
    "\n"
   ]
  },
  {
   "cell_type": "code",
   "execution_count": 64,
   "metadata": {},
   "outputs": [],
   "source": [
    "phys_supp_17.columns = map(str.lower, phys_supp_17.columns)\n",
    "phys_supp_16.columns = map(str.lower, phys_supp_16.columns)\n",
    "phys_supp_15.columns = map(str.lower, phys_supp_15.columns)"
   ]
  },
  {
   "cell_type": "code",
   "execution_count": 65,
   "metadata": {},
   "outputs": [
    {
     "name": "stdout",
     "output_type": "stream",
     "text": [
      "<class 'pandas.core.frame.DataFrame'>\n",
      "RangeIndex: 9847444 entries, 0 to 9847443\n",
      "Data columns (total 10 columns):\n",
      " #   Column                        Dtype  \n",
      "---  ------                        -----  \n",
      " 0   npi                           object \n",
      " 1   nppes_provider_last_org_name  object \n",
      " 2   nppes_entity_code             object \n",
      " 3   nppes_provider_zip            object \n",
      " 4   nppes_provider_state          object \n",
      " 5   provider_type                 object \n",
      " 6   place_of_service              object \n",
      " 7   hcpcs_code                    object \n",
      " 8   srvc_cnt_17                   float64\n",
      " 9   avg_med_amt_17                float64\n",
      "dtypes: float64(2), object(8)\n",
      "memory usage: 751.3+ MB\n",
      "None\n",
      "<class 'pandas.core.frame.DataFrame'>\n",
      "RangeIndex: 9714897 entries, 0 to 9714896\n",
      "Data columns (total 5 columns):\n",
      " #   Column            Dtype  \n",
      "---  ------            -----  \n",
      " 0   npi               object \n",
      " 1   place_of_service  object \n",
      " 2   hcpcs_code        object \n",
      " 3   srvc_cnt_16       float64\n",
      " 4   avg_med_amt_16    float64\n",
      "dtypes: float64(2), object(3)\n",
      "memory usage: 370.6+ MB\n",
      "None\n",
      "<class 'pandas.core.frame.DataFrame'>\n",
      "RangeIndex: 9497892 entries, 0 to 9497891\n",
      "Data columns (total 5 columns):\n",
      " #   Column            Dtype  \n",
      "---  ------            -----  \n",
      " 0   npi               object \n",
      " 1   place_of_service  object \n",
      " 2   hcpcs_code        object \n",
      " 3   srvc_cnt_15       float64\n",
      " 4   avg_med_amt_15    float64\n",
      "dtypes: float64(2), object(3)\n",
      "memory usage: 362.3+ MB\n",
      "None\n"
     ]
    }
   ],
   "source": [
    "phys_supp_17 = phys_supp_17.rename(columns={'bene_day_srvc_cnt' : 'srvc_cnt_17', 'average_medicare_allowed_amt' : 'avg_med_amt_17'})\n",
    "phys_supp_16 = phys_supp_16.rename(columns={'bene_day_srvc_cnt' : 'srvc_cnt_16', 'average_medicare_allowed_amt' : 'avg_med_amt_16'})\n",
    "phys_supp_15 = phys_supp_15.rename(columns={'bene_day_srvc_cnt' : 'srvc_cnt_15', 'average_medicare_allowed_amt' : 'avg_med_amt_15'})\n",
    "print(phys_supp_17.info())\n",
    "print(phys_supp_16.info())\n",
    "print(phys_supp_15.info())\n"
   ]
  },
  {
   "cell_type": "code",
   "execution_count": 66,
   "metadata": {},
   "outputs": [
    {
     "name": "stdout",
     "output_type": "stream",
     "text": [
      "          npi                       nppes_provider_last_org_name  \\\n",
      "0  0000000001  CPT copyright 2016 American Medical Associatio...   \n",
      "1  1003000126                                          ENKESHAFI   \n",
      "2  1003000126                                          ENKESHAFI   \n",
      "3  1003000126                                          ENKESHAFI   \n",
      "4  1003000126                                          ENKESHAFI   \n",
      "\n",
      "  nppes_entity_code nppes_provider_zip nppes_provider_state  \\\n",
      "0               NaN                NaN                  NaN   \n",
      "1                 I          215021854                   MD   \n",
      "2                 I          215021854                   MD   \n",
      "3                 I          215021854                   MD   \n",
      "4                 I          215021854                   MD   \n",
      "\n",
      "       provider_type place_of_service hcpcs_code  srvc_cnt_17  avg_med_amt_17  \\\n",
      "0                NaN              NaN        NaN          NaN             NaN   \n",
      "1  Internal Medicine                F      99217        100.0       73.398800   \n",
      "2  Internal Medicine                F      99219         52.0      136.380000   \n",
      "3  Internal Medicine                F      99220         59.0      190.363729   \n",
      "4  Internal Medicine                F      99221         16.0      101.680000   \n",
      "\n",
      "   srvc_cnt_16  avg_med_amt_16  \n",
      "0          NaN             NaN  \n",
      "1         57.0       72.743158  \n",
      "2         38.0      135.010000  \n",
      "3         23.0      189.239565  \n",
      "4         20.0      100.750000  \n"
     ]
    }
   ],
   "source": [
    "phys_join = pd.merge(phys_supp_17, phys_supp_16, how='inner', on=['npi', 'place_of_service' ,'hcpcs_code'])\n",
    "print(phys_join.head())"
   ]
  },
  {
   "cell_type": "code",
   "execution_count": 67,
   "metadata": {
    "scrolled": true
   },
   "outputs": [
    {
     "name": "stdout",
     "output_type": "stream",
     "text": [
      "          npi                       nppes_provider_last_org_name  \\\n",
      "0  0000000001  CPT copyright 2016 American Medical Associatio...   \n",
      "1  1003000126                                          ENKESHAFI   \n",
      "2  1003000126                                          ENKESHAFI   \n",
      "3  1003000126                                          ENKESHAFI   \n",
      "4  1003000126                                          ENKESHAFI   \n",
      "\n",
      "  nppes_entity_code nppes_provider_zip nppes_provider_state  \\\n",
      "0               NaN                NaN                  NaN   \n",
      "1                 I          215021854                   MD   \n",
      "2                 I          215021854                   MD   \n",
      "3                 I          215021854                   MD   \n",
      "4                 I          215021854                   MD   \n",
      "\n",
      "       provider_type place_of_service hcpcs_code  srvc_cnt_17  avg_med_amt_17  \\\n",
      "0                NaN              NaN        NaN          NaN             NaN   \n",
      "1  Internal Medicine                F      99217        100.0         73.3988   \n",
      "2  Internal Medicine                F      99219         52.0        136.3800   \n",
      "3  Internal Medicine                F      99221         16.0        101.6800   \n",
      "4  Internal Medicine                F      99222         59.0        137.3100   \n",
      "\n",
      "   srvc_cnt_16  avg_med_amt_16  srvc_cnt_15  avg_med_amt_15  \n",
      "0          NaN             NaN          NaN             NaN  \n",
      "1         57.0       72.743158         23.0       72.680000  \n",
      "2         38.0      135.010000         18.0      135.850000  \n",
      "3         20.0      100.750000         59.0      101.365085  \n",
      "4         96.0      136.250000        132.0      139.010455  \n"
     ]
    }
   ],
   "source": [
    "phys_join = pd.merge(phys_join, phys_supp_15, how='inner', on=['npi', 'place_of_service' ,'hcpcs_code'])\n",
    "print(phys_join.head())"
   ]
  },
  {
   "cell_type": "code",
   "execution_count": 84,
   "metadata": {},
   "outputs": [
    {
     "name": "stdout",
     "output_type": "stream",
     "text": [
      "<class 'pandas.core.frame.DataFrame'>\n",
      "Int64Index: 6129537 entries, 0 to 6129536\n",
      "Data columns (total 7 columns):\n",
      " #   Column             Dtype  \n",
      "---  ------             -----  \n",
      " 0   npi                object \n",
      " 1   nppes_entity_code  object \n",
      " 2   place_of_service   object \n",
      " 3   hcpcs_code         object \n",
      " 4   avg_med_amt_17     float64\n",
      " 5   avg_med_amt_16     float64\n",
      " 6   avg_med_amt_15     float64\n",
      "dtypes: float64(3), object(4)\n",
      "memory usage: 374.1+ MB\n",
      "None\n",
      "(6129537, 7)\n"
     ]
    }
   ],
   "source": [
    "phys_join_med = phys_join.drop(columns={'nppes_provider_last_org_name', 'nppes_provider_zip', 'nppes_provider_state', 'provider_type', 'srvc_cnt_17', 'srvc_cnt_16', 'srvc_cnt_15'})\n",
    "print(phys_join_med.info())\n",
    "print(np.shape(phys_join_med))\n",
    "\n"
   ]
  },
  {
   "cell_type": "code",
   "execution_count": 78,
   "metadata": {},
   "outputs": [
    {
     "name": "stdout",
     "output_type": "stream",
     "text": [
      "(5827702, 7)\n"
     ]
    }
   ],
   "source": [
    "phys_med_indv_O = phys_join_med[phys_join_med['nppes_entity_code'] == 'I']\n",
    "print(np.shape(phys_med_indv_O))"
   ]
  },
  {
   "cell_type": "code",
   "execution_count": 79,
   "metadata": {},
   "outputs": [
    {
     "name": "stdout",
     "output_type": "stream",
     "text": [
      "(2304717, 7)\n"
     ]
    }
   ],
   "source": [
    "phys_med_indv_F = phys_med_indv_O[phys_med_indv_O['place_of_service'] == 'F']\n",
    "print(np.shape(phys_med_indv_F))"
   ]
  },
  {
   "cell_type": "code",
   "execution_count": 80,
   "metadata": {},
   "outputs": [
    {
     "name": "stdout",
     "output_type": "stream",
     "text": [
      "(3522985, 7)\n"
     ]
    }
   ],
   "source": [
    "phys_med_indv_O = phys_med_indv_O[phys_med_indv_O['place_of_service'] == 'O']\n",
    "print(np.shape(phys_med_indv_O))"
   ]
  },
  {
   "cell_type": "code",
   "execution_count": 81,
   "metadata": {},
   "outputs": [
    {
     "name": "stdout",
     "output_type": "stream",
     "text": [
      "(301834, 7)\n"
     ]
    }
   ],
   "source": [
    "phys_med_org_O = phys_join_med[phys_join_med['nppes_entity_code'] == 'O']\n",
    "print(np.shape(phys_med_org_O))"
   ]
  },
  {
   "cell_type": "code",
   "execution_count": 82,
   "metadata": {},
   "outputs": [
    {
     "name": "stdout",
     "output_type": "stream",
     "text": [
      "(70079, 7)\n"
     ]
    }
   ],
   "source": [
    "phys_med_org_F = phys_med_org_O[phys_med_org_O['place_of_service'] == 'F']\n",
    "print(np.shape(phys_med_org_F))"
   ]
  },
  {
   "cell_type": "code",
   "execution_count": 83,
   "metadata": {},
   "outputs": [
    {
     "name": "stdout",
     "output_type": "stream",
     "text": [
      "(231755, 7)\n"
     ]
    }
   ],
   "source": [
    "phys_med_org_O = phys_med_org_O[phys_med_org_O['place_of_service'] == 'O']\n",
    "print(np.shape(phys_med_org_O))"
   ]
  },
  {
   "cell_type": "code",
   "execution_count": 85,
   "metadata": {},
   "outputs": [
    {
     "name": "stdout",
     "output_type": "stream",
     "text": [
      "     hcpcs_code  avg_med_amt_17  avg_med_amt_16  avg_med_amt_15\n",
      "0         00103      242.459405      225.736845      263.455662\n",
      "1         00142       82.209689       83.102839       84.455969\n",
      "2         00160      213.750445      215.261039      216.226974\n",
      "3         00170      131.820746      126.353729      137.007402\n",
      "4         00300      140.812400      143.992940      149.927379\n",
      "...         ...             ...             ...             ...\n",
      "3163      Q9967        0.123475        0.124704        0.152243\n",
      "3164      Q9969        9.680905        9.723776       12.315193\n",
      "3165      R0070      222.432805      220.546799      219.447497\n",
      "3166      R0075       87.831579       91.664589       85.652551\n",
      "3167      V2632      113.830000      113.040000      113.490000\n",
      "\n",
      "[3168 rows x 4 columns]\n"
     ]
    }
   ],
   "source": [
    "phys_med_io_group = phys_med_indv_O.groupby('hcpcs_code').mean()\n",
    "phys_med_io_group = phys_med_io_group.reset_index()\n",
    "print(phys_med_io_group)"
   ]
  },
  {
   "cell_type": "code",
   "execution_count": 48,
   "metadata": {
    "scrolled": true
   },
   "outputs": [
    {
     "name": "stdout",
     "output_type": "stream",
     "text": [
      "          npi                       nppes_provider_last_org_name  \\\n",
      "0  0000000001  CPT copyright 2016 American Medical Associatio...   \n",
      "1  1003000126                                          ENKESHAFI   \n",
      "2  1003000126                                          ENKESHAFI   \n",
      "3  1003000126                                          ENKESHAFI   \n",
      "4  1003000126                                          ENKESHAFI   \n",
      "\n",
      "  nppes_entity_code nppes_provider_zip nppes_provider_state  \\\n",
      "0               NaN                NaN                  NaN   \n",
      "1                 I          215021854                   MD   \n",
      "2                 I          215021854                   MD   \n",
      "3                 I          215021854                   MD   \n",
      "4                 I          215021854                   MD   \n",
      "\n",
      "       provider_type place_of_service hcpcs_code  srvc_cnt_17  avg_med_amt_17  \\\n",
      "0                NaN              NaN        NaN          NaN             NaN   \n",
      "1  Internal Medicine                F      99217        100.0         73.3988   \n",
      "2  Internal Medicine                F      99219         52.0        136.3800   \n",
      "3  Internal Medicine                F      99221         16.0        101.6800   \n",
      "4  Internal Medicine                F      99222         59.0        137.3100   \n",
      "\n",
      "   srvc_cnt_16  avg_med_amt_16  srvc_cnt_15  avg_med_amt_15  16/17_srvc_chng  \\\n",
      "0          NaN             NaN          NaN             NaN              NaN   \n",
      "1         57.0       72.743158         23.0       72.680000             43.0   \n",
      "2         38.0      135.010000         18.0      135.850000             14.0   \n",
      "3         20.0      100.750000         59.0      101.365085             -4.0   \n",
      "4         96.0      136.250000        132.0      139.010455            -37.0   \n",
      "\n",
      "   15/16_srvc_chng  16/17_med_chng  15/16_med_chng  15/17_srvc_chng  \\\n",
      "0              NaN             NaN             NaN              NaN   \n",
      "1             34.0        0.655642        0.063158             77.0   \n",
      "2             20.0        1.370000       -0.840000             34.0   \n",
      "3            -39.0        0.930000       -0.615085            -43.0   \n",
      "4            -36.0        1.060000       -2.760455            -73.0   \n",
      "\n",
      "   15/17_med_chng  \n",
      "0             NaN  \n",
      "1        0.718800  \n",
      "2        0.530000  \n",
      "3        0.314915  \n",
      "4       -1.700455  \n"
     ]
    }
   ],
   "source": [
    "phys_join['16/17_srvc_chng'] = phys_join['srvc_cnt_17'] - phys_join['srvc_cnt_16']\n",
    "phys_join['15/16_srvc_chng'] = phys_join['srvc_cnt_16'] - phys_join['srvc_cnt_15']\n",
    "phys_join['16/17_med_chng'] = phys_join['avg_med_amt_17'] - phys_join['avg_med_amt_16']\n",
    "phys_join['15/16_med_chng'] = phys_join['avg_med_amt_16'] - phys_join['avg_med_amt_15']\n",
    "phys_join['15/17_srvc_chng'] = phys_join['srvc_cnt_17'] - phys_join['srvc_cnt_15']\n",
    "phys_join['15/17_med_chng'] = phys_join['avg_med_amt_17'] - phys_join['avg_med_amt_15']\n",
    "print(phys_join.head())"
   ]
  },
  {
   "cell_type": "code",
   "execution_count": null,
   "metadata": {},
   "outputs": [],
   "source": []
  }
 ],
 "metadata": {
  "kernelspec": {
   "display_name": "Python 3",
   "language": "python",
   "name": "python3"
  },
  "language_info": {
   "codemirror_mode": {
    "name": "ipython",
    "version": 3
   },
   "file_extension": ".py",
   "mimetype": "text/x-python",
   "name": "python",
   "nbconvert_exporter": "python",
   "pygments_lexer": "ipython3",
   "version": "3.7.6"
  }
 },
 "nbformat": 4,
 "nbformat_minor": 4
}
